{
  "cells": [
    {
      "cell_type": "markdown",
      "metadata": {
        "id": "eKymO9vTi0PD"
      },
      "source": [
        "# Coursework: 5 day temperature prediction with time series data\n",
        "\n",
        "This coursework will build on the work from tutorial 4 which used the 'DailyDelhiClimate' dataset to explore the development of RNN models. The coursework contains 5 tasks each with a number of exercises. The final deliverable of the coursework will be a version of this notebook, including answers to your questions in the appropriate places.\n",
        "\n",
        "Answers to exercises will take two forms, either code completion or written pros in markdown blocks. Below demonstrates what these will look like:\n",
        "\n",
        "#### Code completion"
      ]
    },
    {
      "cell_type": "code",
      "execution_count": 1,
      "metadata": {
        "id": "FaIiJ3S7i0PI"
      },
      "outputs": [],
      "source": [
        "# Your code here\n",
        "\n",
        "# Your code here - END"
      ]
    },
    {
      "cell_type": "markdown",
      "metadata": {
        "id": "Y2TC3NRCi0PL"
      },
      "source": [
        "#### Written pros in markdown"
      ]
    },
    {
      "cell_type": "markdown",
      "metadata": {
        "id": "3iKuvLaAi0PN"
      },
      "source": [
        "__WRITTEN ANSWER: \\<relevant information\\>__:"
      ]
    },
    {
      "cell_type": "markdown",
      "metadata": {
        "id": "BXsLXf4Wi0PQ"
      },
      "source": [
        "With respect to markdown answers, you may refer to other figures/results/code __within__ the notebook however, this __must__ be stated within the defined answer space. Furthermore, if other figures/results/code are referred to, however, it is not obvious what specific figures/results/code, the references will be discounted from the answer. To load externel images into a jupyter notebook, use the __markdown__ command ```![alt text](<path_to_image_file>)```. And please remember to submit all referenced pictures with your jupyter notebook __within a single zip file__.\n",
        "\n",
        "__Final points__:\n",
        "* No marks will be awarded for the performance of models - we are interested in how you approach model development and justify what you are doing!\n",
        "* There are lots of ways to code something, as long as the code works and produces the desired output, you will be awared full marks (for that question)!"
      ]
    },
    {
      "cell_type": "markdown",
      "metadata": {
        "id": "gGi4kWBKi0PR"
      },
      "source": [
        "## Setup"
      ]
    },
    {
      "cell_type": "code",
      "execution_count": 3,
      "metadata": {
        "colab": {
          "base_uri": "https://localhost:8080/",
          "height": 0
        },
        "id": "dScYNmrCi0PS",
        "outputId": "882c2cb6-cc6e-4623-a747-e90cefca1c40"
      },
      "outputs": [
        {
          "name": "stdout",
          "output_type": "stream",
          "text": [
            "Mounted at /content/drive\n"
          ]
        }
      ],
      "source": [
        "gpu = False\n",
        "\n",
        "# Used for debugging the notebook locally. Leave as False when running in collab!\n",
        "local_testing = False\n",
        "if local_testing:\n",
        "    data_dir = \"../../data\"\n",
        "else:\n",
        "    try:\n",
        "        from google.colab import drive\n",
        "        drive.mount('/content/drive')\n",
        "        data_dir = \"/content/drive/MyDrive/comp0188/data\"\n",
        "    except ModuleNotFoundError:\n",
        "        print(\"This notebook might be running locally!\")\n"
      ]
    },
    {
      "cell_type": "code",
      "execution_count": 5,
      "metadata": {
        "id": "JLk1l3aii0PV"
      },
      "outputs": [],
      "source": [
        "import wandb\n",
        "import torch\n",
        "from torch.utils.data import Dataset\n",
        "from torch.utils.data import DataLoader\n",
        "import os\n",
        "from typing import Union, Callable, Tuple, List, Literal, Dict\n",
        "from torch.autograd import Variable\n",
        "import torch.nn as nn\n",
        "import matplotlib.pyplot as plt\n",
        "import copy\n",
        "import numpy as np\n",
        "import pandas as pd\n",
        "from tqdm import tqdm\n",
        "import random\n",
        "import logging\n",
        "from abc import ABCMeta, abstractmethod"
      ]
    },
    {
      "cell_type": "code",
      "execution_count": 6,
      "metadata": {
        "id": "ZA7itmhYi0PX"
      },
      "outputs": [],
      "source": [
        "logger = logging.getLogger(\"coursework_1\")\n",
        "logger.setLevel(logging.INFO)"
      ]
    },
    {
      "cell_type": "code",
      "execution_count": 7,
      "metadata": {
        "id": "xkCiWrRJi0Pa"
      },
      "outputs": [],
      "source": [
        "MODEL_SEED = 1\n",
        "WANDB_PROJ = \"coursework_1\"\n",
        "TMP_DIR = \"./tmp\"\n",
        "\n",
        "if os.path.isdir(TMP_DIR):\n",
        "    pass\n",
        "else:\n",
        "    os.mkdir(TMP_DIR)"
      ]
    },
    {
      "cell_type": "markdown",
      "metadata": {
        "id": "wv2Ofgrci0Pc"
      },
      "source": [
        "## Helper functions/classes"
      ]
    },
    {
      "cell_type": "code",
      "execution_count": 8,
      "metadata": {
        "id": "TM6DwVzIi0Pf"
      },
      "outputs": [],
      "source": [
        "class DebugPass:\n",
        "\n",
        "    def __init__(self):\n",
        "        self.y_pred = []\n",
        "        self.y_true = []\n",
        "\n",
        "    def debug(\n",
        "        self,\n",
        "        y_true:torch.tensor,\n",
        "        y_pred:torch.tensor,\n",
        "    ):\n",
        "        pass\n",
        "\n",
        "    def close(self):\n",
        "        pass\n",
        "\n",
        "class DebugBase(DebugPass):\n",
        "\n",
        "    def __init__(self):\n",
        "        super().__init__()\n",
        "\n",
        "    def debug(self, y_true, y_pred):\n",
        "        self.y_true.append(y_true.detach().numpy())\n",
        "        self.y_pred.append(y_pred.detach().numpy())\n",
        "\n",
        "    @abstractmethod\n",
        "    def close(self):\n",
        "        pass\n",
        "\n",
        "class DebugLocal(DebugBase):\n",
        "\n",
        "    def __init__(self):\n",
        "        super().__init__()\n",
        "\n",
        "    def close(self):\n",
        "        res_tbl = pd.DataFrame(\n",
        "            {\n",
        "                \"y_true\":np.concatenate(self.y_true, axis=0).squeeze().flatten(),\n",
        "                \"y_pred\":np.concatenate(self.y_pred, axis=0).squeeze().flatten()\n",
        "            }\n",
        "        )\n",
        "        res_tbl.to_csv(os.path.join(TMP_DIR, \"validate_debug.csv\"), index=False)\n",
        "\n",
        "class DebugWandB(DebugBase):\n",
        "\n",
        "    def __init__(self):\n",
        "        super().__init__()\n",
        "\n",
        "    def close(self):\n",
        "        res_tbl = pd.DataFrame(\n",
        "            {\n",
        "                \"y_true\":np.concatenate(self.y_true, axis=0).squeeze().flatten(),\n",
        "                \"y_pred\":np.concatenate(self.y_pred, axis=0).squeeze().flatten()\n",
        "            }\n",
        "        )\n",
        "        wandb_tbl = wandb.Table(dataframe=res_tbl)\n",
        "        wandb.log({\"val_predictions\" : wandb_tbl})\n",
        "\n",
        "def train_single_epoch(model:nn.Module, data_loader:torch.utils.data.DataLoader,\n",
        "                       gpu:Literal[True, False], optimizer:torch.optim,\n",
        "                       criterion:torch.nn.modules.loss\n",
        "                      ) -> Tuple[List[torch.Tensor]]:\n",
        "    model.train()\n",
        "    losses = []\n",
        "    preds = []\n",
        "    range_gen = tqdm(\n",
        "        enumerate(data_loader),\n",
        "        )\n",
        "    for i, (y,X) in range_gen:\n",
        "\n",
        "        if gpu:\n",
        "            X = X.cuda()\n",
        "            y = y.cuda()\n",
        "        else:\n",
        "            X = Variable(X)\n",
        "            y = Variable(y)\n",
        "\n",
        "        optimizer.zero_grad()\n",
        "\n",
        "        # Compute output\n",
        "        output = model(X)\n",
        "        preds.append(output)\n",
        "        train_loss = criterion(output, y)\n",
        "        losses.append(train_loss.item())\n",
        "\n",
        "        try:\n",
        "            train_loss.backward()\n",
        "\n",
        "            optimizer.step()\n",
        "        except RuntimeError as e:\n",
        "            print(\"Runtime error on training instance: {}\".format(i))\n",
        "            raise e\n",
        "    return losses, preds\n",
        "\n",
        "def validate(model:nn.Module, data_loader:torch.utils.data.DataLoader,\n",
        "             gpu:Literal[True, False], criterion:torch.nn.modules.loss,\n",
        "             dh:DebugPass\n",
        "            ) -> Tuple[List[torch.Tensor]]:\n",
        "\n",
        "    model.eval()\n",
        "    losses = []\n",
        "    preds = []\n",
        "    with torch.no_grad():\n",
        "        range_gen = tqdm(\n",
        "            enumerate(data_loader),\n",
        "        )\n",
        "        # Your code here\n",
        "        for i, (y,X) in range_gen:\n",
        "\n",
        "            if gpu:\n",
        "                X = X.cuda()\n",
        "                y = y.cuda()\n",
        "            else:\n",
        "                X = Variable(X)\n",
        "                y = Variable(y)\n",
        "\n",
        "            # Compute output\n",
        "            output = model(X)\n",
        "\n",
        "            # Logs\n",
        "            losses.append(criterion(output, y).item())\n",
        "            preds.append(output)\n",
        "            dh.debug(y_true=y, y_pred=output)\n",
        "    return losses, preds\n",
        "\n",
        "\n",
        "def train(model:torch.nn, train_data_loader:torch.utils.data.DataLoader,\n",
        "          val_data_loader:torch.utils.data.DataLoader,\n",
        "          gpu:Literal[True, False], optimizer:torch.optim,\n",
        "          criterion:torch.nn.modules.loss, epochs:int,\n",
        "          debug:bool = False, wandb_proj:str=\"\",\n",
        "          wandb_name=\"\", wandb_config:Dict={}\n",
        "         ) -> Tuple[List[torch.Tensor]]:\n",
        "\n",
        "    if (len(wandb_config) == 0) or (len(wandb_proj) == 0) or (len(wandb_name) == 0):\n",
        "        use_wandb = False\n",
        "        logger.warning(\"WandB not in use!\")\n",
        "        chkpnt_dir = TMP_DIR\n",
        "    else:\n",
        "        use_wandb = True\n",
        "        wandb.init(project=wandb_proj, config=wandb_config, name=wandb_name)\n",
        "        chkpnt_dir = wandb.run.dir\n",
        "\n",
        "    if debug:\n",
        "        if use_wandb:\n",
        "            dh = DebugWandB()\n",
        "        else:\n",
        "            dh = DebugLocal()\n",
        "    else:\n",
        "        dh = DebugPass()\n",
        "\n",
        "    if gpu:\n",
        "        model.cuda()\n",
        "\n",
        "    epoch_train_loss = []\n",
        "    epoch_val_loss = []\n",
        "    for epoch in range(1, epochs+1):\n",
        "        print(\"Running training epoch\")\n",
        "        train_loss_val, train_preds =  train_single_epoch(\n",
        "            model=model, data_loader=train_data_loader, gpu=gpu,\n",
        "            optimizer=optimizer, criterion=criterion)\n",
        "        mean_train_loss = np.mean(train_loss_val)\n",
        "        epoch_train_loss.append(mean_train_loss)\n",
        "        val_loss_val, val_preds = validate(\n",
        "            model=model, data_loader=val_data_loader, gpu=gpu,\n",
        "            criterion=criterion, dh=dh)\n",
        "\n",
        "        print(\"Running validation\")\n",
        "        mean_val_loss = np.mean(val_loss_val)\n",
        "        epoch_val_loss.append(np.mean(val_loss_val))\n",
        "\n",
        "        chkp_pth = os.path.join(chkpnt_dir, f\"mdl_chkpnt_epoch_{epoch}.pt\")\n",
        "        torch.save(\n",
        "            {\n",
        "                'epoch': epoch,\n",
        "                'model_state_dict': model.state_dict(),\n",
        "                'optimizer_state_dict': optimizer.state_dict(),\n",
        "            }, chkp_pth)\n",
        "        if use_wandb:\n",
        "            wandb.log({\"train_loss\": mean_train_loss, \"val_loss\": mean_val_loss})\n",
        "            wandb.save(chkp_pth)\n",
        "    dh.close()\n",
        "    if use_wandb:\n",
        "        wandb.finish()\n",
        "    return epoch_train_loss, epoch_val_loss"
      ]
    },
    {
      "cell_type": "code",
      "execution_count": 9,
      "metadata": {
        "id": "LyHrAI7Vi0Pg"
      },
      "outputs": [],
      "source": [
        "class PandasDataset(Dataset):\n",
        "    def __init__(self, X:pd.DataFrame, y:pd.DataFrame, normalise:bool=True)->None:\n",
        "        # Your code here\n",
        "        self._X = torch.from_numpy(X.values).float()\n",
        "        if normalise:\n",
        "            self._X = self.__min_max_norm(self._X)\n",
        "        self.feature_dim = X.shape[1]\n",
        "        self._len = X.shape[0]\n",
        "        self._y = torch.from_numpy(y.values).float()\n",
        "\n",
        "    def __len__(self)->int:\n",
        "        # Your code here\n",
        "        return self._len\n",
        "\n",
        "    def __getitem__(self, idx:int) -> Tuple[torch.Tensor, torch.Tensor]:\n",
        "        # Your code here\n",
        "        return self._y[idx], self._X[idx,:]\n",
        "\n",
        "    def __min_max_norm(self, in_tens:torch.Tensor) -> torch.Tensor:\n",
        "        _min = in_tens.min(axis=0).values\n",
        "        _max = in_tens.max(axis=0).values\n",
        "        in_tens = (in_tens - _min)/(_max - _min)\n",
        "        return in_tens\n",
        "\n",
        "class PandasTsDataset(PandasDataset):\n",
        "    def __init__(self, X:pd.DataFrame, y:pd.DataFrame, lookback:int, normalise:bool=True)->None:\n",
        "        # Call super so that the PandasDataset.__init__ function is called\n",
        "        super().__init__(X=X, y=y, normalise=normalise)\n",
        "        if lookback > 1:\n",
        "            self.get_lookback(lookback=lookback)\n",
        "        self._len = self._X.shape[0]\n",
        "\n",
        "    def get_lookback(self, lookback:int):\n",
        "        X_vals = []\n",
        "        y_vals = []\n",
        "        for i in range(self._X.shape[0]-(lookback-1)):\n",
        "            X_vals.append(self._X[i:i+lookback][None, :])\n",
        "            y_vals.append(self._y[i+lookback-1:i+lookback])\n",
        "        self._y = torch.concat(y_vals, axis=0)\n",
        "        self._X = torch.concat(X_vals, axis=0)\n"
      ]
    },
    {
      "cell_type": "markdown",
      "metadata": {
        "id": "_TqsjsQ0i0Pj"
      },
      "source": [
        "## Data import and visualisation\n",
        "This section contains code for loading the data and generating different target values. This is the same code that was used in tutorial 4."
      ]
    },
    {
      "cell_type": "code",
      "execution_count": 10,
      "metadata": {
        "colab": {
          "base_uri": "https://localhost:8080/",
          "height": 386
        },
        "id": "yZ0WBX72i0Pk",
        "outputId": "47bae3e9-cfcf-46a2-b562-8bf8d97a2628"
      },
      "outputs": [
        {
          "name": "stdout",
          "output_type": "stream",
          "text": [
            "2016    366\n",
            "2013    365\n",
            "2014    365\n",
            "2015    365\n",
            "2017      1\n",
            "Name: __date_yrs, dtype: int64\n",
            "(1095, 17)\n",
            "(367, 17)\n",
            "(114, 17)\n"
          ]
        },
        {
          "data": {
            "text/html": [
              "\n",
              "  <div id=\"df-d606fa38-5f1f-48af-ab79-cfc512c2d08b\" class=\"colab-df-container\">\n",
              "    <div>\n",
              "<style scoped>\n",
              "    .dataframe tbody tr th:only-of-type {\n",
              "        vertical-align: middle;\n",
              "    }\n",
              "\n",
              "    .dataframe tbody tr th {\n",
              "        vertical-align: top;\n",
              "    }\n",
              "\n",
              "    .dataframe thead th {\n",
              "        text-align: right;\n",
              "    }\n",
              "</style>\n",
              "<table border=\"1\" class=\"dataframe\">\n",
              "  <thead>\n",
              "    <tr style=\"text-align: right;\">\n",
              "      <th></th>\n",
              "      <th>date</th>\n",
              "      <th>meantemp</th>\n",
              "      <th>humidity</th>\n",
              "      <th>wind_speed</th>\n",
              "      <th>meanpressure</th>\n",
              "      <th>meantemp_1_step</th>\n",
              "      <th>humidity_1_step</th>\n",
              "      <th>wind_speed_1_step</th>\n",
              "      <th>meanpressure_1_step</th>\n",
              "      <th>meantemp_5_step</th>\n",
              "      <th>humidity_5_step</th>\n",
              "      <th>wind_speed_5_step</th>\n",
              "      <th>meanpressure_5_step</th>\n",
              "      <th>meantemp_10_step</th>\n",
              "      <th>humidity_10_step</th>\n",
              "      <th>wind_speed_10_step</th>\n",
              "      <th>meanpressure_10_step</th>\n",
              "    </tr>\n",
              "  </thead>\n",
              "  <tbody>\n",
              "    <tr>\n",
              "      <th>0</th>\n",
              "      <td>2013-01-01</td>\n",
              "      <td>10.000000</td>\n",
              "      <td>84.500000</td>\n",
              "      <td>0.000000</td>\n",
              "      <td>1015.666667</td>\n",
              "      <td>7.400000</td>\n",
              "      <td>92.000000</td>\n",
              "      <td>2.980000</td>\n",
              "      <td>1017.800000</td>\n",
              "      <td>7.000000</td>\n",
              "      <td>82.800000</td>\n",
              "      <td>1.480000</td>\n",
              "      <td>1018.000000</td>\n",
              "      <td>15.714286</td>\n",
              "      <td>51.285714</td>\n",
              "      <td>10.571429</td>\n",
              "      <td>1016.142857</td>\n",
              "    </tr>\n",
              "    <tr>\n",
              "      <th>1</th>\n",
              "      <td>2013-01-02</td>\n",
              "      <td>7.400000</td>\n",
              "      <td>92.000000</td>\n",
              "      <td>2.980000</td>\n",
              "      <td>1017.800000</td>\n",
              "      <td>7.166667</td>\n",
              "      <td>87.000000</td>\n",
              "      <td>4.633333</td>\n",
              "      <td>1018.666667</td>\n",
              "      <td>7.000000</td>\n",
              "      <td>78.600000</td>\n",
              "      <td>6.300000</td>\n",
              "      <td>1020.000000</td>\n",
              "      <td>14.000000</td>\n",
              "      <td>74.000000</td>\n",
              "      <td>13.228571</td>\n",
              "      <td>1015.571429</td>\n",
              "    </tr>\n",
              "    <tr>\n",
              "      <th>2</th>\n",
              "      <td>2013-01-03</td>\n",
              "      <td>7.166667</td>\n",
              "      <td>87.000000</td>\n",
              "      <td>4.633333</td>\n",
              "      <td>1018.666667</td>\n",
              "      <td>8.666667</td>\n",
              "      <td>71.333333</td>\n",
              "      <td>1.233333</td>\n",
              "      <td>1017.166667</td>\n",
              "      <td>8.857143</td>\n",
              "      <td>63.714286</td>\n",
              "      <td>7.142857</td>\n",
              "      <td>1018.714286</td>\n",
              "      <td>15.833333</td>\n",
              "      <td>75.166667</td>\n",
              "      <td>4.633333</td>\n",
              "      <td>1013.333333</td>\n",
              "    </tr>\n",
              "    <tr>\n",
              "      <th>3</th>\n",
              "      <td>2013-01-04</td>\n",
              "      <td>8.666667</td>\n",
              "      <td>71.333333</td>\n",
              "      <td>1.233333</td>\n",
              "      <td>1017.166667</td>\n",
              "      <td>6.000000</td>\n",
              "      <td>86.833333</td>\n",
              "      <td>3.700000</td>\n",
              "      <td>1016.500000</td>\n",
              "      <td>14.000000</td>\n",
              "      <td>51.250000</td>\n",
              "      <td>12.500000</td>\n",
              "      <td>1017.000000</td>\n",
              "      <td>12.833333</td>\n",
              "      <td>88.166667</td>\n",
              "      <td>0.616667</td>\n",
              "      <td>1015.166667</td>\n",
              "    </tr>\n",
              "    <tr>\n",
              "      <th>4</th>\n",
              "      <td>2013-01-05</td>\n",
              "      <td>6.000000</td>\n",
              "      <td>86.833333</td>\n",
              "      <td>3.700000</td>\n",
              "      <td>1016.500000</td>\n",
              "      <td>7.000000</td>\n",
              "      <td>82.800000</td>\n",
              "      <td>1.480000</td>\n",
              "      <td>1018.000000</td>\n",
              "      <td>11.000000</td>\n",
              "      <td>62.000000</td>\n",
              "      <td>7.400000</td>\n",
              "      <td>1015.666667</td>\n",
              "      <td>14.714286</td>\n",
              "      <td>71.857143</td>\n",
              "      <td>0.528571</td>\n",
              "      <td>1015.857143</td>\n",
              "    </tr>\n",
              "  </tbody>\n",
              "</table>\n",
              "</div>\n",
              "    <div class=\"colab-df-buttons\">\n",
              "\n",
              "  <div class=\"colab-df-container\">\n",
              "    <button class=\"colab-df-convert\" onclick=\"convertToInteractive('df-d606fa38-5f1f-48af-ab79-cfc512c2d08b')\"\n",
              "            title=\"Convert this dataframe to an interactive table.\"\n",
              "            style=\"display:none;\">\n",
              "\n",
              "  <svg xmlns=\"http://www.w3.org/2000/svg\" height=\"24px\" viewBox=\"0 -960 960 960\">\n",
              "    <path d=\"M120-120v-720h720v720H120Zm60-500h600v-160H180v160Zm220 220h160v-160H400v160Zm0 220h160v-160H400v160ZM180-400h160v-160H180v160Zm440 0h160v-160H620v160ZM180-180h160v-160H180v160Zm440 0h160v-160H620v160Z\"/>\n",
              "  </svg>\n",
              "    </button>\n",
              "\n",
              "  <style>\n",
              "    .colab-df-container {\n",
              "      display:flex;\n",
              "      gap: 12px;\n",
              "    }\n",
              "\n",
              "    .colab-df-convert {\n",
              "      background-color: #E8F0FE;\n",
              "      border: none;\n",
              "      border-radius: 50%;\n",
              "      cursor: pointer;\n",
              "      display: none;\n",
              "      fill: #1967D2;\n",
              "      height: 32px;\n",
              "      padding: 0 0 0 0;\n",
              "      width: 32px;\n",
              "    }\n",
              "\n",
              "    .colab-df-convert:hover {\n",
              "      background-color: #E2EBFA;\n",
              "      box-shadow: 0px 1px 2px rgba(60, 64, 67, 0.3), 0px 1px 3px 1px rgba(60, 64, 67, 0.15);\n",
              "      fill: #174EA6;\n",
              "    }\n",
              "\n",
              "    .colab-df-buttons div {\n",
              "      margin-bottom: 4px;\n",
              "    }\n",
              "\n",
              "    [theme=dark] .colab-df-convert {\n",
              "      background-color: #3B4455;\n",
              "      fill: #D2E3FC;\n",
              "    }\n",
              "\n",
              "    [theme=dark] .colab-df-convert:hover {\n",
              "      background-color: #434B5C;\n",
              "      box-shadow: 0px 1px 3px 1px rgba(0, 0, 0, 0.15);\n",
              "      filter: drop-shadow(0px 1px 2px rgba(0, 0, 0, 0.3));\n",
              "      fill: #FFFFFF;\n",
              "    }\n",
              "  </style>\n",
              "\n",
              "    <script>\n",
              "      const buttonEl =\n",
              "        document.querySelector('#df-d606fa38-5f1f-48af-ab79-cfc512c2d08b button.colab-df-convert');\n",
              "      buttonEl.style.display =\n",
              "        google.colab.kernel.accessAllowed ? 'block' : 'none';\n",
              "\n",
              "      async function convertToInteractive(key) {\n",
              "        const element = document.querySelector('#df-d606fa38-5f1f-48af-ab79-cfc512c2d08b');\n",
              "        const dataTable =\n",
              "          await google.colab.kernel.invokeFunction('convertToInteractive',\n",
              "                                                    [key], {});\n",
              "        if (!dataTable) return;\n",
              "\n",
              "        const docLinkHtml = 'Like what you see? Visit the ' +\n",
              "          '<a target=\"_blank\" href=https://colab.research.google.com/notebooks/data_table.ipynb>data table notebook</a>'\n",
              "          + ' to learn more about interactive tables.';\n",
              "        element.innerHTML = '';\n",
              "        dataTable['output_type'] = 'display_data';\n",
              "        await google.colab.output.renderOutput(dataTable, element);\n",
              "        const docLink = document.createElement('div');\n",
              "        docLink.innerHTML = docLinkHtml;\n",
              "        element.appendChild(docLink);\n",
              "      }\n",
              "    </script>\n",
              "  </div>\n",
              "\n",
              "\n",
              "<div id=\"df-11401e54-3af0-4177-8ac3-87e501c3fc3c\">\n",
              "  <button class=\"colab-df-quickchart\" onclick=\"quickchart('df-11401e54-3af0-4177-8ac3-87e501c3fc3c')\"\n",
              "            title=\"Suggest charts\"\n",
              "            style=\"display:none;\">\n",
              "\n",
              "<svg xmlns=\"http://www.w3.org/2000/svg\" height=\"24px\"viewBox=\"0 0 24 24\"\n",
              "     width=\"24px\">\n",
              "    <g>\n",
              "        <path d=\"M19 3H5c-1.1 0-2 .9-2 2v14c0 1.1.9 2 2 2h14c1.1 0 2-.9 2-2V5c0-1.1-.9-2-2-2zM9 17H7v-7h2v7zm4 0h-2V7h2v10zm4 0h-2v-4h2v4z\"/>\n",
              "    </g>\n",
              "</svg>\n",
              "  </button>\n",
              "\n",
              "<style>\n",
              "  .colab-df-quickchart {\n",
              "      --bg-color: #E8F0FE;\n",
              "      --fill-color: #1967D2;\n",
              "      --hover-bg-color: #E2EBFA;\n",
              "      --hover-fill-color: #174EA6;\n",
              "      --disabled-fill-color: #AAA;\n",
              "      --disabled-bg-color: #DDD;\n",
              "  }\n",
              "\n",
              "  [theme=dark] .colab-df-quickchart {\n",
              "      --bg-color: #3B4455;\n",
              "      --fill-color: #D2E3FC;\n",
              "      --hover-bg-color: #434B5C;\n",
              "      --hover-fill-color: #FFFFFF;\n",
              "      --disabled-bg-color: #3B4455;\n",
              "      --disabled-fill-color: #666;\n",
              "  }\n",
              "\n",
              "  .colab-df-quickchart {\n",
              "    background-color: var(--bg-color);\n",
              "    border: none;\n",
              "    border-radius: 50%;\n",
              "    cursor: pointer;\n",
              "    display: none;\n",
              "    fill: var(--fill-color);\n",
              "    height: 32px;\n",
              "    padding: 0;\n",
              "    width: 32px;\n",
              "  }\n",
              "\n",
              "  .colab-df-quickchart:hover {\n",
              "    background-color: var(--hover-bg-color);\n",
              "    box-shadow: 0 1px 2px rgba(60, 64, 67, 0.3), 0 1px 3px 1px rgba(60, 64, 67, 0.15);\n",
              "    fill: var(--button-hover-fill-color);\n",
              "  }\n",
              "\n",
              "  .colab-df-quickchart-complete:disabled,\n",
              "  .colab-df-quickchart-complete:disabled:hover {\n",
              "    background-color: var(--disabled-bg-color);\n",
              "    fill: var(--disabled-fill-color);\n",
              "    box-shadow: none;\n",
              "  }\n",
              "\n",
              "  .colab-df-spinner {\n",
              "    border: 2px solid var(--fill-color);\n",
              "    border-color: transparent;\n",
              "    border-bottom-color: var(--fill-color);\n",
              "    animation:\n",
              "      spin 1s steps(1) infinite;\n",
              "  }\n",
              "\n",
              "  @keyframes spin {\n",
              "    0% {\n",
              "      border-color: transparent;\n",
              "      border-bottom-color: var(--fill-color);\n",
              "      border-left-color: var(--fill-color);\n",
              "    }\n",
              "    20% {\n",
              "      border-color: transparent;\n",
              "      border-left-color: var(--fill-color);\n",
              "      border-top-color: var(--fill-color);\n",
              "    }\n",
              "    30% {\n",
              "      border-color: transparent;\n",
              "      border-left-color: var(--fill-color);\n",
              "      border-top-color: var(--fill-color);\n",
              "      border-right-color: var(--fill-color);\n",
              "    }\n",
              "    40% {\n",
              "      border-color: transparent;\n",
              "      border-right-color: var(--fill-color);\n",
              "      border-top-color: var(--fill-color);\n",
              "    }\n",
              "    60% {\n",
              "      border-color: transparent;\n",
              "      border-right-color: var(--fill-color);\n",
              "    }\n",
              "    80% {\n",
              "      border-color: transparent;\n",
              "      border-right-color: var(--fill-color);\n",
              "      border-bottom-color: var(--fill-color);\n",
              "    }\n",
              "    90% {\n",
              "      border-color: transparent;\n",
              "      border-bottom-color: var(--fill-color);\n",
              "    }\n",
              "  }\n",
              "</style>\n",
              "\n",
              "  <script>\n",
              "    async function quickchart(key) {\n",
              "      const quickchartButtonEl =\n",
              "        document.querySelector('#' + key + ' button');\n",
              "      quickchartButtonEl.disabled = true;  // To prevent multiple clicks.\n",
              "      quickchartButtonEl.classList.add('colab-df-spinner');\n",
              "      try {\n",
              "        const charts = await google.colab.kernel.invokeFunction(\n",
              "            'suggestCharts', [key], {});\n",
              "      } catch (error) {\n",
              "        console.error('Error during call to suggestCharts:', error);\n",
              "      }\n",
              "      quickchartButtonEl.classList.remove('colab-df-spinner');\n",
              "      quickchartButtonEl.classList.add('colab-df-quickchart-complete');\n",
              "    }\n",
              "    (() => {\n",
              "      let quickchartButtonEl =\n",
              "        document.querySelector('#df-11401e54-3af0-4177-8ac3-87e501c3fc3c button');\n",
              "      quickchartButtonEl.style.display =\n",
              "        google.colab.kernel.accessAllowed ? 'block' : 'none';\n",
              "    })();\n",
              "  </script>\n",
              "</div>\n",
              "    </div>\n",
              "  </div>\n"
            ],
            "text/plain": [
              "        date   meantemp   humidity  wind_speed  meanpressure  meantemp_1_step  \\\n",
              "0 2013-01-01  10.000000  84.500000    0.000000   1015.666667         7.400000   \n",
              "1 2013-01-02   7.400000  92.000000    2.980000   1017.800000         7.166667   \n",
              "2 2013-01-03   7.166667  87.000000    4.633333   1018.666667         8.666667   \n",
              "3 2013-01-04   8.666667  71.333333    1.233333   1017.166667         6.000000   \n",
              "4 2013-01-05   6.000000  86.833333    3.700000   1016.500000         7.000000   \n",
              "\n",
              "   humidity_1_step  wind_speed_1_step  meanpressure_1_step  meantemp_5_step  \\\n",
              "0        92.000000           2.980000          1017.800000         7.000000   \n",
              "1        87.000000           4.633333          1018.666667         7.000000   \n",
              "2        71.333333           1.233333          1017.166667         8.857143   \n",
              "3        86.833333           3.700000          1016.500000        14.000000   \n",
              "4        82.800000           1.480000          1018.000000        11.000000   \n",
              "\n",
              "   humidity_5_step  wind_speed_5_step  meanpressure_5_step  meantemp_10_step  \\\n",
              "0        82.800000           1.480000          1018.000000         15.714286   \n",
              "1        78.600000           6.300000          1020.000000         14.000000   \n",
              "2        63.714286           7.142857          1018.714286         15.833333   \n",
              "3        51.250000          12.500000          1017.000000         12.833333   \n",
              "4        62.000000           7.400000          1015.666667         14.714286   \n",
              "\n",
              "   humidity_10_step  wind_speed_10_step  meanpressure_10_step  \n",
              "0         51.285714           10.571429           1016.142857  \n",
              "1         74.000000           13.228571           1015.571429  \n",
              "2         75.166667            4.633333           1013.333333  \n",
              "3         88.166667            0.616667           1015.166667  \n",
              "4         71.857143            0.528571           1015.857143  "
            ]
          },
          "execution_count": 10,
          "metadata": {},
          "output_type": "execute_result"
        }
      ],
      "source": [
        "train_df = pd.read_csv(os.path.join(data_dir, \"DailyDelhiClimateTrain.csv\"))\n",
        "test_df = pd.read_csv(os.path.join(data_dir, \"DailyDelhiClimateTest.csv\"))\n",
        "date_var = \"date\"\n",
        "train_df[date_var] = pd.to_datetime(train_df[date_var], format=\"%Y-%m-%d\")\n",
        "\n",
        "# Dynamically select remaining columns\n",
        "non_date_vars = [col for col in train_df.columns if col != date_var]\n",
        "# For the training and test set, create a new column per non-date variable for each step number in \"steps\"\n",
        "steps = [1,5,10]\n",
        "for df in [train_df, test_df]:\n",
        "    for stp in steps:\n",
        "        df[[f\"{col}_{stp}_step\" for col in non_date_vars]] = df[non_date_vars].shift(-1*stp)\n",
        "train_df[\"__date_yrs\"] = train_df[\"date\"].dt.year\n",
        "# Visualise time periods covered by the training data\n",
        "print(train_df[\"__date_yrs\"].value_counts())\n",
        "\n",
        "# Select the time period for the holdout set\n",
        "val_idx = train_df[\"__date_yrs\"] >= 2016\n",
        "val_df = train_df[val_idx].drop(columns=[col for col in train_df.columns if col[0:2] == \"__\"])\n",
        "train_df = train_df[~val_idx].drop(columns=[col for col in train_df.columns if col[0:2] == \"__\"])\n",
        "print(train_df.shape)\n",
        "print(val_df.shape)\n",
        "print(test_df.shape)\n",
        "train_df.head()"
      ]
    },
    {
      "cell_type": "markdown",
      "metadata": {
        "id": "EDtfTsh7i0Pl"
      },
      "source": [
        "## Task1: Project assumptions\n",
        "\n",
        "Before performing any kind of model development, it is critical to define the scope of the model development process. This includes making decisions which stay fixed throughout the rest of the model development as changing them would render model comparisons invalid. For example, comparing two models with test score calculated on different test datasets or with different metrics is meaningless. These decisions are herein referred to as \"model development assumptions\" and include but are not limited to:\n",
        "* The split of training/validation and test set;\n",
        "* Overall model performance metric need to be defined.\n",
        "\n",
        "Whilst these assumptions can be altered later on in the model development process, they have been sectioned here to emphasise their importance and impact on the subsiquent process i.e., don't be afraid to edit them but understand the impact that this will have on any subsiquent development that you have performed!\n",
        "\n",
        "__Exercise 1.1__ (1 mark):\n",
        "* Provide in the code block below a reasonable model performance metric which will be used to report the performance of the baseline model and subsiquent model experiements.\n",
        "* Justify your choice of criterion. Reference should be made to the theoretical range of values over which the target variable is defined."
      ]
    },
    {
      "cell_type": "code",
      "execution_count": 11,
      "metadata": {
        "id": "59wSrCEgi0Pm"
      },
      "outputs": [],
      "source": [
        "# Your code here\n",
        "ovrl_criterion = nn.MSELoss() # mean squared error\n",
        "# Your code here - END\n",
        "trgt_col = [\"meantemp_5_step\"]"
      ]
    },
    {
      "cell_type": "markdown",
      "metadata": {
        "id": "QwK8q2Dmi0Pn"
      },
      "source": [
        "__```ovrl_criterion``` Justification__: this is an autoregressive task, and the target column consists of a continuous variable with a theoretical range of values $\\text{}meantemp\\_5\\_step \\in [0, +\\infty]$, so it is suitable to use the MSE. Furthermore, as shown in the plot below the target variable follows a Gaussian-like distribution, with a right skew. I can therefore reasonably assume it can be modelled via a Gaussian likelihood from which the MSE can be derived."
      ]
    },
    {
      "cell_type": "code",
      "execution_count": 13,
      "metadata": {
        "colab": {
          "base_uri": "https://localhost:8080/",
          "height": 452
        },
        "id": "hs4c3I_IkBbe",
        "outputId": "3137c5ff-cfe7-4180-87c4-6fdd40e4605b"
      },
      "outputs": [
        {
          "data": {
            "image/png": "[encoded data removed]",
            "text/plain": [
              "<Figure size 640x480 with 1 Axes>"
            ]
          },
          "metadata": {},
          "output_type": "display_data"
        }
      ],
      "source": [
        "plt.hist(train_df['meantemp_5_step'])\n",
        "plt.title(\"histogram of mean temperature in 5 days\")\n",
        "plt.show()"
      ]
    },
    {
      "cell_type": "markdown",
      "metadata": {
        "id": "nx1pqI79i0Pn"
      },
      "source": [
        "## Task2: Baseline model\n",
        "Now that the project assumptions have been set, a baseline model must be defined to guide the development of more complex models. The baseline model for the task should be of the form $y_{t+5} = b + x_{t}w_{1}^{T} + x_{t-1}w_{2}^{T}$, where:\n",
        "* $y_{t}$ is vector of dimension (1), represeting the mean temperature at time t\n",
        "* $x_{t}$ is a vector of dimension (1, 4) representing the mean temperature, mean pressure, etc (note, therefore $y_{t} \\in x_{t}$)\n",
        "* $W_{1}$ and $W_{2}$ are weight vectors of dimension (1, 4) and $b$ is a bias term of dimension (1)\n",
        "\n",
        "Note, the dimensions above __do not include__ a batch dimension\n",
        "\n",
        "__Exercise 2.1__ (4 marks):\n",
        "* Implement the above baseline model in Pytorch\n",
        "\n",
        "_Hint_:\n",
        "* Remember, MLPs are just a series of linear regressions chained together with non-linear activations. Given this, what PyTorch module might be useful to use?\n",
        "* How you would compute $x_{t}w_{1}^{T}$ on paper - this may provide insight into how the above baseline equation can be simplified and implemented in Pytorch\n",
        "* Remember, for Pytorch models, the ```forward``` method implements the forward pass of the model and _generally speaking_ refers to modules that have been initialised within the class ```__init__```"
      ]
    },
    {
      "cell_type": "code",
      "execution_count": 14,
      "metadata": {
        "id": "etV86NObi0Po"
      },
      "outputs": [],
      "source": [
        "class BaselineModel(nn.Module):\n",
        "    def __init__(self, input_dim:int, output_dim:int) -> None:\n",
        "        torch.manual_seed(MODEL_SEED)\n",
        "        super().__init__()\n",
        "        # Your code here\n",
        "        '''\n",
        "        The above model is essentially :\n",
        "        y = b + w1 * x1^t + w2 * x2^t + w3 * x3^t + w4 * x4^t +\n",
        "            w5 * x5^t-1 + w6 * x6^t-1 + w7 * x7^t-1 + w8 * x8^t-1\n",
        "        '''\n",
        "        self.in_dim = input_dim\n",
        "        self.fc = nn.Linear(in_features=2 * input_dim, out_features=output_dim, bias=True)\n",
        "\n",
        "        # Your code here - END\n",
        "\n",
        "    def forward(self, x:torch.tensor)->torch.tensor:\n",
        "        # Your code here\n",
        "        '''\n",
        "        x: a torch tensor of size (2, 4), where x[0] would be x_t and\n",
        "        x[1] would be x_{t-1}\n",
        "\n",
        "        '''\n",
        "        if len(x.shape) != 3:\n",
        "            # if the shape of x is not (batch, lookback, features), then\n",
        "            # add a batch dimension\n",
        "            x = x[None, :]\n",
        "        x = torch.flatten(x, start_dim=1) # flatten from (2,4) to (1, 8)\n",
        "        out = self.fc(x)\n",
        "        return out.squeeze()\n",
        "        # Your code here - END"
      ]
    },
    {
      "cell_type": "markdown",
      "metadata": {
        "id": "M8lwxu1Wi0Pp"
      },
      "source": [
        "__Exercise 2.2__: (1 marks)\n",
        "* In the code block below, define some reasonable hyperparameters for training your baseline model. For each of the hyperparameters, justify your choices using the markdown block below the code block.\n",
        "\n",
        "_Hint_:\n",
        "* ```lookback``` and ```input_dim``` should be set to specific values using information that you have already been provided with\n",
        "* ```shuffle```, ```batch_size``` and ```lr``` should be set to values deemed reasonable by you.\n",
        "    * Remember, for __some__ of these parameters, setting a value that is generally understood to work might be a good starting point. However, the hyperparameters chosen need to work for our baseline model!"
      ]
    },
    {
      "cell_type": "code",
      "execution_count": 17,
      "metadata": {
        "id": "Z2vh4Xlvi0Pp"
      },
      "outputs": [],
      "source": [
        "# Your code here\n",
        "indp_cols = [ # code from lab 4 to fetch 4 features\n",
        "    col for col in train_df.columns if (\n",
        "        (col != date_var) and (col[-5:] != \"_step\")\n",
        "    )\n",
        "]\n",
        "lookback = 2\n",
        "input_dim = len(indp_cols)\n",
        "shuffle=True\n",
        "batch_size = 32 # a power of 2\n",
        "lr = 0.01\n",
        "# Your code here - END\n",
        "epochs = 100"
      ]
    },
    {
      "cell_type": "markdown",
      "metadata": {
        "id": "wmSGb1N9i0Pq"
      },
      "source": [
        "__WRITTEN ANSWER: ```lookback``` justification__: I want to look at 2 rows $x_t$ and $x_{t + 1}$ to predict $y_{t+5}$\n",
        "\n",
        "__WRITTEN ANSWER: ```input_dim``` justification__: there are 4 features\n",
        "\n",
        "__WRITTEN ANSWER: ```shuffle``` justification__: it is standard procedure to shuffle the dataloader (not shuffling this dataset) to make gradient descent stochastic, guaranteeing hitting a minimum of the loss.\n",
        "\n",
        "__WRITTEN ANSWER: ```batch_size``` justification__: empirically, I've seen people use powers of 2. Since this is a very small dataset, with just a few 1000 or so datapoints, $2^5$ is reasonable.\n",
        "\n",
        "__WRITTEN ANSWER: ```lr``` justification__: I would have preferred cosine annealing. But for a small dataset, I don't have to worry on slow convergence coupled with a reasonably big batch size so I can try a small lr to guarantee not overshooting a minimum in the loss."
      ]
    },
    {
      "cell_type": "code",
      "execution_count": 18,
      "metadata": {
        "id": "iLpsuWkvi0Pr"
      },
      "outputs": [],
      "source": [
        "train_dataset = PandasTsDataset(X=train_df[non_date_vars], y=train_df[trgt_col], lookback=lookback)\n",
        "val_idx = val_df[trgt_col].isna().sum(axis=1) != 1\n",
        "val_dataset = PandasTsDataset(X=val_df[val_idx][non_date_vars], y=val_df[val_idx][trgt_col], lookback=lookback)\n",
        "train_loader = DataLoader(dataset=train_dataset, shuffle=shuffle, batch_size=batch_size)\n",
        "val_loader = DataLoader(dataset=val_dataset, shuffle=shuffle, batch_size=batch_size)"
      ]
    },
    {
      "cell_type": "code",
      "execution_count": 19,
      "metadata": {
        "colab": {
          "base_uri": "https://localhost:8080/",
          "height": 7779,
          "referenced_widgets": [
            "75f4e26cd89d4ac19834e7fd1c390f1d",
            "c7a108b891a2405197047ec3d885b8a8",
            "db6cd1a034384240919b330a86bed5fb",
            "960b8771091c494aae03f2bcee851524",
            "e492ea9cfc3f4cbd9013fd8c2303840c",
            "18f052ed16cf40e09811001c278529e2",
            "2392d3a1534b40328b8811687fe4578c",
            "f17f6c2f3ffb4f169bba79519aef0f17"
          ]
        },
        "id": "tOUPVYiii0Pu",
        "outputId": "ef0cd521-72da-4689-9e77-767296894deb"
      },
      "outputs": [
        {
          "name": "stdout",
          "output_type": "stream",
          "text": [
            "Param: fc.weight\n",
            "Param shape: torch.Size([1, 8])\n",
            "\n",
            "\n",
            "Param: fc.bias\n",
            "Param shape: torch.Size([1])\n",
            "\n",
            "\n",
            "first_batch res shape: torch.Size([32, 1])\n",
            "res shape: torch.Size([32])\n"
          ]
        },
        {
          "data": {
            "application/javascript": "\n        window._wandbApiKey = new Promise((resolve, reject) => {\n            function loadScript(url) {\n            return new Promise(function(resolve, reject) {\n                let newScript = document.createElement(\"script\");\n                newScript.onerror = reject;\n                newScript.onload = resolve;\n                document.body.appendChild(newScript);\n                newScript.src = url;\n            });\n            }\n            loadScript(\"https://cdn.jsdelivr.net/npm/postmate/build/postmate.min.js\").then(() => {\n            const iframe = document.createElement('iframe')\n            iframe.style.cssText = \"width:0;height:0;border:none\"\n            document.body.appendChild(iframe)\n            const handshake = new Postmate({\n                container: iframe,\n                url: 'https://wandb.ai/authorize'\n            });\n            const timeout = setTimeout(() => reject(\"Couldn't auto authenticate\"), 5000)\n            handshake.then(function(child) {\n                child.on('authorize', data => {\n                    clearTimeout(timeout)\n                    resolve(data)\n                });\n            });\n            })\n        });\n    ",
            "text/plain": [
              "<IPython.core.display.Javascript object>"
            ]
          },
          "metadata": {},
          "output_type": "display_data"
        },
        {
          "name": "stderr",
          "output_type": "stream",
          "text": [
            "\u001b[34m\u001b[1mwandb\u001b[0m: Logging into wandb.ai. (Learn how to deploy a W&B server locally: https://wandb.me/wandb-server)\n",
            "\u001b[34m\u001b[1mwandb\u001b[0m: You can find your API key in your browser here: https://wandb.ai/authorize\n",
            "wandb: Paste an API key from your profile and hit enter, or press ctrl+c to quit:"
          ]
        },
        {
          "name": "stdout",
          "output_type": "stream",
          "text": [
            " ··········\n"
          ]
        },
        {
          "name": "stderr",
          "output_type": "stream",
          "text": [
            "\u001b[34m\u001b[1mwandb\u001b[0m: Appending key for api.wandb.ai to your netrc file: /root/.netrc\n"
          ]
        },
        {
          "data": {
            "text/html": [
              "Tracking run with wandb version 0.16.0"
            ],
            "text/plain": [
              "<IPython.core.display.HTML object>"
            ]
          },
          "metadata": {},
          "output_type": "display_data"
        },
        {
          "data": {
            "text/html": [
              "Run data is saved locally in <code>/content/wandb/run-20231110_141757-297q3r4n</code>"
            ],
            "text/plain": [
              "<IPython.core.display.HTML object>"
            ]
          },
          "metadata": {},
          "output_type": "display_data"
        },
        {
          "data": {
            "text/html": [
              "Syncing run <strong><a href='https://wandb.ai/cell-x/coursework_1/runs/297q3r4n' target=\"_blank\">baseline</a></strong> to <a href='https://wandb.ai/cell-x/coursework_1' target=\"_blank\">Weights & Biases</a> (<a href='https://wandb.me/run' target=\"_blank\">docs</a>)<br/>"
            ],
            "text/plain": [
              "<IPython.core.display.HTML object>"
            ]
          },
          "metadata": {},
          "output_type": "display_data"
        },
        {
          "data": {
            "text/html": [
              " View project at <a href='https://wandb.ai/cell-x/coursework_1' target=\"_blank\">https://wandb.ai/cell-x/coursework_1</a>"
            ],
            "text/plain": [
              "<IPython.core.display.HTML object>"
            ]
          },
          "metadata": {},
          "output_type": "display_data"
        },
        {
          "data": {
            "text/html": [
              " View run at <a href='https://wandb.ai/cell-x/coursework_1/runs/297q3r4n' target=\"_blank\">https://wandb.ai/cell-x/coursework_1/runs/297q3r4n</a>"
            ],
            "text/plain": [
              "<IPython.core.display.HTML object>"
            ]
          },
          "metadata": {},
          "output_type": "display_data"
        },
        {
          "name": "stdout",
          "output_type": "stream",
          "text": [
            "Running training epoch\n"
          ]
        },
        {
          "name": "stderr",
          "output_type": "stream",
          "text": [
            "0it [00:00, ?it/s]/usr/local/lib/python3.10/dist-packages/torch/nn/modules/loss.py:535: UserWarning: Using a target size (torch.Size([32, 1])) that is different to the input size (torch.Size([32])). This will likely lead to incorrect results due to broadcasting. Please ensure they have the same size.\n",
            "  return F.mse_loss(input, target, reduction=self.reduction)\n",
            "14it [00:00, 130.05it/s]/usr/local/lib/python3.10/dist-packages/torch/nn/modules/loss.py:535: UserWarning: Using a target size (torch.Size([6, 1])) that is different to the input size (torch.Size([6])). This will likely lead to incorrect results due to broadcasting. Please ensure they have the same size.\n",
            "  return F.mse_loss(input, target, reduction=self.reduction)\n",
            "35it [00:00, 212.21it/s]\n",
            "0it [00:00, ?it/s]/usr/local/lib/python3.10/dist-packages/torch/nn/modules/loss.py:535: UserWarning: Using a target size (torch.Size([9, 1])) that is different to the input size (torch.Size([9])). This will likely lead to incorrect results due to broadcasting. Please ensure they have the same size.\n",
            "  return F.mse_loss(input, target, reduction=self.reduction)\n",
            "12it [00:00, 899.45it/s]\n",
            "\u001b[34m\u001b[1mwandb\u001b[0m: \u001b[33mWARNING\u001b[0m Saving files without folders. If you want to preserve sub directories pass base_path to wandb.save, i.e. wandb.save(\"/mnt/folder/file.h5\", base_path=\"/mnt\")\n"
          ]
        },
        {
          "name": "stdout",
          "output_type": "stream",
          "text": [
            "Running validation\n",
            "Running training epoch\n"
          ]
        },
        {
          "name": "stderr",
          "output_type": "stream",
          "text": [
            "35it [00:00, 678.29it/s]\n",
            "12it [00:00, 955.19it/s]\n"
          ]
        },
        {
          "name": "stdout",
          "output_type": "stream",
          "text": [
            "Running validation\n",
            "Running training epoch\n"
          ]
        },
        {
          "name": "stderr",
          "output_type": "stream",
          "text": [
            "35it [00:00, 452.34it/s]\n",
            "12it [00:00, 444.13it/s]\n"
          ]
        },
        {
          "name": "stdout",
          "output_type": "stream",
          "text": [
            "Running validation\n",
            "Running training epoch\n"
          ]
        },
        {
          "name": "stderr",
          "output_type": "stream",
          "text": [
            "35it [00:00, 425.55it/s]\n",
            "12it [00:00, 606.03it/s]\n"
          ]
        },
        {
          "name": "stdout",
          "output_type": "stream",
          "text": [
            "Running validation\n",
            "Running training epoch\n"
          ]
        },
        {
          "name": "stderr",
          "output_type": "stream",
          "text": [
            "35it [00:00, 351.27it/s]\n",
            "12it [00:00, 810.34it/s]\n"
          ]
        },
        {
          "name": "stdout",
          "output_type": "stream",
          "text": [
            "Running validation\n",
            "Running training epoch\n"
          ]
        },
        {
          "name": "stderr",
          "output_type": "stream",
          "text": [
            "35it [00:00, 401.85it/s]\n",
            "12it [00:00, 259.12it/s]\n"
          ]
        },
        {
          "name": "stdout",
          "output_type": "stream",
          "text": [
            "Running validation\n",
            "Running training epoch\n"
          ]
        },
        {
          "name": "stderr",
          "output_type": "stream",
          "text": [
            "35it [00:00, 369.59it/s]\n",
            "12it [00:00, 762.17it/s]\n"
          ]
        },
        {
          "name": "stdout",
          "output_type": "stream",
          "text": [
            "Running validation\n",
            "Running training epoch\n"
          ]
        },
        {
          "name": "stderr",
          "output_type": "stream",
          "text": [
            "35it [00:00, 451.88it/s]\n",
            "12it [00:00, 672.25it/s]\n"
          ]
        },
        {
          "name": "stdout",
          "output_type": "stream",
          "text": [
            "Running validation\n",
            "Running training epoch\n"
          ]
        },
        {
          "name": "stderr",
          "output_type": "stream",
          "text": [
            "35it [00:00, 404.55it/s]\n",
            "12it [00:00, 625.56it/s]\n"
          ]
        },
        {
          "name": "stdout",
          "output_type": "stream",
          "text": [
            "Running validation\n",
            "Running training epoch\n"
          ]
        },
        {
          "name": "stderr",
          "output_type": "stream",
          "text": [
            "35it [00:00, 439.78it/s]\n",
            "12it [00:00, 864.12it/s]\n"
          ]
        },
        {
          "name": "stdout",
          "output_type": "stream",
          "text": [
            "Running validation\n",
            "Running training epoch\n"
          ]
        },
        {
          "name": "stderr",
          "output_type": "stream",
          "text": [
            "35it [00:00, 566.20it/s]\n",
            "12it [00:00, 1080.98it/s]\n"
          ]
        },
        {
          "name": "stdout",
          "output_type": "stream",
          "text": [
            "Running validation\n",
            "Running training epoch\n"
          ]
        },
        {
          "name": "stderr",
          "output_type": "stream",
          "text": [
            "35it [00:00, 555.53it/s]\n",
            "12it [00:00, 897.58it/s]\n"
          ]
        },
        {
          "name": "stdout",
          "output_type": "stream",
          "text": [
            "Running validation\n",
            "Running training epoch\n"
          ]
        },
        {
          "name": "stderr",
          "output_type": "stream",
          "text": [
            "35it [00:00, 439.36it/s]\n",
            "12it [00:00, 831.60it/s]\n"
          ]
        },
        {
          "name": "stdout",
          "output_type": "stream",
          "text": [
            "Running validation\n",
            "Running training epoch\n"
          ]
        },
        {
          "name": "stderr",
          "output_type": "stream",
          "text": [
            "35it [00:00, 444.67it/s]\n",
            "12it [00:00, 907.79it/s]\n"
          ]
        },
        {
          "name": "stdout",
          "output_type": "stream",
          "text": [
            "Running validation\n",
            "Running training epoch\n"
          ]
        },
        {
          "name": "stderr",
          "output_type": "stream",
          "text": [
            "35it [00:00, 682.17it/s]\n",
            "12it [00:00, 928.18it/s]\n"
          ]
        },
        {
          "name": "stdout",
          "output_type": "stream",
          "text": [
            "Running validation\n",
            "Running training epoch\n"
          ]
        },
        {
          "name": "stderr",
          "output_type": "stream",
          "text": [
            "35it [00:00, 695.84it/s]\n",
            "12it [00:00, 872.74it/s]\n"
          ]
        },
        {
          "name": "stdout",
          "output_type": "stream",
          "text": [
            "Running validation\n",
            "Running training epoch\n"
          ]
        },
        {
          "name": "stderr",
          "output_type": "stream",
          "text": [
            "35it [00:00, 727.93it/s]\n",
            "12it [00:00, 752.78it/s]\n"
          ]
        },
        {
          "name": "stdout",
          "output_type": "stream",
          "text": [
            "Running validation\n",
            "Running training epoch\n"
          ]
        },
        {
          "name": "stderr",
          "output_type": "stream",
          "text": [
            "35it [00:00, 595.85it/s]\n",
            "12it [00:00, 641.91it/s]\n"
          ]
        },
        {
          "name": "stdout",
          "output_type": "stream",
          "text": [
            "Running validation\n",
            "Running training epoch\n"
          ]
        },
        {
          "name": "stderr",
          "output_type": "stream",
          "text": [
            "35it [00:00, 597.29it/s]\n",
            "12it [00:00, 607.79it/s]\n"
          ]
        },
        {
          "name": "stdout",
          "output_type": "stream",
          "text": [
            "Running validation\n",
            "Running training epoch\n"
          ]
        },
        {
          "name": "stderr",
          "output_type": "stream",
          "text": [
            "35it [00:00, 646.30it/s]\n",
            "12it [00:00, 959.32it/s]\n"
          ]
        },
        {
          "name": "stdout",
          "output_type": "stream",
          "text": [
            "Running validation\n",
            "Running training epoch\n"
          ]
        },
        {
          "name": "stderr",
          "output_type": "stream",
          "text": [
            "35it [00:00, 671.38it/s]\n",
            "12it [00:00, 836.44it/s]\n"
          ]
        },
        {
          "name": "stdout",
          "output_type": "stream",
          "text": [
            "Running validation\n",
            "Running training epoch\n"
          ]
        },
        {
          "name": "stderr",
          "output_type": "stream",
          "text": [
            "35it [00:00, 618.70it/s]\n",
            "12it [00:00, 646.41it/s]\n"
          ]
        },
        {
          "name": "stdout",
          "output_type": "stream",
          "text": [
            "Running validation\n",
            "Running training epoch\n"
          ]
        },
        {
          "name": "stderr",
          "output_type": "stream",
          "text": [
            "35it [00:00, 579.76it/s]\n",
            "12it [00:00, 903.54it/s]\n"
          ]
        },
        {
          "name": "stdout",
          "output_type": "stream",
          "text": [
            "Running validation\n",
            "Running training epoch\n"
          ]
        },
        {
          "name": "stderr",
          "output_type": "stream",
          "text": [
            "35it [00:00, 749.38it/s]\n",
            "12it [00:00, 1165.62it/s]\n"
          ]
        },
        {
          "name": "stdout",
          "output_type": "stream",
          "text": [
            "Running validation\n",
            "Running training epoch\n"
          ]
        },
        {
          "name": "stderr",
          "output_type": "stream",
          "text": [
            "35it [00:00, 641.80it/s]\n",
            "12it [00:00, 550.17it/s]\n"
          ]
        },
        {
          "name": "stdout",
          "output_type": "stream",
          "text": [
            "Running validation\n",
            "Running training epoch\n"
          ]
        },
        {
          "name": "stderr",
          "output_type": "stream",
          "text": [
            "35it [00:00, 646.95it/s]\n",
            "12it [00:00, 887.82it/s]\n"
          ]
        },
        {
          "name": "stdout",
          "output_type": "stream",
          "text": [
            "Running validation\n",
            "Running training epoch\n"
          ]
        },
        {
          "name": "stderr",
          "output_type": "stream",
          "text": [
            "35it [00:00, 625.33it/s]\n",
            "12it [00:00, 852.07it/s]\n"
          ]
        },
        {
          "name": "stdout",
          "output_type": "stream",
          "text": [
            "Running validation\n",
            "Running training epoch\n"
          ]
        },
        {
          "name": "stderr",
          "output_type": "stream",
          "text": [
            "35it [00:00, 672.28it/s]\n",
            "12it [00:00, 854.47it/s]\n"
          ]
        },
        {
          "name": "stdout",
          "output_type": "stream",
          "text": [
            "Running validation\n",
            "Running training epoch\n"
          ]
        },
        {
          "name": "stderr",
          "output_type": "stream",
          "text": [
            "35it [00:00, 454.04it/s]\n",
            "12it [00:00, 900.03it/s]\n"
          ]
        },
        {
          "name": "stdout",
          "output_type": "stream",
          "text": [
            "Running validation\n",
            "Running training epoch\n"
          ]
        },
        {
          "name": "stderr",
          "output_type": "stream",
          "text": [
            "35it [00:00, 593.04it/s]\n",
            "12it [00:00, 701.69it/s]\n"
          ]
        },
        {
          "name": "stdout",
          "output_type": "stream",
          "text": [
            "Running validation\n",
            "Running training epoch\n"
          ]
        },
        {
          "name": "stderr",
          "output_type": "stream",
          "text": [
            "35it [00:00, 523.33it/s]\n",
            "12it [00:00, 866.82it/s]\n"
          ]
        },
        {
          "name": "stdout",
          "output_type": "stream",
          "text": [
            "Running validation\n",
            "Running training epoch\n"
          ]
        },
        {
          "name": "stderr",
          "output_type": "stream",
          "text": [
            "35it [00:00, 639.39it/s]\n",
            "12it [00:00, 890.89it/s]"
          ]
        },
        {
          "name": "stdout",
          "output_type": "stream",
          "text": [
            "Running validation"
          ]
        },
        {
          "name": "stderr",
          "output_type": "stream",
          "text": [
            "\n"
          ]
        },
        {
          "name": "stdout",
          "output_type": "stream",
          "text": [
            "\n",
            "Running training epoch\n"
          ]
        },
        {
          "name": "stderr",
          "output_type": "stream",
          "text": [
            "35it [00:00, 629.30it/s]\n",
            "12it [00:00, 1245.28it/s]\n"
          ]
        },
        {
          "name": "stdout",
          "output_type": "stream",
          "text": [
            "Running validation\n",
            "Running training epoch\n"
          ]
        },
        {
          "name": "stderr",
          "output_type": "stream",
          "text": [
            "35it [00:00, 614.77it/s]\n",
            "12it [00:00, 941.01it/s]\n"
          ]
        },
        {
          "name": "stdout",
          "output_type": "stream",
          "text": [
            "Running validation\n",
            "Running training epoch\n"
          ]
        },
        {
          "name": "stderr",
          "output_type": "stream",
          "text": [
            "35it [00:00, 526.10it/s]\n",
            "12it [00:00, 751.14it/s]"
          ]
        },
        {
          "name": "stdout",
          "output_type": "stream",
          "text": [
            "Running validation\n"
          ]
        },
        {
          "name": "stderr",
          "output_type": "stream",
          "text": [
            "\n"
          ]
        },
        {
          "name": "stdout",
          "output_type": "stream",
          "text": [
            "Running training epoch\n"
          ]
        },
        {
          "name": "stderr",
          "output_type": "stream",
          "text": [
            "35it [00:00, 743.10it/s]\n",
            "12it [00:00, 837.77it/s]\n"
          ]
        },
        {
          "name": "stdout",
          "output_type": "stream",
          "text": [
            "Running validation\n",
            "Running training epoch\n"
          ]
        },
        {
          "name": "stderr",
          "output_type": "stream",
          "text": [
            "35it [00:00, 625.85it/s]\n",
            "12it [00:00, 882.05it/s]\n"
          ]
        },
        {
          "name": "stdout",
          "output_type": "stream",
          "text": [
            "Running validation\n",
            "Running training epoch\n"
          ]
        },
        {
          "name": "stderr",
          "output_type": "stream",
          "text": [
            "35it [00:00, 543.20it/s]\n",
            "12it [00:00, 806.08it/s]\n"
          ]
        },
        {
          "name": "stdout",
          "output_type": "stream",
          "text": [
            "Running validation\n",
            "Running training epoch\n"
          ]
        },
        {
          "name": "stderr",
          "output_type": "stream",
          "text": [
            "35it [00:00, 660.67it/s]\n",
            "12it [00:00, 1265.38it/s]"
          ]
        },
        {
          "name": "stdout",
          "output_type": "stream",
          "text": [
            "Running validation\n"
          ]
        },
        {
          "name": "stderr",
          "output_type": "stream",
          "text": [
            "\n"
          ]
        },
        {
          "name": "stdout",
          "output_type": "stream",
          "text": [
            "Running training epoch\n"
          ]
        },
        {
          "name": "stderr",
          "output_type": "stream",
          "text": [
            "35it [00:00, 657.48it/s]\n",
            "12it [00:00, 984.71it/s]\n"
          ]
        },
        {
          "name": "stdout",
          "output_type": "stream",
          "text": [
            "Running validation\n",
            "Running training epoch\n"
          ]
        },
        {
          "name": "stderr",
          "output_type": "stream",
          "text": [
            "35it [00:00, 559.65it/s]\n",
            "12it [00:00, 932.41it/s]\n"
          ]
        },
        {
          "name": "stdout",
          "output_type": "stream",
          "text": [
            "Running validation\n",
            "Running training epoch\n"
          ]
        },
        {
          "name": "stderr",
          "output_type": "stream",
          "text": [
            "35it [00:00, 638.81it/s]\n",
            "12it [00:00, 636.87it/s]\n"
          ]
        },
        {
          "name": "stdout",
          "output_type": "stream",
          "text": [
            "Running validation\n",
            "Running training epoch\n"
          ]
        },
        {
          "name": "stderr",
          "output_type": "stream",
          "text": [
            "35it [00:00, 567.43it/s]\n",
            "12it [00:00, 812.63it/s]\n"
          ]
        },
        {
          "name": "stdout",
          "output_type": "stream",
          "text": [
            "Running validation\n",
            "Running training epoch\n"
          ]
        },
        {
          "name": "stderr",
          "output_type": "stream",
          "text": [
            "35it [00:00, 645.28it/s]\n",
            "12it [00:00, 934.25it/s]\n"
          ]
        },
        {
          "name": "stdout",
          "output_type": "stream",
          "text": [
            "Running validation\n",
            "Running training epoch\n"
          ]
        },
        {
          "name": "stderr",
          "output_type": "stream",
          "text": [
            "35it [00:00, 651.91it/s]\n",
            "12it [00:00, 771.99it/s]\n"
          ]
        },
        {
          "name": "stdout",
          "output_type": "stream",
          "text": [
            "Running validation\n",
            "Running training epoch\n"
          ]
        },
        {
          "name": "stderr",
          "output_type": "stream",
          "text": [
            "35it [00:00, 677.02it/s]\n",
            "12it [00:00, 1108.09it/s]\n"
          ]
        },
        {
          "name": "stdout",
          "output_type": "stream",
          "text": [
            "Running validation\n",
            "Running training epoch\n"
          ]
        },
        {
          "name": "stderr",
          "output_type": "stream",
          "text": [
            "35it [00:00, 674.02it/s]\n",
            "12it [00:00, 771.27it/s]\n"
          ]
        },
        {
          "name": "stdout",
          "output_type": "stream",
          "text": [
            "Running validation\n",
            "Running training epoch\n"
          ]
        },
        {
          "name": "stderr",
          "output_type": "stream",
          "text": [
            "35it [00:00, 742.52it/s]\n",
            "12it [00:00, 676.15it/s]\n"
          ]
        },
        {
          "name": "stdout",
          "output_type": "stream",
          "text": [
            "Running validation\n",
            "Running training epoch\n"
          ]
        },
        {
          "name": "stderr",
          "output_type": "stream",
          "text": [
            "35it [00:00, 598.32it/s]\n",
            "12it [00:00, 907.94it/s]\n"
          ]
        },
        {
          "name": "stdout",
          "output_type": "stream",
          "text": [
            "Running validation\n",
            "Running training epoch\n"
          ]
        },
        {
          "name": "stderr",
          "output_type": "stream",
          "text": [
            "35it [00:00, 637.79it/s]\n",
            "12it [00:00, 886.95it/s]\n"
          ]
        },
        {
          "name": "stdout",
          "output_type": "stream",
          "text": [
            "Running validation\n",
            "Running training epoch\n"
          ]
        },
        {
          "name": "stderr",
          "output_type": "stream",
          "text": [
            "35it [00:00, 389.47it/s]\n",
            "12it [00:00, 639.81it/s]\n"
          ]
        },
        {
          "name": "stdout",
          "output_type": "stream",
          "text": [
            "Running validation\n",
            "Running training epoch\n"
          ]
        },
        {
          "name": "stderr",
          "output_type": "stream",
          "text": [
            "35it [00:00, 479.52it/s]\n",
            "12it [00:00, 697.67it/s]\n"
          ]
        },
        {
          "name": "stdout",
          "output_type": "stream",
          "text": [
            "Running validation\n",
            "Running training epoch\n"
          ]
        },
        {
          "name": "stderr",
          "output_type": "stream",
          "text": [
            "35it [00:00, 408.89it/s]\n",
            "12it [00:00, 781.58it/s]\n"
          ]
        },
        {
          "name": "stdout",
          "output_type": "stream",
          "text": [
            "Running validation\n",
            "Running training epoch\n"
          ]
        },
        {
          "name": "stderr",
          "output_type": "stream",
          "text": [
            "35it [00:00, 538.96it/s]\n",
            "12it [00:00, 504.46it/s]\n"
          ]
        },
        {
          "name": "stdout",
          "output_type": "stream",
          "text": [
            "Running validation\n",
            "Running training epoch\n"
          ]
        },
        {
          "name": "stderr",
          "output_type": "stream",
          "text": [
            "35it [00:00, 415.66it/s]\n",
            "12it [00:00, 586.05it/s]\n"
          ]
        },
        {
          "name": "stdout",
          "output_type": "stream",
          "text": [
            "Running validation\n",
            "Running training epoch\n"
          ]
        },
        {
          "name": "stderr",
          "output_type": "stream",
          "text": [
            "35it [00:00, 458.14it/s]\n",
            "12it [00:00, 608.05it/s]\n"
          ]
        },
        {
          "name": "stdout",
          "output_type": "stream",
          "text": [
            "Running validation\n",
            "Running training epoch\n"
          ]
        },
        {
          "name": "stderr",
          "output_type": "stream",
          "text": [
            "35it [00:00, 412.57it/s]\n",
            "12it [00:00, 673.65it/s]\n"
          ]
        },
        {
          "name": "stdout",
          "output_type": "stream",
          "text": [
            "Running validation\n",
            "Running training epoch\n"
          ]
        },
        {
          "name": "stderr",
          "output_type": "stream",
          "text": [
            "35it [00:00, 377.45it/s]\n",
            "12it [00:00, 541.74it/s]\n"
          ]
        },
        {
          "name": "stdout",
          "output_type": "stream",
          "text": [
            "Running validation\n",
            "Running training epoch\n"
          ]
        },
        {
          "name": "stderr",
          "output_type": "stream",
          "text": [
            "35it [00:00, 378.18it/s]\n",
            "12it [00:00, 653.59it/s]\n"
          ]
        },
        {
          "name": "stdout",
          "output_type": "stream",
          "text": [
            "Running validation\n",
            "Running training epoch\n"
          ]
        },
        {
          "name": "stderr",
          "output_type": "stream",
          "text": [
            "35it [00:00, 421.40it/s]\n",
            "12it [00:00, 598.46it/s]\n"
          ]
        },
        {
          "name": "stdout",
          "output_type": "stream",
          "text": [
            "Running validation\n",
            "Running training epoch\n"
          ]
        },
        {
          "name": "stderr",
          "output_type": "stream",
          "text": [
            "35it [00:00, 382.71it/s]\n",
            "12it [00:00, 867.76it/s]\n"
          ]
        },
        {
          "name": "stdout",
          "output_type": "stream",
          "text": [
            "Running validation\n",
            "Running training epoch\n"
          ]
        },
        {
          "name": "stderr",
          "output_type": "stream",
          "text": [
            "35it [00:00, 414.50it/s]\n",
            "12it [00:00, 637.83it/s]\n"
          ]
        },
        {
          "name": "stdout",
          "output_type": "stream",
          "text": [
            "Running validation\n",
            "Running training epoch\n"
          ]
        },
        {
          "name": "stderr",
          "output_type": "stream",
          "text": [
            "35it [00:00, 415.39it/s]\n",
            "12it [00:00, 505.77it/s]\n"
          ]
        },
        {
          "name": "stdout",
          "output_type": "stream",
          "text": [
            "Running validation\n",
            "Running training epoch\n"
          ]
        },
        {
          "name": "stderr",
          "output_type": "stream",
          "text": [
            "35it [00:00, 447.80it/s]\n",
            "12it [00:00, 879.45it/s]\n"
          ]
        },
        {
          "name": "stdout",
          "output_type": "stream",
          "text": [
            "Running validation\n",
            "Running training epoch\n"
          ]
        },
        {
          "name": "stderr",
          "output_type": "stream",
          "text": [
            "35it [00:00, 384.68it/s]\n",
            "12it [00:00, 562.78it/s]\n"
          ]
        },
        {
          "name": "stdout",
          "output_type": "stream",
          "text": [
            "Running validation\n",
            "Running training epoch\n"
          ]
        },
        {
          "name": "stderr",
          "output_type": "stream",
          "text": [
            "35it [00:00, 312.54it/s]\n",
            "12it [00:00, 814.67it/s]\n"
          ]
        },
        {
          "name": "stdout",
          "output_type": "stream",
          "text": [
            "Running validation\n",
            "Running training epoch\n"
          ]
        },
        {
          "name": "stderr",
          "output_type": "stream",
          "text": [
            "35it [00:00, 246.79it/s]\n",
            "12it [00:00, 809.58it/s]\n"
          ]
        },
        {
          "name": "stdout",
          "output_type": "stream",
          "text": [
            "Running validation\n",
            "Running training epoch\n"
          ]
        },
        {
          "name": "stderr",
          "output_type": "stream",
          "text": [
            "35it [00:00, 397.73it/s]\n",
            "12it [00:00, 725.27it/s]\n"
          ]
        },
        {
          "name": "stdout",
          "output_type": "stream",
          "text": [
            "Running validation\n",
            "Running training epoch\n"
          ]
        },
        {
          "name": "stderr",
          "output_type": "stream",
          "text": [
            "35it [00:00, 435.24it/s]\n",
            "12it [00:00, 726.57it/s]\n"
          ]
        },
        {
          "name": "stdout",
          "output_type": "stream",
          "text": [
            "Running validation\n",
            "Running training epoch\n"
          ]
        },
        {
          "name": "stderr",
          "output_type": "stream",
          "text": [
            "35it [00:00, 385.42it/s]\n",
            "12it [00:00, 829.79it/s]\n"
          ]
        },
        {
          "name": "stdout",
          "output_type": "stream",
          "text": [
            "Running validation\n",
            "Running training epoch\n"
          ]
        },
        {
          "name": "stderr",
          "output_type": "stream",
          "text": [
            "35it [00:00, 387.96it/s]\n",
            "12it [00:00, 597.25it/s]\n"
          ]
        },
        {
          "name": "stdout",
          "output_type": "stream",
          "text": [
            "Running validation\n",
            "Running training epoch\n"
          ]
        },
        {
          "name": "stderr",
          "output_type": "stream",
          "text": [
            "35it [00:00, 291.77it/s]\n",
            "12it [00:00, 596.33it/s]\n"
          ]
        },
        {
          "name": "stdout",
          "output_type": "stream",
          "text": [
            "Running validation\n",
            "Running training epoch\n"
          ]
        },
        {
          "name": "stderr",
          "output_type": "stream",
          "text": [
            "35it [00:00, 283.68it/s]\n",
            "12it [00:00, 806.02it/s]\n"
          ]
        },
        {
          "name": "stdout",
          "output_type": "stream",
          "text": [
            "Running validation\n",
            "Running training epoch\n"
          ]
        },
        {
          "name": "stderr",
          "output_type": "stream",
          "text": [
            "35it [00:00, 419.32it/s]\n",
            "12it [00:00, 775.45it/s]\n"
          ]
        },
        {
          "name": "stdout",
          "output_type": "stream",
          "text": [
            "Running validation\n",
            "Running training epoch\n"
          ]
        },
        {
          "name": "stderr",
          "output_type": "stream",
          "text": [
            "35it [00:00, 451.70it/s]\n",
            "12it [00:00, 867.31it/s]\n"
          ]
        },
        {
          "name": "stdout",
          "output_type": "stream",
          "text": [
            "Running validation\n",
            "Running training epoch\n"
          ]
        },
        {
          "name": "stderr",
          "output_type": "stream",
          "text": [
            "35it [00:00, 444.89it/s]\n",
            "12it [00:00, 683.21it/s]\n"
          ]
        },
        {
          "name": "stdout",
          "output_type": "stream",
          "text": [
            "Running validation\n",
            "Running training epoch\n"
          ]
        },
        {
          "name": "stderr",
          "output_type": "stream",
          "text": [
            "35it [00:00, 432.17it/s]\n",
            "12it [00:00, 488.13it/s]\n"
          ]
        },
        {
          "name": "stdout",
          "output_type": "stream",
          "text": [
            "Running validation\n",
            "Running training epoch\n"
          ]
        },
        {
          "name": "stderr",
          "output_type": "stream",
          "text": [
            "35it [00:00, 404.83it/s]\n",
            "12it [00:00, 631.48it/s]\n"
          ]
        },
        {
          "name": "stdout",
          "output_type": "stream",
          "text": [
            "Running validation\n",
            "Running training epoch\n"
          ]
        },
        {
          "name": "stderr",
          "output_type": "stream",
          "text": [
            "35it [00:00, 394.31it/s]\n",
            "12it [00:00, 729.15it/s]\n"
          ]
        },
        {
          "name": "stdout",
          "output_type": "stream",
          "text": [
            "Running validation\n",
            "Running training epoch\n"
          ]
        },
        {
          "name": "stderr",
          "output_type": "stream",
          "text": [
            "35it [00:00, 434.12it/s]\n",
            "12it [00:00, 538.46it/s]\n"
          ]
        },
        {
          "name": "stdout",
          "output_type": "stream",
          "text": [
            "Running validation\n",
            "Running training epoch\n"
          ]
        },
        {
          "name": "stderr",
          "output_type": "stream",
          "text": [
            "35it [00:00, 285.53it/s]\n",
            "12it [00:00, 829.35it/s]\n"
          ]
        },
        {
          "name": "stdout",
          "output_type": "stream",
          "text": [
            "Running validation\n",
            "Running training epoch\n"
          ]
        },
        {
          "name": "stderr",
          "output_type": "stream",
          "text": [
            "35it [00:00, 460.26it/s]\n",
            "12it [00:00, 853.24it/s]\n"
          ]
        },
        {
          "name": "stdout",
          "output_type": "stream",
          "text": [
            "Running validation\n",
            "Running training epoch\n"
          ]
        },
        {
          "name": "stderr",
          "output_type": "stream",
          "text": [
            "35it [00:00, 381.39it/s]\n",
            "12it [00:00, 539.54it/s]\n"
          ]
        },
        {
          "name": "stdout",
          "output_type": "stream",
          "text": [
            "Running validation\n",
            "Running training epoch\n"
          ]
        },
        {
          "name": "stderr",
          "output_type": "stream",
          "text": [
            "35it [00:00, 397.63it/s]\n",
            "12it [00:00, 616.76it/s]\n"
          ]
        },
        {
          "name": "stdout",
          "output_type": "stream",
          "text": [
            "Running validation\n",
            "Running training epoch\n"
          ]
        },
        {
          "name": "stderr",
          "output_type": "stream",
          "text": [
            "35it [00:00, 469.90it/s]\n",
            "12it [00:00, 551.36it/s]\n"
          ]
        },
        {
          "name": "stdout",
          "output_type": "stream",
          "text": [
            "Running validation\n",
            "Running training epoch\n"
          ]
        },
        {
          "name": "stderr",
          "output_type": "stream",
          "text": [
            "35it [00:00, 388.86it/s]\n",
            "12it [00:00, 873.57it/s]\n"
          ]
        },
        {
          "name": "stdout",
          "output_type": "stream",
          "text": [
            "Running validation\n",
            "Running training epoch\n"
          ]
        },
        {
          "name": "stderr",
          "output_type": "stream",
          "text": [
            "35it [00:00, 387.94it/s]\n",
            "12it [00:00, 873.33it/s]\n"
          ]
        },
        {
          "name": "stdout",
          "output_type": "stream",
          "text": [
            "Running validation\n",
            "Running training epoch\n"
          ]
        },
        {
          "name": "stderr",
          "output_type": "stream",
          "text": [
            "35it [00:00, 354.46it/s]\n",
            "12it [00:00, 688.85it/s]\n"
          ]
        },
        {
          "name": "stdout",
          "output_type": "stream",
          "text": [
            "Running validation\n",
            "Running training epoch\n"
          ]
        },
        {
          "name": "stderr",
          "output_type": "stream",
          "text": [
            "35it [00:00, 343.36it/s]\n",
            "12it [00:00, 457.55it/s]\n"
          ]
        },
        {
          "name": "stdout",
          "output_type": "stream",
          "text": [
            "Running validation\n",
            "Running training epoch\n"
          ]
        },
        {
          "name": "stderr",
          "output_type": "stream",
          "text": [
            "35it [00:00, 137.64it/s]\n",
            "12it [00:00, 579.62it/s]\n"
          ]
        },
        {
          "name": "stdout",
          "output_type": "stream",
          "text": [
            "Running validation\n",
            "Running training epoch\n"
          ]
        },
        {
          "name": "stderr",
          "output_type": "stream",
          "text": [
            "35it [00:00, 297.18it/s]\n",
            "12it [00:00, 676.40it/s]\n"
          ]
        },
        {
          "name": "stdout",
          "output_type": "stream",
          "text": [
            "Running validation\n",
            "Running training epoch\n"
          ]
        },
        {
          "name": "stderr",
          "output_type": "stream",
          "text": [
            "35it [00:00, 378.53it/s]\n",
            "12it [00:00, 552.16it/s]\n"
          ]
        },
        {
          "name": "stdout",
          "output_type": "stream",
          "text": [
            "Running validation\n",
            "Running training epoch\n"
          ]
        },
        {
          "name": "stderr",
          "output_type": "stream",
          "text": [
            "35it [00:00, 412.11it/s]\n",
            "12it [00:00, 521.59it/s]\n"
          ]
        },
        {
          "name": "stdout",
          "output_type": "stream",
          "text": [
            "Running validation\n",
            "Running training epoch\n"
          ]
        },
        {
          "name": "stderr",
          "output_type": "stream",
          "text": [
            "35it [00:00, 356.83it/s]\n",
            "12it [00:00, 531.18it/s]\n"
          ]
        },
        {
          "name": "stdout",
          "output_type": "stream",
          "text": [
            "Running validation\n",
            "Running training epoch\n"
          ]
        },
        {
          "name": "stderr",
          "output_type": "stream",
          "text": [
            "35it [00:00, 421.17it/s]\n",
            "12it [00:00, 769.29it/s]\n"
          ]
        },
        {
          "name": "stdout",
          "output_type": "stream",
          "text": [
            "Running validation\n",
            "Running training epoch\n"
          ]
        },
        {
          "name": "stderr",
          "output_type": "stream",
          "text": [
            "35it [00:00, 433.23it/s]\n",
            "12it [00:00, 650.83it/s]\n"
          ]
        },
        {
          "name": "stdout",
          "output_type": "stream",
          "text": [
            "Running validation\n",
            "Running training epoch\n"
          ]
        },
        {
          "name": "stderr",
          "output_type": "stream",
          "text": [
            "35it [00:00, 407.10it/s]\n",
            "12it [00:00, 543.45it/s]\n"
          ]
        },
        {
          "name": "stdout",
          "output_type": "stream",
          "text": [
            "Running validation\n",
            "Running training epoch\n"
          ]
        },
        {
          "name": "stderr",
          "output_type": "stream",
          "text": [
            "35it [00:00, 428.72it/s]\n",
            "12it [00:00, 729.39it/s]\n"
          ]
        },
        {
          "name": "stdout",
          "output_type": "stream",
          "text": [
            "Running validation\n",
            "Running training epoch\n"
          ]
        },
        {
          "name": "stderr",
          "output_type": "stream",
          "text": [
            "35it [00:00, 439.81it/s]\n",
            "12it [00:00, 534.60it/s]\n"
          ]
        },
        {
          "name": "stdout",
          "output_type": "stream",
          "text": [
            "Running validation\n",
            "Running training epoch\n"
          ]
        },
        {
          "name": "stderr",
          "output_type": "stream",
          "text": [
            "35it [00:00, 386.38it/s]\n",
            "12it [00:00, 484.19it/s]\n"
          ]
        },
        {
          "name": "stdout",
          "output_type": "stream",
          "text": [
            "Running validation\n"
          ]
        },
        {
          "data": {
            "application/vnd.jupyter.widget-view+json": {
              "model_id": "75f4e26cd89d4ac19834e7fd1c390f1d",
              "version_major": 2,
              "version_minor": 0
            },
            "text/plain": [
              "VBox(children=(Label(value='0.332 MB of 0.332 MB uploaded\\r'), FloatProgress(value=1.0, max=1.0)))"
            ]
          },
          "metadata": {},
          "output_type": "display_data"
        },
        {
          "data": {
            "text/html": [
              "<style>\n",
              "    table.wandb td:nth-child(1) { padding: 0 10px; text-align: left ; width: auto;} td:nth-child(2) {text-align: left ; width: 100%}\n",
              "    .wandb-row { display: flex; flex-direction: row; flex-wrap: wrap; justify-content: flex-start; width: 100% }\n",
              "    .wandb-col { display: flex; flex-direction: column; flex-basis: 100%; flex: 1; padding: 10px; }\n",
              "    </style>\n",
              "<div class=\"wandb-row\"><div class=\"wandb-col\"><h3>Run history:</h3><br/><table class=\"wandb\"><tr><td>train_loss</td><td>█▆▄▃▂▂▂▁▁▁▁▁▁▁▁▁▁▁▁▁▁▁▁▁▁▁▁▁▁▁▁▁▁▁▁▁▁▁▁▁</td></tr><tr><td>val_loss</td><td>█▇▅▄▃▂▂▂▁▁▁▁▁▁▁▁▁▁▁▁▁▁▁▁▁▁▁▁▁▁▁▁▁▁▁▁▁▁▁▁</td></tr></table><br/></div><div class=\"wandb-col\"><h3>Run summary:</h3><br/><table class=\"wandb\"><tr><td>train_loss</td><td>55.94103</td></tr><tr><td>val_loss</td><td>77.34032</td></tr></table><br/></div></div>"
            ],
            "text/plain": [
              "<IPython.core.display.HTML object>"
            ]
          },
          "metadata": {},
          "output_type": "display_data"
        },
        {
          "data": {
            "text/html": [
              " View run <strong style=\"color:#cdcd00\">baseline</strong> at: <a href='https://wandb.ai/cell-x/coursework_1/runs/297q3r4n' target=\"_blank\">https://wandb.ai/cell-x/coursework_1/runs/297q3r4n</a><br/>Synced 5 W&B file(s), 0 media file(s), 0 artifact file(s) and 100 other file(s)"
            ],
            "text/plain": [
              "<IPython.core.display.HTML object>"
            ]
          },
          "metadata": {},
          "output_type": "display_data"
        },
        {
          "data": {
            "text/html": [
              "Find logs at: <code>./wandb/run-20231110_141757-297q3r4n/logs</code>"
            ],
            "text/plain": [
              "<IPython.core.display.HTML object>"
            ]
          },
          "metadata": {},
          "output_type": "display_data"
        }
      ],
      "source": [
        "wandb_config={\n",
        "    \"lr\": lr,\n",
        "    \"lookback\": lookback,\n",
        "}\n",
        "\n",
        "model = BaselineModel(input_dim=input_dim, output_dim=1)\n",
        "\n",
        "# Check model parameters\n",
        "for param in model.named_parameters():\n",
        "    print(f\"Param: {param[0]}\")\n",
        "    print(f\"Param shape: {param[1].shape}\")\n",
        "    print(\"\\n\")\n",
        "\n",
        "# Check model is predicting\n",
        "with torch.no_grad():\n",
        "    first_batch = next(train_loader.__iter__())\n",
        "    res = model(first_batch[1])\n",
        "    print(f\"first_batch res shape: {first_batch[0].shape}\")\n",
        "    print(f\"res shape: {res.shape}\")\n",
        "\n",
        "optimizer=torch.optim.Adam(model.parameters(), lr=wandb_config[\"lr\"])\n",
        "epoch_train_loss, epoch_val_loss = train(\n",
        "    model=model, train_data_loader=train_loader, val_data_loader=val_loader, gpu = gpu,\n",
        "    optimizer=optimizer, criterion=ovrl_criterion, epochs=epochs,\n",
        "    wandb_proj=WANDB_PROJ, wandb_name=\"baseline\", wandb_config=wandb_config, debug=False\n",
        ")"
      ]
    },
    {
      "cell_type": "code",
      "execution_count": 20,
      "metadata": {
        "id": "LA4dI-DSl0WX"
      },
      "outputs": [],
      "source": [
        "# save for later use\n",
        "baseline_train_loss, baseline_val_loss = epoch_train_loss, epoch_val_loss"
      ]
    },
    {
      "cell_type": "markdown",
      "metadata": {
        "id": "A8LoZQYZi0Pw"
      },
      "source": [
        "## Task3: First deep learning model\n",
        "\n",
        "Given the sequential nature of dataset, an RNN model will be developed for the first stage of the model development process. The ```VanillaRNN``` class below defines such a model blueprint."
      ]
    },
    {
      "cell_type": "code",
      "execution_count": 21,
      "metadata": {
        "id": "CoXwoQJui0Px"
      },
      "outputs": [],
      "source": [
        "class VanillaRNN(nn.Module):\n",
        "\n",
        "    def __init__(self, input_dim:int,  hidden_dim:int, num_layers:int,\n",
        "                 fc_output_size:int, *args, **kwargs) -> None:\n",
        "        torch.manual_seed(MODEL_SEED)\n",
        "        super().__init__()\n",
        "        self._num_layers = num_layers\n",
        "        self._hidden_dim = hidden_dim\n",
        "        self.rnn = nn.RNN(\n",
        "            input_size=input_dim,  hidden_size=hidden_dim,\n",
        "            num_layers=num_layers, *args, **kwargs,\n",
        "            batch_first=True\n",
        "        )\n",
        "        self.fc = nn.Linear(in_features=hidden_dim, out_features=fc_output_size)\n",
        "\n",
        "    def forward(self, x):\n",
        "        batch_size = x.size(0)\n",
        "        hidden = self.init_hidden(batch_size)\n",
        "        out = self.rnn(x, hidden)\n",
        "        return self.fc(out[1].squeeze())\n",
        "\n",
        "    def init_hidden(self, batch_size):\n",
        "        hidden = torch.zeros(self._num_layers, batch_size, self._hidden_dim)\n",
        "        return hidden\n"
      ]
    },
    {
      "cell_type": "markdown",
      "metadata": {
        "id": "a325SVz-i0Py"
      },
      "source": [
        "__Exercise 3.1:__ (1 marks)\n",
        "* Complete the code block below, defining the hyperparameters which will be used to define a model of type ```VanillaRNN``` according to the following model specification:\n",
        "    * A hidden dimension of 64;\n",
        "    * A single RNN layer with a linear output head and;\n",
        "    * Relu activations"
      ]
    },
    {
      "cell_type": "code",
      "execution_count": 23,
      "metadata": {
        "id": "dFqeFkCFi0Pz"
      },
      "outputs": [],
      "source": [
        "# Your code here\n",
        "input_dim = len(indp_cols)\n",
        "hidden_dim = 64 #\n",
        "num_layers = 1\n",
        "nonlinearity = 'relu'\n",
        "# Your code here - END\n",
        "fc_output_size = len(trgt_col)"
      ]
    },
    {
      "cell_type": "code",
      "execution_count": 24,
      "metadata": {
        "colab": {
          "base_uri": "https://localhost:8080/",
          "height": 7422,
          "referenced_widgets": [
            "a470af9e82d94e2293afd87c946b0951",
            "93df0dc8021b4644bc340e2a17a14c20",
            "850ea8763ebc4158b4b9f5be1dd297e4",
            "350ac8feb8934884beb7fb8caf434082",
            "1e5e135e56804b53a9e94fe5194ffe01",
            "aad928c255944df9b9e37d9417846772",
            "7b343bde0bda4aaa937ecd09685a10c3",
            "4f2152e9d406441db4891031b505c7db"
          ]
        },
        "id": "kSVePXAhi0P0",
        "outputId": "7d65e161-9d00-4ed6-f640-67c3ca56a58e",
        "scrolled": true
      },
      "outputs": [
        {
          "name": "stderr",
          "output_type": "stream",
          "text": [
            "\u001b[34m\u001b[1mwandb\u001b[0m: Currently logged in as: \u001b[33manwangxuelong\u001b[0m (\u001b[33mcell-x\u001b[0m). Use \u001b[1m`wandb login --relogin`\u001b[0m to force relogin\n"
          ]
        },
        {
          "name": "stdout",
          "output_type": "stream",
          "text": [
            "torch.Size([32, 1])\n",
            "torch.Size([32, 1])\n"
          ]
        },
        {
          "data": {
            "text/html": [
              "Tracking run with wandb version 0.16.0"
            ],
            "text/plain": [
              "<IPython.core.display.HTML object>"
            ]
          },
          "metadata": {},
          "output_type": "display_data"
        },
        {
          "data": {
            "text/html": [
              "Run data is saved locally in <code>/content/wandb/run-20231110_142104-13eb2bwe</code>"
            ],
            "text/plain": [
              "<IPython.core.display.HTML object>"
            ]
          },
          "metadata": {},
          "output_type": "display_data"
        },
        {
          "data": {
            "text/html": [
              "Syncing run <strong><a href='https://wandb.ai/cell-x/coursework_1/runs/13eb2bwe' target=\"_blank\">vanillaRNN</a></strong> to <a href='https://wandb.ai/cell-x/coursework_1' target=\"_blank\">Weights & Biases</a> (<a href='https://wandb.me/run' target=\"_blank\">docs</a>)<br/>"
            ],
            "text/plain": [
              "<IPython.core.display.HTML object>"
            ]
          },
          "metadata": {},
          "output_type": "display_data"
        },
        {
          "data": {
            "text/html": [
              " View project at <a href='https://wandb.ai/cell-x/coursework_1' target=\"_blank\">https://wandb.ai/cell-x/coursework_1</a>"
            ],
            "text/plain": [
              "<IPython.core.display.HTML object>"
            ]
          },
          "metadata": {},
          "output_type": "display_data"
        },
        {
          "data": {
            "text/html": [
              " View run at <a href='https://wandb.ai/cell-x/coursework_1/runs/13eb2bwe' target=\"_blank\">https://wandb.ai/cell-x/coursework_1/runs/13eb2bwe</a>"
            ],
            "text/plain": [
              "<IPython.core.display.HTML object>"
            ]
          },
          "metadata": {},
          "output_type": "display_data"
        },
        {
          "name": "stdout",
          "output_type": "stream",
          "text": [
            "Running training epoch\n"
          ]
        },
        {
          "name": "stderr",
          "output_type": "stream",
          "text": [
            "35it [00:00, 183.79it/s]\n",
            "12it [00:00, 265.09it/s]\n"
          ]
        },
        {
          "name": "stdout",
          "output_type": "stream",
          "text": [
            "Running validation\n",
            "Running training epoch\n"
          ]
        },
        {
          "name": "stderr",
          "output_type": "stream",
          "text": [
            "35it [00:00, 127.66it/s]\n",
            "12it [00:00, 730.90it/s]\n"
          ]
        },
        {
          "name": "stdout",
          "output_type": "stream",
          "text": [
            "Running validation\n",
            "Running training epoch\n"
          ]
        },
        {
          "name": "stderr",
          "output_type": "stream",
          "text": [
            "35it [00:00, 244.11it/s]\n",
            "12it [00:00, 307.57it/s]\n"
          ]
        },
        {
          "name": "stdout",
          "output_type": "stream",
          "text": [
            "Running validation\n",
            "Running training epoch\n"
          ]
        },
        {
          "name": "stderr",
          "output_type": "stream",
          "text": [
            "35it [00:00, 96.20it/s] \n",
            "12it [00:00, 322.70it/s]\n"
          ]
        },
        {
          "name": "stdout",
          "output_type": "stream",
          "text": [
            "Running validation\n",
            "Running training epoch\n"
          ]
        },
        {
          "name": "stderr",
          "output_type": "stream",
          "text": [
            "35it [00:00, 169.02it/s]\n",
            "12it [00:00, 737.77it/s]\n"
          ]
        },
        {
          "name": "stdout",
          "output_type": "stream",
          "text": [
            "Running validation\n",
            "Running training epoch\n"
          ]
        },
        {
          "name": "stderr",
          "output_type": "stream",
          "text": [
            "35it [00:00, 154.09it/s]\n",
            "12it [00:00, 655.10it/s]\n"
          ]
        },
        {
          "name": "stdout",
          "output_type": "stream",
          "text": [
            "Running validation\n",
            "Running training epoch\n"
          ]
        },
        {
          "name": "stderr",
          "output_type": "stream",
          "text": [
            "35it [00:00, 182.51it/s]\n",
            "12it [00:00, 713.77it/s]\n"
          ]
        },
        {
          "name": "stdout",
          "output_type": "stream",
          "text": [
            "Running validation\n",
            "Running training epoch\n"
          ]
        },
        {
          "name": "stderr",
          "output_type": "stream",
          "text": [
            "35it [00:00, 238.67it/s]\n",
            "12it [00:00, 695.92it/s]\n"
          ]
        },
        {
          "name": "stdout",
          "output_type": "stream",
          "text": [
            "Running validation\n",
            "Running training epoch\n"
          ]
        },
        {
          "name": "stderr",
          "output_type": "stream",
          "text": [
            "35it [00:00, 272.12it/s]\n",
            "12it [00:00, 653.14it/s]\n"
          ]
        },
        {
          "name": "stdout",
          "output_type": "stream",
          "text": [
            "Running validation\n",
            "Running training epoch\n"
          ]
        },
        {
          "name": "stderr",
          "output_type": "stream",
          "text": [
            "35it [00:00, 267.86it/s]\n",
            "12it [00:00, 542.38it/s]\n"
          ]
        },
        {
          "name": "stdout",
          "output_type": "stream",
          "text": [
            "Running validation\n",
            "Running training epoch\n"
          ]
        },
        {
          "name": "stderr",
          "output_type": "stream",
          "text": [
            "35it [00:00, 219.11it/s]\n",
            "12it [00:00, 659.66it/s]"
          ]
        },
        {
          "name": "stdout",
          "output_type": "stream",
          "text": [
            "Running validation\n"
          ]
        },
        {
          "name": "stderr",
          "output_type": "stream",
          "text": [
            "\n"
          ]
        },
        {
          "name": "stdout",
          "output_type": "stream",
          "text": [
            "Running training epoch\n"
          ]
        },
        {
          "name": "stderr",
          "output_type": "stream",
          "text": [
            "35it [00:00, 242.58it/s]\n",
            "12it [00:00, 616.66it/s]\n"
          ]
        },
        {
          "name": "stdout",
          "output_type": "stream",
          "text": [
            "Running validation\n",
            "Running training epoch\n"
          ]
        },
        {
          "name": "stderr",
          "output_type": "stream",
          "text": [
            "35it [00:00, 258.20it/s]\n",
            "12it [00:00, 653.94it/s]\n"
          ]
        },
        {
          "name": "stdout",
          "output_type": "stream",
          "text": [
            "Running validation\n",
            "Running training epoch\n"
          ]
        },
        {
          "name": "stderr",
          "output_type": "stream",
          "text": [
            "35it [00:00, 239.47it/s]\n",
            "12it [00:00, 638.85it/s]\n"
          ]
        },
        {
          "name": "stdout",
          "output_type": "stream",
          "text": [
            "Running validation\n",
            "Running training epoch\n"
          ]
        },
        {
          "name": "stderr",
          "output_type": "stream",
          "text": [
            "35it [00:00, 235.02it/s]\n",
            "12it [00:00, 665.02it/s]\n"
          ]
        },
        {
          "name": "stdout",
          "output_type": "stream",
          "text": [
            "Running validation\n",
            "Running training epoch\n"
          ]
        },
        {
          "name": "stderr",
          "output_type": "stream",
          "text": [
            "35it [00:00, 228.11it/s]\n",
            "12it [00:00, 589.34it/s]"
          ]
        },
        {
          "name": "stdout",
          "output_type": "stream",
          "text": [
            "Running validation\n"
          ]
        },
        {
          "name": "stderr",
          "output_type": "stream",
          "text": [
            "\n"
          ]
        },
        {
          "name": "stdout",
          "output_type": "stream",
          "text": [
            "Running training epoch\n"
          ]
        },
        {
          "name": "stderr",
          "output_type": "stream",
          "text": [
            "35it [00:00, 251.71it/s]\n",
            "12it [00:00, 896.38it/s]\n"
          ]
        },
        {
          "name": "stdout",
          "output_type": "stream",
          "text": [
            "Running validation\n",
            "Running training epoch\n"
          ]
        },
        {
          "name": "stderr",
          "output_type": "stream",
          "text": [
            "35it [00:00, 376.61it/s]\n",
            "12it [00:00, 847.59it/s]\n"
          ]
        },
        {
          "name": "stdout",
          "output_type": "stream",
          "text": [
            "Running validation\n",
            "Running training epoch\n"
          ]
        },
        {
          "name": "stderr",
          "output_type": "stream",
          "text": [
            "35it [00:00, 381.49it/s]\n",
            "12it [00:00, 681.39it/s]\n"
          ]
        },
        {
          "name": "stdout",
          "output_type": "stream",
          "text": [
            "Running validation\n",
            "Running training epoch\n"
          ]
        },
        {
          "name": "stderr",
          "output_type": "stream",
          "text": [
            "35it [00:00, 412.39it/s]\n",
            "12it [00:00, 867.82it/s]\n"
          ]
        },
        {
          "name": "stdout",
          "output_type": "stream",
          "text": [
            "Running validation\n",
            "Running training epoch\n"
          ]
        },
        {
          "name": "stderr",
          "output_type": "stream",
          "text": [
            "35it [00:00, 375.46it/s]\n",
            "12it [00:00, 874.28it/s]\n"
          ]
        },
        {
          "name": "stdout",
          "output_type": "stream",
          "text": [
            "Running validation\n",
            "Running training epoch\n"
          ]
        },
        {
          "name": "stderr",
          "output_type": "stream",
          "text": [
            "35it [00:00, 374.46it/s]\n",
            "12it [00:00, 752.24it/s]\n"
          ]
        },
        {
          "name": "stdout",
          "output_type": "stream",
          "text": [
            "Running validation\n",
            "Running training epoch\n"
          ]
        },
        {
          "name": "stderr",
          "output_type": "stream",
          "text": [
            "35it [00:00, 230.58it/s]\n",
            "12it [00:00, 645.51it/s]\n"
          ]
        },
        {
          "name": "stdout",
          "output_type": "stream",
          "text": [
            "Running validation\n",
            "Running training epoch\n"
          ]
        },
        {
          "name": "stderr",
          "output_type": "stream",
          "text": [
            "35it [00:00, 407.76it/s]\n",
            "12it [00:00, 836.73it/s]\n"
          ]
        },
        {
          "name": "stdout",
          "output_type": "stream",
          "text": [
            "Running validation\n",
            "Running training epoch\n"
          ]
        },
        {
          "name": "stderr",
          "output_type": "stream",
          "text": [
            "35it [00:00, 419.47it/s]\n",
            "12it [00:00, 814.82it/s]\n"
          ]
        },
        {
          "name": "stdout",
          "output_type": "stream",
          "text": [
            "Running validation\n",
            "Running training epoch\n"
          ]
        },
        {
          "name": "stderr",
          "output_type": "stream",
          "text": [
            "35it [00:00, 412.41it/s]\n",
            "12it [00:00, 805.10it/s]\n"
          ]
        },
        {
          "name": "stdout",
          "output_type": "stream",
          "text": [
            "Running validation\n",
            "Running training epoch\n"
          ]
        },
        {
          "name": "stderr",
          "output_type": "stream",
          "text": [
            "35it [00:00, 437.02it/s]\n",
            "12it [00:00, 790.68it/s]\n"
          ]
        },
        {
          "name": "stdout",
          "output_type": "stream",
          "text": [
            "Running validation\n",
            "Running training epoch\n"
          ]
        },
        {
          "name": "stderr",
          "output_type": "stream",
          "text": [
            "35it [00:00, 379.92it/s]\n",
            "12it [00:00, 857.37it/s]\n"
          ]
        },
        {
          "name": "stdout",
          "output_type": "stream",
          "text": [
            "Running validation\n",
            "Running training epoch\n"
          ]
        },
        {
          "name": "stderr",
          "output_type": "stream",
          "text": [
            "35it [00:00, 398.64it/s]\n",
            "12it [00:00, 668.41it/s]\n"
          ]
        },
        {
          "name": "stdout",
          "output_type": "stream",
          "text": [
            "Running validation\n",
            "Running training epoch\n"
          ]
        },
        {
          "name": "stderr",
          "output_type": "stream",
          "text": [
            "35it [00:00, 315.36it/s]\n",
            "12it [00:00, 926.82it/s]\n"
          ]
        },
        {
          "name": "stdout",
          "output_type": "stream",
          "text": [
            "Running validation\n",
            "Running training epoch\n"
          ]
        },
        {
          "name": "stderr",
          "output_type": "stream",
          "text": [
            "35it [00:00, 318.53it/s]\n",
            "12it [00:00, 741.80it/s]\n"
          ]
        },
        {
          "name": "stdout",
          "output_type": "stream",
          "text": [
            "Running validation\n",
            "Running training epoch\n"
          ]
        },
        {
          "name": "stderr",
          "output_type": "stream",
          "text": [
            "35it [00:00, 334.72it/s]\n",
            "12it [00:00, 722.74it/s]\n"
          ]
        },
        {
          "name": "stdout",
          "output_type": "stream",
          "text": [
            "Running validation\n",
            "Running training epoch\n"
          ]
        },
        {
          "name": "stderr",
          "output_type": "stream",
          "text": [
            "35it [00:00, 380.69it/s]\n",
            "12it [00:00, 749.51it/s]\n"
          ]
        },
        {
          "name": "stdout",
          "output_type": "stream",
          "text": [
            "Running validation\n",
            "Running training epoch\n"
          ]
        },
        {
          "name": "stderr",
          "output_type": "stream",
          "text": [
            "35it [00:00, 355.76it/s]\n",
            "12it [00:00, 803.63it/s]\n"
          ]
        },
        {
          "name": "stdout",
          "output_type": "stream",
          "text": [
            "Running validation\n",
            "Running training epoch\n"
          ]
        },
        {
          "name": "stderr",
          "output_type": "stream",
          "text": [
            "35it [00:00, 325.90it/s]\n",
            "12it [00:00, 878.28it/s]\n"
          ]
        },
        {
          "name": "stdout",
          "output_type": "stream",
          "text": [
            "Running validation\n",
            "Running training epoch\n"
          ]
        },
        {
          "name": "stderr",
          "output_type": "stream",
          "text": [
            "35it [00:00, 329.95it/s]\n",
            "12it [00:00, 675.84it/s]\n"
          ]
        },
        {
          "name": "stdout",
          "output_type": "stream",
          "text": [
            "Running validation\n",
            "Running training epoch\n"
          ]
        },
        {
          "name": "stderr",
          "output_type": "stream",
          "text": [
            "35it [00:00, 300.62it/s]\n",
            "12it [00:00, 1035.87it/s]\n"
          ]
        },
        {
          "name": "stdout",
          "output_type": "stream",
          "text": [
            "Running validation\n",
            "Running training epoch\n"
          ]
        },
        {
          "name": "stderr",
          "output_type": "stream",
          "text": [
            "35it [00:00, 320.03it/s]\n",
            "12it [00:00, 870.67it/s]\n"
          ]
        },
        {
          "name": "stdout",
          "output_type": "stream",
          "text": [
            "Running validation\n",
            "Running training epoch\n"
          ]
        },
        {
          "name": "stderr",
          "output_type": "stream",
          "text": [
            "35it [00:00, 303.84it/s]\n",
            "12it [00:00, 909.02it/s]\n"
          ]
        },
        {
          "name": "stdout",
          "output_type": "stream",
          "text": [
            "Running validation\n",
            "Running training epoch\n"
          ]
        },
        {
          "name": "stderr",
          "output_type": "stream",
          "text": [
            "35it [00:00, 355.98it/s]\n",
            "12it [00:00, 741.82it/s]\n"
          ]
        },
        {
          "name": "stdout",
          "output_type": "stream",
          "text": [
            "Running validation\n",
            "Running training epoch\n"
          ]
        },
        {
          "name": "stderr",
          "output_type": "stream",
          "text": [
            "35it [00:00, 389.20it/s]\n",
            "12it [00:00, 723.17it/s]\n"
          ]
        },
        {
          "name": "stdout",
          "output_type": "stream",
          "text": [
            "Running validation\n",
            "Running training epoch\n"
          ]
        },
        {
          "name": "stderr",
          "output_type": "stream",
          "text": [
            "35it [00:00, 290.80it/s]\n",
            "12it [00:00, 755.37it/s]\n"
          ]
        },
        {
          "name": "stdout",
          "output_type": "stream",
          "text": [
            "Running validation\n",
            "Running training epoch\n"
          ]
        },
        {
          "name": "stderr",
          "output_type": "stream",
          "text": [
            "35it [00:00, 260.67it/s]\n",
            "12it [00:00, 485.84it/s]\n"
          ]
        },
        {
          "name": "stdout",
          "output_type": "stream",
          "text": [
            "Running validation\n",
            "Running training epoch\n"
          ]
        },
        {
          "name": "stderr",
          "output_type": "stream",
          "text": [
            "35it [00:00, 365.27it/s]\n",
            "12it [00:00, 794.34it/s]\n"
          ]
        },
        {
          "name": "stdout",
          "output_type": "stream",
          "text": [
            "Running validation\n",
            "Running training epoch\n"
          ]
        },
        {
          "name": "stderr",
          "output_type": "stream",
          "text": [
            "35it [00:00, 428.25it/s]\n",
            "12it [00:00, 746.99it/s]\n"
          ]
        },
        {
          "name": "stdout",
          "output_type": "stream",
          "text": [
            "Running validation\n",
            "Running training epoch\n"
          ]
        },
        {
          "name": "stderr",
          "output_type": "stream",
          "text": [
            "35it [00:00, 352.78it/s]\n",
            "12it [00:00, 670.59it/s]\n"
          ]
        },
        {
          "name": "stdout",
          "output_type": "stream",
          "text": [
            "Running validation\n",
            "Running training epoch\n"
          ]
        },
        {
          "name": "stderr",
          "output_type": "stream",
          "text": [
            "35it [00:00, 394.94it/s]\n",
            "12it [00:00, 843.58it/s]\n"
          ]
        },
        {
          "name": "stdout",
          "output_type": "stream",
          "text": [
            "Running validation\n",
            "Running training epoch\n"
          ]
        },
        {
          "name": "stderr",
          "output_type": "stream",
          "text": [
            "35it [00:00, 322.64it/s]\n",
            "12it [00:00, 934.04it/s]\n"
          ]
        },
        {
          "name": "stdout",
          "output_type": "stream",
          "text": [
            "Running validation\n",
            "Running training epoch\n"
          ]
        },
        {
          "name": "stderr",
          "output_type": "stream",
          "text": [
            "35it [00:00, 374.73it/s]\n",
            "12it [00:00, 800.91it/s]\n"
          ]
        },
        {
          "name": "stdout",
          "output_type": "stream",
          "text": [
            "Running validation\n",
            "Running training epoch\n"
          ]
        },
        {
          "name": "stderr",
          "output_type": "stream",
          "text": [
            "35it [00:00, 359.61it/s]\n",
            "12it [00:00, 729.98it/s]\n"
          ]
        },
        {
          "name": "stdout",
          "output_type": "stream",
          "text": [
            "Running validation\n",
            "Running training epoch\n"
          ]
        },
        {
          "name": "stderr",
          "output_type": "stream",
          "text": [
            "35it [00:00, 373.70it/s]\n",
            "12it [00:00, 776.18it/s]\n"
          ]
        },
        {
          "name": "stdout",
          "output_type": "stream",
          "text": [
            "Running validation\n",
            "Running training epoch\n"
          ]
        },
        {
          "name": "stderr",
          "output_type": "stream",
          "text": [
            "35it [00:00, 382.33it/s]\n",
            "12it [00:00, 793.87it/s]\n"
          ]
        },
        {
          "name": "stdout",
          "output_type": "stream",
          "text": [
            "Running validation\n",
            "Running training epoch\n"
          ]
        },
        {
          "name": "stderr",
          "output_type": "stream",
          "text": [
            "35it [00:00, 406.16it/s]\n",
            "12it [00:00, 849.42it/s]\n"
          ]
        },
        {
          "name": "stdout",
          "output_type": "stream",
          "text": [
            "Running validation\n",
            "Running training epoch\n"
          ]
        },
        {
          "name": "stderr",
          "output_type": "stream",
          "text": [
            "35it [00:00, 401.76it/s]\n",
            "12it [00:00, 725.44it/s]\n"
          ]
        },
        {
          "name": "stdout",
          "output_type": "stream",
          "text": [
            "Running validation\n",
            "Running training epoch\n"
          ]
        },
        {
          "name": "stderr",
          "output_type": "stream",
          "text": [
            "35it [00:00, 401.36it/s]\n",
            "12it [00:00, 709.58it/s]\n"
          ]
        },
        {
          "name": "stdout",
          "output_type": "stream",
          "text": [
            "Running validation\n",
            "Running training epoch\n"
          ]
        },
        {
          "name": "stderr",
          "output_type": "stream",
          "text": [
            "35it [00:00, 426.69it/s]\n",
            "12it [00:00, 862.48it/s]\n"
          ]
        },
        {
          "name": "stdout",
          "output_type": "stream",
          "text": [
            "Running validation\n",
            "Running training epoch\n"
          ]
        },
        {
          "name": "stderr",
          "output_type": "stream",
          "text": [
            "35it [00:00, 390.13it/s]\n",
            "12it [00:00, 856.10it/s]\n"
          ]
        },
        {
          "name": "stdout",
          "output_type": "stream",
          "text": [
            "Running validation\n",
            "Running training epoch\n"
          ]
        },
        {
          "name": "stderr",
          "output_type": "stream",
          "text": [
            "35it [00:00, 353.70it/s]\n",
            "12it [00:00, 663.10it/s]\n"
          ]
        },
        {
          "name": "stdout",
          "output_type": "stream",
          "text": [
            "Running validation\n",
            "Running training epoch\n"
          ]
        },
        {
          "name": "stderr",
          "output_type": "stream",
          "text": [
            "35it [00:00, 359.21it/s]\n",
            "12it [00:00, 982.23it/s]\n"
          ]
        },
        {
          "name": "stdout",
          "output_type": "stream",
          "text": [
            "Running validation\n",
            "Running training epoch\n"
          ]
        },
        {
          "name": "stderr",
          "output_type": "stream",
          "text": [
            "35it [00:00, 353.08it/s]\n",
            "12it [00:00, 707.71it/s]\n"
          ]
        },
        {
          "name": "stdout",
          "output_type": "stream",
          "text": [
            "Running validation\n",
            "Running training epoch\n"
          ]
        },
        {
          "name": "stderr",
          "output_type": "stream",
          "text": [
            "35it [00:00, 417.79it/s]\n",
            "12it [00:00, 634.21it/s]\n"
          ]
        },
        {
          "name": "stdout",
          "output_type": "stream",
          "text": [
            "Running validation\n",
            "Running training epoch\n"
          ]
        },
        {
          "name": "stderr",
          "output_type": "stream",
          "text": [
            "35it [00:00, 373.99it/s]\n",
            "12it [00:00, 681.33it/s]\n"
          ]
        },
        {
          "name": "stdout",
          "output_type": "stream",
          "text": [
            "Running validation\n",
            "Running training epoch\n"
          ]
        },
        {
          "name": "stderr",
          "output_type": "stream",
          "text": [
            "35it [00:00, 368.87it/s]\n",
            "12it [00:00, 702.39it/s]\n"
          ]
        },
        {
          "name": "stdout",
          "output_type": "stream",
          "text": [
            "Running validation\n",
            "Running training epoch\n"
          ]
        },
        {
          "name": "stderr",
          "output_type": "stream",
          "text": [
            "35it [00:00, 381.41it/s]\n",
            "12it [00:00, 748.64it/s]\n"
          ]
        },
        {
          "name": "stdout",
          "output_type": "stream",
          "text": [
            "Running validation\n",
            "Running training epoch\n"
          ]
        },
        {
          "name": "stderr",
          "output_type": "stream",
          "text": [
            "35it [00:00, 402.21it/s]\n",
            "12it [00:00, 770.23it/s]\n"
          ]
        },
        {
          "name": "stdout",
          "output_type": "stream",
          "text": [
            "Running validation\n",
            "Running training epoch\n"
          ]
        },
        {
          "name": "stderr",
          "output_type": "stream",
          "text": [
            "35it [00:00, 369.85it/s]\n",
            "12it [00:00, 907.84it/s]\n"
          ]
        },
        {
          "name": "stdout",
          "output_type": "stream",
          "text": [
            "Running validation\n",
            "Running training epoch\n"
          ]
        },
        {
          "name": "stderr",
          "output_type": "stream",
          "text": [
            "35it [00:00, 345.95it/s]\n",
            "12it [00:00, 827.07it/s]\n"
          ]
        },
        {
          "name": "stdout",
          "output_type": "stream",
          "text": [
            "Running validation\n",
            "Running training epoch\n"
          ]
        },
        {
          "name": "stderr",
          "output_type": "stream",
          "text": [
            "35it [00:00, 412.43it/s]\n",
            "12it [00:00, 918.08it/s]\n"
          ]
        },
        {
          "name": "stdout",
          "output_type": "stream",
          "text": [
            "Running validation\n",
            "Running training epoch\n"
          ]
        },
        {
          "name": "stderr",
          "output_type": "stream",
          "text": [
            "35it [00:00, 365.79it/s]\n",
            "12it [00:00, 684.64it/s]\n"
          ]
        },
        {
          "name": "stdout",
          "output_type": "stream",
          "text": [
            "Running validation\n",
            "Running training epoch\n"
          ]
        },
        {
          "name": "stderr",
          "output_type": "stream",
          "text": [
            "35it [00:00, 373.17it/s]\n",
            "12it [00:00, 899.10it/s]\n"
          ]
        },
        {
          "name": "stdout",
          "output_type": "stream",
          "text": [
            "Running validation\n",
            "Running training epoch\n"
          ]
        },
        {
          "name": "stderr",
          "output_type": "stream",
          "text": [
            "35it [00:00, 361.31it/s]\n",
            "12it [00:00, 834.41it/s]\n"
          ]
        },
        {
          "name": "stdout",
          "output_type": "stream",
          "text": [
            "Running validation\n",
            "Running training epoch\n"
          ]
        },
        {
          "name": "stderr",
          "output_type": "stream",
          "text": [
            "35it [00:00, 394.08it/s]\n",
            "12it [00:00, 801.73it/s]\n"
          ]
        },
        {
          "name": "stdout",
          "output_type": "stream",
          "text": [
            "Running validation\n",
            "Running training epoch\n"
          ]
        },
        {
          "name": "stderr",
          "output_type": "stream",
          "text": [
            "35it [00:00, 311.89it/s]\n",
            "12it [00:00, 932.97it/s]\n"
          ]
        },
        {
          "name": "stdout",
          "output_type": "stream",
          "text": [
            "Running validation\n",
            "Running training epoch\n"
          ]
        },
        {
          "name": "stderr",
          "output_type": "stream",
          "text": [
            "35it [00:00, 365.14it/s]\n",
            "12it [00:00, 842.20it/s]\n"
          ]
        },
        {
          "name": "stdout",
          "output_type": "stream",
          "text": [
            "Running validation\n",
            "Running training epoch\n"
          ]
        },
        {
          "name": "stderr",
          "output_type": "stream",
          "text": [
            "35it [00:00, 401.81it/s]\n",
            "12it [00:00, 753.24it/s]\n"
          ]
        },
        {
          "name": "stdout",
          "output_type": "stream",
          "text": [
            "Running validation\n",
            "Running training epoch\n"
          ]
        },
        {
          "name": "stderr",
          "output_type": "stream",
          "text": [
            "35it [00:00, 404.64it/s]\n",
            "12it [00:00, 833.86it/s]\n"
          ]
        },
        {
          "name": "stdout",
          "output_type": "stream",
          "text": [
            "Running validation\n",
            "Running training epoch\n"
          ]
        },
        {
          "name": "stderr",
          "output_type": "stream",
          "text": [
            "35it [00:00, 361.20it/s]\n",
            "12it [00:00, 724.20it/s]\n"
          ]
        },
        {
          "name": "stdout",
          "output_type": "stream",
          "text": [
            "Running validation\n",
            "Running training epoch\n"
          ]
        },
        {
          "name": "stderr",
          "output_type": "stream",
          "text": [
            "35it [00:00, 351.71it/s]\n",
            "12it [00:00, 742.40it/s]\n"
          ]
        },
        {
          "name": "stdout",
          "output_type": "stream",
          "text": [
            "Running validation\n",
            "Running training epoch\n"
          ]
        },
        {
          "name": "stderr",
          "output_type": "stream",
          "text": [
            "35it [00:00, 378.34it/s]\n",
            "12it [00:00, 783.91it/s]\n"
          ]
        },
        {
          "name": "stdout",
          "output_type": "stream",
          "text": [
            "Running validation\n",
            "Running training epoch\n"
          ]
        },
        {
          "name": "stderr",
          "output_type": "stream",
          "text": [
            "35it [00:00, 382.44it/s]\n",
            "12it [00:00, 473.69it/s]\n"
          ]
        },
        {
          "name": "stdout",
          "output_type": "stream",
          "text": [
            "Running validation\n",
            "Running training epoch\n"
          ]
        },
        {
          "name": "stderr",
          "output_type": "stream",
          "text": [
            "35it [00:00, 402.49it/s]\n",
            "12it [00:00, 724.79it/s]\n"
          ]
        },
        {
          "name": "stdout",
          "output_type": "stream",
          "text": [
            "Running validation\n",
            "Running training epoch\n"
          ]
        },
        {
          "name": "stderr",
          "output_type": "stream",
          "text": [
            "35it [00:00, 401.85it/s]\n",
            "12it [00:00, 612.05it/s]\n"
          ]
        },
        {
          "name": "stdout",
          "output_type": "stream",
          "text": [
            "Running validation\n",
            "Running training epoch\n"
          ]
        },
        {
          "name": "stderr",
          "output_type": "stream",
          "text": [
            "35it [00:00, 384.87it/s]\n",
            "12it [00:00, 1040.15it/s]\n"
          ]
        },
        {
          "name": "stdout",
          "output_type": "stream",
          "text": [
            "Running validation\n",
            "Running training epoch\n"
          ]
        },
        {
          "name": "stderr",
          "output_type": "stream",
          "text": [
            "35it [00:00, 403.78it/s]\n",
            "12it [00:00, 762.76it/s]\n"
          ]
        },
        {
          "name": "stdout",
          "output_type": "stream",
          "text": [
            "Running validation\n",
            "Running training epoch\n"
          ]
        },
        {
          "name": "stderr",
          "output_type": "stream",
          "text": [
            "35it [00:00, 417.65it/s]\n",
            "12it [00:00, 855.76it/s]\n"
          ]
        },
        {
          "name": "stdout",
          "output_type": "stream",
          "text": [
            "Running validation\n",
            "Running training epoch\n"
          ]
        },
        {
          "name": "stderr",
          "output_type": "stream",
          "text": [
            "35it [00:00, 396.97it/s]\n",
            "12it [00:00, 805.22it/s]\n"
          ]
        },
        {
          "name": "stdout",
          "output_type": "stream",
          "text": [
            "Running validation\n",
            "Running training epoch\n"
          ]
        },
        {
          "name": "stderr",
          "output_type": "stream",
          "text": [
            "35it [00:00, 349.45it/s]\n",
            "12it [00:00, 451.23it/s]\n"
          ]
        },
        {
          "name": "stdout",
          "output_type": "stream",
          "text": [
            "Running validation\n",
            "Running training epoch\n"
          ]
        },
        {
          "name": "stderr",
          "output_type": "stream",
          "text": [
            "35it [00:00, 240.33it/s]\n",
            "12it [00:00, 542.64it/s]\n"
          ]
        },
        {
          "name": "stdout",
          "output_type": "stream",
          "text": [
            "Running validation\n",
            "Running training epoch\n"
          ]
        },
        {
          "name": "stderr",
          "output_type": "stream",
          "text": [
            "35it [00:00, 251.43it/s]\n",
            "12it [00:00, 486.00it/s]\n"
          ]
        },
        {
          "name": "stdout",
          "output_type": "stream",
          "text": [
            "Running validation\n",
            "Running training epoch\n"
          ]
        },
        {
          "name": "stderr",
          "output_type": "stream",
          "text": [
            "35it [00:00, 225.49it/s]\n",
            "12it [00:00, 690.83it/s]\n"
          ]
        },
        {
          "name": "stdout",
          "output_type": "stream",
          "text": [
            "Running validation\n",
            "Running training epoch\n"
          ]
        },
        {
          "name": "stderr",
          "output_type": "stream",
          "text": [
            "35it [00:00, 233.46it/s]\n",
            "12it [00:00, 667.53it/s]\n"
          ]
        },
        {
          "name": "stdout",
          "output_type": "stream",
          "text": [
            "Running validation\n",
            "Running training epoch\n"
          ]
        },
        {
          "name": "stderr",
          "output_type": "stream",
          "text": [
            "35it [00:00, 257.15it/s]\n",
            "12it [00:00, 681.19it/s]\n"
          ]
        },
        {
          "name": "stdout",
          "output_type": "stream",
          "text": [
            "Running validation\n",
            "Running training epoch\n"
          ]
        },
        {
          "name": "stderr",
          "output_type": "stream",
          "text": [
            "35it [00:00, 232.62it/s]\n",
            "12it [00:00, 538.02it/s]"
          ]
        },
        {
          "name": "stdout",
          "output_type": "stream",
          "text": [
            "Running validation\n"
          ]
        },
        {
          "name": "stderr",
          "output_type": "stream",
          "text": [
            "\n"
          ]
        },
        {
          "name": "stdout",
          "output_type": "stream",
          "text": [
            "Running training epoch\n"
          ]
        },
        {
          "name": "stderr",
          "output_type": "stream",
          "text": [
            "35it [00:00, 178.88it/s]\n",
            "12it [00:00, 668.81it/s]\n"
          ]
        },
        {
          "name": "stdout",
          "output_type": "stream",
          "text": [
            "Running validation\n",
            "Running training epoch\n"
          ]
        },
        {
          "name": "stderr",
          "output_type": "stream",
          "text": [
            "35it [00:00, 247.74it/s]\n",
            "12it [00:00, 489.57it/s]\n"
          ]
        },
        {
          "name": "stdout",
          "output_type": "stream",
          "text": [
            "Running validation\n",
            "Running training epoch\n"
          ]
        },
        {
          "name": "stderr",
          "output_type": "stream",
          "text": [
            "35it [00:00, 230.72it/s]\n",
            "12it [00:00, 610.78it/s]\n"
          ]
        },
        {
          "name": "stdout",
          "output_type": "stream",
          "text": [
            "Running validation\n",
            "Running training epoch\n"
          ]
        },
        {
          "name": "stderr",
          "output_type": "stream",
          "text": [
            "35it [00:00, 267.15it/s]\n",
            "12it [00:00, 595.56it/s]\n"
          ]
        },
        {
          "name": "stdout",
          "output_type": "stream",
          "text": [
            "Running validation\n",
            "Running training epoch\n"
          ]
        },
        {
          "name": "stderr",
          "output_type": "stream",
          "text": [
            "35it [00:00, 243.47it/s]\n",
            "12it [00:00, 493.14it/s]\n"
          ]
        },
        {
          "name": "stdout",
          "output_type": "stream",
          "text": [
            "Running validation\n",
            "Running training epoch\n"
          ]
        },
        {
          "name": "stderr",
          "output_type": "stream",
          "text": [
            "35it [00:00, 252.03it/s]\n",
            "12it [00:00, 512.85it/s]\n"
          ]
        },
        {
          "name": "stdout",
          "output_type": "stream",
          "text": [
            "Running validation\n",
            "Running training epoch\n"
          ]
        },
        {
          "name": "stderr",
          "output_type": "stream",
          "text": [
            "35it [00:00, 273.42it/s]\n",
            "12it [00:00, 733.14it/s]\n"
          ]
        },
        {
          "name": "stdout",
          "output_type": "stream",
          "text": [
            "Running validation\n"
          ]
        },
        {
          "data": {
            "application/vnd.jupyter.widget-view+json": {
              "model_id": "a470af9e82d94e2293afd87c946b0951",
              "version_major": 2,
              "version_minor": 0
            },
            "text/plain": [
              "VBox(children=(Label(value='5.930 MB of 5.930 MB uploaded\\r'), FloatProgress(value=1.0, max=1.0)))"
            ]
          },
          "metadata": {},
          "output_type": "display_data"
        },
        {
          "data": {
            "text/html": [
              "<style>\n",
              "    table.wandb td:nth-child(1) { padding: 0 10px; text-align: left ; width: auto;} td:nth-child(2) {text-align: left ; width: 100%}\n",
              "    .wandb-row { display: flex; flex-direction: row; flex-wrap: wrap; justify-content: flex-start; width: 100% }\n",
              "    .wandb-col { display: flex; flex-direction: column; flex-basis: 100%; flex: 1; padding: 10px; }\n",
              "    </style>\n",
              "<div class=\"wandb-row\"><div class=\"wandb-col\"><h3>Run history:</h3><br/><table class=\"wandb\"><tr><td>train_loss</td><td>█▁▁▁▁▁▁▁▁▁▁▁▁▁▁▁▁▁▁▁▁▁▁▁▁▁▁▁▁▁▁▁▁▁▁▁▁▁▁▁</td></tr><tr><td>val_loss</td><td>█▂▁▁▁▁▁▁▁▁▁▁▁▁▁▁▁▁▂▁▁▁▁▁▁▁▁▁▁▁▁▁▁▁▁▁▂▁▁▂</td></tr></table><br/></div><div class=\"wandb-col\"><h3>Run summary:</h3><br/><table class=\"wandb\"><tr><td>train_loss</td><td>9.72715</td></tr><tr><td>val_loss</td><td>14.9637</td></tr></table><br/></div></div>"
            ],
            "text/plain": [
              "<IPython.core.display.HTML object>"
            ]
          },
          "metadata": {},
          "output_type": "display_data"
        },
        {
          "data": {
            "text/html": [
              " View run <strong style=\"color:#cdcd00\">vanillaRNN</strong> at: <a href='https://wandb.ai/cell-x/coursework_1/runs/13eb2bwe' target=\"_blank\">https://wandb.ai/cell-x/coursework_1/runs/13eb2bwe</a><br/>Synced 5 W&B file(s), 0 media file(s), 0 artifact file(s) and 100 other file(s)"
            ],
            "text/plain": [
              "<IPython.core.display.HTML object>"
            ]
          },
          "metadata": {},
          "output_type": "display_data"
        },
        {
          "data": {
            "text/html": [
              "Find logs at: <code>./wandb/run-20231110_142104-13eb2bwe/logs</code>"
            ],
            "text/plain": [
              "<IPython.core.display.HTML object>"
            ]
          },
          "metadata": {},
          "output_type": "display_data"
        }
      ],
      "source": [
        "wandb_config={\n",
        "    \"lr\": lr,\n",
        "    \"lookback\": lookback,\n",
        "    \"hidden_dim\": hidden_dim,\n",
        "    \"num_layers\": num_layers,\n",
        "    \"nonlinearity\": nonlinearity,\n",
        "    \"fc_output_size\": fc_output_size\n",
        "}\n",
        "\n",
        "model = VanillaRNN(\n",
        "    input_dim=input_dim,  hidden_dim=wandb_config[\"hidden_dim\"],\n",
        "    num_layers=wandb_config[\"num_layers\"], fc_output_size=wandb_config[\"fc_output_size\"],\n",
        "    nonlinearity=wandb_config[\"nonlinearity\"]\n",
        ")\n",
        "\n",
        "first_batch = next(train_loader.__iter__())\n",
        "with torch.no_grad():\n",
        "    print(first_batch[0].shape)\n",
        "    print(model(first_batch[1]).shape)\n",
        "\n",
        "optimizer=torch.optim.Adam(model.parameters(), lr=wandb_config[\"lr\"])\n",
        "epoch_train_loss, epoch_val_loss = train(\n",
        "    model=model, train_data_loader=train_loader, val_data_loader=val_loader, gpu = gpu,\n",
        "    optimizer=optimizer, criterion=ovrl_criterion, epochs=epochs,\n",
        "    wandb_proj=WANDB_PROJ, wandb_name=\"vanillaRNN\", wandb_config=wandb_config, debug=False\n",
        ")"
      ]
    },
    {
      "cell_type": "code",
      "execution_count": 25,
      "metadata": {
        "id": "Yv_AHCUXm1yJ"
      },
      "outputs": [],
      "source": [
        "# save for plotting later\n",
        "vrnn_train_loss, vrnn_val_loss = epoch_train_loss, epoch_val_loss"
      ]
    },
    {
      "cell_type": "code",
      "execution_count": 30,
      "metadata": {
        "colab": {
          "base_uri": "https://localhost:8080/",
          "height": 492
        },
        "id": "04mh_YwZnINt",
        "outputId": "0adf792d-10e2-41ad-b475-dfae73f61813"
      },
      "outputs": [
        {
          "data": {
            "image/png": "[encoded data removed]",
            "text/plain": [
              "<Figure size 640x480 with 1 Axes>"
            ]
          },
          "metadata": {},
          "output_type": "display_data"
        }
      ],
      "source": [
        "### Visualizations\n",
        "epochs_xaxis = [i for i in range(epochs)]\n",
        "\n",
        "fig, ax = plt.subplots()\n",
        "# ax2 = ax.twinx()\n",
        "ax.plot(epochs_xaxis, vrnn_train_loss, color = 'r', linestyle = '-', label = \"Vanilla RNN train loss\")\n",
        "ax.plot(epochs_xaxis, vrnn_val_loss, color = 'r', linestyle = '-.', label = \"Vanilla RNN validation loss\")\n",
        "\n",
        "ax.plot(epochs_xaxis, baseline_train_loss, color = 'b', linestyle = '-', label = \"Baseline train loss\")\n",
        "ax.plot(epochs_xaxis, baseline_val_loss, color = 'b', linestyle = '-.', label = \"Baseline validation loss\")\n",
        "\n",
        "ax.set_xlabel('Epoch number')\n",
        "ax.set_ylabel('MSE Loss')\n",
        "fig.suptitle(\"Baseline vs. Vanilla RNN training and validation losses\")\n",
        "fig.tight_layout()\n",
        "fig.legend(bbox_to_anchor=(1, 1), loc=\"upper right\", bbox_transform=ax.transAxes)\n",
        "plt.show()\n",
        "# fig.savefig(\"train-val-losses.png\", format=\"png\")"
      ]
    },
    {
      "cell_type": "code",
      "execution_count": 35,
      "metadata": {
        "colab": {
          "base_uri": "https://localhost:8080/",
          "height": 492
        },
        "id": "goM4f0jonR1P",
        "outputId": "28b2198e-01be-4d93-e786-9f1bf04c5ea0"
      },
      "outputs": [
        {
          "data": {
            "image/png": "[encoded data removed]",
            "text/plain": [
              "<Figure size 640x480 with 1 Axes>"
            ]
          },
          "metadata": {},
          "output_type": "display_data"
        }
      ],
      "source": [
        "### Close-up Visualizations\n",
        "plt.plot(epochs_xaxis, vrnn_train_loss, color = 'r', linestyle = '-', label = \"Vanilla RNN train loss\")\n",
        "plt.plot(epochs_xaxis, vrnn_val_loss, color = 'k', linestyle = '-.', label = \"Vanilla RNN validation loss\")\n",
        "plt.xlabel('Epoch number')\n",
        "plt.ylabel('MSE Loss')\n",
        "plt.suptitle(\"Close-up of Vanilla RNN training and validation losses\")\n",
        "plt.tight_layout()\n",
        "plt.legend()\n",
        "plt.show()\n",
        "# plt.savefig(\"vanilla-rnn-close-up.png\", format=\"png\")"
      ]
    },
    {
      "cell_type": "code",
      "execution_count": 32,
      "metadata": {
        "colab": {
          "base_uri": "https://localhost:8080/",
          "height": 0
        },
        "id": "Y5q_i4hfneKH",
        "outputId": "a093de30-6f38-4628-99c2-1882302031ab"
      },
      "outputs": [
        {
          "name": "stdout",
          "output_type": "stream",
          "text": [
            "Baseline: \n",
            "train loss: 55.9410275050572 \n",
            "val. loss: 77.3403205871582 \n",
            "Vanilla RNN: \n",
            "train loss: 9.727148859841483 \n",
            "val. loss: 14.963695685068766  \n"
          ]
        }
      ],
      "source": [
        "print(\"Baseline: \\ntrain loss: {} \\nval. loss: {} \\nVanilla RNN: \\ntrain loss: {} \\nval. loss: {}  \".format(baseline_train_loss[-1],\n",
        "                baseline_val_loss[-1],\n",
        "                vrnn_train_loss[-1],\n",
        "                vrnn_val_loss[-1]))\n"
      ]
    },
    {
      "cell_type": "code",
      "execution_count": 34,
      "metadata": {
        "colab": {
          "base_uri": "https://localhost:8080/",
          "height": 0
        },
        "id": "hLYfKWfbnfse",
        "outputId": "34b5bb94-b8d0-4fad-b8c1-50682c883d8c"
      },
      "outputs": [
        {
          "name": "stdout",
          "output_type": "stream",
          "text": [
            "the best epoch for baseline is 91 and for vanilla rnn is 9\n",
            "76.22 - 7.29 = 68.93\n"
          ]
        }
      ],
      "source": [
        "### find epoch when validation loss is the lowest\n",
        "# for baseline\n",
        "best_baseline_epoch = baseline_val_loss.index(min(baseline_val_loss))\n",
        "\n",
        "# for vanilla RNN\n",
        "best_vrnn_epoch = vrnn_val_loss.index(min(vrnn_val_loss))\n",
        "\n",
        "print(\"the best epoch for baseline is {} and for vanilla rnn is {}\".format(best_baseline_epoch, best_vrnn_epoch))\n",
        "\n",
        "### Find difference in performance\n",
        "\n",
        "diff = min(baseline_val_loss) - min(vrnn_val_loss)\n",
        "print(\"{:.2f} - {:.2f} = {:.2f}\".format(min(baseline_val_loss),  min(vrnn_val_loss), diff))"
      ]
    },
    {
      "cell_type": "markdown",
      "metadata": {
        "id": "VXWIS0yNi0P1"
      },
      "source": [
        "__Exercise 3.2:__ (4 marks)\n",
        "* Using relevant visualisations and/or statistical tests, discuss the relative performance of the Baseline model and VanillaRNN model. Conclude whether an RNN architecture should be used for this modelling task (based __only__ on the previously mentioned visualisations or statistical tests). __No marks__ will be awarded for justifications based on the sequential nature of the data.\n",
        "* Choose an appropriate epoch for each model and report the difference in performance on the validation set. Justify why you chose the epochs you did for each model.\n",
        "\n",
        "__WRITTEN ANSWER VanillaRNN performance vs baseline__: From the training and validation losses, it is clear that the (vanilla) RNN architecture should be used to model the mean temperature given prior features. Evidently, as shown in the plot, both its training and validation MSE loss decrease exponentially until plateauing at around 10, and this is faster than the baseline. The loss achieved by the baseline model is too high, converging at around 75 for validation (values may vary due to stochasticity). The RNN's validation loss is slightly greater than training loss\n",
        "\n",
        "\n",
        "__WRITTEN ANSWER best epoch and difference in performance__: The lowest validation loss for the vanilla RNN was around epoch 10, a point which I could have early-stopped. Similarly, an epoch between 80-90 corresponds to the lowest validation loss for the baseline. The difference in validation performance is  $75 - 7 = 68$ (values may differ due to stochasticity)\n"
      ]
    },
    {
      "cell_type": "markdown",
      "metadata": {
        "id": "ejem7dFHi0P2"
      },
      "source": [
        "## Task4: RNN experimentation\n",
        "\n",
        "It is hypothesised that the VanillaRNN model can be improved.\n",
        "\n",
        "__Exercise 4.1__: (4 marks)\n",
        "\n",
        "Devise an experiment to develop another RNN model making a _single_ change to the VanillaRNN model. This change may include (but is not limited to):\n",
        "* Swapping the linear head to a non-linear MLP;\n",
        "* Altering hyperparameters such as the learning rate;\n",
        "* Increasing the depth of the RNN unit etc.\n",
        "\n",
        "The ```ExtendedRNN``` class below is used later in the code however, you may choose to use it for implementing your experiment here as it allows MLP heads to be easily implemented.\n",
        "\n",
        "Complete the markdown block below. You experiment hypothesis must:\n",
        "* Reference clearly the change you will make;\n",
        "* Reference relavent evidence from the previous model runs as to why you believe implementing this change will _improve_ the performance of the ```VanillaRNN``` model."
      ]
    },
    {
      "cell_type": "markdown",
      "metadata": {
        "id": "v5LYAa-gi0P4"
      },
      "source": [
        "__WRITTEN ANSWER experiment hypothesis__:\n",
        "* __Change to be made:__ I will alter the lookback hyperparameter that the Vanilla RNN sees to make a prediction. I will experiment with lookbacks in [3, 5, 7, 9]. I will keep everything else the same.\n",
        "* __Justification:__ the VanillaRNN already achieves a low loss by just looking back at 2 timesteps. I hypothesize that with a wider lookback window there is more contextual information to make an informed prediction of the next temperature in 5 days. Intuitively, the more about the past I know, the more accurate the prediction of the future."
      ]
    },
    {
      "cell_type": "code",
      "execution_count": 56,
      "metadata": {
        "id": "QDEjSA5yi0P5"
      },
      "outputs": [],
      "source": [
        "class ExtendedRNN(nn.Module):\n",
        "\n",
        "    def __init__(\n",
        "        self, input_dim:int,  rnn_hidden_dim:int, rnn_num_layers:int,\n",
        "        fc_head_layers:List[int], nonlinearity:str\n",
        "    ) -> None:\n",
        "        torch.manual_seed(MODEL_SEED)\n",
        "        super().__init__()\n",
        "        self._num_layers = num_layers\n",
        "        self._hidden_dim = hidden_dim\n",
        "        self.rnn = nn.RNN(\n",
        "            input_size=input_dim,  hidden_size=hidden_dim,\n",
        "            num_layers=num_layers, nonlinearity=nonlinearity,\n",
        "            batch_first=True\n",
        "        )\n",
        "        if nonlinearity == \"relu\":\n",
        "            self.fc_non_linear = nn.ReLU()\n",
        "        else:\n",
        "            self.fc_non_linear = nn.Tanh()\n",
        "        self.fc = nn.ModuleList()\n",
        "        fc_head_layers = [hidden_dim, *fc_head_layers]\n",
        "        for i in range(len(fc_head_layers)-1):\n",
        "            self.fc.append(nn.Linear(in_features=fc_head_layers[i], out_features=fc_head_layers[i+1]))\n",
        "            if i != len(fc_head_layers)-1:\n",
        "                self.fc.append(self.fc_non_linear)\n",
        "\n",
        "    def forward(self, x):\n",
        "        batch_size = x.size(0)\n",
        "        hidden = self.init_hidden(batch_size)\n",
        "        out = self.rnn(x, hidden)\n",
        "        out = out[1].squeeze()\n",
        "        for layer in self.fc:\n",
        "            out = layer(out)\n",
        "        if not self.training:\n",
        "            out = out[:,0][:, None]\n",
        "        return out\n",
        "\n",
        "\n",
        "    def init_hidden(self, batch_size):\n",
        "        hidden = torch.zeros(self._num_layers, batch_size, self._hidden_dim)\n",
        "        return hidden\n"
      ]
    },
    {
      "cell_type": "markdown",
      "metadata": {
        "id": "uj26bue6i0P5"
      },
      "source": [
        "__Exercise 4.2__: (3 marks)\n",
        "* Implement your proposed experiment in the code block below.\n",
        "\n",
        "_Hint_:\n",
        "* It is __strongly__ suggested that all elements of the experiment be redefined within the __single__ codeblock below, including (but not limited to): input dimensions, target variable, input datasets and dataloaders. Since object names are reused throughout this jupyter notebook, defining all objects (not classes or functions) within the same codeblock will ensure that object names describe the objects you expect!"
      ]
    },
    {
      "cell_type": "code",
      "execution_count": 40,
      "metadata": {
        "id": "PvIAGlk3pbdU"
      },
      "outputs": [],
      "source": [
        "# lr"
      ]
    },
    {
      "cell_type": "code",
      "execution_count": 41,
      "metadata": {
        "colab": {
          "base_uri": "https://localhost:8080/",
          "height": 29622,
          "referenced_widgets": [
            "2ccf819306ac4dc8ac03c7d3501377ab",
            "6e860cd4305a493281c975bc70a5e377",
            "453a0cdba7e34c848a4305753a939b9e",
            "df233b6129c14fb59f672ca9f4006a2f",
            "cb0021c045af4c888eb9f089d13de1b8",
            "7270ff917d9f479497abb803a84536a5",
            "571d78a50d9348f9ad35af87a9dd051b",
            "5c773c814a654f22af28b799ea8ff160",
            "aef939a7a14646448de579466701413f",
            "3912658b04d74d6aa231dd85d6ef1da9",
            "e997ca04511042029bb14fae1826f2a1",
            "4f679bca9e1b4bafb937eddc9336c15b",
            "0eec555a6db344629469108cb70bfad5",
            "5450bd3b0b874deca0c5c173195a1dde",
            "8753754f57db4b15814ceb0f56058e8c",
            "aaf0a9a8fb56434b980a90e29a2a7082",
            "1633ca92b90e4516b3a89f4080b4c0c1",
            "063a6cfe2b564cbf90a139498a0dff11",
            "c8b6c9e3ec484ce2b927a545adf8c0ef",
            "3f0914e3c6454e699b5b40eef7e4b1a6",
            "5e231eb541c24edc90046059e55e91d1",
            "fa1dc9ec19bc4c4ab3e2389d9b263a7c",
            "87f94f2746644be5a37c5aad9c85eb8e",
            "2a7fd892fa234c64bfd7900b16792d2f",
            "b7cd321751274d29a9e86c0f8dbcba46",
            "56e1fc7083b14aaf8191a3cfcb3def47",
            "f0f39c1974204b3d9a4180f9ce792b5b",
            "c5e23bca23e8405ba871b009e9bce394",
            "a921f7d8e50b4a19990382bfe34549c0",
            "299daa52324a44c88d7e4382973a77ab",
            "73139bca35944ffbb145bd04df45c24f",
            "5e3c1423f8fe495bb0cc448d73bb9bf6"
          ]
        },
        "id": "v0xYMdABi0P6",
        "outputId": "8d82e70b-1b35-440d-9585-06edecb63643"
      },
      "outputs": [
        {
          "name": "stdout",
          "output_type": "stream",
          "text": [
            "torch.Size([32, 1])\n",
            "torch.Size([32, 1])\n"
          ]
        },
        {
          "data": {
            "text/html": [
              "Tracking run with wandb version 0.16.0"
            ],
            "text/plain": [
              "<IPython.core.display.HTML object>"
            ]
          },
          "metadata": {},
          "output_type": "display_data"
        },
        {
          "data": {
            "text/html": [
              "Run data is saved locally in <code>/content/wandb/run-20231110_143504-1agqa7fa</code>"
            ],
            "text/plain": [
              "<IPython.core.display.HTML object>"
            ]
          },
          "metadata": {},
          "output_type": "display_data"
        },
        {
          "data": {
            "text/html": [
              "Syncing run <strong><a href='https://wandb.ai/cell-x/coursework_1/runs/1agqa7fa' target=\"_blank\">Collab VanillaRNN 3 lookback </a></strong> to <a href='https://wandb.ai/cell-x/coursework_1' target=\"_blank\">Weights & Biases</a> (<a href='https://wandb.me/run' target=\"_blank\">docs</a>)<br/>"
            ],
            "text/plain": [
              "<IPython.core.display.HTML object>"
            ]
          },
          "metadata": {},
          "output_type": "display_data"
        },
        {
          "data": {
            "text/html": [
              " View project at <a href='https://wandb.ai/cell-x/coursework_1' target=\"_blank\">https://wandb.ai/cell-x/coursework_1</a>"
            ],
            "text/plain": [
              "<IPython.core.display.HTML object>"
            ]
          },
          "metadata": {},
          "output_type": "display_data"
        },
        {
          "data": {
            "text/html": [
              " View run at <a href='https://wandb.ai/cell-x/coursework_1/runs/1agqa7fa' target=\"_blank\">https://wandb.ai/cell-x/coursework_1/runs/1agqa7fa</a>"
            ],
            "text/plain": [
              "<IPython.core.display.HTML object>"
            ]
          },
          "metadata": {},
          "output_type": "display_data"
        },
        {
          "name": "stdout",
          "output_type": "stream",
          "text": [
            "Running training epoch\n"
          ]
        },
        {
          "name": "stderr",
          "output_type": "stream",
          "text": [
            "35it [00:00, 258.68it/s]\n",
            "12it [00:00, 853.87it/s]\n"
          ]
        },
        {
          "name": "stdout",
          "output_type": "stream",
          "text": [
            "Running validation\n",
            "Running training epoch\n"
          ]
        },
        {
          "name": "stderr",
          "output_type": "stream",
          "text": [
            "35it [00:00, 256.20it/s]\n",
            "12it [00:00, 671.33it/s]\n"
          ]
        },
        {
          "name": "stdout",
          "output_type": "stream",
          "text": [
            "Running validation\n",
            "Running training epoch\n"
          ]
        },
        {
          "name": "stderr",
          "output_type": "stream",
          "text": [
            "35it [00:00, 333.08it/s]\n",
            "12it [00:00, 881.20it/s]\n"
          ]
        },
        {
          "name": "stdout",
          "output_type": "stream",
          "text": [
            "Running validation\n",
            "Running training epoch\n"
          ]
        },
        {
          "name": "stderr",
          "output_type": "stream",
          "text": [
            "35it [00:00, 220.45it/s]\n",
            "12it [00:00, 589.30it/s]\n"
          ]
        },
        {
          "name": "stdout",
          "output_type": "stream",
          "text": [
            "Running validation\n",
            "Running training epoch\n"
          ]
        },
        {
          "name": "stderr",
          "output_type": "stream",
          "text": [
            "35it [00:00, 258.98it/s]\n",
            "12it [00:00, 712.49it/s]\n"
          ]
        },
        {
          "name": "stdout",
          "output_type": "stream",
          "text": [
            "Running validation\n",
            "Running training epoch\n"
          ]
        },
        {
          "name": "stderr",
          "output_type": "stream",
          "text": [
            "35it [00:00, 258.17it/s]\n",
            "12it [00:00, 514.43it/s]\n"
          ]
        },
        {
          "name": "stdout",
          "output_type": "stream",
          "text": [
            "Running validation\n",
            "Running training epoch\n"
          ]
        },
        {
          "name": "stderr",
          "output_type": "stream",
          "text": [
            "35it [00:00, 266.09it/s]\n",
            "12it [00:00, 538.42it/s]\n"
          ]
        },
        {
          "name": "stdout",
          "output_type": "stream",
          "text": [
            "Running validation\n",
            "Running training epoch\n"
          ]
        },
        {
          "name": "stderr",
          "output_type": "stream",
          "text": [
            "35it [00:00, 413.21it/s]\n",
            "12it [00:00, 842.70it/s]\n"
          ]
        },
        {
          "name": "stdout",
          "output_type": "stream",
          "text": [
            "Running validation\n",
            "Running training epoch\n"
          ]
        },
        {
          "name": "stderr",
          "output_type": "stream",
          "text": [
            "35it [00:00, 309.34it/s]\n",
            "12it [00:00, 812.98it/s]\n"
          ]
        },
        {
          "name": "stdout",
          "output_type": "stream",
          "text": [
            "Running validation\n",
            "Running training epoch\n"
          ]
        },
        {
          "name": "stderr",
          "output_type": "stream",
          "text": [
            "35it [00:00, 413.21it/s]\n",
            "12it [00:00, 883.63it/s]\n"
          ]
        },
        {
          "name": "stdout",
          "output_type": "stream",
          "text": [
            "Running validation\n",
            "Running training epoch\n"
          ]
        },
        {
          "name": "stderr",
          "output_type": "stream",
          "text": [
            "35it [00:00, 384.51it/s]\n",
            "12it [00:00, 856.50it/s]\n"
          ]
        },
        {
          "name": "stdout",
          "output_type": "stream",
          "text": [
            "Running validation\n",
            "Running training epoch\n"
          ]
        },
        {
          "name": "stderr",
          "output_type": "stream",
          "text": [
            "35it [00:00, 251.71it/s]\n",
            "12it [00:00, 690.32it/s]\n"
          ]
        },
        {
          "name": "stdout",
          "output_type": "stream",
          "text": [
            "Running validation\n",
            "Running training epoch\n"
          ]
        },
        {
          "name": "stderr",
          "output_type": "stream",
          "text": [
            "35it [00:00, 297.00it/s]\n",
            "12it [00:00, 841.03it/s]\n"
          ]
        },
        {
          "name": "stdout",
          "output_type": "stream",
          "text": [
            "Running validation\n",
            "Running training epoch\n"
          ]
        },
        {
          "name": "stderr",
          "output_type": "stream",
          "text": [
            "35it [00:00, 399.41it/s]\n",
            "12it [00:00, 966.02it/s]\n"
          ]
        },
        {
          "name": "stdout",
          "output_type": "stream",
          "text": [
            "Running validation\n",
            "Running training epoch\n"
          ]
        },
        {
          "name": "stderr",
          "output_type": "stream",
          "text": [
            "35it [00:00, 346.93it/s]\n",
            "12it [00:00, 846.79it/s]\n"
          ]
        },
        {
          "name": "stdout",
          "output_type": "stream",
          "text": [
            "Running validation\n",
            "Running training epoch\n"
          ]
        },
        {
          "name": "stderr",
          "output_type": "stream",
          "text": [
            "35it [00:00, 355.21it/s]\n",
            "12it [00:00, 660.62it/s]\n"
          ]
        },
        {
          "name": "stdout",
          "output_type": "stream",
          "text": [
            "Running validation\n",
            "Running training epoch\n"
          ]
        },
        {
          "name": "stderr",
          "output_type": "stream",
          "text": [
            "35it [00:00, 374.06it/s]\n",
            "12it [00:00, 827.65it/s]\n"
          ]
        },
        {
          "name": "stdout",
          "output_type": "stream",
          "text": [
            "Running validation\n",
            "Running training epoch\n"
          ]
        },
        {
          "name": "stderr",
          "output_type": "stream",
          "text": [
            "35it [00:00, 386.65it/s]\n",
            "12it [00:00, 761.92it/s]\n"
          ]
        },
        {
          "name": "stdout",
          "output_type": "stream",
          "text": [
            "Running validation\n",
            "Running training epoch\n"
          ]
        },
        {
          "name": "stderr",
          "output_type": "stream",
          "text": [
            "35it [00:00, 406.38it/s]\n",
            "12it [00:00, 842.77it/s]\n"
          ]
        },
        {
          "name": "stdout",
          "output_type": "stream",
          "text": [
            "Running validation\n",
            "Running training epoch\n"
          ]
        },
        {
          "name": "stderr",
          "output_type": "stream",
          "text": [
            "35it [00:00, 395.73it/s]\n",
            "12it [00:00, 876.86it/s]\n"
          ]
        },
        {
          "name": "stdout",
          "output_type": "stream",
          "text": [
            "Running validation\n",
            "Running training epoch\n"
          ]
        },
        {
          "name": "stderr",
          "output_type": "stream",
          "text": [
            "35it [00:00, 373.52it/s]\n",
            "12it [00:00, 784.31it/s]\n"
          ]
        },
        {
          "name": "stdout",
          "output_type": "stream",
          "text": [
            "Running validation\n",
            "Running training epoch\n"
          ]
        },
        {
          "name": "stderr",
          "output_type": "stream",
          "text": [
            "35it [00:00, 366.71it/s]\n",
            "12it [00:00, 906.60it/s]\n"
          ]
        },
        {
          "name": "stdout",
          "output_type": "stream",
          "text": [
            "Running validation\n",
            "Running training epoch\n"
          ]
        },
        {
          "name": "stderr",
          "output_type": "stream",
          "text": [
            "35it [00:00, 373.72it/s]\n",
            "12it [00:00, 763.91it/s]\n"
          ]
        },
        {
          "name": "stdout",
          "output_type": "stream",
          "text": [
            "Running validation\n",
            "Running training epoch\n"
          ]
        },
        {
          "name": "stderr",
          "output_type": "stream",
          "text": [
            "35it [00:00, 367.05it/s]\n",
            "12it [00:00, 813.95it/s]\n"
          ]
        },
        {
          "name": "stdout",
          "output_type": "stream",
          "text": [
            "Running validation\n",
            "Running training epoch\n"
          ]
        },
        {
          "name": "stderr",
          "output_type": "stream",
          "text": [
            "35it [00:00, 319.50it/s]\n",
            "12it [00:00, 914.12it/s]\n"
          ]
        },
        {
          "name": "stdout",
          "output_type": "stream",
          "text": [
            "Running validation\n",
            "Running training epoch\n"
          ]
        },
        {
          "name": "stderr",
          "output_type": "stream",
          "text": [
            "35it [00:00, 366.63it/s]\n",
            "12it [00:00, 896.71it/s]\n"
          ]
        },
        {
          "name": "stdout",
          "output_type": "stream",
          "text": [
            "Running validation\n",
            "Running training epoch\n"
          ]
        },
        {
          "name": "stderr",
          "output_type": "stream",
          "text": [
            "35it [00:00, 375.72it/s]\n",
            "12it [00:00, 717.27it/s]\n"
          ]
        },
        {
          "name": "stdout",
          "output_type": "stream",
          "text": [
            "Running validation\n",
            "Running training epoch\n"
          ]
        },
        {
          "name": "stderr",
          "output_type": "stream",
          "text": [
            "35it [00:00, 368.50it/s]\n",
            "12it [00:00, 823.87it/s]\n"
          ]
        },
        {
          "name": "stdout",
          "output_type": "stream",
          "text": [
            "Running validation\n",
            "Running training epoch\n"
          ]
        },
        {
          "name": "stderr",
          "output_type": "stream",
          "text": [
            "35it [00:00, 350.75it/s]\n",
            "12it [00:00, 752.44it/s]\n"
          ]
        },
        {
          "name": "stdout",
          "output_type": "stream",
          "text": [
            "Running validation\n",
            "Running training epoch\n"
          ]
        },
        {
          "name": "stderr",
          "output_type": "stream",
          "text": [
            "35it [00:00, 362.00it/s]\n",
            "12it [00:00, 827.82it/s]\n"
          ]
        },
        {
          "name": "stdout",
          "output_type": "stream",
          "text": [
            "Running validation\n",
            "Running training epoch\n"
          ]
        },
        {
          "name": "stderr",
          "output_type": "stream",
          "text": [
            "35it [00:00, 215.18it/s]\n",
            "12it [00:00, 701.27it/s]\n"
          ]
        },
        {
          "name": "stdout",
          "output_type": "stream",
          "text": [
            "Running validation\n",
            "Running training epoch\n"
          ]
        },
        {
          "name": "stderr",
          "output_type": "stream",
          "text": [
            "35it [00:00, 254.53it/s]\n",
            "12it [00:00, 470.28it/s]\n"
          ]
        },
        {
          "name": "stdout",
          "output_type": "stream",
          "text": [
            "Running validation\n",
            "Running training epoch\n"
          ]
        },
        {
          "name": "stderr",
          "output_type": "stream",
          "text": [
            "35it [00:00, 192.36it/s]\n",
            "12it [00:00, 476.43it/s]\n"
          ]
        },
        {
          "name": "stdout",
          "output_type": "stream",
          "text": [
            "Running validation\n",
            "Running training epoch\n"
          ]
        },
        {
          "name": "stderr",
          "output_type": "stream",
          "text": [
            "35it [00:00, 220.67it/s]\n",
            "12it [00:00, 584.90it/s]\n"
          ]
        },
        {
          "name": "stdout",
          "output_type": "stream",
          "text": [
            "Running validation\n",
            "Running training epoch\n"
          ]
        },
        {
          "name": "stderr",
          "output_type": "stream",
          "text": [
            "35it [00:00, 233.58it/s]\n",
            "12it [00:00, 421.13it/s]\n"
          ]
        },
        {
          "name": "stdout",
          "output_type": "stream",
          "text": [
            "Running validation\n",
            "Running training epoch\n"
          ]
        },
        {
          "name": "stderr",
          "output_type": "stream",
          "text": [
            "35it [00:00, 240.98it/s]\n",
            "12it [00:00, 679.51it/s]\n"
          ]
        },
        {
          "name": "stdout",
          "output_type": "stream",
          "text": [
            "Running validation\n",
            "Running training epoch\n"
          ]
        },
        {
          "name": "stderr",
          "output_type": "stream",
          "text": [
            "35it [00:00, 215.95it/s]\n",
            "12it [00:00, 665.22it/s]\n"
          ]
        },
        {
          "name": "stdout",
          "output_type": "stream",
          "text": [
            "Running validation\n",
            "Running training epoch\n"
          ]
        },
        {
          "name": "stderr",
          "output_type": "stream",
          "text": [
            "35it [00:00, 247.79it/s]\n",
            "12it [00:00, 575.65it/s]\n"
          ]
        },
        {
          "name": "stdout",
          "output_type": "stream",
          "text": [
            "Running validation\n",
            "Running training epoch\n"
          ]
        },
        {
          "name": "stderr",
          "output_type": "stream",
          "text": [
            "35it [00:00, 236.57it/s]\n",
            "12it [00:00, 682.69it/s]\n"
          ]
        },
        {
          "name": "stdout",
          "output_type": "stream",
          "text": [
            "Running validation\n",
            "Running training epoch\n"
          ]
        },
        {
          "name": "stderr",
          "output_type": "stream",
          "text": [
            "35it [00:00, 213.83it/s]\n",
            "12it [00:00, 486.61it/s]\n"
          ]
        },
        {
          "name": "stdout",
          "output_type": "stream",
          "text": [
            "Running validation\n",
            "Running training epoch\n"
          ]
        },
        {
          "name": "stderr",
          "output_type": "stream",
          "text": [
            "35it [00:00, 229.86it/s]\n",
            "12it [00:00, 583.17it/s]\n"
          ]
        },
        {
          "name": "stdout",
          "output_type": "stream",
          "text": [
            "Running validation\n",
            "Running training epoch\n"
          ]
        },
        {
          "name": "stderr",
          "output_type": "stream",
          "text": [
            "35it [00:00, 257.40it/s]\n",
            "12it [00:00, 511.05it/s]\n"
          ]
        },
        {
          "name": "stdout",
          "output_type": "stream",
          "text": [
            "Running validation\n",
            "Running training epoch\n"
          ]
        },
        {
          "name": "stderr",
          "output_type": "stream",
          "text": [
            "35it [00:00, 243.41it/s]\n",
            "12it [00:00, 646.40it/s]\n"
          ]
        },
        {
          "name": "stdout",
          "output_type": "stream",
          "text": [
            "Running validation\n",
            "Running training epoch\n"
          ]
        },
        {
          "name": "stderr",
          "output_type": "stream",
          "text": [
            "35it [00:00, 260.28it/s]\n",
            "12it [00:00, 677.74it/s]\n"
          ]
        },
        {
          "name": "stdout",
          "output_type": "stream",
          "text": [
            "Running validation\n",
            "Running training epoch\n"
          ]
        },
        {
          "name": "stderr",
          "output_type": "stream",
          "text": [
            "35it [00:00, 252.91it/s]\n",
            "12it [00:00, 591.81it/s]\n"
          ]
        },
        {
          "name": "stdout",
          "output_type": "stream",
          "text": [
            "Running validation\n",
            "Running training epoch\n"
          ]
        },
        {
          "name": "stderr",
          "output_type": "stream",
          "text": [
            "35it [00:00, 236.59it/s]\n",
            "12it [00:00, 676.39it/s]\n"
          ]
        },
        {
          "name": "stdout",
          "output_type": "stream",
          "text": [
            "Running validation\n",
            "Running training epoch\n"
          ]
        },
        {
          "name": "stderr",
          "output_type": "stream",
          "text": [
            "35it [00:00, 251.33it/s]\n",
            "12it [00:00, 715.89it/s]\n"
          ]
        },
        {
          "name": "stdout",
          "output_type": "stream",
          "text": [
            "Running validation\n",
            "Running training epoch\n"
          ]
        },
        {
          "name": "stderr",
          "output_type": "stream",
          "text": [
            "35it [00:00, 259.88it/s]\n",
            "12it [00:00, 716.84it/s]\n"
          ]
        },
        {
          "name": "stdout",
          "output_type": "stream",
          "text": [
            "Running validation\n",
            "Running training epoch\n"
          ]
        },
        {
          "name": "stderr",
          "output_type": "stream",
          "text": [
            "35it [00:00, 248.85it/s]\n",
            "12it [00:00, 698.58it/s]\n"
          ]
        },
        {
          "name": "stdout",
          "output_type": "stream",
          "text": [
            "Running validation\n",
            "Running training epoch\n"
          ]
        },
        {
          "name": "stderr",
          "output_type": "stream",
          "text": [
            "35it [00:00, 272.58it/s]\n",
            "12it [00:00, 616.20it/s]\n"
          ]
        },
        {
          "name": "stdout",
          "output_type": "stream",
          "text": [
            "Running validation\n",
            "Running training epoch\n"
          ]
        },
        {
          "name": "stderr",
          "output_type": "stream",
          "text": [
            "35it [00:00, 250.46it/s]\n",
            "12it [00:00, 577.73it/s]"
          ]
        },
        {
          "name": "stdout",
          "output_type": "stream",
          "text": [
            "Running validation\n",
            "Running training epoch"
          ]
        },
        {
          "name": "stderr",
          "output_type": "stream",
          "text": [
            "\n"
          ]
        },
        {
          "name": "stdout",
          "output_type": "stream",
          "text": [
            "\n"
          ]
        },
        {
          "name": "stderr",
          "output_type": "stream",
          "text": [
            "35it [00:00, 247.01it/s]\n",
            "12it [00:00, 698.26it/s]\n"
          ]
        },
        {
          "name": "stdout",
          "output_type": "stream",
          "text": [
            "Running validation\n",
            "Running training epoch\n"
          ]
        },
        {
          "name": "stderr",
          "output_type": "stream",
          "text": [
            "35it [00:00, 247.52it/s]\n",
            "12it [00:00, 647.56it/s]\n"
          ]
        },
        {
          "name": "stdout",
          "output_type": "stream",
          "text": [
            "Running validation\n",
            "Running training epoch\n"
          ]
        },
        {
          "name": "stderr",
          "output_type": "stream",
          "text": [
            "35it [00:00, 257.47it/s]\n",
            "12it [00:00, 660.41it/s]\n"
          ]
        },
        {
          "name": "stdout",
          "output_type": "stream",
          "text": [
            "Running validation\n",
            "Running training epoch\n"
          ]
        },
        {
          "name": "stderr",
          "output_type": "stream",
          "text": [
            "35it [00:00, 253.30it/s]\n",
            "12it [00:00, 720.71it/s]\n"
          ]
        },
        {
          "name": "stdout",
          "output_type": "stream",
          "text": [
            "Running validation\n",
            "Running training epoch\n"
          ]
        },
        {
          "name": "stderr",
          "output_type": "stream",
          "text": [
            "35it [00:00, 251.99it/s]\n",
            "12it [00:00, 472.91it/s]"
          ]
        },
        {
          "name": "stdout",
          "output_type": "stream",
          "text": [
            "Running validation\n"
          ]
        },
        {
          "name": "stderr",
          "output_type": "stream",
          "text": [
            "\n"
          ]
        },
        {
          "name": "stdout",
          "output_type": "stream",
          "text": [
            "Running training epoch\n"
          ]
        },
        {
          "name": "stderr",
          "output_type": "stream",
          "text": [
            "35it [00:00, 233.72it/s]\n",
            "12it [00:00, 644.64it/s]\n"
          ]
        },
        {
          "name": "stdout",
          "output_type": "stream",
          "text": [
            "Running validation\n",
            "Running training epoch\n"
          ]
        },
        {
          "name": "stderr",
          "output_type": "stream",
          "text": [
            "35it [00:00, 206.70it/s]\n",
            "12it [00:00, 429.99it/s]\n"
          ]
        },
        {
          "name": "stdout",
          "output_type": "stream",
          "text": [
            "Running validation\n",
            "Running training epoch\n"
          ]
        },
        {
          "name": "stderr",
          "output_type": "stream",
          "text": [
            "35it [00:00, 218.11it/s]\n",
            "12it [00:00, 518.87it/s]\n"
          ]
        },
        {
          "name": "stdout",
          "output_type": "stream",
          "text": [
            "Running validation\n",
            "Running training epoch\n"
          ]
        },
        {
          "name": "stderr",
          "output_type": "stream",
          "text": [
            "35it [00:00, 204.21it/s]\n",
            "12it [00:00, 647.85it/s]\n"
          ]
        },
        {
          "name": "stdout",
          "output_type": "stream",
          "text": [
            "Running validation\n",
            "Running training epoch\n"
          ]
        },
        {
          "name": "stderr",
          "output_type": "stream",
          "text": [
            "35it [00:00, 225.10it/s]\n",
            "12it [00:00, 437.73it/s]\n"
          ]
        },
        {
          "name": "stdout",
          "output_type": "stream",
          "text": [
            "Running validation\n",
            "Running training epoch\n"
          ]
        },
        {
          "name": "stderr",
          "output_type": "stream",
          "text": [
            "35it [00:00, 204.47it/s]\n",
            "12it [00:00, 519.56it/s]\n"
          ]
        },
        {
          "name": "stdout",
          "output_type": "stream",
          "text": [
            "Running validation\n",
            "Running training epoch\n"
          ]
        },
        {
          "name": "stderr",
          "output_type": "stream",
          "text": [
            "35it [00:00, 345.95it/s]\n",
            "12it [00:00, 853.27it/s]\n"
          ]
        },
        {
          "name": "stdout",
          "output_type": "stream",
          "text": [
            "Running validation\n",
            "Running training epoch\n"
          ]
        },
        {
          "name": "stderr",
          "output_type": "stream",
          "text": [
            "35it [00:00, 357.58it/s]\n",
            "12it [00:00, 935.41it/s]\n"
          ]
        },
        {
          "name": "stdout",
          "output_type": "stream",
          "text": [
            "Running validation\n",
            "Running training epoch\n"
          ]
        },
        {
          "name": "stderr",
          "output_type": "stream",
          "text": [
            "35it [00:00, 355.52it/s]\n",
            "12it [00:00, 919.95it/s]\n"
          ]
        },
        {
          "name": "stdout",
          "output_type": "stream",
          "text": [
            "Running validation\n",
            "Running training epoch\n"
          ]
        },
        {
          "name": "stderr",
          "output_type": "stream",
          "text": [
            "35it [00:00, 334.65it/s]\n",
            "12it [00:00, 786.24it/s]\n"
          ]
        },
        {
          "name": "stdout",
          "output_type": "stream",
          "text": [
            "Running validation\n",
            "Running training epoch\n"
          ]
        },
        {
          "name": "stderr",
          "output_type": "stream",
          "text": [
            "35it [00:00, 360.32it/s]\n",
            "12it [00:00, 427.39it/s]\n"
          ]
        },
        {
          "name": "stdout",
          "output_type": "stream",
          "text": [
            "Running validation\n",
            "Running training epoch\n"
          ]
        },
        {
          "name": "stderr",
          "output_type": "stream",
          "text": [
            "35it [00:00, 375.52it/s]\n",
            "12it [00:00, 745.10it/s]\n"
          ]
        },
        {
          "name": "stdout",
          "output_type": "stream",
          "text": [
            "Running validation\n",
            "Running training epoch\n"
          ]
        },
        {
          "name": "stderr",
          "output_type": "stream",
          "text": [
            "35it [00:00, 385.73it/s]\n",
            "12it [00:00, 864.95it/s]\n"
          ]
        },
        {
          "name": "stdout",
          "output_type": "stream",
          "text": [
            "Running validation\n",
            "Running training epoch\n"
          ]
        },
        {
          "name": "stderr",
          "output_type": "stream",
          "text": [
            "35it [00:00, 369.15it/s]\n",
            "12it [00:00, 766.85it/s]\n"
          ]
        },
        {
          "name": "stdout",
          "output_type": "stream",
          "text": [
            "Running validation\n",
            "Running training epoch\n"
          ]
        },
        {
          "name": "stderr",
          "output_type": "stream",
          "text": [
            "35it [00:00, 290.87it/s]\n",
            "12it [00:00, 889.79it/s]\n"
          ]
        },
        {
          "name": "stdout",
          "output_type": "stream",
          "text": [
            "Running validation\n",
            "Running training epoch\n"
          ]
        },
        {
          "name": "stderr",
          "output_type": "stream",
          "text": [
            "35it [00:00, 309.95it/s]\n",
            "12it [00:00, 836.13it/s]\n"
          ]
        },
        {
          "name": "stdout",
          "output_type": "stream",
          "text": [
            "Running validation\n",
            "Running training epoch\n"
          ]
        },
        {
          "name": "stderr",
          "output_type": "stream",
          "text": [
            "35it [00:00, 359.08it/s]\n",
            "12it [00:00, 698.00it/s]\n"
          ]
        },
        {
          "name": "stdout",
          "output_type": "stream",
          "text": [
            "Running validation\n",
            "Running training epoch\n"
          ]
        },
        {
          "name": "stderr",
          "output_type": "stream",
          "text": [
            "35it [00:00, 356.57it/s]\n",
            "12it [00:00, 1042.71it/s]\n"
          ]
        },
        {
          "name": "stdout",
          "output_type": "stream",
          "text": [
            "Running validation\n",
            "Running training epoch\n"
          ]
        },
        {
          "name": "stderr",
          "output_type": "stream",
          "text": [
            "35it [00:00, 318.02it/s]\n",
            "12it [00:00, 940.48it/s]\n"
          ]
        },
        {
          "name": "stdout",
          "output_type": "stream",
          "text": [
            "Running validation\n",
            "Running training epoch\n"
          ]
        },
        {
          "name": "stderr",
          "output_type": "stream",
          "text": [
            "35it [00:00, 357.04it/s]\n",
            "12it [00:00, 700.70it/s]\n"
          ]
        },
        {
          "name": "stdout",
          "output_type": "stream",
          "text": [
            "Running validation\n",
            "Running training epoch\n"
          ]
        },
        {
          "name": "stderr",
          "output_type": "stream",
          "text": [
            "35it [00:00, 379.99it/s]\n",
            "12it [00:00, 714.11it/s]\n"
          ]
        },
        {
          "name": "stdout",
          "output_type": "stream",
          "text": [
            "Running validation\n",
            "Running training epoch\n"
          ]
        },
        {
          "name": "stderr",
          "output_type": "stream",
          "text": [
            "35it [00:00, 399.52it/s]\n",
            "12it [00:00, 786.89it/s]\n"
          ]
        },
        {
          "name": "stdout",
          "output_type": "stream",
          "text": [
            "Running validation\n",
            "Running training epoch\n"
          ]
        },
        {
          "name": "stderr",
          "output_type": "stream",
          "text": [
            "35it [00:00, 379.92it/s]\n",
            "12it [00:00, 771.98it/s]\n"
          ]
        },
        {
          "name": "stdout",
          "output_type": "stream",
          "text": [
            "Running validation\n",
            "Running training epoch\n"
          ]
        },
        {
          "name": "stderr",
          "output_type": "stream",
          "text": [
            "35it [00:00, 378.02it/s]\n",
            "12it [00:00, 822.55it/s]\n"
          ]
        },
        {
          "name": "stdout",
          "output_type": "stream",
          "text": [
            "Running validation\n",
            "Running training epoch\n"
          ]
        },
        {
          "name": "stderr",
          "output_type": "stream",
          "text": [
            "35it [00:00, 360.22it/s]\n",
            "12it [00:00, 791.99it/s]\n"
          ]
        },
        {
          "name": "stdout",
          "output_type": "stream",
          "text": [
            "Running validation\n",
            "Running training epoch\n"
          ]
        },
        {
          "name": "stderr",
          "output_type": "stream",
          "text": [
            "35it [00:00, 292.99it/s]\n",
            "12it [00:00, 786.69it/s]\n"
          ]
        },
        {
          "name": "stdout",
          "output_type": "stream",
          "text": [
            "Running validation\n",
            "Running training epoch\n"
          ]
        },
        {
          "name": "stderr",
          "output_type": "stream",
          "text": [
            "35it [00:00, 378.47it/s]\n",
            "12it [00:00, 867.14it/s]\n"
          ]
        },
        {
          "name": "stdout",
          "output_type": "stream",
          "text": [
            "Running validation\n",
            "Running training epoch\n"
          ]
        },
        {
          "name": "stderr",
          "output_type": "stream",
          "text": [
            "35it [00:00, 378.21it/s]\n",
            "12it [00:00, 814.19it/s]\n"
          ]
        },
        {
          "name": "stdout",
          "output_type": "stream",
          "text": [
            "Running validation\n",
            "Running training epoch\n"
          ]
        },
        {
          "name": "stderr",
          "output_type": "stream",
          "text": [
            "35it [00:00, 359.14it/s]\n",
            "12it [00:00, 766.16it/s]\n"
          ]
        },
        {
          "name": "stdout",
          "output_type": "stream",
          "text": [
            "Running validation\n",
            "Running training epoch\n"
          ]
        },
        {
          "name": "stderr",
          "output_type": "stream",
          "text": [
            "35it [00:00, 366.05it/s]\n",
            "12it [00:00, 830.60it/s]\n"
          ]
        },
        {
          "name": "stdout",
          "output_type": "stream",
          "text": [
            "Running validation\n",
            "Running training epoch\n"
          ]
        },
        {
          "name": "stderr",
          "output_type": "stream",
          "text": [
            "35it [00:00, 299.37it/s]\n",
            "12it [00:00, 849.88it/s]\n"
          ]
        },
        {
          "name": "stdout",
          "output_type": "stream",
          "text": [
            "Running validation\n",
            "Running training epoch\n"
          ]
        },
        {
          "name": "stderr",
          "output_type": "stream",
          "text": [
            "35it [00:00, 319.76it/s]\n",
            "12it [00:00, 998.11it/s]\n"
          ]
        },
        {
          "name": "stdout",
          "output_type": "stream",
          "text": [
            "Running validation\n",
            "Running training epoch\n"
          ]
        },
        {
          "name": "stderr",
          "output_type": "stream",
          "text": [
            "35it [00:00, 357.94it/s]\n",
            "12it [00:00, 867.79it/s]\n"
          ]
        },
        {
          "name": "stdout",
          "output_type": "stream",
          "text": [
            "Running validation\n",
            "Running training epoch\n"
          ]
        },
        {
          "name": "stderr",
          "output_type": "stream",
          "text": [
            "35it [00:00, 360.07it/s]\n",
            "12it [00:00, 837.40it/s]\n"
          ]
        },
        {
          "name": "stdout",
          "output_type": "stream",
          "text": [
            "Running validation\n",
            "Running training epoch\n"
          ]
        },
        {
          "name": "stderr",
          "output_type": "stream",
          "text": [
            "35it [00:00, 251.10it/s]\n",
            "12it [00:00, 551.15it/s]\n"
          ]
        },
        {
          "name": "stdout",
          "output_type": "stream",
          "text": [
            "Running validation\n",
            "Running training epoch\n"
          ]
        },
        {
          "name": "stderr",
          "output_type": "stream",
          "text": [
            "35it [00:00, 403.03it/s]\n",
            "12it [00:00, 804.73it/s]\n"
          ]
        },
        {
          "name": "stdout",
          "output_type": "stream",
          "text": [
            "Running validation\n",
            "Running training epoch\n"
          ]
        },
        {
          "name": "stderr",
          "output_type": "stream",
          "text": [
            "35it [00:00, 373.20it/s]\n",
            "12it [00:00, 624.44it/s]\n"
          ]
        },
        {
          "name": "stdout",
          "output_type": "stream",
          "text": [
            "Running validation\n",
            "Running training epoch\n"
          ]
        },
        {
          "name": "stderr",
          "output_type": "stream",
          "text": [
            "35it [00:00, 383.35it/s]\n",
            "12it [00:00, 760.71it/s]\n"
          ]
        },
        {
          "name": "stdout",
          "output_type": "stream",
          "text": [
            "Running validation\n",
            "Running training epoch\n"
          ]
        },
        {
          "name": "stderr",
          "output_type": "stream",
          "text": [
            "35it [00:00, 370.41it/s]\n",
            "12it [00:00, 769.20it/s]\n"
          ]
        },
        {
          "name": "stdout",
          "output_type": "stream",
          "text": [
            "Running validation\n",
            "Running training epoch\n"
          ]
        },
        {
          "name": "stderr",
          "output_type": "stream",
          "text": [
            "35it [00:00, 317.12it/s]\n",
            "12it [00:00, 897.63it/s]\n"
          ]
        },
        {
          "name": "stdout",
          "output_type": "stream",
          "text": [
            "Running validation\n",
            "Running training epoch\n"
          ]
        },
        {
          "name": "stderr",
          "output_type": "stream",
          "text": [
            "35it [00:00, 360.00it/s]\n",
            "12it [00:00, 723.95it/s]\n"
          ]
        },
        {
          "name": "stdout",
          "output_type": "stream",
          "text": [
            "Running validation\n",
            "Running training epoch\n"
          ]
        },
        {
          "name": "stderr",
          "output_type": "stream",
          "text": [
            "35it [00:00, 370.80it/s]\n",
            "12it [00:00, 669.66it/s]\n"
          ]
        },
        {
          "name": "stdout",
          "output_type": "stream",
          "text": [
            "Running validation\n",
            "Running training epoch\n"
          ]
        },
        {
          "name": "stderr",
          "output_type": "stream",
          "text": [
            "35it [00:00, 384.71it/s]\n",
            "12it [00:00, 807.54it/s]\n"
          ]
        },
        {
          "name": "stdout",
          "output_type": "stream",
          "text": [
            "Running validation\n",
            "Running training epoch\n"
          ]
        },
        {
          "name": "stderr",
          "output_type": "stream",
          "text": [
            "35it [00:00, 317.10it/s]\n",
            "12it [00:00, 475.10it/s]\n"
          ]
        },
        {
          "name": "stdout",
          "output_type": "stream",
          "text": [
            "Running validation\n"
          ]
        },
        {
          "data": {
            "application/vnd.jupyter.widget-view+json": {
              "model_id": "2ccf819306ac4dc8ac03c7d3501377ab",
              "version_major": 2,
              "version_minor": 0
            },
            "text/plain": [
              "VBox(children=(Label(value='5.930 MB of 5.930 MB uploaded\\r'), FloatProgress(value=1.0, max=1.0)))"
            ]
          },
          "metadata": {},
          "output_type": "display_data"
        },
        {
          "data": {
            "text/html": [
              "<style>\n",
              "    table.wandb td:nth-child(1) { padding: 0 10px; text-align: left ; width: auto;} td:nth-child(2) {text-align: left ; width: 100%}\n",
              "    .wandb-row { display: flex; flex-direction: row; flex-wrap: wrap; justify-content: flex-start; width: 100% }\n",
              "    .wandb-col { display: flex; flex-direction: column; flex-basis: 100%; flex: 1; padding: 10px; }\n",
              "    </style>\n",
              "<div class=\"wandb-row\"><div class=\"wandb-col\"><h3>Run history:</h3><br/><table class=\"wandb\"><tr><td>train_loss</td><td>█▁▁▁▁▁▁▁▁▁▁▁▁▁▁▁▁▁▁▁▁▁▁▁▁▁▁▁▁▁▁▁▁▁▁▁▁▁▁▁</td></tr><tr><td>val_loss</td><td>█▄▂▁▂▃▁▁▂▁▄▁▂▂▂▁▂▂█▃▄▂▄▂▄▂▆▃▂▃▃▃▃▅▄▅▃▃▃▅</td></tr></table><br/></div><div class=\"wandb-col\"><h3>Run summary:</h3><br/><table class=\"wandb\"><tr><td>train_loss</td><td>6.32531</td></tr><tr><td>val_loss</td><td>14.34281</td></tr></table><br/></div></div>"
            ],
            "text/plain": [
              "<IPython.core.display.HTML object>"
            ]
          },
          "metadata": {},
          "output_type": "display_data"
        },
        {
          "data": {
            "text/html": [
              " View run <strong style=\"color:#cdcd00\">Collab VanillaRNN 3 lookback </strong> at: <a href='https://wandb.ai/cell-x/coursework_1/runs/1agqa7fa' target=\"_blank\">https://wandb.ai/cell-x/coursework_1/runs/1agqa7fa</a><br/>Synced 5 W&B file(s), 0 media file(s), 0 artifact file(s) and 100 other file(s)"
            ],
            "text/plain": [
              "<IPython.core.display.HTML object>"
            ]
          },
          "metadata": {},
          "output_type": "display_data"
        },
        {
          "data": {
            "text/html": [
              "Find logs at: <code>./wandb/run-20231110_143504-1agqa7fa/logs</code>"
            ],
            "text/plain": [
              "<IPython.core.display.HTML object>"
            ]
          },
          "metadata": {},
          "output_type": "display_data"
        },
        {
          "name": "stdout",
          "output_type": "stream",
          "text": [
            "torch.Size([32, 1])\n",
            "torch.Size([32, 1])\n"
          ]
        },
        {
          "data": {
            "text/html": [
              "Tracking run with wandb version 0.16.0"
            ],
            "text/plain": [
              "<IPython.core.display.HTML object>"
            ]
          },
          "metadata": {},
          "output_type": "display_data"
        },
        {
          "data": {
            "text/html": [
              "Run data is saved locally in <code>/content/wandb/run-20231110_143529-v1kcr1qp</code>"
            ],
            "text/plain": [
              "<IPython.core.display.HTML object>"
            ]
          },
          "metadata": {},
          "output_type": "display_data"
        },
        {
          "data": {
            "text/html": [
              "Syncing run <strong><a href='https://wandb.ai/cell-x/coursework_1/runs/v1kcr1qp' target=\"_blank\">Collab VanillaRNN 5 lookback </a></strong> to <a href='https://wandb.ai/cell-x/coursework_1' target=\"_blank\">Weights & Biases</a> (<a href='https://wandb.me/run' target=\"_blank\">docs</a>)<br/>"
            ],
            "text/plain": [
              "<IPython.core.display.HTML object>"
            ]
          },
          "metadata": {},
          "output_type": "display_data"
        },
        {
          "data": {
            "text/html": [
              " View project at <a href='https://wandb.ai/cell-x/coursework_1' target=\"_blank\">https://wandb.ai/cell-x/coursework_1</a>"
            ],
            "text/plain": [
              "<IPython.core.display.HTML object>"
            ]
          },
          "metadata": {},
          "output_type": "display_data"
        },
        {
          "data": {
            "text/html": [
              " View run at <a href='https://wandb.ai/cell-x/coursework_1/runs/v1kcr1qp' target=\"_blank\">https://wandb.ai/cell-x/coursework_1/runs/v1kcr1qp</a>"
            ],
            "text/plain": [
              "<IPython.core.display.HTML object>"
            ]
          },
          "metadata": {},
          "output_type": "display_data"
        },
        {
          "name": "stdout",
          "output_type": "stream",
          "text": [
            "Running training epoch\n"
          ]
        },
        {
          "name": "stderr",
          "output_type": "stream",
          "text": [
            "35it [00:00, 119.42it/s]\n",
            "12it [00:00, 269.28it/s]\n"
          ]
        },
        {
          "name": "stdout",
          "output_type": "stream",
          "text": [
            "Running validation\n",
            "Running training epoch\n"
          ]
        },
        {
          "name": "stderr",
          "output_type": "stream",
          "text": [
            "35it [00:00, 175.82it/s]\n",
            "12it [00:00, 547.00it/s]\n"
          ]
        },
        {
          "name": "stdout",
          "output_type": "stream",
          "text": [
            "Running validation\n",
            "Running training epoch\n"
          ]
        },
        {
          "name": "stderr",
          "output_type": "stream",
          "text": [
            "35it [00:00, 126.33it/s]\n",
            "12it [00:00, 404.17it/s]\n"
          ]
        },
        {
          "name": "stdout",
          "output_type": "stream",
          "text": [
            "Running validation\n",
            "Running training epoch\n"
          ]
        },
        {
          "name": "stderr",
          "output_type": "stream",
          "text": [
            "35it [00:00, 154.32it/s]\n",
            "12it [00:00, 530.50it/s]\n"
          ]
        },
        {
          "name": "stdout",
          "output_type": "stream",
          "text": [
            "Running validation\n",
            "Running training epoch\n"
          ]
        },
        {
          "name": "stderr",
          "output_type": "stream",
          "text": [
            "35it [00:00, 206.42it/s]\n",
            "12it [00:00, 566.09it/s]\n"
          ]
        },
        {
          "name": "stdout",
          "output_type": "stream",
          "text": [
            "Running validation\n",
            "Running training epoch\n"
          ]
        },
        {
          "name": "stderr",
          "output_type": "stream",
          "text": [
            "35it [00:00, 213.18it/s]\n",
            "12it [00:00, 683.44it/s]\n"
          ]
        },
        {
          "name": "stdout",
          "output_type": "stream",
          "text": [
            "Running validation\n",
            "Running training epoch\n"
          ]
        },
        {
          "name": "stderr",
          "output_type": "stream",
          "text": [
            "35it [00:00, 221.13it/s]\n",
            "12it [00:00, 816.87it/s]\n"
          ]
        },
        {
          "name": "stdout",
          "output_type": "stream",
          "text": [
            "Running validation\n",
            "Running training epoch\n"
          ]
        },
        {
          "name": "stderr",
          "output_type": "stream",
          "text": [
            "35it [00:00, 300.31it/s]\n",
            "12it [00:00, 761.90it/s]\n"
          ]
        },
        {
          "name": "stdout",
          "output_type": "stream",
          "text": [
            "Running validation\n",
            "Running training epoch\n"
          ]
        },
        {
          "name": "stderr",
          "output_type": "stream",
          "text": [
            "35it [00:00, 355.71it/s]\n",
            "12it [00:00, 663.67it/s]\n"
          ]
        },
        {
          "name": "stdout",
          "output_type": "stream",
          "text": [
            "Running validation\n",
            "Running training epoch\n"
          ]
        },
        {
          "name": "stderr",
          "output_type": "stream",
          "text": [
            "35it [00:00, 376.81it/s]\n",
            "12it [00:00, 523.46it/s]\n"
          ]
        },
        {
          "name": "stdout",
          "output_type": "stream",
          "text": [
            "Running validation\n",
            "Running training epoch\n"
          ]
        },
        {
          "name": "stderr",
          "output_type": "stream",
          "text": [
            "35it [00:00, 295.00it/s]\n",
            "12it [00:00, 920.17it/s]\n"
          ]
        },
        {
          "name": "stdout",
          "output_type": "stream",
          "text": [
            "Running validation\n",
            "Running training epoch\n"
          ]
        },
        {
          "name": "stderr",
          "output_type": "stream",
          "text": [
            "35it [00:00, 312.62it/s]\n",
            "12it [00:00, 846.35it/s]\n"
          ]
        },
        {
          "name": "stdout",
          "output_type": "stream",
          "text": [
            "Running validation\n",
            "Running training epoch\n"
          ]
        },
        {
          "name": "stderr",
          "output_type": "stream",
          "text": [
            "35it [00:00, 306.97it/s]\n",
            "12it [00:00, 805.99it/s]\n"
          ]
        },
        {
          "name": "stdout",
          "output_type": "stream",
          "text": [
            "Running validation\n",
            "Running training epoch\n"
          ]
        },
        {
          "name": "stderr",
          "output_type": "stream",
          "text": [
            "35it [00:00, 319.24it/s]\n",
            "12it [00:00, 717.00it/s]\n"
          ]
        },
        {
          "name": "stdout",
          "output_type": "stream",
          "text": [
            "Running validation\n",
            "Running training epoch\n"
          ]
        },
        {
          "name": "stderr",
          "output_type": "stream",
          "text": [
            "35it [00:00, 314.24it/s]\n",
            "12it [00:00, 910.37it/s]\n"
          ]
        },
        {
          "name": "stdout",
          "output_type": "stream",
          "text": [
            "Running validation\n",
            "Running training epoch\n"
          ]
        },
        {
          "name": "stderr",
          "output_type": "stream",
          "text": [
            "35it [00:00, 359.43it/s]\n",
            "12it [00:00, 648.99it/s]\n"
          ]
        },
        {
          "name": "stdout",
          "output_type": "stream",
          "text": [
            "Running validation\n",
            "Running training epoch\n"
          ]
        },
        {
          "name": "stderr",
          "output_type": "stream",
          "text": [
            "35it [00:00, 316.64it/s]\n",
            "12it [00:00, 590.48it/s]\n"
          ]
        },
        {
          "name": "stdout",
          "output_type": "stream",
          "text": [
            "Running validation\n",
            "Running training epoch\n"
          ]
        },
        {
          "name": "stderr",
          "output_type": "stream",
          "text": [
            "35it [00:00, 291.64it/s]\n",
            "12it [00:00, 788.28it/s]\n"
          ]
        },
        {
          "name": "stdout",
          "output_type": "stream",
          "text": [
            "Running validation\n",
            "Running training epoch\n"
          ]
        },
        {
          "name": "stderr",
          "output_type": "stream",
          "text": [
            "35it [00:00, 317.70it/s]\n",
            "12it [00:00, 947.81it/s]\n"
          ]
        },
        {
          "name": "stdout",
          "output_type": "stream",
          "text": [
            "Running validation\n",
            "Running training epoch\n"
          ]
        },
        {
          "name": "stderr",
          "output_type": "stream",
          "text": [
            "35it [00:00, 315.18it/s]\n",
            "12it [00:00, 974.17it/s]\n"
          ]
        },
        {
          "name": "stdout",
          "output_type": "stream",
          "text": [
            "Running validation\n",
            "Running training epoch\n"
          ]
        },
        {
          "name": "stderr",
          "output_type": "stream",
          "text": [
            "35it [00:00, 297.50it/s]\n",
            "12it [00:00, 646.66it/s]\n"
          ]
        },
        {
          "name": "stdout",
          "output_type": "stream",
          "text": [
            "Running validation\n",
            "Running training epoch\n"
          ]
        },
        {
          "name": "stderr",
          "output_type": "stream",
          "text": [
            "35it [00:00, 289.59it/s]\n",
            "12it [00:00, 936.93it/s]\n"
          ]
        },
        {
          "name": "stdout",
          "output_type": "stream",
          "text": [
            "Running validation\n",
            "Running training epoch\n"
          ]
        },
        {
          "name": "stderr",
          "output_type": "stream",
          "text": [
            "35it [00:00, 298.60it/s]\n",
            "12it [00:00, 732.93it/s]\n"
          ]
        },
        {
          "name": "stdout",
          "output_type": "stream",
          "text": [
            "Running validation\n",
            "Running training epoch\n"
          ]
        },
        {
          "name": "stderr",
          "output_type": "stream",
          "text": [
            "35it [00:00, 255.28it/s]\n",
            "12it [00:00, 740.75it/s]\n"
          ]
        },
        {
          "name": "stdout",
          "output_type": "stream",
          "text": [
            "Running validation\n",
            "Running training epoch\n"
          ]
        },
        {
          "name": "stderr",
          "output_type": "stream",
          "text": [
            "35it [00:00, 254.84it/s]\n",
            "12it [00:00, 852.65it/s]\n"
          ]
        },
        {
          "name": "stdout",
          "output_type": "stream",
          "text": [
            "Running validation\n",
            "Running training epoch\n"
          ]
        },
        {
          "name": "stderr",
          "output_type": "stream",
          "text": [
            "35it [00:00, 292.85it/s]\n",
            "12it [00:00, 952.51it/s]\n"
          ]
        },
        {
          "name": "stdout",
          "output_type": "stream",
          "text": [
            "Running validation\n",
            "Running training epoch\n"
          ]
        },
        {
          "name": "stderr",
          "output_type": "stream",
          "text": [
            "35it [00:00, 285.73it/s]\n",
            "12it [00:00, 791.64it/s]\n"
          ]
        },
        {
          "name": "stdout",
          "output_type": "stream",
          "text": [
            "Running validation\n",
            "Running training epoch\n"
          ]
        },
        {
          "name": "stderr",
          "output_type": "stream",
          "text": [
            "35it [00:00, 295.90it/s]\n",
            "12it [00:00, 758.72it/s]\n"
          ]
        },
        {
          "name": "stdout",
          "output_type": "stream",
          "text": [
            "Running validation\n",
            "Running training epoch\n"
          ]
        },
        {
          "name": "stderr",
          "output_type": "stream",
          "text": [
            "35it [00:00, 330.15it/s]\n",
            "12it [00:00, 688.96it/s]\n"
          ]
        },
        {
          "name": "stdout",
          "output_type": "stream",
          "text": [
            "Running validation\n",
            "Running training epoch\n"
          ]
        },
        {
          "name": "stderr",
          "output_type": "stream",
          "text": [
            "35it [00:00, 292.79it/s]\n",
            "12it [00:00, 855.37it/s]\n"
          ]
        },
        {
          "name": "stdout",
          "output_type": "stream",
          "text": [
            "Running validation\n",
            "Running training epoch\n"
          ]
        },
        {
          "name": "stderr",
          "output_type": "stream",
          "text": [
            "35it [00:00, 299.17it/s]\n",
            "12it [00:00, 869.30it/s]\n"
          ]
        },
        {
          "name": "stdout",
          "output_type": "stream",
          "text": [
            "Running validation\n",
            "Running training epoch\n"
          ]
        },
        {
          "name": "stderr",
          "output_type": "stream",
          "text": [
            "35it [00:00, 309.18it/s]\n",
            "12it [00:00, 870.32it/s]\n"
          ]
        },
        {
          "name": "stdout",
          "output_type": "stream",
          "text": [
            "Running validation\n",
            "Running training epoch\n"
          ]
        },
        {
          "name": "stderr",
          "output_type": "stream",
          "text": [
            "35it [00:00, 239.09it/s]\n",
            "12it [00:00, 720.01it/s]\n"
          ]
        },
        {
          "name": "stdout",
          "output_type": "stream",
          "text": [
            "Running validation\n",
            "Running training epoch\n"
          ]
        },
        {
          "name": "stderr",
          "output_type": "stream",
          "text": [
            "35it [00:00, 241.02it/s]\n",
            "12it [00:00, 746.16it/s]\n"
          ]
        },
        {
          "name": "stdout",
          "output_type": "stream",
          "text": [
            "Running validation\n",
            "Running training epoch\n"
          ]
        },
        {
          "name": "stderr",
          "output_type": "stream",
          "text": [
            "35it [00:00, 333.44it/s]\n",
            "12it [00:00, 916.95it/s]\n"
          ]
        },
        {
          "name": "stdout",
          "output_type": "stream",
          "text": [
            "Running validation\n",
            "Running training epoch\n"
          ]
        },
        {
          "name": "stderr",
          "output_type": "stream",
          "text": [
            "35it [00:00, 285.93it/s]\n",
            "12it [00:00, 809.91it/s]\n"
          ]
        },
        {
          "name": "stdout",
          "output_type": "stream",
          "text": [
            "Running validation\n",
            "Running training epoch\n"
          ]
        },
        {
          "name": "stderr",
          "output_type": "stream",
          "text": [
            "35it [00:00, 286.02it/s]\n",
            "12it [00:00, 836.64it/s]\n"
          ]
        },
        {
          "name": "stdout",
          "output_type": "stream",
          "text": [
            "Running validation\n",
            "Running training epoch\n"
          ]
        },
        {
          "name": "stderr",
          "output_type": "stream",
          "text": [
            "35it [00:00, 366.78it/s]\n",
            "12it [00:00, 647.55it/s]\n"
          ]
        },
        {
          "name": "stdout",
          "output_type": "stream",
          "text": [
            "Running validation\n",
            "Running training epoch\n"
          ]
        },
        {
          "name": "stderr",
          "output_type": "stream",
          "text": [
            "35it [00:00, 322.23it/s]\n",
            "12it [00:00, 664.53it/s]\n"
          ]
        },
        {
          "name": "stdout",
          "output_type": "stream",
          "text": [
            "Running validation\n",
            "Running training epoch\n"
          ]
        },
        {
          "name": "stderr",
          "output_type": "stream",
          "text": [
            "35it [00:00, 335.61it/s]\n",
            "12it [00:00, 722.22it/s]\n"
          ]
        },
        {
          "name": "stdout",
          "output_type": "stream",
          "text": [
            "Running validation\n",
            "Running training epoch\n"
          ]
        },
        {
          "name": "stderr",
          "output_type": "stream",
          "text": [
            "35it [00:00, 309.19it/s]\n",
            "12it [00:00, 698.20it/s]\n"
          ]
        },
        {
          "name": "stdout",
          "output_type": "stream",
          "text": [
            "Running validation\n",
            "Running training epoch\n"
          ]
        },
        {
          "name": "stderr",
          "output_type": "stream",
          "text": [
            "35it [00:00, 304.82it/s]\n",
            "12it [00:00, 612.37it/s]\n"
          ]
        },
        {
          "name": "stdout",
          "output_type": "stream",
          "text": [
            "Running validation\n",
            "Running training epoch\n"
          ]
        },
        {
          "name": "stderr",
          "output_type": "stream",
          "text": [
            "35it [00:00, 292.79it/s]\n",
            "12it [00:00, 783.07it/s]\n"
          ]
        },
        {
          "name": "stdout",
          "output_type": "stream",
          "text": [
            "Running validation\n",
            "Running training epoch\n"
          ]
        },
        {
          "name": "stderr",
          "output_type": "stream",
          "text": [
            "35it [00:00, 317.33it/s]\n",
            "12it [00:00, 779.78it/s]\n"
          ]
        },
        {
          "name": "stdout",
          "output_type": "stream",
          "text": [
            "Running validation\n",
            "Running training epoch\n"
          ]
        },
        {
          "name": "stderr",
          "output_type": "stream",
          "text": [
            "35it [00:00, 333.47it/s]\n",
            "12it [00:00, 764.42it/s]\n"
          ]
        },
        {
          "name": "stdout",
          "output_type": "stream",
          "text": [
            "Running validation\n",
            "Running training epoch\n"
          ]
        },
        {
          "name": "stderr",
          "output_type": "stream",
          "text": [
            "35it [00:00, 307.20it/s]\n",
            "12it [00:00, 632.73it/s]\n"
          ]
        },
        {
          "name": "stdout",
          "output_type": "stream",
          "text": [
            "Running validation\n",
            "Running training epoch\n"
          ]
        },
        {
          "name": "stderr",
          "output_type": "stream",
          "text": [
            "35it [00:00, 312.03it/s]\n",
            "12it [00:00, 864.46it/s]\n"
          ]
        },
        {
          "name": "stdout",
          "output_type": "stream",
          "text": [
            "Running validation\n",
            "Running training epoch\n"
          ]
        },
        {
          "name": "stderr",
          "output_type": "stream",
          "text": [
            "35it [00:00, 253.20it/s]\n",
            "12it [00:00, 911.82it/s]\n"
          ]
        },
        {
          "name": "stdout",
          "output_type": "stream",
          "text": [
            "Running validation\n",
            "Running training epoch\n"
          ]
        },
        {
          "name": "stderr",
          "output_type": "stream",
          "text": [
            "35it [00:00, 264.35it/s]\n",
            "12it [00:00, 703.10it/s]\n"
          ]
        },
        {
          "name": "stdout",
          "output_type": "stream",
          "text": [
            "Running validation\n",
            "Running training epoch\n"
          ]
        },
        {
          "name": "stderr",
          "output_type": "stream",
          "text": [
            "35it [00:00, 324.83it/s]\n",
            "12it [00:00, 819.27it/s]\n"
          ]
        },
        {
          "name": "stdout",
          "output_type": "stream",
          "text": [
            "Running validation\n",
            "Running training epoch\n"
          ]
        },
        {
          "name": "stderr",
          "output_type": "stream",
          "text": [
            "35it [00:00, 311.29it/s]\n",
            "12it [00:00, 551.01it/s]\n"
          ]
        },
        {
          "name": "stdout",
          "output_type": "stream",
          "text": [
            "Running validation\n",
            "Running training epoch\n"
          ]
        },
        {
          "name": "stderr",
          "output_type": "stream",
          "text": [
            "35it [00:00, 316.17it/s]\n",
            "12it [00:00, 738.20it/s]\n"
          ]
        },
        {
          "name": "stdout",
          "output_type": "stream",
          "text": [
            "Running validation\n",
            "Running training epoch\n"
          ]
        },
        {
          "name": "stderr",
          "output_type": "stream",
          "text": [
            "35it [00:00, 314.47it/s]\n",
            "12it [00:00, 786.27it/s]\n"
          ]
        },
        {
          "name": "stdout",
          "output_type": "stream",
          "text": [
            "Running validation\n",
            "Running training epoch\n"
          ]
        },
        {
          "name": "stderr",
          "output_type": "stream",
          "text": [
            "35it [00:00, 292.92it/s]\n",
            "12it [00:00, 808.14it/s]\n"
          ]
        },
        {
          "name": "stdout",
          "output_type": "stream",
          "text": [
            "Running validation\n",
            "Running training epoch\n"
          ]
        },
        {
          "name": "stderr",
          "output_type": "stream",
          "text": [
            "35it [00:00, 320.73it/s]\n",
            "12it [00:00, 671.81it/s]\n"
          ]
        },
        {
          "name": "stdout",
          "output_type": "stream",
          "text": [
            "Running validation\n",
            "Running training epoch\n"
          ]
        },
        {
          "name": "stderr",
          "output_type": "stream",
          "text": [
            "35it [00:00, 220.85it/s]\n",
            "12it [00:00, 934.61it/s]\n"
          ]
        },
        {
          "name": "stdout",
          "output_type": "stream",
          "text": [
            "Running validation\n",
            "Running training epoch\n"
          ]
        },
        {
          "name": "stderr",
          "output_type": "stream",
          "text": [
            "35it [00:00, 278.18it/s]\n",
            "12it [00:00, 828.64it/s]\n"
          ]
        },
        {
          "name": "stdout",
          "output_type": "stream",
          "text": [
            "Running validation\n",
            "Running training epoch\n"
          ]
        },
        {
          "name": "stderr",
          "output_type": "stream",
          "text": [
            "35it [00:00, 274.50it/s]\n",
            "12it [00:00, 730.28it/s]\n"
          ]
        },
        {
          "name": "stdout",
          "output_type": "stream",
          "text": [
            "Running validation\n",
            "Running training epoch\n"
          ]
        },
        {
          "name": "stderr",
          "output_type": "stream",
          "text": [
            "35it [00:00, 294.64it/s]\n",
            "12it [00:00, 713.80it/s]\n"
          ]
        },
        {
          "name": "stdout",
          "output_type": "stream",
          "text": [
            "Running validation\n",
            "Running training epoch\n"
          ]
        },
        {
          "name": "stderr",
          "output_type": "stream",
          "text": [
            "35it [00:00, 269.11it/s]\n",
            "12it [00:00, 894.91it/s]\n"
          ]
        },
        {
          "name": "stdout",
          "output_type": "stream",
          "text": [
            "Running validation\n",
            "Running training epoch\n"
          ]
        },
        {
          "name": "stderr",
          "output_type": "stream",
          "text": [
            "35it [00:00, 276.00it/s]\n",
            "12it [00:00, 699.61it/s]\n"
          ]
        },
        {
          "name": "stdout",
          "output_type": "stream",
          "text": [
            "Running validation\n",
            "Running training epoch\n"
          ]
        },
        {
          "name": "stderr",
          "output_type": "stream",
          "text": [
            "35it [00:00, 348.19it/s]\n",
            "12it [00:00, 670.40it/s]\n"
          ]
        },
        {
          "name": "stdout",
          "output_type": "stream",
          "text": [
            "Running validation\n",
            "Running training epoch\n"
          ]
        },
        {
          "name": "stderr",
          "output_type": "stream",
          "text": [
            "35it [00:00, 331.84it/s]\n",
            "12it [00:00, 722.56it/s]\n"
          ]
        },
        {
          "name": "stdout",
          "output_type": "stream",
          "text": [
            "Running validation\n",
            "Running training epoch\n"
          ]
        },
        {
          "name": "stderr",
          "output_type": "stream",
          "text": [
            "35it [00:00, 300.77it/s]\n",
            "12it [00:00, 963.06it/s]\n"
          ]
        },
        {
          "name": "stdout",
          "output_type": "stream",
          "text": [
            "Running validation\n",
            "Running training epoch\n"
          ]
        },
        {
          "name": "stderr",
          "output_type": "stream",
          "text": [
            "35it [00:00, 291.83it/s]\n",
            "12it [00:00, 935.86it/s]\n"
          ]
        },
        {
          "name": "stdout",
          "output_type": "stream",
          "text": [
            "Running validation\n",
            "Running training epoch\n"
          ]
        },
        {
          "name": "stderr",
          "output_type": "stream",
          "text": [
            "35it [00:00, 293.68it/s]\n",
            "12it [00:00, 857.06it/s]\n"
          ]
        },
        {
          "name": "stdout",
          "output_type": "stream",
          "text": [
            "Running validation\n",
            "Running training epoch\n"
          ]
        },
        {
          "name": "stderr",
          "output_type": "stream",
          "text": [
            "35it [00:00, 293.96it/s]\n",
            "12it [00:00, 404.85it/s]\n"
          ]
        },
        {
          "name": "stdout",
          "output_type": "stream",
          "text": [
            "Running validation\n",
            "Running training epoch\n"
          ]
        },
        {
          "name": "stderr",
          "output_type": "stream",
          "text": [
            "35it [00:00, 219.06it/s]\n",
            "12it [00:00, 574.53it/s]\n"
          ]
        },
        {
          "name": "stdout",
          "output_type": "stream",
          "text": [
            "Running validation\n",
            "Running training epoch\n"
          ]
        },
        {
          "name": "stderr",
          "output_type": "stream",
          "text": [
            "35it [00:00, 208.79it/s]\n",
            "12it [00:00, 610.84it/s]\n"
          ]
        },
        {
          "name": "stdout",
          "output_type": "stream",
          "text": [
            "Running validation\n",
            "Running training epoch\n"
          ]
        },
        {
          "name": "stderr",
          "output_type": "stream",
          "text": [
            "35it [00:00, 228.76it/s]\n",
            "12it [00:00, 546.12it/s]\n"
          ]
        },
        {
          "name": "stdout",
          "output_type": "stream",
          "text": [
            "Running validation\n",
            "Running training epoch\n"
          ]
        },
        {
          "name": "stderr",
          "output_type": "stream",
          "text": [
            "35it [00:00, 247.37it/s]\n",
            "12it [00:00, 640.00it/s]\n"
          ]
        },
        {
          "name": "stdout",
          "output_type": "stream",
          "text": [
            "Running validation\n",
            "Running training epoch\n"
          ]
        },
        {
          "name": "stderr",
          "output_type": "stream",
          "text": [
            "35it [00:00, 222.09it/s]\n",
            "12it [00:00, 421.97it/s]\n"
          ]
        },
        {
          "name": "stdout",
          "output_type": "stream",
          "text": [
            "Running validation\n",
            "Running training epoch\n"
          ]
        },
        {
          "name": "stderr",
          "output_type": "stream",
          "text": [
            "35it [00:00, 247.63it/s]\n",
            "12it [00:00, 507.95it/s]\n"
          ]
        },
        {
          "name": "stdout",
          "output_type": "stream",
          "text": [
            "Running validation\n",
            "Running training epoch\n"
          ]
        },
        {
          "name": "stderr",
          "output_type": "stream",
          "text": [
            "35it [00:00, 217.38it/s]\n",
            "12it [00:00, 476.16it/s]\n"
          ]
        },
        {
          "name": "stdout",
          "output_type": "stream",
          "text": [
            "Running validation\n",
            "Running training epoch\n"
          ]
        },
        {
          "name": "stderr",
          "output_type": "stream",
          "text": [
            "35it [00:00, 220.81it/s]\n",
            "12it [00:00, 564.53it/s]\n"
          ]
        },
        {
          "name": "stdout",
          "output_type": "stream",
          "text": [
            "Running validation\n",
            "Running training epoch\n"
          ]
        },
        {
          "name": "stderr",
          "output_type": "stream",
          "text": [
            "35it [00:00, 227.27it/s]\n",
            "12it [00:00, 541.65it/s]\n"
          ]
        },
        {
          "name": "stdout",
          "output_type": "stream",
          "text": [
            "Running validation\n",
            "Running training epoch\n"
          ]
        },
        {
          "name": "stderr",
          "output_type": "stream",
          "text": [
            "35it [00:00, 208.74it/s]\n",
            "12it [00:00, 626.87it/s]\n"
          ]
        },
        {
          "name": "stdout",
          "output_type": "stream",
          "text": [
            "Running validation\n",
            "Running training epoch\n"
          ]
        },
        {
          "name": "stderr",
          "output_type": "stream",
          "text": [
            "35it [00:00, 193.62it/s]\n",
            "12it [00:00, 533.68it/s]\n"
          ]
        },
        {
          "name": "stdout",
          "output_type": "stream",
          "text": [
            "Running validation\n",
            "Running training epoch\n"
          ]
        },
        {
          "name": "stderr",
          "output_type": "stream",
          "text": [
            "35it [00:00, 217.55it/s]\n",
            "12it [00:00, 622.52it/s]\n"
          ]
        },
        {
          "name": "stdout",
          "output_type": "stream",
          "text": [
            "Running validation\n",
            "Running training epoch\n"
          ]
        },
        {
          "name": "stderr",
          "output_type": "stream",
          "text": [
            "35it [00:00, 200.65it/s]\n",
            "12it [00:00, 613.06it/s]\n"
          ]
        },
        {
          "name": "stdout",
          "output_type": "stream",
          "text": [
            "Running validation\n",
            "Running training epoch\n"
          ]
        },
        {
          "name": "stderr",
          "output_type": "stream",
          "text": [
            "35it [00:00, 232.17it/s]\n",
            "12it [00:00, 480.56it/s]\n"
          ]
        },
        {
          "name": "stdout",
          "output_type": "stream",
          "text": [
            "Running validation\n",
            "Running training epoch\n"
          ]
        },
        {
          "name": "stderr",
          "output_type": "stream",
          "text": [
            "35it [00:00, 187.59it/s]\n",
            "12it [00:00, 574.54it/s]\n"
          ]
        },
        {
          "name": "stdout",
          "output_type": "stream",
          "text": [
            "Running validation\n",
            "Running training epoch\n"
          ]
        },
        {
          "name": "stderr",
          "output_type": "stream",
          "text": [
            "35it [00:00, 237.18it/s]\n",
            "12it [00:00, 591.56it/s]\n"
          ]
        },
        {
          "name": "stdout",
          "output_type": "stream",
          "text": [
            "Running validation\n",
            "Running training epoch\n"
          ]
        },
        {
          "name": "stderr",
          "output_type": "stream",
          "text": [
            "35it [00:00, 212.43it/s]\n",
            "12it [00:00, 414.46it/s]\n"
          ]
        },
        {
          "name": "stdout",
          "output_type": "stream",
          "text": [
            "Running validation\n",
            "Running training epoch\n"
          ]
        },
        {
          "name": "stderr",
          "output_type": "stream",
          "text": [
            "35it [00:00, 211.84it/s]\n",
            "12it [00:00, 651.42it/s]\n"
          ]
        },
        {
          "name": "stdout",
          "output_type": "stream",
          "text": [
            "Running validation\n",
            "Running training epoch\n"
          ]
        },
        {
          "name": "stderr",
          "output_type": "stream",
          "text": [
            "35it [00:00, 216.31it/s]\n",
            "12it [00:00, 658.98it/s]\n"
          ]
        },
        {
          "name": "stdout",
          "output_type": "stream",
          "text": [
            "Running validation\n",
            "Running training epoch\n"
          ]
        },
        {
          "name": "stderr",
          "output_type": "stream",
          "text": [
            "35it [00:00, 158.12it/s]\n",
            "12it [00:00, 540.09it/s]\n"
          ]
        },
        {
          "name": "stdout",
          "output_type": "stream",
          "text": [
            "Running validation\n",
            "Running training epoch\n"
          ]
        },
        {
          "name": "stderr",
          "output_type": "stream",
          "text": [
            "35it [00:00, 219.23it/s]\n",
            "12it [00:00, 460.28it/s]\n"
          ]
        },
        {
          "name": "stdout",
          "output_type": "stream",
          "text": [
            "Running validation\n",
            "Running training epoch\n"
          ]
        },
        {
          "name": "stderr",
          "output_type": "stream",
          "text": [
            "35it [00:00, 197.49it/s]\n",
            "12it [00:00, 628.89it/s]\n"
          ]
        },
        {
          "name": "stdout",
          "output_type": "stream",
          "text": [
            "Running validation\n",
            "Running training epoch\n"
          ]
        },
        {
          "name": "stderr",
          "output_type": "stream",
          "text": [
            "35it [00:00, 198.25it/s]\n",
            "12it [00:00, 672.15it/s]\n"
          ]
        },
        {
          "name": "stdout",
          "output_type": "stream",
          "text": [
            "Running validation\n",
            "Running training epoch\n"
          ]
        },
        {
          "name": "stderr",
          "output_type": "stream",
          "text": [
            "35it [00:00, 206.00it/s]\n",
            "12it [00:00, 574.92it/s]\n"
          ]
        },
        {
          "name": "stdout",
          "output_type": "stream",
          "text": [
            "Running validation\n",
            "Running training epoch\n"
          ]
        },
        {
          "name": "stderr",
          "output_type": "stream",
          "text": [
            "35it [00:00, 205.01it/s]\n",
            "12it [00:00, 615.70it/s]\n"
          ]
        },
        {
          "name": "stdout",
          "output_type": "stream",
          "text": [
            "Running validation\n",
            "Running training epoch\n"
          ]
        },
        {
          "name": "stderr",
          "output_type": "stream",
          "text": [
            "35it [00:00, 179.20it/s]\n",
            "12it [00:00, 554.86it/s]\n"
          ]
        },
        {
          "name": "stdout",
          "output_type": "stream",
          "text": [
            "Running validation\n",
            "Running training epoch\n"
          ]
        },
        {
          "name": "stderr",
          "output_type": "stream",
          "text": [
            "35it [00:00, 196.37it/s]\n",
            "12it [00:00, 537.46it/s]\n"
          ]
        },
        {
          "name": "stdout",
          "output_type": "stream",
          "text": [
            "Running validation\n",
            "Running training epoch\n"
          ]
        },
        {
          "name": "stderr",
          "output_type": "stream",
          "text": [
            "35it [00:00, 185.28it/s]\n",
            "12it [00:00, 541.49it/s]\n"
          ]
        },
        {
          "name": "stdout",
          "output_type": "stream",
          "text": [
            "Running validation\n",
            "Running training epoch\n"
          ]
        },
        {
          "name": "stderr",
          "output_type": "stream",
          "text": [
            "35it [00:00, 200.17it/s]\n",
            "12it [00:00, 615.41it/s]\n"
          ]
        },
        {
          "name": "stdout",
          "output_type": "stream",
          "text": [
            "Running validation\n",
            "Running training epoch\n"
          ]
        },
        {
          "name": "stderr",
          "output_type": "stream",
          "text": [
            "35it [00:00, 207.98it/s]\n",
            "12it [00:00, 528.02it/s]\n"
          ]
        },
        {
          "name": "stdout",
          "output_type": "stream",
          "text": [
            "Running validation\n",
            "Running training epoch\n"
          ]
        },
        {
          "name": "stderr",
          "output_type": "stream",
          "text": [
            "35it [00:00, 218.19it/s]\n",
            "12it [00:00, 702.08it/s]\n"
          ]
        },
        {
          "name": "stdout",
          "output_type": "stream",
          "text": [
            "Running validation\n",
            "Running training epoch\n"
          ]
        },
        {
          "name": "stderr",
          "output_type": "stream",
          "text": [
            "35it [00:00, 268.69it/s]\n",
            "12it [00:00, 810.82it/s]\n"
          ]
        },
        {
          "name": "stdout",
          "output_type": "stream",
          "text": [
            "Running validation\n",
            "Running training epoch\n"
          ]
        },
        {
          "name": "stderr",
          "output_type": "stream",
          "text": [
            "35it [00:00, 275.10it/s]\n",
            "12it [00:00, 834.74it/s]\n"
          ]
        },
        {
          "name": "stdout",
          "output_type": "stream",
          "text": [
            "Running validation\n"
          ]
        },
        {
          "data": {
            "application/vnd.jupyter.widget-view+json": {
              "model_id": "aef939a7a14646448de579466701413f",
              "version_major": 2,
              "version_minor": 0
            },
            "text/plain": [
              "VBox(children=(Label(value='5.930 MB of 5.930 MB uploaded\\r'), FloatProgress(value=1.0, max=1.0)))"
            ]
          },
          "metadata": {},
          "output_type": "display_data"
        },
        {
          "data": {
            "text/html": [
              "<style>\n",
              "    table.wandb td:nth-child(1) { padding: 0 10px; text-align: left ; width: auto;} td:nth-child(2) {text-align: left ; width: 100%}\n",
              "    .wandb-row { display: flex; flex-direction: row; flex-wrap: wrap; justify-content: flex-start; width: 100% }\n",
              "    .wandb-col { display: flex; flex-direction: column; flex-basis: 100%; flex: 1; padding: 10px; }\n",
              "    </style>\n",
              "<div class=\"wandb-row\"><div class=\"wandb-col\"><h3>Run history:</h3><br/><table class=\"wandb\"><tr><td>train_loss</td><td>█▁▁▁▁▁▁▁▁▁▁▁▁▁▁▁▁▁▁▁▁▁▁▁▁▁▁▁▁▁▁▁▁▁▁▁▁▁▁▁</td></tr><tr><td>val_loss</td><td>▃▂▃▁▁▃▁▁▁▂▁▂▁▄▂▅▄▂▁▂▄▂▂▁▁▂▁▂█▁▁▂▂▂▂▁▂▂▄▂</td></tr></table><br/></div><div class=\"wandb-col\"><h3>Run summary:</h3><br/><table class=\"wandb\"><tr><td>train_loss</td><td>7.17182</td></tr><tr><td>val_loss</td><td>12.15192</td></tr></table><br/></div></div>"
            ],
            "text/plain": [
              "<IPython.core.display.HTML object>"
            ]
          },
          "metadata": {},
          "output_type": "display_data"
        },
        {
          "data": {
            "text/html": [
              " View run <strong style=\"color:#cdcd00\">Collab VanillaRNN 5 lookback </strong> at: <a href='https://wandb.ai/cell-x/coursework_1/runs/v1kcr1qp' target=\"_blank\">https://wandb.ai/cell-x/coursework_1/runs/v1kcr1qp</a><br/>Synced 5 W&B file(s), 0 media file(s), 0 artifact file(s) and 100 other file(s)"
            ],
            "text/plain": [
              "<IPython.core.display.HTML object>"
            ]
          },
          "metadata": {},
          "output_type": "display_data"
        },
        {
          "data": {
            "text/html": [
              "Find logs at: <code>./wandb/run-20231110_143529-v1kcr1qp/logs</code>"
            ],
            "text/plain": [
              "<IPython.core.display.HTML object>"
            ]
          },
          "metadata": {},
          "output_type": "display_data"
        },
        {
          "name": "stdout",
          "output_type": "stream",
          "text": [
            "torch.Size([32, 1])\n",
            "torch.Size([32, 1])\n"
          ]
        },
        {
          "data": {
            "text/html": [
              "Tracking run with wandb version 0.16.0"
            ],
            "text/plain": [
              "<IPython.core.display.HTML object>"
            ]
          },
          "metadata": {},
          "output_type": "display_data"
        },
        {
          "data": {
            "text/html": [
              "Run data is saved locally in <code>/content/wandb/run-20231110_143557-agcuecz2</code>"
            ],
            "text/plain": [
              "<IPython.core.display.HTML object>"
            ]
          },
          "metadata": {},
          "output_type": "display_data"
        },
        {
          "data": {
            "text/html": [
              "Syncing run <strong><a href='https://wandb.ai/cell-x/coursework_1/runs/agcuecz2' target=\"_blank\">Collab VanillaRNN 7 lookback </a></strong> to <a href='https://wandb.ai/cell-x/coursework_1' target=\"_blank\">Weights & Biases</a> (<a href='https://wandb.me/run' target=\"_blank\">docs</a>)<br/>"
            ],
            "text/plain": [
              "<IPython.core.display.HTML object>"
            ]
          },
          "metadata": {},
          "output_type": "display_data"
        },
        {
          "data": {
            "text/html": [
              " View project at <a href='https://wandb.ai/cell-x/coursework_1' target=\"_blank\">https://wandb.ai/cell-x/coursework_1</a>"
            ],
            "text/plain": [
              "<IPython.core.display.HTML object>"
            ]
          },
          "metadata": {},
          "output_type": "display_data"
        },
        {
          "data": {
            "text/html": [
              " View run at <a href='https://wandb.ai/cell-x/coursework_1/runs/agcuecz2' target=\"_blank\">https://wandb.ai/cell-x/coursework_1/runs/agcuecz2</a>"
            ],
            "text/plain": [
              "<IPython.core.display.HTML object>"
            ]
          },
          "metadata": {},
          "output_type": "display_data"
        },
        {
          "name": "stdout",
          "output_type": "stream",
          "text": [
            "Running training epoch\n"
          ]
        },
        {
          "name": "stderr",
          "output_type": "stream",
          "text": [
            "24it [00:00, 231.38it/s]/usr/local/lib/python3.10/dist-packages/torch/nn/modules/loss.py:535: UserWarning: Using a target size (torch.Size([1, 1])) that is different to the input size (torch.Size([1])). This will likely lead to incorrect results due to broadcasting. Please ensure they have the same size.\n",
            "  return F.mse_loss(input, target, reduction=self.reduction)\n",
            "35it [00:00, 217.62it/s]\n",
            "12it [00:00, 634.86it/s]"
          ]
        },
        {
          "name": "stdout",
          "output_type": "stream",
          "text": [
            "Running validation\n"
          ]
        },
        {
          "name": "stderr",
          "output_type": "stream",
          "text": [
            "\n"
          ]
        },
        {
          "name": "stdout",
          "output_type": "stream",
          "text": [
            "Running training epoch\n"
          ]
        },
        {
          "name": "stderr",
          "output_type": "stream",
          "text": [
            "35it [00:00, 207.44it/s]\n",
            "12it [00:00, 647.45it/s]\n"
          ]
        },
        {
          "name": "stdout",
          "output_type": "stream",
          "text": [
            "Running validation\n",
            "Running training epoch\n"
          ]
        },
        {
          "name": "stderr",
          "output_type": "stream",
          "text": [
            "35it [00:00, 266.54it/s]\n",
            "12it [00:00, 453.82it/s]\n"
          ]
        },
        {
          "name": "stdout",
          "output_type": "stream",
          "text": [
            "Running validation\n",
            "Running training epoch\n"
          ]
        },
        {
          "name": "stderr",
          "output_type": "stream",
          "text": [
            "35it [00:00, 187.75it/s]\n",
            "12it [00:00, 641.32it/s]\n"
          ]
        },
        {
          "name": "stdout",
          "output_type": "stream",
          "text": [
            "Running validation\n",
            "Running training epoch\n"
          ]
        },
        {
          "name": "stderr",
          "output_type": "stream",
          "text": [
            "35it [00:00, 244.77it/s]\n",
            "12it [00:00, 858.92it/s]\n"
          ]
        },
        {
          "name": "stdout",
          "output_type": "stream",
          "text": [
            "Running validation\n",
            "Running training epoch\n"
          ]
        },
        {
          "name": "stderr",
          "output_type": "stream",
          "text": [
            "35it [00:00, 297.64it/s]\n",
            "12it [00:00, 542.02it/s]\n"
          ]
        },
        {
          "name": "stdout",
          "output_type": "stream",
          "text": [
            "Running validation\n",
            "Running training epoch\n"
          ]
        },
        {
          "name": "stderr",
          "output_type": "stream",
          "text": [
            "35it [00:00, 201.63it/s]\n",
            "12it [00:00, 452.54it/s]\n"
          ]
        },
        {
          "name": "stdout",
          "output_type": "stream",
          "text": [
            "Running validation\n",
            "Running training epoch\n"
          ]
        },
        {
          "name": "stderr",
          "output_type": "stream",
          "text": [
            "35it [00:00, 198.39it/s]\n",
            "12it [00:00, 654.70it/s]\n"
          ]
        },
        {
          "name": "stdout",
          "output_type": "stream",
          "text": [
            "Running validation\n",
            "Running training epoch\n"
          ]
        },
        {
          "name": "stderr",
          "output_type": "stream",
          "text": [
            "35it [00:00, 220.27it/s]\n",
            "12it [00:00, 611.70it/s]\n"
          ]
        },
        {
          "name": "stdout",
          "output_type": "stream",
          "text": [
            "Running validation\n",
            "Running training epoch\n"
          ]
        },
        {
          "name": "stderr",
          "output_type": "stream",
          "text": [
            "35it [00:00, 121.91it/s]\n",
            "12it [00:00, 390.96it/s]\n"
          ]
        },
        {
          "name": "stdout",
          "output_type": "stream",
          "text": [
            "Running validation\n",
            "Running training epoch\n"
          ]
        },
        {
          "name": "stderr",
          "output_type": "stream",
          "text": [
            "35it [00:00, 194.92it/s]\n",
            "12it [00:00, 613.40it/s]\n"
          ]
        },
        {
          "name": "stdout",
          "output_type": "stream",
          "text": [
            "Running validation\n",
            "Running training epoch\n"
          ]
        },
        {
          "name": "stderr",
          "output_type": "stream",
          "text": [
            "35it [00:00, 198.39it/s]\n",
            "12it [00:00, 599.16it/s]\n"
          ]
        },
        {
          "name": "stdout",
          "output_type": "stream",
          "text": [
            "Running validation\n",
            "Running training epoch\n"
          ]
        },
        {
          "name": "stderr",
          "output_type": "stream",
          "text": [
            "35it [00:00, 217.35it/s]\n",
            "12it [00:00, 578.80it/s]\n"
          ]
        },
        {
          "name": "stdout",
          "output_type": "stream",
          "text": [
            "Running validation\n",
            "Running training epoch\n"
          ]
        },
        {
          "name": "stderr",
          "output_type": "stream",
          "text": [
            "35it [00:00, 213.19it/s]\n",
            "12it [00:00, 608.00it/s]\n"
          ]
        },
        {
          "name": "stdout",
          "output_type": "stream",
          "text": [
            "Running validation\n",
            "Running training epoch\n"
          ]
        },
        {
          "name": "stderr",
          "output_type": "stream",
          "text": [
            "35it [00:00, 208.77it/s]\n",
            "12it [00:00, 606.92it/s]\n"
          ]
        },
        {
          "name": "stdout",
          "output_type": "stream",
          "text": [
            "Running validation\n",
            "Running training epoch\n"
          ]
        },
        {
          "name": "stderr",
          "output_type": "stream",
          "text": [
            "35it [00:00, 212.21it/s]\n",
            "12it [00:00, 373.68it/s]\n"
          ]
        },
        {
          "name": "stdout",
          "output_type": "stream",
          "text": [
            "Running validation\n",
            "Running training epoch\n"
          ]
        },
        {
          "name": "stderr",
          "output_type": "stream",
          "text": [
            "35it [00:00, 167.56it/s]\n",
            "12it [00:00, 515.37it/s]\n"
          ]
        },
        {
          "name": "stdout",
          "output_type": "stream",
          "text": [
            "Running validation\n",
            "Running training epoch\n"
          ]
        },
        {
          "name": "stderr",
          "output_type": "stream",
          "text": [
            "35it [00:00, 185.61it/s]\n",
            "12it [00:00, 544.74it/s]\n"
          ]
        },
        {
          "name": "stdout",
          "output_type": "stream",
          "text": [
            "Running validation\n",
            "Running training epoch\n"
          ]
        },
        {
          "name": "stderr",
          "output_type": "stream",
          "text": [
            "35it [00:00, 206.07it/s]\n",
            "12it [00:00, 586.73it/s]\n"
          ]
        },
        {
          "name": "stdout",
          "output_type": "stream",
          "text": [
            "Running validation\n",
            "Running training epoch\n"
          ]
        },
        {
          "name": "stderr",
          "output_type": "stream",
          "text": [
            "35it [00:00, 214.45it/s]\n",
            "12it [00:00, 629.37it/s]\n"
          ]
        },
        {
          "name": "stdout",
          "output_type": "stream",
          "text": [
            "Running validation\n",
            "Running training epoch\n"
          ]
        },
        {
          "name": "stderr",
          "output_type": "stream",
          "text": [
            "35it [00:00, 156.19it/s]\n",
            "12it [00:00, 592.95it/s]\n"
          ]
        },
        {
          "name": "stdout",
          "output_type": "stream",
          "text": [
            "Running validation\n",
            "Running training epoch\n"
          ]
        },
        {
          "name": "stderr",
          "output_type": "stream",
          "text": [
            "35it [00:00, 204.74it/s]\n",
            "12it [00:00, 575.42it/s]\n"
          ]
        },
        {
          "name": "stdout",
          "output_type": "stream",
          "text": [
            "Running validation\n",
            "Running training epoch\n"
          ]
        },
        {
          "name": "stderr",
          "output_type": "stream",
          "text": [
            "35it [00:00, 187.40it/s]\n",
            "12it [00:00, 612.20it/s]\n"
          ]
        },
        {
          "name": "stdout",
          "output_type": "stream",
          "text": [
            "Running validation\n",
            "Running training epoch\n"
          ]
        },
        {
          "name": "stderr",
          "output_type": "stream",
          "text": [
            "35it [00:00, 200.66it/s]\n",
            "12it [00:00, 607.26it/s]\n"
          ]
        },
        {
          "name": "stdout",
          "output_type": "stream",
          "text": [
            "Running validation\n",
            "Running training epoch\n"
          ]
        },
        {
          "name": "stderr",
          "output_type": "stream",
          "text": [
            "35it [00:00, 192.81it/s]\n",
            "12it [00:00, 515.27it/s]\n"
          ]
        },
        {
          "name": "stdout",
          "output_type": "stream",
          "text": [
            "Running validation\n",
            "Running training epoch\n"
          ]
        },
        {
          "name": "stderr",
          "output_type": "stream",
          "text": [
            "35it [00:00, 209.98it/s]\n",
            "12it [00:00, 581.74it/s]\n"
          ]
        },
        {
          "name": "stdout",
          "output_type": "stream",
          "text": [
            "Running validation\n",
            "Running training epoch\n"
          ]
        },
        {
          "name": "stderr",
          "output_type": "stream",
          "text": [
            "35it [00:00, 209.03it/s]\n",
            "12it [00:00, 476.58it/s]\n"
          ]
        },
        {
          "name": "stdout",
          "output_type": "stream",
          "text": [
            "Running validation\n",
            "Running training epoch\n"
          ]
        },
        {
          "name": "stderr",
          "output_type": "stream",
          "text": [
            "35it [00:00, 179.70it/s]\n",
            "12it [00:00, 601.18it/s]\n"
          ]
        },
        {
          "name": "stdout",
          "output_type": "stream",
          "text": [
            "Running validation\n",
            "Running training epoch\n"
          ]
        },
        {
          "name": "stderr",
          "output_type": "stream",
          "text": [
            "35it [00:00, 192.75it/s]\n",
            "12it [00:00, 520.36it/s]\n"
          ]
        },
        {
          "name": "stdout",
          "output_type": "stream",
          "text": [
            "Running validation\n",
            "Running training epoch\n"
          ]
        },
        {
          "name": "stderr",
          "output_type": "stream",
          "text": [
            "35it [00:00, 186.70it/s]\n",
            "12it [00:00, 464.92it/s]\n"
          ]
        },
        {
          "name": "stdout",
          "output_type": "stream",
          "text": [
            "Running validation\n",
            "Running training epoch\n"
          ]
        },
        {
          "name": "stderr",
          "output_type": "stream",
          "text": [
            "35it [00:00, 195.53it/s]\n",
            "12it [00:00, 521.24it/s]\n"
          ]
        },
        {
          "name": "stdout",
          "output_type": "stream",
          "text": [
            "Running validation\n",
            "Running training epoch\n"
          ]
        },
        {
          "name": "stderr",
          "output_type": "stream",
          "text": [
            "35it [00:00, 172.65it/s]\n",
            "12it [00:00, 500.65it/s]\n"
          ]
        },
        {
          "name": "stdout",
          "output_type": "stream",
          "text": [
            "Running validation\n",
            "Running training epoch\n"
          ]
        },
        {
          "name": "stderr",
          "output_type": "stream",
          "text": [
            "35it [00:00, 189.81it/s]\n",
            "12it [00:00, 524.18it/s]\n"
          ]
        },
        {
          "name": "stdout",
          "output_type": "stream",
          "text": [
            "Running validation\n",
            "Running training epoch\n"
          ]
        },
        {
          "name": "stderr",
          "output_type": "stream",
          "text": [
            "35it [00:00, 175.72it/s]\n",
            "12it [00:00, 494.11it/s]\n"
          ]
        },
        {
          "name": "stdout",
          "output_type": "stream",
          "text": [
            "Running validation\n",
            "Running training epoch\n"
          ]
        },
        {
          "name": "stderr",
          "output_type": "stream",
          "text": [
            "35it [00:00, 162.10it/s]\n",
            "12it [00:00, 478.65it/s]\n"
          ]
        },
        {
          "name": "stdout",
          "output_type": "stream",
          "text": [
            "Running validation\n",
            "Running training epoch\n"
          ]
        },
        {
          "name": "stderr",
          "output_type": "stream",
          "text": [
            "35it [00:00, 183.39it/s]\n",
            "12it [00:00, 528.83it/s]\n"
          ]
        },
        {
          "name": "stdout",
          "output_type": "stream",
          "text": [
            "Running validation\n",
            "Running training epoch\n"
          ]
        },
        {
          "name": "stderr",
          "output_type": "stream",
          "text": [
            "35it [00:00, 281.16it/s]\n",
            "12it [00:00, 622.07it/s]\n"
          ]
        },
        {
          "name": "stdout",
          "output_type": "stream",
          "text": [
            "Running validation\n",
            "Running training epoch\n"
          ]
        },
        {
          "name": "stderr",
          "output_type": "stream",
          "text": [
            "35it [00:00, 282.59it/s]\n",
            "12it [00:00, 621.54it/s]\n"
          ]
        },
        {
          "name": "stdout",
          "output_type": "stream",
          "text": [
            "Running validation\n",
            "Running training epoch\n"
          ]
        },
        {
          "name": "stderr",
          "output_type": "stream",
          "text": [
            "35it [00:00, 257.93it/s]\n",
            "12it [00:00, 844.53it/s]\n"
          ]
        },
        {
          "name": "stdout",
          "output_type": "stream",
          "text": [
            "Running validation\n",
            "Running training epoch\n"
          ]
        },
        {
          "name": "stderr",
          "output_type": "stream",
          "text": [
            "35it [00:00, 268.13it/s]\n",
            "12it [00:00, 871.29it/s]\n"
          ]
        },
        {
          "name": "stdout",
          "output_type": "stream",
          "text": [
            "Running validation\n",
            "Running training epoch\n"
          ]
        },
        {
          "name": "stderr",
          "output_type": "stream",
          "text": [
            "35it [00:00, 287.34it/s]\n",
            "12it [00:00, 655.76it/s]\n"
          ]
        },
        {
          "name": "stdout",
          "output_type": "stream",
          "text": [
            "Running validation\n",
            "Running training epoch\n"
          ]
        },
        {
          "name": "stderr",
          "output_type": "stream",
          "text": [
            "35it [00:00, 262.67it/s]\n",
            "12it [00:00, 784.83it/s]\n"
          ]
        },
        {
          "name": "stdout",
          "output_type": "stream",
          "text": [
            "Running validation\n",
            "Running training epoch\n"
          ]
        },
        {
          "name": "stderr",
          "output_type": "stream",
          "text": [
            "35it [00:00, 287.91it/s]\n",
            "12it [00:00, 748.99it/s]\n"
          ]
        },
        {
          "name": "stdout",
          "output_type": "stream",
          "text": [
            "Running validation\n",
            "Running training epoch\n"
          ]
        },
        {
          "name": "stderr",
          "output_type": "stream",
          "text": [
            "35it [00:00, 265.70it/s]\n",
            "12it [00:00, 550.37it/s]\n"
          ]
        },
        {
          "name": "stdout",
          "output_type": "stream",
          "text": [
            "Running validation\n",
            "Running training epoch\n"
          ]
        },
        {
          "name": "stderr",
          "output_type": "stream",
          "text": [
            "35it [00:00, 286.61it/s]\n",
            "12it [00:00, 669.14it/s]\n"
          ]
        },
        {
          "name": "stdout",
          "output_type": "stream",
          "text": [
            "Running validation\n",
            "Running training epoch\n"
          ]
        },
        {
          "name": "stderr",
          "output_type": "stream",
          "text": [
            "35it [00:00, 288.03it/s]\n",
            "12it [00:00, 816.13it/s]\n"
          ]
        },
        {
          "name": "stdout",
          "output_type": "stream",
          "text": [
            "Running validation\n",
            "Running training epoch\n"
          ]
        },
        {
          "name": "stderr",
          "output_type": "stream",
          "text": [
            "35it [00:00, 265.81it/s]\n",
            "12it [00:00, 714.41it/s]\n"
          ]
        },
        {
          "name": "stdout",
          "output_type": "stream",
          "text": [
            "Running validation\n",
            "Running training epoch\n"
          ]
        },
        {
          "name": "stderr",
          "output_type": "stream",
          "text": [
            "35it [00:00, 280.40it/s]\n",
            "12it [00:00, 712.91it/s]\n"
          ]
        },
        {
          "name": "stdout",
          "output_type": "stream",
          "text": [
            "Running validation\n",
            "Running training epoch\n"
          ]
        },
        {
          "name": "stderr",
          "output_type": "stream",
          "text": [
            "35it [00:00, 265.90it/s]\n",
            "12it [00:00, 746.37it/s]\n"
          ]
        },
        {
          "name": "stdout",
          "output_type": "stream",
          "text": [
            "Running validation\n",
            "Running training epoch\n"
          ]
        },
        {
          "name": "stderr",
          "output_type": "stream",
          "text": [
            "35it [00:00, 274.44it/s]\n",
            "12it [00:00, 668.91it/s]\n"
          ]
        },
        {
          "name": "stdout",
          "output_type": "stream",
          "text": [
            "Running validation\n",
            "Running training epoch\n"
          ]
        },
        {
          "name": "stderr",
          "output_type": "stream",
          "text": [
            "35it [00:00, 280.84it/s]\n",
            "12it [00:00, 681.16it/s]\n"
          ]
        },
        {
          "name": "stdout",
          "output_type": "stream",
          "text": [
            "Running validation\n",
            "Running training epoch\n"
          ]
        },
        {
          "name": "stderr",
          "output_type": "stream",
          "text": [
            "35it [00:00, 257.79it/s]\n",
            "12it [00:00, 527.39it/s]\n"
          ]
        },
        {
          "name": "stdout",
          "output_type": "stream",
          "text": [
            "Running validation\n",
            "Running training epoch\n"
          ]
        },
        {
          "name": "stderr",
          "output_type": "stream",
          "text": [
            "35it [00:00, 302.18it/s]\n",
            "12it [00:00, 674.18it/s]\n"
          ]
        },
        {
          "name": "stdout",
          "output_type": "stream",
          "text": [
            "Running validation\n",
            "Running training epoch\n"
          ]
        },
        {
          "name": "stderr",
          "output_type": "stream",
          "text": [
            "35it [00:00, 263.93it/s]\n",
            "12it [00:00, 755.81it/s]\n"
          ]
        },
        {
          "name": "stdout",
          "output_type": "stream",
          "text": [
            "Running validation\n",
            "Running training epoch\n"
          ]
        },
        {
          "name": "stderr",
          "output_type": "stream",
          "text": [
            "35it [00:00, 260.62it/s]\n",
            "12it [00:00, 624.19it/s]\n"
          ]
        },
        {
          "name": "stdout",
          "output_type": "stream",
          "text": [
            "Running validation\n",
            "Running training epoch\n"
          ]
        },
        {
          "name": "stderr",
          "output_type": "stream",
          "text": [
            "35it [00:00, 293.66it/s]\n",
            "12it [00:00, 161.26it/s]\n"
          ]
        },
        {
          "name": "stdout",
          "output_type": "stream",
          "text": [
            "Running validation\n",
            "Running training epoch\n"
          ]
        },
        {
          "name": "stderr",
          "output_type": "stream",
          "text": [
            "35it [00:00, 137.25it/s]\n",
            "12it [00:00, 448.10it/s]\n"
          ]
        },
        {
          "name": "stdout",
          "output_type": "stream",
          "text": [
            "Running validation\n",
            "Running training epoch\n"
          ]
        },
        {
          "name": "stderr",
          "output_type": "stream",
          "text": [
            "35it [00:00, 119.04it/s]\n",
            "12it [00:00, 557.98it/s]\n"
          ]
        },
        {
          "name": "stdout",
          "output_type": "stream",
          "text": [
            "Running validation\n",
            "Running training epoch\n"
          ]
        },
        {
          "name": "stderr",
          "output_type": "stream",
          "text": [
            "35it [00:00, 78.98it/s]\n",
            "12it [00:00, 166.57it/s]\n"
          ]
        },
        {
          "name": "stdout",
          "output_type": "stream",
          "text": [
            "Running validation\n",
            "Running training epoch\n"
          ]
        },
        {
          "name": "stderr",
          "output_type": "stream",
          "text": [
            "35it [00:00, 149.70it/s]\n",
            "12it [00:00, 439.41it/s]\n"
          ]
        },
        {
          "name": "stdout",
          "output_type": "stream",
          "text": [
            "Running validation\n",
            "Running training epoch\n"
          ]
        },
        {
          "name": "stderr",
          "output_type": "stream",
          "text": [
            "35it [00:00, 108.47it/s]\n",
            "12it [00:00, 761.72it/s]\n"
          ]
        },
        {
          "name": "stdout",
          "output_type": "stream",
          "text": [
            "Running validation\n",
            "Running training epoch\n"
          ]
        },
        {
          "name": "stderr",
          "output_type": "stream",
          "text": [
            "35it [00:00, 267.71it/s]\n",
            "12it [00:00, 725.83it/s]\n"
          ]
        },
        {
          "name": "stdout",
          "output_type": "stream",
          "text": [
            "Running validation\n",
            "Running training epoch\n"
          ]
        },
        {
          "name": "stderr",
          "output_type": "stream",
          "text": [
            "35it [00:00, 90.41it/s]\n",
            "12it [00:00, 208.36it/s]\n"
          ]
        },
        {
          "name": "stdout",
          "output_type": "stream",
          "text": [
            "Running validation\n",
            "Running training epoch\n"
          ]
        },
        {
          "name": "stderr",
          "output_type": "stream",
          "text": [
            "35it [00:00, 61.64it/s]\n",
            "12it [00:00, 360.81it/s]\n"
          ]
        },
        {
          "name": "stdout",
          "output_type": "stream",
          "text": [
            "Running validation\n",
            "Running training epoch\n"
          ]
        },
        {
          "name": "stderr",
          "output_type": "stream",
          "text": [
            "35it [00:00, 92.00it/s]\n",
            "12it [00:00, 268.30it/s]\n"
          ]
        },
        {
          "name": "stdout",
          "output_type": "stream",
          "text": [
            "Running validation\n",
            "Running training epoch\n"
          ]
        },
        {
          "name": "stderr",
          "output_type": "stream",
          "text": [
            "35it [00:00, 67.92it/s]\n",
            "12it [00:00, 408.51it/s]\n"
          ]
        },
        {
          "name": "stdout",
          "output_type": "stream",
          "text": [
            "Running validation\n",
            "Running training epoch\n"
          ]
        },
        {
          "name": "stderr",
          "output_type": "stream",
          "text": [
            "35it [00:00, 53.66it/s]\n",
            "12it [00:00, 145.85it/s]\n"
          ]
        },
        {
          "name": "stdout",
          "output_type": "stream",
          "text": [
            "Running validation\n",
            "Running training epoch\n"
          ]
        },
        {
          "name": "stderr",
          "output_type": "stream",
          "text": [
            "35it [00:00, 52.05it/s]\n",
            "12it [00:00, 311.97it/s]\n"
          ]
        },
        {
          "name": "stdout",
          "output_type": "stream",
          "text": [
            "Running validation\n",
            "Running training epoch\n"
          ]
        },
        {
          "name": "stderr",
          "output_type": "stream",
          "text": [
            "35it [00:00, 153.78it/s]\n",
            "12it [00:00, 486.70it/s]\n"
          ]
        },
        {
          "name": "stdout",
          "output_type": "stream",
          "text": [
            "Running validation\n",
            "Running training epoch\n"
          ]
        },
        {
          "name": "stderr",
          "output_type": "stream",
          "text": [
            "35it [00:00, 69.05it/s]\n",
            "12it [00:00, 226.65it/s]\n"
          ]
        },
        {
          "name": "stdout",
          "output_type": "stream",
          "text": [
            "Running validation\n",
            "Running training epoch\n"
          ]
        },
        {
          "name": "stderr",
          "output_type": "stream",
          "text": [
            "35it [00:00, 60.44it/s]\n",
            "12it [00:00, 225.31it/s]\n"
          ]
        },
        {
          "name": "stdout",
          "output_type": "stream",
          "text": [
            "Running validation\n",
            "Running training epoch\n"
          ]
        },
        {
          "name": "stderr",
          "output_type": "stream",
          "text": [
            "35it [00:00, 58.08it/s]\n",
            "12it [00:00, 87.36it/s]\n"
          ]
        },
        {
          "name": "stdout",
          "output_type": "stream",
          "text": [
            "Running validation\n",
            "Running training epoch\n"
          ]
        },
        {
          "name": "stderr",
          "output_type": "stream",
          "text": [
            "35it [00:01, 33.70it/s]\n",
            "12it [00:00, 77.75it/s]\n"
          ]
        },
        {
          "name": "stdout",
          "output_type": "stream",
          "text": [
            "Running validation\n",
            "Running training epoch\n"
          ]
        },
        {
          "name": "stderr",
          "output_type": "stream",
          "text": [
            "35it [00:01, 34.37it/s]\n",
            "12it [00:00, 188.58it/s]\n"
          ]
        },
        {
          "name": "stdout",
          "output_type": "stream",
          "text": [
            "Running validation\n",
            "Running training epoch\n"
          ]
        },
        {
          "name": "stderr",
          "output_type": "stream",
          "text": [
            "35it [00:00, 72.91it/s]\n",
            "12it [00:00, 178.24it/s]\n"
          ]
        },
        {
          "name": "stdout",
          "output_type": "stream",
          "text": [
            "Running validation\n",
            "Running training epoch\n"
          ]
        },
        {
          "name": "stderr",
          "output_type": "stream",
          "text": [
            "35it [00:00, 91.83it/s]\n",
            "12it [00:00, 153.34it/s]\n"
          ]
        },
        {
          "name": "stdout",
          "output_type": "stream",
          "text": [
            "Running validation\n",
            "Running training epoch\n"
          ]
        },
        {
          "name": "stderr",
          "output_type": "stream",
          "text": [
            "35it [00:00, 81.16it/s]\n",
            "12it [00:00, 206.25it/s]\n"
          ]
        },
        {
          "name": "stdout",
          "output_type": "stream",
          "text": [
            "Running validation\n",
            "Running training epoch\n"
          ]
        },
        {
          "name": "stderr",
          "output_type": "stream",
          "text": [
            "35it [00:00, 65.81it/s]\n",
            "12it [00:00, 204.41it/s]\n"
          ]
        },
        {
          "name": "stdout",
          "output_type": "stream",
          "text": [
            "Running validation\n",
            "Running training epoch\n"
          ]
        },
        {
          "name": "stderr",
          "output_type": "stream",
          "text": [
            "35it [00:00, 92.59it/s]\n",
            "12it [00:00, 609.11it/s]\n"
          ]
        },
        {
          "name": "stdout",
          "output_type": "stream",
          "text": [
            "Running validation\n",
            "Running training epoch\n"
          ]
        },
        {
          "name": "stderr",
          "output_type": "stream",
          "text": [
            "35it [00:00, 175.29it/s]\n",
            "12it [00:00, 212.00it/s]\n"
          ]
        },
        {
          "name": "stdout",
          "output_type": "stream",
          "text": [
            "Running validation\n",
            "Running training epoch\n"
          ]
        },
        {
          "name": "stderr",
          "output_type": "stream",
          "text": [
            "35it [00:00, 110.18it/s]\n",
            "12it [00:00, 209.31it/s]\n"
          ]
        },
        {
          "name": "stdout",
          "output_type": "stream",
          "text": [
            "Running validation\n",
            "Running training epoch\n"
          ]
        },
        {
          "name": "stderr",
          "output_type": "stream",
          "text": [
            "35it [00:00, 188.49it/s]\n",
            "12it [00:00, 773.77it/s]\n"
          ]
        },
        {
          "name": "stdout",
          "output_type": "stream",
          "text": [
            "Running validation\n",
            "Running training epoch\n"
          ]
        },
        {
          "name": "stderr",
          "output_type": "stream",
          "text": [
            "35it [00:00, 300.05it/s]\n",
            "12it [00:00, 740.68it/s]\n"
          ]
        },
        {
          "name": "stdout",
          "output_type": "stream",
          "text": [
            "Running validation\n",
            "Running training epoch\n"
          ]
        },
        {
          "name": "stderr",
          "output_type": "stream",
          "text": [
            "35it [00:00, 269.67it/s]\n",
            "12it [00:00, 803.42it/s]\n"
          ]
        },
        {
          "name": "stdout",
          "output_type": "stream",
          "text": [
            "Running validation\n",
            "Running training epoch\n"
          ]
        },
        {
          "name": "stderr",
          "output_type": "stream",
          "text": [
            "35it [00:00, 262.74it/s]\n",
            "12it [00:00, 900.31it/s]\n"
          ]
        },
        {
          "name": "stdout",
          "output_type": "stream",
          "text": [
            "Running validation\n",
            "Running training epoch\n"
          ]
        },
        {
          "name": "stderr",
          "output_type": "stream",
          "text": [
            "35it [00:00, 230.60it/s]\n",
            "12it [00:00, 603.59it/s]\n"
          ]
        },
        {
          "name": "stdout",
          "output_type": "stream",
          "text": [
            "Running validation\n",
            "Running training epoch\n"
          ]
        },
        {
          "name": "stderr",
          "output_type": "stream",
          "text": [
            "35it [00:00, 243.05it/s]\n",
            "12it [00:00, 885.68it/s]\n"
          ]
        },
        {
          "name": "stdout",
          "output_type": "stream",
          "text": [
            "Running validation\n",
            "Running training epoch\n"
          ]
        },
        {
          "name": "stderr",
          "output_type": "stream",
          "text": [
            "35it [00:00, 280.08it/s]\n",
            "12it [00:00, 769.96it/s]\n"
          ]
        },
        {
          "name": "stdout",
          "output_type": "stream",
          "text": [
            "Running validation\n",
            "Running training epoch\n"
          ]
        },
        {
          "name": "stderr",
          "output_type": "stream",
          "text": [
            "35it [00:00, 288.36it/s]\n",
            "12it [00:00, 562.83it/s]\n"
          ]
        },
        {
          "name": "stdout",
          "output_type": "stream",
          "text": [
            "Running validation\n",
            "Running training epoch\n"
          ]
        },
        {
          "name": "stderr",
          "output_type": "stream",
          "text": [
            "35it [00:00, 291.21it/s]\n",
            "12it [00:00, 847.19it/s]\n"
          ]
        },
        {
          "name": "stdout",
          "output_type": "stream",
          "text": [
            "Running validation\n",
            "Running training epoch\n"
          ]
        },
        {
          "name": "stderr",
          "output_type": "stream",
          "text": [
            "35it [00:00, 262.02it/s]\n",
            "12it [00:00, 504.93it/s]\n"
          ]
        },
        {
          "name": "stdout",
          "output_type": "stream",
          "text": [
            "Running validation\n",
            "Running training epoch\n"
          ]
        },
        {
          "name": "stderr",
          "output_type": "stream",
          "text": [
            "35it [00:00, 253.55it/s]\n",
            "12it [00:00, 830.69it/s]\n"
          ]
        },
        {
          "name": "stdout",
          "output_type": "stream",
          "text": [
            "Running validation\n",
            "Running training epoch\n"
          ]
        },
        {
          "name": "stderr",
          "output_type": "stream",
          "text": [
            "35it [00:00, 225.50it/s]\n",
            "12it [00:00, 776.75it/s]\n"
          ]
        },
        {
          "name": "stdout",
          "output_type": "stream",
          "text": [
            "Running validation\n",
            "Running training epoch\n"
          ]
        },
        {
          "name": "stderr",
          "output_type": "stream",
          "text": [
            "35it [00:00, 290.92it/s]\n",
            "12it [00:00, 698.04it/s]\n"
          ]
        },
        {
          "name": "stdout",
          "output_type": "stream",
          "text": [
            "Running validation\n",
            "Running training epoch\n"
          ]
        },
        {
          "name": "stderr",
          "output_type": "stream",
          "text": [
            "35it [00:00, 260.60it/s]\n",
            "12it [00:00, 831.67it/s]\n"
          ]
        },
        {
          "name": "stdout",
          "output_type": "stream",
          "text": [
            "Running validation\n",
            "Running training epoch\n"
          ]
        },
        {
          "name": "stderr",
          "output_type": "stream",
          "text": [
            "35it [00:00, 263.31it/s]\n",
            "12it [00:00, 690.92it/s]\n"
          ]
        },
        {
          "name": "stdout",
          "output_type": "stream",
          "text": [
            "Running validation\n",
            "Running training epoch\n"
          ]
        },
        {
          "name": "stderr",
          "output_type": "stream",
          "text": [
            "35it [00:00, 263.20it/s]\n",
            "12it [00:00, 824.11it/s]\n"
          ]
        },
        {
          "name": "stdout",
          "output_type": "stream",
          "text": [
            "Running validation\n",
            "Running training epoch\n"
          ]
        },
        {
          "name": "stderr",
          "output_type": "stream",
          "text": [
            "35it [00:00, 270.57it/s]\n",
            "12it [00:00, 542.63it/s]\n"
          ]
        },
        {
          "name": "stdout",
          "output_type": "stream",
          "text": [
            "Running validation\n",
            "Running training epoch\n"
          ]
        },
        {
          "name": "stderr",
          "output_type": "stream",
          "text": [
            "35it [00:00, 273.60it/s]\n",
            "12it [00:00, 677.83it/s]\n"
          ]
        },
        {
          "name": "stdout",
          "output_type": "stream",
          "text": [
            "Running validation\n",
            "Running training epoch\n"
          ]
        },
        {
          "name": "stderr",
          "output_type": "stream",
          "text": [
            "35it [00:00, 288.35it/s]\n",
            "12it [00:00, 653.58it/s]\n"
          ]
        },
        {
          "name": "stdout",
          "output_type": "stream",
          "text": [
            "Running validation\n"
          ]
        },
        {
          "data": {
            "application/vnd.jupyter.widget-view+json": {
              "model_id": "1633ca92b90e4516b3a89f4080b4c0c1",
              "version_major": 2,
              "version_minor": 0
            },
            "text/plain": [
              "VBox(children=(Label(value='5.930 MB of 5.930 MB uploaded\\r'), FloatProgress(value=1.0, max=1.0)))"
            ]
          },
          "metadata": {},
          "output_type": "display_data"
        },
        {
          "data": {
            "text/html": [
              "<style>\n",
              "    table.wandb td:nth-child(1) { padding: 0 10px; text-align: left ; width: auto;} td:nth-child(2) {text-align: left ; width: 100%}\n",
              "    .wandb-row { display: flex; flex-direction: row; flex-wrap: wrap; justify-content: flex-start; width: 100% }\n",
              "    .wandb-col { display: flex; flex-direction: column; flex-basis: 100%; flex: 1; padding: 10px; }\n",
              "    </style>\n",
              "<div class=\"wandb-row\"><div class=\"wandb-col\"><h3>Run history:</h3><br/><table class=\"wandb\"><tr><td>train_loss</td><td>█▁▁▁▁▁▁▁▁▁▁▁▁▁▁▁▁▁▁▁▁▁▁▁▁▁▁▁▁▁▁▁▁▁▁▁▁▁▁▁</td></tr><tr><td>val_loss</td><td>▃▂▁█▂▂█▁▂▂▃▃▂▅▁▆▁▂▁▁▂▂▆▁▁▃▁▁▁▁█▃▁▁▃▃▁▃▄▁</td></tr></table><br/></div><div class=\"wandb-col\"><h3>Run summary:</h3><br/><table class=\"wandb\"><tr><td>train_loss</td><td>6.97872</td></tr><tr><td>val_loss</td><td>6.91945</td></tr></table><br/></div></div>"
            ],
            "text/plain": [
              "<IPython.core.display.HTML object>"
            ]
          },
          "metadata": {},
          "output_type": "display_data"
        },
        {
          "data": {
            "text/html": [
              " View run <strong style=\"color:#cdcd00\">Collab VanillaRNN 7 lookback </strong> at: <a href='https://wandb.ai/cell-x/coursework_1/runs/agcuecz2' target=\"_blank\">https://wandb.ai/cell-x/coursework_1/runs/agcuecz2</a><br/>Synced 5 W&B file(s), 0 media file(s), 0 artifact file(s) and 100 other file(s)"
            ],
            "text/plain": [
              "<IPython.core.display.HTML object>"
            ]
          },
          "metadata": {},
          "output_type": "display_data"
        },
        {
          "data": {
            "text/html": [
              "Find logs at: <code>./wandb/run-20231110_143557-agcuecz2/logs</code>"
            ],
            "text/plain": [
              "<IPython.core.display.HTML object>"
            ]
          },
          "metadata": {},
          "output_type": "display_data"
        },
        {
          "name": "stdout",
          "output_type": "stream",
          "text": [
            "torch.Size([32, 1])\n",
            "torch.Size([32, 1])\n"
          ]
        },
        {
          "data": {
            "text/html": [
              "Tracking run with wandb version 0.16.0"
            ],
            "text/plain": [
              "<IPython.core.display.HTML object>"
            ]
          },
          "metadata": {},
          "output_type": "display_data"
        },
        {
          "data": {
            "text/html": [
              "Run data is saved locally in <code>/content/wandb/run-20231110_143636-i7lk47o3</code>"
            ],
            "text/plain": [
              "<IPython.core.display.HTML object>"
            ]
          },
          "metadata": {},
          "output_type": "display_data"
        },
        {
          "data": {
            "text/html": [
              "Syncing run <strong><a href='https://wandb.ai/cell-x/coursework_1/runs/i7lk47o3' target=\"_blank\">Collab VanillaRNN 9 lookback </a></strong> to <a href='https://wandb.ai/cell-x/coursework_1' target=\"_blank\">Weights & Biases</a> (<a href='https://wandb.me/run' target=\"_blank\">docs</a>)<br/>"
            ],
            "text/plain": [
              "<IPython.core.display.HTML object>"
            ]
          },
          "metadata": {},
          "output_type": "display_data"
        },
        {
          "data": {
            "text/html": [
              " View project at <a href='https://wandb.ai/cell-x/coursework_1' target=\"_blank\">https://wandb.ai/cell-x/coursework_1</a>"
            ],
            "text/plain": [
              "<IPython.core.display.HTML object>"
            ]
          },
          "metadata": {},
          "output_type": "display_data"
        },
        {
          "data": {
            "text/html": [
              " View run at <a href='https://wandb.ai/cell-x/coursework_1/runs/i7lk47o3' target=\"_blank\">https://wandb.ai/cell-x/coursework_1/runs/i7lk47o3</a>"
            ],
            "text/plain": [
              "<IPython.core.display.HTML object>"
            ]
          },
          "metadata": {},
          "output_type": "display_data"
        },
        {
          "name": "stdout",
          "output_type": "stream",
          "text": [
            "Running training epoch\n"
          ]
        },
        {
          "name": "stderr",
          "output_type": "stream",
          "text": [
            "34it [00:00, 178.99it/s]\n",
            "12it [00:00, 379.40it/s]\n"
          ]
        },
        {
          "name": "stdout",
          "output_type": "stream",
          "text": [
            "Running validation\n",
            "Running training epoch\n"
          ]
        },
        {
          "name": "stderr",
          "output_type": "stream",
          "text": [
            "34it [00:00, 195.54it/s]\n",
            "12it [00:00, 877.24it/s]\n"
          ]
        },
        {
          "name": "stdout",
          "output_type": "stream",
          "text": [
            "Running validation\n",
            "Running training epoch\n"
          ]
        },
        {
          "name": "stderr",
          "output_type": "stream",
          "text": [
            "34it [00:00, 177.02it/s]\n",
            "12it [00:00, 615.05it/s]\n"
          ]
        },
        {
          "name": "stdout",
          "output_type": "stream",
          "text": [
            "Running validation\n",
            "Running training epoch\n"
          ]
        },
        {
          "name": "stderr",
          "output_type": "stream",
          "text": [
            "34it [00:00, 153.82it/s]\n",
            "12it [00:00, 295.74it/s]\n"
          ]
        },
        {
          "name": "stdout",
          "output_type": "stream",
          "text": [
            "Running validation\n",
            "Running training epoch\n"
          ]
        },
        {
          "name": "stderr",
          "output_type": "stream",
          "text": [
            "34it [00:00, 212.44it/s]\n",
            "12it [00:00, 691.00it/s]\n"
          ]
        },
        {
          "name": "stdout",
          "output_type": "stream",
          "text": [
            "Running validation\n",
            "Running training epoch\n"
          ]
        },
        {
          "name": "stderr",
          "output_type": "stream",
          "text": [
            "34it [00:00, 246.80it/s]\n",
            "12it [00:00, 752.61it/s]\n"
          ]
        },
        {
          "name": "stdout",
          "output_type": "stream",
          "text": [
            "Running validation\n",
            "Running training epoch\n"
          ]
        },
        {
          "name": "stderr",
          "output_type": "stream",
          "text": [
            "34it [00:00, 257.04it/s]\n",
            "12it [00:00, 451.70it/s]\n"
          ]
        },
        {
          "name": "stdout",
          "output_type": "stream",
          "text": [
            "Running validation\n",
            "Running training epoch\n"
          ]
        },
        {
          "name": "stderr",
          "output_type": "stream",
          "text": [
            "34it [00:00, 236.93it/s]\n",
            "12it [00:00, 550.37it/s]"
          ]
        },
        {
          "name": "stdout",
          "output_type": "stream",
          "text": [
            "Running validation\n"
          ]
        },
        {
          "name": "stderr",
          "output_type": "stream",
          "text": [
            "\n"
          ]
        },
        {
          "name": "stdout",
          "output_type": "stream",
          "text": [
            "Running training epoch\n"
          ]
        },
        {
          "name": "stderr",
          "output_type": "stream",
          "text": [
            "34it [00:00, 137.48it/s]\n",
            "12it [00:00, 414.45it/s]\n"
          ]
        },
        {
          "name": "stdout",
          "output_type": "stream",
          "text": [
            "Running validation\n",
            "Running training epoch\n"
          ]
        },
        {
          "name": "stderr",
          "output_type": "stream",
          "text": [
            "34it [00:00, 233.73it/s]\n",
            "12it [00:00, 754.60it/s]\n"
          ]
        },
        {
          "name": "stdout",
          "output_type": "stream",
          "text": [
            "Running validation\n",
            "Running training epoch\n"
          ]
        },
        {
          "name": "stderr",
          "output_type": "stream",
          "text": [
            "34it [00:00, 250.07it/s]\n",
            "12it [00:00, 637.86it/s]\n"
          ]
        },
        {
          "name": "stdout",
          "output_type": "stream",
          "text": [
            "Running validation\n",
            "Running training epoch\n"
          ]
        },
        {
          "name": "stderr",
          "output_type": "stream",
          "text": [
            "34it [00:00, 172.77it/s]\n",
            "12it [00:00, 430.81it/s]\n"
          ]
        },
        {
          "name": "stdout",
          "output_type": "stream",
          "text": [
            "Running validation\n",
            "Running training epoch\n"
          ]
        },
        {
          "name": "stderr",
          "output_type": "stream",
          "text": [
            "34it [00:00, 228.25it/s]\n",
            "12it [00:00, 591.51it/s]\n"
          ]
        },
        {
          "name": "stdout",
          "output_type": "stream",
          "text": [
            "Running validation\n",
            "Running training epoch\n"
          ]
        },
        {
          "name": "stderr",
          "output_type": "stream",
          "text": [
            "34it [00:00, 116.50it/s]\n",
            "12it [00:00, 544.21it/s]\n"
          ]
        },
        {
          "name": "stdout",
          "output_type": "stream",
          "text": [
            "Running validation\n",
            "Running training epoch\n"
          ]
        },
        {
          "name": "stderr",
          "output_type": "stream",
          "text": [
            "34it [00:00, 98.95it/s] \n",
            "12it [00:00, 289.61it/s]\n"
          ]
        },
        {
          "name": "stdout",
          "output_type": "stream",
          "text": [
            "Running validation\n",
            "Running training epoch\n"
          ]
        },
        {
          "name": "stderr",
          "output_type": "stream",
          "text": [
            "34it [00:00, 135.63it/s]\n",
            "12it [00:00, 345.65it/s]\n"
          ]
        },
        {
          "name": "stdout",
          "output_type": "stream",
          "text": [
            "Running validation\n",
            "Running training epoch\n"
          ]
        },
        {
          "name": "stderr",
          "output_type": "stream",
          "text": [
            "34it [00:00, 143.84it/s]\n",
            "12it [00:00, 735.85it/s]\n"
          ]
        },
        {
          "name": "stdout",
          "output_type": "stream",
          "text": [
            "Running validation\n",
            "Running training epoch\n"
          ]
        },
        {
          "name": "stderr",
          "output_type": "stream",
          "text": [
            "34it [00:00, 256.37it/s]\n",
            "12it [00:00, 333.68it/s]\n"
          ]
        },
        {
          "name": "stdout",
          "output_type": "stream",
          "text": [
            "Running validation\n",
            "Running training epoch\n"
          ]
        },
        {
          "name": "stderr",
          "output_type": "stream",
          "text": [
            "34it [00:00, 128.68it/s]\n",
            "12it [00:00, 877.50it/s]\n"
          ]
        },
        {
          "name": "stdout",
          "output_type": "stream",
          "text": [
            "Running validation\n",
            "Running training epoch\n"
          ]
        },
        {
          "name": "stderr",
          "output_type": "stream",
          "text": [
            "34it [00:00, 248.50it/s]\n",
            "12it [00:00, 386.22it/s]\n"
          ]
        },
        {
          "name": "stdout",
          "output_type": "stream",
          "text": [
            "Running validation\n",
            "Running training epoch\n"
          ]
        },
        {
          "name": "stderr",
          "output_type": "stream",
          "text": [
            "34it [00:00, 136.96it/s]\n",
            "12it [00:00, 361.75it/s]\n"
          ]
        },
        {
          "name": "stdout",
          "output_type": "stream",
          "text": [
            "Running validation\n",
            "Running training epoch\n"
          ]
        },
        {
          "name": "stderr",
          "output_type": "stream",
          "text": [
            "34it [00:00, 134.27it/s]\n",
            "12it [00:00, 203.41it/s]\n"
          ]
        },
        {
          "name": "stdout",
          "output_type": "stream",
          "text": [
            "Running validation\n",
            "Running training epoch\n"
          ]
        },
        {
          "name": "stderr",
          "output_type": "stream",
          "text": [
            "34it [00:00, 129.15it/s]\n",
            "12it [00:00, 163.17it/s]\n"
          ]
        },
        {
          "name": "stdout",
          "output_type": "stream",
          "text": [
            "Running validation\n",
            "Running training epoch\n"
          ]
        },
        {
          "name": "stderr",
          "output_type": "stream",
          "text": [
            "34it [00:00, 169.43it/s]\n",
            "12it [00:00, 765.64it/s]\n"
          ]
        },
        {
          "name": "stdout",
          "output_type": "stream",
          "text": [
            "Running validation\n",
            "Running training epoch\n"
          ]
        },
        {
          "name": "stderr",
          "output_type": "stream",
          "text": [
            "34it [00:00, 113.12it/s]\n",
            "12it [00:00, 827.63it/s]\n"
          ]
        },
        {
          "name": "stdout",
          "output_type": "stream",
          "text": [
            "Running validation\n",
            "Running training epoch\n"
          ]
        },
        {
          "name": "stderr",
          "output_type": "stream",
          "text": [
            "34it [00:00, 251.61it/s]\n",
            "12it [00:00, 465.01it/s]\n"
          ]
        },
        {
          "name": "stdout",
          "output_type": "stream",
          "text": [
            "Running validation\n",
            "Running training epoch\n"
          ]
        },
        {
          "name": "stderr",
          "output_type": "stream",
          "text": [
            "34it [00:00, 212.50it/s]\n",
            "12it [00:00, 536.45it/s]\n"
          ]
        },
        {
          "name": "stdout",
          "output_type": "stream",
          "text": [
            "Running validation\n",
            "Running training epoch\n"
          ]
        },
        {
          "name": "stderr",
          "output_type": "stream",
          "text": [
            "34it [00:00, 150.83it/s]\n",
            "12it [00:00, 315.73it/s]\n"
          ]
        },
        {
          "name": "stdout",
          "output_type": "stream",
          "text": [
            "Running validation\n",
            "Running training epoch\n"
          ]
        },
        {
          "name": "stderr",
          "output_type": "stream",
          "text": [
            "34it [00:00, 112.30it/s]\n",
            "12it [00:00, 385.63it/s]\n"
          ]
        },
        {
          "name": "stdout",
          "output_type": "stream",
          "text": [
            "Running validation\n",
            "Running training epoch\n"
          ]
        },
        {
          "name": "stderr",
          "output_type": "stream",
          "text": [
            "34it [00:00, 143.72it/s]\n",
            "12it [00:00, 314.57it/s]\n"
          ]
        },
        {
          "name": "stdout",
          "output_type": "stream",
          "text": [
            "Running validation\n",
            "Running training epoch\n"
          ]
        },
        {
          "name": "stderr",
          "output_type": "stream",
          "text": [
            "34it [00:00, 93.37it/s]\n",
            "12it [00:00, 143.26it/s]\n"
          ]
        },
        {
          "name": "stdout",
          "output_type": "stream",
          "text": [
            "Running validation\n",
            "Running training epoch\n"
          ]
        },
        {
          "name": "stderr",
          "output_type": "stream",
          "text": [
            "34it [00:00, 91.54it/s]\n",
            "12it [00:00, 192.60it/s]\n"
          ]
        },
        {
          "name": "stdout",
          "output_type": "stream",
          "text": [
            "Running validation\n",
            "Running training epoch\n"
          ]
        },
        {
          "name": "stderr",
          "output_type": "stream",
          "text": [
            "34it [00:00, 77.63it/s]\n",
            "12it [00:00, 222.99it/s]\n"
          ]
        },
        {
          "name": "stdout",
          "output_type": "stream",
          "text": [
            "Running validation\n",
            "Running training epoch\n"
          ]
        },
        {
          "name": "stderr",
          "output_type": "stream",
          "text": [
            "34it [00:00, 81.55it/s]\n",
            "12it [00:00, 531.20it/s]\n"
          ]
        },
        {
          "name": "stdout",
          "output_type": "stream",
          "text": [
            "Running validation\n",
            "Running training epoch\n"
          ]
        },
        {
          "name": "stderr",
          "output_type": "stream",
          "text": [
            "34it [00:00, 81.34it/s]\n",
            "12it [00:00, 224.92it/s]\n"
          ]
        },
        {
          "name": "stdout",
          "output_type": "stream",
          "text": [
            "Running validation\n",
            "Running training epoch\n"
          ]
        },
        {
          "name": "stderr",
          "output_type": "stream",
          "text": [
            "34it [00:00, 91.94it/s] \n",
            "12it [00:00, 254.11it/s]\n"
          ]
        },
        {
          "name": "stdout",
          "output_type": "stream",
          "text": [
            "Running validation\n",
            "Running training epoch\n"
          ]
        },
        {
          "name": "stderr",
          "output_type": "stream",
          "text": [
            "34it [00:00, 111.17it/s]\n",
            "12it [00:00, 298.52it/s]\n"
          ]
        },
        {
          "name": "stdout",
          "output_type": "stream",
          "text": [
            "Running validation\n",
            "Running training epoch\n"
          ]
        },
        {
          "name": "stderr",
          "output_type": "stream",
          "text": [
            "34it [00:00, 85.72it/s]\n",
            "12it [00:00, 219.03it/s]\n"
          ]
        },
        {
          "name": "stdout",
          "output_type": "stream",
          "text": [
            "Running validation\n",
            "Running training epoch\n"
          ]
        },
        {
          "name": "stderr",
          "output_type": "stream",
          "text": [
            "34it [00:00, 75.96it/s]\n",
            "12it [00:00, 197.16it/s]\n"
          ]
        },
        {
          "name": "stdout",
          "output_type": "stream",
          "text": [
            "Running validation\n",
            "Running training epoch\n"
          ]
        },
        {
          "name": "stderr",
          "output_type": "stream",
          "text": [
            "34it [00:00, 79.12it/s]\n",
            "12it [00:00, 269.28it/s]\n"
          ]
        },
        {
          "name": "stdout",
          "output_type": "stream",
          "text": [
            "Running validation\n",
            "Running training epoch\n"
          ]
        },
        {
          "name": "stderr",
          "output_type": "stream",
          "text": [
            "34it [00:00, 75.08it/s]\n",
            "12it [00:00, 228.61it/s]\n"
          ]
        },
        {
          "name": "stdout",
          "output_type": "stream",
          "text": [
            "Running validation\n",
            "Running training epoch\n"
          ]
        },
        {
          "name": "stderr",
          "output_type": "stream",
          "text": [
            "34it [00:00, 160.90it/s]\n",
            "12it [00:00, 510.74it/s]\n"
          ]
        },
        {
          "name": "stdout",
          "output_type": "stream",
          "text": [
            "Running validation\n",
            "Running training epoch\n"
          ]
        },
        {
          "name": "stderr",
          "output_type": "stream",
          "text": [
            "34it [00:00, 163.07it/s]\n",
            "12it [00:00, 479.91it/s]\n"
          ]
        },
        {
          "name": "stdout",
          "output_type": "stream",
          "text": [
            "Running validation\n",
            "Running training epoch\n"
          ]
        },
        {
          "name": "stderr",
          "output_type": "stream",
          "text": [
            "34it [00:00, 145.02it/s]\n",
            "12it [00:00, 378.40it/s]\n"
          ]
        },
        {
          "name": "stdout",
          "output_type": "stream",
          "text": [
            "Running validation\n",
            "Running training epoch\n"
          ]
        },
        {
          "name": "stderr",
          "output_type": "stream",
          "text": [
            "34it [00:00, 150.75it/s]\n",
            "12it [00:00, 551.13it/s]\n"
          ]
        },
        {
          "name": "stdout",
          "output_type": "stream",
          "text": [
            "Running validation\n",
            "Running training epoch\n"
          ]
        },
        {
          "name": "stderr",
          "output_type": "stream",
          "text": [
            "34it [00:00, 160.34it/s]\n",
            "12it [00:00, 485.89it/s]\n"
          ]
        },
        {
          "name": "stdout",
          "output_type": "stream",
          "text": [
            "Running validation\n",
            "Running training epoch\n"
          ]
        },
        {
          "name": "stderr",
          "output_type": "stream",
          "text": [
            "34it [00:00, 160.83it/s]\n",
            "12it [00:00, 440.53it/s]\n"
          ]
        },
        {
          "name": "stdout",
          "output_type": "stream",
          "text": [
            "Running validation\n",
            "Running training epoch\n"
          ]
        },
        {
          "name": "stderr",
          "output_type": "stream",
          "text": [
            "34it [00:00, 127.28it/s]\n",
            "12it [00:00, 326.71it/s]\n"
          ]
        },
        {
          "name": "stdout",
          "output_type": "stream",
          "text": [
            "Running validation\n",
            "Running training epoch\n"
          ]
        },
        {
          "name": "stderr",
          "output_type": "stream",
          "text": [
            "34it [00:00, 155.56it/s]\n",
            "12it [00:00, 288.33it/s]\n"
          ]
        },
        {
          "name": "stdout",
          "output_type": "stream",
          "text": [
            "Running validation\n",
            "Running training epoch\n"
          ]
        },
        {
          "name": "stderr",
          "output_type": "stream",
          "text": [
            "34it [00:00, 153.04it/s]\n",
            "12it [00:00, 273.04it/s]\n"
          ]
        },
        {
          "name": "stdout",
          "output_type": "stream",
          "text": [
            "Running validation\n",
            "Running training epoch\n"
          ]
        },
        {
          "name": "stderr",
          "output_type": "stream",
          "text": [
            "34it [00:00, 144.94it/s]\n",
            "12it [00:00, 266.57it/s]\n"
          ]
        },
        {
          "name": "stdout",
          "output_type": "stream",
          "text": [
            "Running validation\n",
            "Running training epoch\n"
          ]
        },
        {
          "name": "stderr",
          "output_type": "stream",
          "text": [
            "34it [00:00, 114.98it/s]\n",
            "12it [00:00, 340.78it/s]\n"
          ]
        },
        {
          "name": "stdout",
          "output_type": "stream",
          "text": [
            "Running validation\n",
            "Running training epoch\n"
          ]
        },
        {
          "name": "stderr",
          "output_type": "stream",
          "text": [
            "34it [00:00, 104.02it/s]\n",
            "12it [00:00, 568.60it/s]\n"
          ]
        },
        {
          "name": "stdout",
          "output_type": "stream",
          "text": [
            "Running validation\n",
            "Running training epoch\n"
          ]
        },
        {
          "name": "stderr",
          "output_type": "stream",
          "text": [
            "34it [00:00, 145.20it/s]\n",
            "12it [00:00, 546.16it/s]\n"
          ]
        },
        {
          "name": "stdout",
          "output_type": "stream",
          "text": [
            "Running validation\n",
            "Running training epoch\n"
          ]
        },
        {
          "name": "stderr",
          "output_type": "stream",
          "text": [
            "34it [00:00, 176.73it/s]\n",
            "12it [00:00, 664.31it/s]\n"
          ]
        },
        {
          "name": "stdout",
          "output_type": "stream",
          "text": [
            "Running validation\n",
            "Running training epoch\n"
          ]
        },
        {
          "name": "stderr",
          "output_type": "stream",
          "text": [
            "34it [00:00, 183.49it/s]\n",
            "12it [00:00, 804.52it/s]\n"
          ]
        },
        {
          "name": "stdout",
          "output_type": "stream",
          "text": [
            "Running validation\n",
            "Running training epoch\n"
          ]
        },
        {
          "name": "stderr",
          "output_type": "stream",
          "text": [
            "34it [00:00, 232.21it/s]\n",
            "12it [00:00, 613.22it/s]\n"
          ]
        },
        {
          "name": "stdout",
          "output_type": "stream",
          "text": [
            "Running validation\n",
            "Running training epoch\n"
          ]
        },
        {
          "name": "stderr",
          "output_type": "stream",
          "text": [
            "34it [00:00, 189.09it/s]\n",
            "12it [00:00, 643.41it/s]\n"
          ]
        },
        {
          "name": "stdout",
          "output_type": "stream",
          "text": [
            "Running validation\n",
            "Running training epoch\n"
          ]
        },
        {
          "name": "stderr",
          "output_type": "stream",
          "text": [
            "34it [00:00, 175.80it/s]\n",
            "12it [00:00, 313.45it/s]\n"
          ]
        },
        {
          "name": "stdout",
          "output_type": "stream",
          "text": [
            "Running validation\n",
            "Running training epoch\n"
          ]
        },
        {
          "name": "stderr",
          "output_type": "stream",
          "text": [
            "34it [00:00, 200.81it/s]\n",
            "12it [00:00, 680.05it/s]\n"
          ]
        },
        {
          "name": "stdout",
          "output_type": "stream",
          "text": [
            "Running validation\n",
            "Running training epoch\n"
          ]
        },
        {
          "name": "stderr",
          "output_type": "stream",
          "text": [
            "34it [00:00, 149.73it/s]\n",
            "12it [00:00, 726.51it/s]\n"
          ]
        },
        {
          "name": "stdout",
          "output_type": "stream",
          "text": [
            "Running validation\n",
            "Running training epoch\n"
          ]
        },
        {
          "name": "stderr",
          "output_type": "stream",
          "text": [
            "34it [00:00, 228.34it/s]\n",
            "12it [00:00, 271.53it/s]\n"
          ]
        },
        {
          "name": "stdout",
          "output_type": "stream",
          "text": [
            "Running validation\n",
            "Running training epoch\n"
          ]
        },
        {
          "name": "stderr",
          "output_type": "stream",
          "text": [
            "34it [00:00, 155.17it/s]\n",
            "12it [00:00, 698.07it/s]\n"
          ]
        },
        {
          "name": "stdout",
          "output_type": "stream",
          "text": [
            "Running validation\n",
            "Running training epoch\n"
          ]
        },
        {
          "name": "stderr",
          "output_type": "stream",
          "text": [
            "34it [00:00, 224.78it/s]\n",
            "12it [00:00, 397.62it/s]\n"
          ]
        },
        {
          "name": "stdout",
          "output_type": "stream",
          "text": [
            "Running validation\n",
            "Running training epoch\n"
          ]
        },
        {
          "name": "stderr",
          "output_type": "stream",
          "text": [
            "34it [00:00, 185.28it/s]\n",
            "12it [00:00, 696.93it/s]\n"
          ]
        },
        {
          "name": "stdout",
          "output_type": "stream",
          "text": [
            "Running validation\n",
            "Running training epoch\n"
          ]
        },
        {
          "name": "stderr",
          "output_type": "stream",
          "text": [
            "34it [00:00, 175.42it/s]\n",
            "12it [00:00, 442.09it/s]\n"
          ]
        },
        {
          "name": "stdout",
          "output_type": "stream",
          "text": [
            "Running validation\n",
            "Running training epoch\n"
          ]
        },
        {
          "name": "stderr",
          "output_type": "stream",
          "text": [
            "34it [00:00, 137.98it/s]\n",
            "12it [00:00, 742.35it/s]\n"
          ]
        },
        {
          "name": "stdout",
          "output_type": "stream",
          "text": [
            "Running validation\n",
            "Running training epoch\n"
          ]
        },
        {
          "name": "stderr",
          "output_type": "stream",
          "text": [
            "34it [00:00, 166.10it/s]\n",
            "12it [00:00, 384.72it/s]\n"
          ]
        },
        {
          "name": "stdout",
          "output_type": "stream",
          "text": [
            "Running validation\n",
            "Running training epoch\n"
          ]
        },
        {
          "name": "stderr",
          "output_type": "stream",
          "text": [
            "34it [00:00, 237.65it/s]\n",
            "12it [00:00, 555.71it/s]\n"
          ]
        },
        {
          "name": "stdout",
          "output_type": "stream",
          "text": [
            "Running validation\n",
            "Running training epoch\n"
          ]
        },
        {
          "name": "stderr",
          "output_type": "stream",
          "text": [
            "34it [00:00, 143.15it/s]\n",
            "12it [00:00, 169.01it/s]\n"
          ]
        },
        {
          "name": "stdout",
          "output_type": "stream",
          "text": [
            "Running validation\n",
            "Running training epoch\n"
          ]
        },
        {
          "name": "stderr",
          "output_type": "stream",
          "text": [
            "34it [00:00, 183.61it/s]\n",
            "12it [00:00, 594.12it/s]\n"
          ]
        },
        {
          "name": "stdout",
          "output_type": "stream",
          "text": [
            "Running validation\n",
            "Running training epoch\n"
          ]
        },
        {
          "name": "stderr",
          "output_type": "stream",
          "text": [
            "34it [00:00, 193.59it/s]\n",
            "12it [00:00, 221.23it/s]\n"
          ]
        },
        {
          "name": "stdout",
          "output_type": "stream",
          "text": [
            "Running validation\n",
            "Running training epoch\n"
          ]
        },
        {
          "name": "stderr",
          "output_type": "stream",
          "text": [
            "34it [00:00, 217.62it/s]\n",
            "12it [00:00, 673.17it/s]\n"
          ]
        },
        {
          "name": "stdout",
          "output_type": "stream",
          "text": [
            "Running validation\n",
            "Running training epoch\n"
          ]
        },
        {
          "name": "stderr",
          "output_type": "stream",
          "text": [
            "34it [00:00, 186.29it/s]\n",
            "12it [00:00, 363.38it/s]\n"
          ]
        },
        {
          "name": "stdout",
          "output_type": "stream",
          "text": [
            "Running validation\n",
            "Running training epoch\n"
          ]
        },
        {
          "name": "stderr",
          "output_type": "stream",
          "text": [
            "34it [00:00, 58.69it/s]\n",
            "12it [00:00, 146.28it/s]\n"
          ]
        },
        {
          "name": "stdout",
          "output_type": "stream",
          "text": [
            "Running validation\n",
            "Running training epoch\n"
          ]
        },
        {
          "name": "stderr",
          "output_type": "stream",
          "text": [
            "34it [00:00, 144.02it/s]\n",
            "12it [00:00, 488.11it/s]\n"
          ]
        },
        {
          "name": "stdout",
          "output_type": "stream",
          "text": [
            "Running validation\n",
            "Running training epoch\n"
          ]
        },
        {
          "name": "stderr",
          "output_type": "stream",
          "text": [
            "34it [00:00, 199.28it/s]\n",
            "12it [00:00, 758.48it/s]\n"
          ]
        },
        {
          "name": "stdout",
          "output_type": "stream",
          "text": [
            "Running validation\n",
            "Running training epoch\n"
          ]
        },
        {
          "name": "stderr",
          "output_type": "stream",
          "text": [
            "34it [00:00, 188.95it/s]\n",
            "12it [00:00, 592.05it/s]\n"
          ]
        },
        {
          "name": "stdout",
          "output_type": "stream",
          "text": [
            "Running validation\n",
            "Running training epoch\n"
          ]
        },
        {
          "name": "stderr",
          "output_type": "stream",
          "text": [
            "34it [00:00, 225.20it/s]\n",
            "12it [00:00, 505.90it/s]\n"
          ]
        },
        {
          "name": "stdout",
          "output_type": "stream",
          "text": [
            "Running validation\n",
            "Running training epoch\n"
          ]
        },
        {
          "name": "stderr",
          "output_type": "stream",
          "text": [
            "34it [00:00, 154.91it/s]\n",
            "12it [00:00, 545.06it/s]\n"
          ]
        },
        {
          "name": "stdout",
          "output_type": "stream",
          "text": [
            "Running validation\n",
            "Running training epoch\n"
          ]
        },
        {
          "name": "stderr",
          "output_type": "stream",
          "text": [
            "34it [00:00, 93.91it/s] \n",
            "12it [00:00, 572.84it/s]\n"
          ]
        },
        {
          "name": "stdout",
          "output_type": "stream",
          "text": [
            "Running validation\n",
            "Running training epoch\n"
          ]
        },
        {
          "name": "stderr",
          "output_type": "stream",
          "text": [
            "34it [00:00, 142.46it/s]\n",
            "12it [00:00, 163.97it/s]\n"
          ]
        },
        {
          "name": "stdout",
          "output_type": "stream",
          "text": [
            "Running validation\n",
            "Running training epoch\n"
          ]
        },
        {
          "name": "stderr",
          "output_type": "stream",
          "text": [
            "34it [00:00, 61.12it/s]\n",
            "12it [00:00, 93.55it/s]\n"
          ]
        },
        {
          "name": "stdout",
          "output_type": "stream",
          "text": [
            "Running validation\n",
            "Running training epoch\n"
          ]
        },
        {
          "name": "stderr",
          "output_type": "stream",
          "text": [
            "34it [00:00, 43.77it/s]\n",
            "12it [00:00, 320.73it/s]\n"
          ]
        },
        {
          "name": "stdout",
          "output_type": "stream",
          "text": [
            "Running validation\n",
            "Running training epoch\n"
          ]
        },
        {
          "name": "stderr",
          "output_type": "stream",
          "text": [
            "34it [00:00, 76.32it/s]\n",
            "12it [00:00, 122.44it/s]\n"
          ]
        },
        {
          "name": "stdout",
          "output_type": "stream",
          "text": [
            "Running validation\n",
            "Running training epoch\n"
          ]
        },
        {
          "name": "stderr",
          "output_type": "stream",
          "text": [
            "34it [00:00, 145.35it/s]\n",
            "12it [00:00, 321.48it/s]\n"
          ]
        },
        {
          "name": "stdout",
          "output_type": "stream",
          "text": [
            "Running validation\n",
            "Running training epoch\n"
          ]
        },
        {
          "name": "stderr",
          "output_type": "stream",
          "text": [
            "34it [00:00, 74.72it/s]\n",
            "12it [00:00, 197.32it/s]\n"
          ]
        },
        {
          "name": "stdout",
          "output_type": "stream",
          "text": [
            "Running validation\n",
            "Running training epoch\n"
          ]
        },
        {
          "name": "stderr",
          "output_type": "stream",
          "text": [
            "34it [00:00, 117.27it/s]\n",
            "12it [00:00, 358.34it/s]\n"
          ]
        },
        {
          "name": "stdout",
          "output_type": "stream",
          "text": [
            "Running validation\n",
            "Running training epoch\n"
          ]
        },
        {
          "name": "stderr",
          "output_type": "stream",
          "text": [
            "34it [00:00, 102.60it/s]\n",
            "12it [00:00, 585.72it/s]\n"
          ]
        },
        {
          "name": "stdout",
          "output_type": "stream",
          "text": [
            "Running validation\n",
            "Running training epoch\n"
          ]
        },
        {
          "name": "stderr",
          "output_type": "stream",
          "text": [
            "34it [00:00, 88.14it/s]\n",
            "12it [00:00, 145.19it/s]\n"
          ]
        },
        {
          "name": "stdout",
          "output_type": "stream",
          "text": [
            "Running validation\n",
            "Running training epoch\n"
          ]
        },
        {
          "name": "stderr",
          "output_type": "stream",
          "text": [
            "34it [00:00, 147.37it/s]\n",
            "12it [00:00, 368.75it/s]\n"
          ]
        },
        {
          "name": "stdout",
          "output_type": "stream",
          "text": [
            "Running validation\n",
            "Running training epoch\n"
          ]
        },
        {
          "name": "stderr",
          "output_type": "stream",
          "text": [
            "34it [00:00, 113.94it/s]\n",
            "12it [00:00, 601.05it/s]\n"
          ]
        },
        {
          "name": "stdout",
          "output_type": "stream",
          "text": [
            "Running validation\n",
            "Running training epoch\n"
          ]
        },
        {
          "name": "stderr",
          "output_type": "stream",
          "text": [
            "34it [00:00, 107.21it/s]\n",
            "12it [00:00, 411.03it/s]\n"
          ]
        },
        {
          "name": "stdout",
          "output_type": "stream",
          "text": [
            "Running validation\n",
            "Running training epoch\n"
          ]
        },
        {
          "name": "stderr",
          "output_type": "stream",
          "text": [
            "34it [00:00, 109.67it/s]\n",
            "12it [00:00, 344.06it/s]\n"
          ]
        },
        {
          "name": "stdout",
          "output_type": "stream",
          "text": [
            "Running validation\n",
            "Running training epoch\n"
          ]
        },
        {
          "name": "stderr",
          "output_type": "stream",
          "text": [
            "34it [00:00, 70.09it/s]\n",
            "12it [00:00, 258.71it/s]\n"
          ]
        },
        {
          "name": "stdout",
          "output_type": "stream",
          "text": [
            "Running validation\n",
            "Running training epoch\n"
          ]
        },
        {
          "name": "stderr",
          "output_type": "stream",
          "text": [
            "34it [00:00, 64.92it/s]\n",
            "12it [00:00, 199.83it/s]\n"
          ]
        },
        {
          "name": "stdout",
          "output_type": "stream",
          "text": [
            "Running validation\n",
            "Running training epoch\n"
          ]
        },
        {
          "name": "stderr",
          "output_type": "stream",
          "text": [
            "34it [00:00, 57.12it/s]\n",
            "12it [00:00, 168.03it/s]\n"
          ]
        },
        {
          "name": "stdout",
          "output_type": "stream",
          "text": [
            "Running validation\n",
            "Running training epoch\n"
          ]
        },
        {
          "name": "stderr",
          "output_type": "stream",
          "text": [
            "34it [00:00, 53.91it/s]\n",
            "12it [00:00, 239.52it/s]\n"
          ]
        },
        {
          "name": "stdout",
          "output_type": "stream",
          "text": [
            "Running validation\n",
            "Running training epoch\n"
          ]
        },
        {
          "name": "stderr",
          "output_type": "stream",
          "text": [
            "34it [00:00, 125.41it/s]\n",
            "12it [00:00, 263.89it/s]\n"
          ]
        },
        {
          "name": "stdout",
          "output_type": "stream",
          "text": [
            "Running validation\n",
            "Running training epoch\n"
          ]
        },
        {
          "name": "stderr",
          "output_type": "stream",
          "text": [
            "34it [00:00, 136.69it/s]\n",
            "12it [00:00, 202.92it/s]\n"
          ]
        },
        {
          "name": "stdout",
          "output_type": "stream",
          "text": [
            "Running validation\n"
          ]
        },
        {
          "data": {
            "application/vnd.jupyter.widget-view+json": {
              "model_id": "b7cd321751274d29a9e86c0f8dbcba46",
              "version_major": 2,
              "version_minor": 0
            },
            "text/plain": [
              "VBox(children=(Label(value='5.930 MB of 5.930 MB uploaded\\r'), FloatProgress(value=1.0, max=1.0)))"
            ]
          },
          "metadata": {},
          "output_type": "display_data"
        },
        {
          "data": {
            "text/html": [
              "<style>\n",
              "    table.wandb td:nth-child(1) { padding: 0 10px; text-align: left ; width: auto;} td:nth-child(2) {text-align: left ; width: 100%}\n",
              "    .wandb-row { display: flex; flex-direction: row; flex-wrap: wrap; justify-content: flex-start; width: 100% }\n",
              "    .wandb-col { display: flex; flex-direction: column; flex-basis: 100%; flex: 1; padding: 10px; }\n",
              "    </style>\n",
              "<div class=\"wandb-row\"><div class=\"wandb-col\"><h3>Run history:</h3><br/><table class=\"wandb\"><tr><td>train_loss</td><td>█▁▁▁▁▁▁▁▁▁▁▁▁▁▁▁▁▁▁▁▁▁▁▁▁▁▁▁▁▁▁▁▁▁▁▁▁▁▁▁</td></tr><tr><td>val_loss</td><td>█▂▁▂▁▁▃▁▂▁▁▂▁▁▁▁▁▁▁▁▁▂▁▁▁▁▁▁▁▁▁▁▁▁▁▁▁▁▁▁</td></tr></table><br/></div><div class=\"wandb-col\"><h3>Run summary:</h3><br/><table class=\"wandb\"><tr><td>train_loss</td><td>6.47917</td></tr><tr><td>val_loss</td><td>12.54038</td></tr></table><br/></div></div>"
            ],
            "text/plain": [
              "<IPython.core.display.HTML object>"
            ]
          },
          "metadata": {},
          "output_type": "display_data"
        },
        {
          "data": {
            "text/html": [
              " View run <strong style=\"color:#cdcd00\">Collab VanillaRNN 9 lookback </strong> at: <a href='https://wandb.ai/cell-x/coursework_1/runs/i7lk47o3' target=\"_blank\">https://wandb.ai/cell-x/coursework_1/runs/i7lk47o3</a><br/>Synced 5 W&B file(s), 0 media file(s), 0 artifact file(s) and 100 other file(s)"
            ],
            "text/plain": [
              "<IPython.core.display.HTML object>"
            ]
          },
          "metadata": {},
          "output_type": "display_data"
        },
        {
          "data": {
            "text/html": [
              "Find logs at: <code>./wandb/run-20231110_143636-i7lk47o3/logs</code>"
            ],
            "text/plain": [
              "<IPython.core.display.HTML object>"
            ]
          },
          "metadata": {},
          "output_type": "display_data"
        }
      ],
      "source": [
        "# Your code here\n",
        "### for plotting\n",
        "ext_train_losses_beta = []\n",
        "ext_val_losses_beta = []\n",
        "###\n",
        "for lookback_hparam in [3, 5, 7, 9]:\n",
        "    train_dataset = PandasTsDataset(X=train_df[non_date_vars], y=train_df[trgt_col], lookback=lookback_hparam)\n",
        "    val_idx = val_df[trgt_col].isna().sum(axis=1) != 1\n",
        "    val_dataset = PandasTsDataset(X=val_df[val_idx][non_date_vars], y=val_df[val_idx][trgt_col], lookback=lookback_hparam)\n",
        "    train_loader = DataLoader(dataset=train_dataset, shuffle=shuffle, batch_size=batch_size)\n",
        "    val_loader = DataLoader(dataset=val_dataset, shuffle=shuffle, batch_size=batch_size)\n",
        "\n",
        "    wandb_config={\n",
        "    \"lr\": lr,\n",
        "    \"lookback\": lookback_hparam,\n",
        "    \"hidden_dim\": hidden_dim,\n",
        "    \"num_layers\": num_layers,\n",
        "    \"nonlinearity\": nonlinearity,\n",
        "    \"fc_output_size\": fc_output_size\n",
        "    }\n",
        "    model = VanillaRNN(\n",
        "    input_dim=input_dim,  hidden_dim=wandb_config[\"hidden_dim\"],\n",
        "    num_layers=wandb_config[\"num_layers\"], fc_output_size=wandb_config[\"fc_output_size\"],\n",
        "    nonlinearity=wandb_config[\"nonlinearity\"]\n",
        "    )\n",
        "    first_batch = next(train_loader.__iter__())\n",
        "    with torch.no_grad():\n",
        "        print(first_batch[0].shape)\n",
        "        print(model(first_batch[1]).shape)\n",
        "\n",
        "    optimizer=torch.optim.Adam(model.parameters(), lr=wandb_config[\"lr\"])\n",
        "    epoch_train_loss, epoch_val_loss = train(\n",
        "        model=model, train_data_loader=train_loader, val_data_loader=val_loader, gpu = gpu,\n",
        "        optimizer=optimizer, criterion=ovrl_criterion, epochs=epochs,\n",
        "        wandb_proj=WANDB_PROJ, wandb_name=\"Collab VanillaRNN \" + str(lookback_hparam) + \" lookback \", wandb_config=wandb_config, debug=False\n",
        "    )\n",
        "    ext_train_losses_beta.append(epoch_train_loss)\n",
        "    ext_val_losses_beta.append(epoch_val_loss)\n",
        "\n",
        "\n",
        "# Your code here - END"
      ]
    },
    {
      "cell_type": "code",
      "execution_count": 44,
      "metadata": {
        "colab": {
          "base_uri": "https://localhost:8080/",
          "height": 0
        },
        "id": "ChJJ56Y6qMGy",
        "outputId": "5a9ea62f-ebaf-43d4-b437-a9cfc4f208bc"
      },
      "outputs": [
        {
          "name": "stdout",
          "output_type": "stream",
          "text": [
            "lookback 3\n",
            "minimum validation loss 7.358246743679047\n",
            "at epoch:  21\n",
            "final validations loss 14.342809120814005\n",
            "\n",
            "\n",
            "lookback 5\n",
            "minimum validation loss 7.580553650856018\n",
            "at epoch:  16\n",
            "final validations loss 12.151917417844137\n",
            "\n",
            "\n",
            "lookback 7\n",
            "minimum validation loss 6.576667606830597\n",
            "at epoch:  74\n",
            "final validations loss 6.91944807767868\n",
            "\n",
            "\n",
            "lookback 9\n",
            "minimum validation loss 6.1341959436734514\n",
            "at epoch:  80\n",
            "final validations loss 12.54037857055664\n",
            "\n",
            "\n"
          ]
        }
      ],
      "source": [
        "for look_num, val_losses in zip([3, 5, 7, 9], ext_val_losses_beta):\n",
        "    print(\"lookback\", look_num)\n",
        "    print(\"minimum validation loss\", min(val_losses))\n",
        "    print(\"at epoch: \", val_losses.index(min(val_losses)))\n",
        "    print(\"final validations loss\", val_losses[-1])\n",
        "    print(\"\\n\")"
      ]
    },
    {
      "cell_type": "code",
      "execution_count": 43,
      "metadata": {
        "colab": {
          "base_uri": "https://localhost:8080/",
          "height": 631
        },
        "id": "jX0wsnWTqWst",
        "outputId": "79921337-24c2-4f60-cb2e-50ed4a63781b"
      },
      "outputs": [
        {
          "data": {
            "text/plain": [
              "[]"
            ]
          },
          "execution_count": 43,
          "metadata": {},
          "output_type": "execute_result"
        },
        {
          "data": {
            "image/png": "[encoded data removed]",
            "text/plain": [
              "<Figure size 1500x800 with 2 Axes>"
            ]
          },
          "metadata": {},
          "output_type": "display_data"
        }
      ],
      "source": [
        "epochs_xaxis = [i for i in range(epochs)]\n",
        "annotations = True\n",
        "fig, (ax1, ax2) = plt.subplots(1, 2, figsize=(15, 8))\n",
        "\n",
        "colors = ['g', 'b', 'r', 'k']\n",
        "col_idx = 0\n",
        "for look_num, train_losses in zip([3, 5, 7, 9], ext_train_losses_beta):\n",
        "    ax1.plot(epochs_xaxis, train_losses, linestyle = '-.', label = \"Vanilla RNN train loss with lookup\" + str(look_num), color = colors[col_idx])\n",
        "    col_idx += 1\n",
        "\n",
        "col_idx = 0\n",
        "for look_num, val_losses in zip([3, 5, 7, 9], ext_val_losses_beta):\n",
        "    ax2.plot(epochs_xaxis, val_losses, linestyle = '-', label = \"Vanilla RNN validation loss with lookup\" + str(look_num), color = colors[col_idx])\n",
        "    col_idx += 1\n",
        "\n",
        "# annotations may be too crowded. Set to false if too many numbers\n",
        "\n",
        "if annotations:\n",
        "  for i in range(len(ext_train_losses_beta)):\n",
        "      for j in range(0, epochs, 30):\n",
        "          loss = ext_train_losses_beta[i][j]\n",
        "          ax1.text(j ,loss , f'{loss:.2f}', va='top', color=colors[i], bbox=dict(facecolor='white', edgecolor='none', pad=1))\n",
        "\n",
        "  for i in range(len(ext_val_losses_beta)):\n",
        "      for j in range(0, epochs, 30):\n",
        "          loss = ext_val_losses_beta[i][j]\n",
        "          ax2.text(j ,loss , f'{loss:.2f}', va='top', color=colors[i], bbox=dict(facecolor='white', edgecolor='none', pad=1))\n",
        "\n",
        "ax1.set_xlabel('Epoch number')\n",
        "ax1.set_ylabel('MSE Loss')\n",
        "ax2.set_xlabel('Epoch number')\n",
        "ax2.set_ylabel('MSE Loss')\n",
        "fig.suptitle(\"Vanilla RNN lookup hyperparameter\")\n",
        "fig.tight_layout()\n",
        "ax1.set_title(\"Training loss\")\n",
        "ax2.set_title(\"Validation loss\")\n",
        "ax1.legend()\n",
        "ax2.legend()\n",
        "plt.plot()\n",
        "# fig.savefig(\"vanilla-lookup-hparam-annotated.png\", format=\"png\")"
      ]
    },
    {
      "cell_type": "markdown",
      "metadata": {
        "id": "tfLWFg5Ai0P8"
      },
      "source": [
        "__Exercise 4.3__: (2 marks)\n",
        "* Comment on whether your hypothesis was correct given the results and why (we expect to see evidence!)?\n",
        "* Furthermore, to what extent did your experiment improve performance over the ```VanillaRNN``` model? Evidence must be referenced in your answer."
      ]
    },
    {
      "cell_type": "markdown",
      "metadata": {
        "id": "qZ5q-Qd5i0P8"
      },
      "source": [
        "__WRITTEN ANSWER Experiment conclusion__: After experimenting, my hypothesis was right. Increasing the size of the lookback yields a slight improvement in validation loss of the vanilla RNN. There is a consistent 2-6 points improvement over the VanillaRNN with lookback 2. In particular, lookbacks of 7 and 9 were able to achieve best validation losses below 7, with a lookback of 9 achieving the lowest at around 6 (values may hover due to stochasticity). However, both lookbacks 7 and 9 may overfit as shown in the increases in validation loss in the graphs (red and black lines), so I should have early stopped. All results are shown in the graph.\n",
        "\n",
        "As mentioned previously, this is because there is more temporal information available, which is useful for predicting the temperature 5 timesteps ahead. However there is some risk of memorization.  "
      ]
    },
    {
      "cell_type": "markdown",
      "metadata": {
        "id": "ThUTNo_9i0P8"
      },
      "source": [
        "## Task5: Auxiliary loss\n",
        "Including auxiliary loss functions is a common approach for improving the performance of machine learning models as they increase the amount of gradient signal available for updating parameters. When using an auxiliary loss, it is __critical__ to only use the non-auxiliary loss signal when comparing model performance on the overall project objective. The auxiliary losses that will be used in this coursework are:\n",
        "* Prediction of 5 step values of mean pressure, humidity and windspeed, herein referred to as __aug-aux-loss__ and;\n",
        "* Prediction of 1 step values of mean temperature, for each time point in the look back, herein referred to as __inter-aux-loss__;"
      ]
    },
    {
      "cell_type": "markdown",
      "metadata": {
        "id": "GWwoNPSzi0P9"
      },
      "source": [
        "__Exercise 5.1__: (3 marks)\n",
        "* The PandasTsDataset and ExtendedRNN class are already able to define a model that uses the __aug-aux-loss__. In the code block below define and run an experiment which implements the following:\n",
        "    * An RNN with hidden dimension 64;\n",
        "    * An MLP with a single hidden layer of dimension 32 and relu non-linear activation functions;\n",
        "    * __aug-aux-loss__ auxiliary loss function\n",
        "\n",
        "All other hyperparameters should be identical to those defined for the ```VanillaRNN``` model.\n",
        "\n",
        "_Hint_:\n",
        "* As in exercise 4.2, it is strongly recommended that you define all required objects for the experiment in a single code block.\n",
        "* Don't worry if this model doesn't perform well!"
      ]
    },
    {
      "cell_type": "code",
      "execution_count": 49,
      "metadata": {
        "colab": {
          "base_uri": "https://localhost:8080/",
          "height": 7404,
          "referenced_widgets": [
            "6962e96bc0d74c8b87a98ac5cec21928",
            "d87a2803010d49ab9f800796ca364a99",
            "e39f0a45fe2f444f831b5c7b988d852f",
            "3485628e613f4d64a996831e84c49b4d",
            "75e71f1b084845e7a4055158596f7f82",
            "91303ae46120446ca749f9a32854c8ab",
            "96e25eed58a543ec9ba99ced9de4a50e",
            "f655a1ef77404909865ec001b9bb8997"
          ]
        },
        "id": "ibs-isfEi0P_",
        "outputId": "cd27746b-b99f-4304-a601-07bdc84f88c3"
      },
      "outputs": [
        {
          "name": "stdout",
          "output_type": "stream",
          "text": [
            "torch.Size([32, 4])\n",
            "torch.Size([32, 4])\n"
          ]
        },
        {
          "data": {
            "text/html": [
              "Tracking run with wandb version 0.16.0"
            ],
            "text/plain": [
              "<IPython.core.display.HTML object>"
            ]
          },
          "metadata": {},
          "output_type": "display_data"
        },
        {
          "data": {
            "text/html": [
              "Run data is saved locally in <code>/content/wandb/run-20231110_144746-mik9uvu1</code>"
            ],
            "text/plain": [
              "<IPython.core.display.HTML object>"
            ]
          },
          "metadata": {},
          "output_type": "display_data"
        },
        {
          "data": {
            "text/html": [
              "Syncing run <strong><a href='https://wandb.ai/cell-x/coursework_1/runs/mik9uvu1' target=\"_blank\">aug-aux-rnn</a></strong> to <a href='https://wandb.ai/cell-x/coursework_1' target=\"_blank\">Weights & Biases</a> (<a href='https://wandb.me/run' target=\"_blank\">docs</a>)<br/>"
            ],
            "text/plain": [
              "<IPython.core.display.HTML object>"
            ]
          },
          "metadata": {},
          "output_type": "display_data"
        },
        {
          "data": {
            "text/html": [
              " View project at <a href='https://wandb.ai/cell-x/coursework_1' target=\"_blank\">https://wandb.ai/cell-x/coursework_1</a>"
            ],
            "text/plain": [
              "<IPython.core.display.HTML object>"
            ]
          },
          "metadata": {},
          "output_type": "display_data"
        },
        {
          "data": {
            "text/html": [
              " View run at <a href='https://wandb.ai/cell-x/coursework_1/runs/mik9uvu1' target=\"_blank\">https://wandb.ai/cell-x/coursework_1/runs/mik9uvu1</a>"
            ],
            "text/plain": [
              "<IPython.core.display.HTML object>"
            ]
          },
          "metadata": {},
          "output_type": "display_data"
        },
        {
          "name": "stdout",
          "output_type": "stream",
          "text": [
            "Running training epoch\n"
          ]
        },
        {
          "name": "stderr",
          "output_type": "stream",
          "text": [
            "35it [00:00, 75.93it/s]\n",
            "12it [00:00, 207.45it/s]\n"
          ]
        },
        {
          "name": "stdout",
          "output_type": "stream",
          "text": [
            "Running validation\n",
            "Running training epoch\n"
          ]
        },
        {
          "name": "stderr",
          "output_type": "stream",
          "text": [
            "35it [00:00, 130.27it/s]\n",
            "12it [00:00, 304.70it/s]\n"
          ]
        },
        {
          "name": "stdout",
          "output_type": "stream",
          "text": [
            "Running validation\n",
            "Running training epoch\n"
          ]
        },
        {
          "name": "stderr",
          "output_type": "stream",
          "text": [
            "35it [00:00, 74.76it/s]\n",
            "12it [00:00, 199.16it/s]\n"
          ]
        },
        {
          "name": "stdout",
          "output_type": "stream",
          "text": [
            "Running validation\n",
            "Running training epoch\n"
          ]
        },
        {
          "name": "stderr",
          "output_type": "stream",
          "text": [
            "35it [00:00, 101.41it/s]\n",
            "12it [00:00, 503.97it/s]\n"
          ]
        },
        {
          "name": "stdout",
          "output_type": "stream",
          "text": [
            "Running validation\n",
            "Running training epoch\n"
          ]
        },
        {
          "name": "stderr",
          "output_type": "stream",
          "text": [
            "35it [00:00, 139.40it/s]\n",
            "12it [00:00, 298.26it/s]\n"
          ]
        },
        {
          "name": "stdout",
          "output_type": "stream",
          "text": [
            "Running validation\n",
            "Running training epoch\n"
          ]
        },
        {
          "name": "stderr",
          "output_type": "stream",
          "text": [
            "35it [00:00, 216.47it/s]\n",
            "12it [00:00, 546.65it/s]\n"
          ]
        },
        {
          "name": "stdout",
          "output_type": "stream",
          "text": [
            "Running validation\n",
            "Running training epoch\n"
          ]
        },
        {
          "name": "stderr",
          "output_type": "stream",
          "text": [
            "35it [00:00, 244.17it/s]\n",
            "12it [00:00, 592.97it/s]\n"
          ]
        },
        {
          "name": "stdout",
          "output_type": "stream",
          "text": [
            "Running validation\n",
            "Running training epoch\n"
          ]
        },
        {
          "name": "stderr",
          "output_type": "stream",
          "text": [
            "35it [00:00, 230.29it/s]\n",
            "12it [00:00, 643.55it/s]\n"
          ]
        },
        {
          "name": "stdout",
          "output_type": "stream",
          "text": [
            "Running validation\n",
            "Running training epoch\n"
          ]
        },
        {
          "name": "stderr",
          "output_type": "stream",
          "text": [
            "35it [00:00, 216.38it/s]\n",
            "12it [00:00, 531.36it/s]\n"
          ]
        },
        {
          "name": "stdout",
          "output_type": "stream",
          "text": [
            "Running validation\n",
            "Running training epoch\n"
          ]
        },
        {
          "name": "stderr",
          "output_type": "stream",
          "text": [
            "35it [00:00, 231.56it/s]\n",
            "12it [00:00, 635.49it/s]\n"
          ]
        },
        {
          "name": "stdout",
          "output_type": "stream",
          "text": [
            "Running validation\n",
            "Running training epoch\n"
          ]
        },
        {
          "name": "stderr",
          "output_type": "stream",
          "text": [
            "35it [00:00, 265.14it/s]\n",
            "12it [00:00, 641.40it/s]\n"
          ]
        },
        {
          "name": "stdout",
          "output_type": "stream",
          "text": [
            "Running validation\n",
            "Running training epoch\n"
          ]
        },
        {
          "name": "stderr",
          "output_type": "stream",
          "text": [
            "35it [00:00, 248.27it/s]\n",
            "12it [00:00, 628.05it/s]\n"
          ]
        },
        {
          "name": "stdout",
          "output_type": "stream",
          "text": [
            "Running validation\n",
            "Running training epoch\n"
          ]
        },
        {
          "name": "stderr",
          "output_type": "stream",
          "text": [
            "35it [00:00, 244.33it/s]\n",
            "12it [00:00, 669.29it/s]"
          ]
        },
        {
          "name": "stdout",
          "output_type": "stream",
          "text": [
            "Running validation\n",
            "Running training epoch\n"
          ]
        },
        {
          "name": "stderr",
          "output_type": "stream",
          "text": [
            "\n",
            "35it [00:00, 223.55it/s]\n",
            "12it [00:00, 679.95it/s]\n"
          ]
        },
        {
          "name": "stdout",
          "output_type": "stream",
          "text": [
            "Running validation\n",
            "Running training epoch\n"
          ]
        },
        {
          "name": "stderr",
          "output_type": "stream",
          "text": [
            "35it [00:00, 247.74it/s]\n",
            "12it [00:00, 620.70it/s]\n"
          ]
        },
        {
          "name": "stdout",
          "output_type": "stream",
          "text": [
            "Running validation\n",
            "Running training epoch\n"
          ]
        },
        {
          "name": "stderr",
          "output_type": "stream",
          "text": [
            "35it [00:00, 252.29it/s]\n",
            "12it [00:00, 533.19it/s]\n"
          ]
        },
        {
          "name": "stdout",
          "output_type": "stream",
          "text": [
            "Running validation\n",
            "Running training epoch\n"
          ]
        },
        {
          "name": "stderr",
          "output_type": "stream",
          "text": [
            "35it [00:00, 240.22it/s]\n",
            "12it [00:00, 680.81it/s]\n"
          ]
        },
        {
          "name": "stdout",
          "output_type": "stream",
          "text": [
            "Running validation\n",
            "Running training epoch\n"
          ]
        },
        {
          "name": "stderr",
          "output_type": "stream",
          "text": [
            "35it [00:00, 255.80it/s]\n",
            "12it [00:00, 687.11it/s]\n"
          ]
        },
        {
          "name": "stdout",
          "output_type": "stream",
          "text": [
            "Running validation\n",
            "Running training epoch\n"
          ]
        },
        {
          "name": "stderr",
          "output_type": "stream",
          "text": [
            "35it [00:00, 221.23it/s]\n",
            "12it [00:00, 545.47it/s]\n"
          ]
        },
        {
          "name": "stdout",
          "output_type": "stream",
          "text": [
            "Running validation\n",
            "Running training epoch\n"
          ]
        },
        {
          "name": "stderr",
          "output_type": "stream",
          "text": [
            "35it [00:00, 216.54it/s]\n",
            "12it [00:00, 598.64it/s]\n"
          ]
        },
        {
          "name": "stdout",
          "output_type": "stream",
          "text": [
            "Running validation\n",
            "Running training epoch\n"
          ]
        },
        {
          "name": "stderr",
          "output_type": "stream",
          "text": [
            "35it [00:00, 207.60it/s]\n",
            "12it [00:00, 651.29it/s]\n"
          ]
        },
        {
          "name": "stdout",
          "output_type": "stream",
          "text": [
            "Running validation\n",
            "Running training epoch\n"
          ]
        },
        {
          "name": "stderr",
          "output_type": "stream",
          "text": [
            "35it [00:00, 218.12it/s]\n",
            "12it [00:00, 540.71it/s]\n"
          ]
        },
        {
          "name": "stdout",
          "output_type": "stream",
          "text": [
            "Running validation\n",
            "Running training epoch\n"
          ]
        },
        {
          "name": "stderr",
          "output_type": "stream",
          "text": [
            "35it [00:00, 233.07it/s]\n",
            "12it [00:00, 383.37it/s]\n"
          ]
        },
        {
          "name": "stdout",
          "output_type": "stream",
          "text": [
            "Running validation\n",
            "Running training epoch\n"
          ]
        },
        {
          "name": "stderr",
          "output_type": "stream",
          "text": [
            "35it [00:00, 203.57it/s]\n",
            "12it [00:00, 628.54it/s]\n"
          ]
        },
        {
          "name": "stdout",
          "output_type": "stream",
          "text": [
            "Running validation\n",
            "Running training epoch\n"
          ]
        },
        {
          "name": "stderr",
          "output_type": "stream",
          "text": [
            "35it [00:00, 203.73it/s]\n",
            "12it [00:00, 608.56it/s]\n"
          ]
        },
        {
          "name": "stdout",
          "output_type": "stream",
          "text": [
            "Running validation\n",
            "Running training epoch\n"
          ]
        },
        {
          "name": "stderr",
          "output_type": "stream",
          "text": [
            "35it [00:00, 212.21it/s]\n",
            "12it [00:00, 470.34it/s]\n"
          ]
        },
        {
          "name": "stdout",
          "output_type": "stream",
          "text": [
            "Running validation\n",
            "Running training epoch\n"
          ]
        },
        {
          "name": "stderr",
          "output_type": "stream",
          "text": [
            "35it [00:00, 231.03it/s]\n",
            "12it [00:00, 663.04it/s]\n"
          ]
        },
        {
          "name": "stdout",
          "output_type": "stream",
          "text": [
            "Running validation\n",
            "Running training epoch\n"
          ]
        },
        {
          "name": "stderr",
          "output_type": "stream",
          "text": [
            "35it [00:00, 211.92it/s]\n",
            "12it [00:00, 482.73it/s]\n"
          ]
        },
        {
          "name": "stdout",
          "output_type": "stream",
          "text": [
            "Running validation\n",
            "Running training epoch\n"
          ]
        },
        {
          "name": "stderr",
          "output_type": "stream",
          "text": [
            "35it [00:00, 216.04it/s]\n",
            "12it [00:00, 611.57it/s]\n"
          ]
        },
        {
          "name": "stdout",
          "output_type": "stream",
          "text": [
            "Running validation\n",
            "Running training epoch\n"
          ]
        },
        {
          "name": "stderr",
          "output_type": "stream",
          "text": [
            "35it [00:00, 229.79it/s]\n",
            "12it [00:00, 558.37it/s]\n"
          ]
        },
        {
          "name": "stdout",
          "output_type": "stream",
          "text": [
            "Running validation\n",
            "Running training epoch\n"
          ]
        },
        {
          "name": "stderr",
          "output_type": "stream",
          "text": [
            "35it [00:00, 381.71it/s]\n",
            "12it [00:00, 752.45it/s]\n"
          ]
        },
        {
          "name": "stdout",
          "output_type": "stream",
          "text": [
            "Running validation\n",
            "Running training epoch\n"
          ]
        },
        {
          "name": "stderr",
          "output_type": "stream",
          "text": [
            "35it [00:00, 355.65it/s]\n",
            "12it [00:00, 945.99it/s]\n"
          ]
        },
        {
          "name": "stdout",
          "output_type": "stream",
          "text": [
            "Running validation\n",
            "Running training epoch\n"
          ]
        },
        {
          "name": "stderr",
          "output_type": "stream",
          "text": [
            "35it [00:00, 361.20it/s]\n",
            "12it [00:00, 871.98it/s]\n"
          ]
        },
        {
          "name": "stdout",
          "output_type": "stream",
          "text": [
            "Running validation\n",
            "Running training epoch\n"
          ]
        },
        {
          "name": "stderr",
          "output_type": "stream",
          "text": [
            "35it [00:00, 332.74it/s]\n",
            "12it [00:00, 784.46it/s]\n"
          ]
        },
        {
          "name": "stdout",
          "output_type": "stream",
          "text": [
            "Running validation\n",
            "Running training epoch\n"
          ]
        },
        {
          "name": "stderr",
          "output_type": "stream",
          "text": [
            "35it [00:00, 316.10it/s]\n",
            "12it [00:00, 911.56it/s]\n"
          ]
        },
        {
          "name": "stdout",
          "output_type": "stream",
          "text": [
            "Running validation\n",
            "Running training epoch\n"
          ]
        },
        {
          "name": "stderr",
          "output_type": "stream",
          "text": [
            "35it [00:00, 398.46it/s]\n",
            "12it [00:00, 805.38it/s]\n"
          ]
        },
        {
          "name": "stdout",
          "output_type": "stream",
          "text": [
            "Running validation\n",
            "Running training epoch\n"
          ]
        },
        {
          "name": "stderr",
          "output_type": "stream",
          "text": [
            "35it [00:00, 391.50it/s]\n",
            "12it [00:00, 692.61it/s]\n"
          ]
        },
        {
          "name": "stdout",
          "output_type": "stream",
          "text": [
            "Running validation\n",
            "Running training epoch\n"
          ]
        },
        {
          "name": "stderr",
          "output_type": "stream",
          "text": [
            "35it [00:00, 387.33it/s]\n",
            "12it [00:00, 749.64it/s]\n"
          ]
        },
        {
          "name": "stdout",
          "output_type": "stream",
          "text": [
            "Running validation\n",
            "Running training epoch\n"
          ]
        },
        {
          "name": "stderr",
          "output_type": "stream",
          "text": [
            "35it [00:00, 337.42it/s]\n",
            "12it [00:00, 951.18it/s]\n"
          ]
        },
        {
          "name": "stdout",
          "output_type": "stream",
          "text": [
            "Running validation\n",
            "Running training epoch\n"
          ]
        },
        {
          "name": "stderr",
          "output_type": "stream",
          "text": [
            "35it [00:00, 360.43it/s]\n",
            "12it [00:00, 797.09it/s]\n"
          ]
        },
        {
          "name": "stdout",
          "output_type": "stream",
          "text": [
            "Running validation\n",
            "Running training epoch\n"
          ]
        },
        {
          "name": "stderr",
          "output_type": "stream",
          "text": [
            "35it [00:00, 372.99it/s]\n",
            "12it [00:00, 898.19it/s]\n"
          ]
        },
        {
          "name": "stdout",
          "output_type": "stream",
          "text": [
            "Running validation\n",
            "Running training epoch\n"
          ]
        },
        {
          "name": "stderr",
          "output_type": "stream",
          "text": [
            "35it [00:00, 307.42it/s]\n",
            "12it [00:00, 929.52it/s]\n"
          ]
        },
        {
          "name": "stdout",
          "output_type": "stream",
          "text": [
            "Running validation\n",
            "Running training epoch\n"
          ]
        },
        {
          "name": "stderr",
          "output_type": "stream",
          "text": [
            "35it [00:00, 354.87it/s]\n",
            "12it [00:00, 944.56it/s]\n"
          ]
        },
        {
          "name": "stdout",
          "output_type": "stream",
          "text": [
            "Running validation\n",
            "Running training epoch\n"
          ]
        },
        {
          "name": "stderr",
          "output_type": "stream",
          "text": [
            "35it [00:00, 360.25it/s]\n",
            "12it [00:00, 814.06it/s]\n"
          ]
        },
        {
          "name": "stdout",
          "output_type": "stream",
          "text": [
            "Running validation\n",
            "Running training epoch\n"
          ]
        },
        {
          "name": "stderr",
          "output_type": "stream",
          "text": [
            "35it [00:00, 332.59it/s]\n",
            "12it [00:00, 866.11it/s]\n"
          ]
        },
        {
          "name": "stdout",
          "output_type": "stream",
          "text": [
            "Running validation\n",
            "Running training epoch\n"
          ]
        },
        {
          "name": "stderr",
          "output_type": "stream",
          "text": [
            "35it [00:00, 219.71it/s]\n",
            "12it [00:00, 644.43it/s]\n"
          ]
        },
        {
          "name": "stdout",
          "output_type": "stream",
          "text": [
            "Running validation\n",
            "Running training epoch\n"
          ]
        },
        {
          "name": "stderr",
          "output_type": "stream",
          "text": [
            "35it [00:00, 331.87it/s]\n",
            "12it [00:00, 869.36it/s]\n"
          ]
        },
        {
          "name": "stdout",
          "output_type": "stream",
          "text": [
            "Running validation\n",
            "Running training epoch\n"
          ]
        },
        {
          "name": "stderr",
          "output_type": "stream",
          "text": [
            "35it [00:00, 379.65it/s]\n",
            "12it [00:00, 645.07it/s]\n"
          ]
        },
        {
          "name": "stdout",
          "output_type": "stream",
          "text": [
            "Running validation\n",
            "Running training epoch\n"
          ]
        },
        {
          "name": "stderr",
          "output_type": "stream",
          "text": [
            "35it [00:00, 358.40it/s]\n",
            "12it [00:00, 1020.95it/s]\n"
          ]
        },
        {
          "name": "stdout",
          "output_type": "stream",
          "text": [
            "Running validation\n",
            "Running training epoch\n"
          ]
        },
        {
          "name": "stderr",
          "output_type": "stream",
          "text": [
            "35it [00:00, 351.08it/s]\n",
            "12it [00:00, 742.20it/s]\n"
          ]
        },
        {
          "name": "stdout",
          "output_type": "stream",
          "text": [
            "Running validation\n",
            "Running training epoch\n"
          ]
        },
        {
          "name": "stderr",
          "output_type": "stream",
          "text": [
            "35it [00:00, 365.13it/s]\n",
            "12it [00:00, 790.27it/s]\n"
          ]
        },
        {
          "name": "stdout",
          "output_type": "stream",
          "text": [
            "Running validation\n",
            "Running training epoch\n"
          ]
        },
        {
          "name": "stderr",
          "output_type": "stream",
          "text": [
            "35it [00:00, 327.54it/s]\n",
            "12it [00:00, 937.61it/s]\n"
          ]
        },
        {
          "name": "stdout",
          "output_type": "stream",
          "text": [
            "Running validation\n",
            "Running training epoch\n"
          ]
        },
        {
          "name": "stderr",
          "output_type": "stream",
          "text": [
            "35it [00:00, 381.38it/s]\n",
            "12it [00:00, 800.86it/s]\n"
          ]
        },
        {
          "name": "stdout",
          "output_type": "stream",
          "text": [
            "Running validation\n",
            "Running training epoch\n"
          ]
        },
        {
          "name": "stderr",
          "output_type": "stream",
          "text": [
            "35it [00:00, 350.28it/s]\n",
            "12it [00:00, 824.18it/s]\n"
          ]
        },
        {
          "name": "stdout",
          "output_type": "stream",
          "text": [
            "Running validation\n",
            "Running training epoch\n"
          ]
        },
        {
          "name": "stderr",
          "output_type": "stream",
          "text": [
            "35it [00:00, 349.06it/s]\n",
            "12it [00:00, 758.60it/s]\n"
          ]
        },
        {
          "name": "stdout",
          "output_type": "stream",
          "text": [
            "Running validation\n",
            "Running training epoch\n"
          ]
        },
        {
          "name": "stderr",
          "output_type": "stream",
          "text": [
            "35it [00:00, 290.19it/s]\n",
            "12it [00:00, 803.44it/s]\n"
          ]
        },
        {
          "name": "stdout",
          "output_type": "stream",
          "text": [
            "Running validation\n",
            "Running training epoch\n"
          ]
        },
        {
          "name": "stderr",
          "output_type": "stream",
          "text": [
            "35it [00:00, 349.79it/s]\n",
            "12it [00:00, 828.49it/s]\n"
          ]
        },
        {
          "name": "stdout",
          "output_type": "stream",
          "text": [
            "Running validation\n",
            "Running training epoch\n"
          ]
        },
        {
          "name": "stderr",
          "output_type": "stream",
          "text": [
            "35it [00:00, 367.22it/s]\n",
            "12it [00:00, 712.19it/s]\n"
          ]
        },
        {
          "name": "stdout",
          "output_type": "stream",
          "text": [
            "Running validation\n",
            "Running training epoch\n"
          ]
        },
        {
          "name": "stderr",
          "output_type": "stream",
          "text": [
            "35it [00:00, 300.42it/s]\n",
            "12it [00:00, 736.09it/s]\n"
          ]
        },
        {
          "name": "stdout",
          "output_type": "stream",
          "text": [
            "Running validation\n",
            "Running training epoch\n"
          ]
        },
        {
          "name": "stderr",
          "output_type": "stream",
          "text": [
            "35it [00:00, 349.14it/s]\n",
            "12it [00:00, 807.45it/s]\n"
          ]
        },
        {
          "name": "stdout",
          "output_type": "stream",
          "text": [
            "Running validation\n",
            "Running training epoch\n"
          ]
        },
        {
          "name": "stderr",
          "output_type": "stream",
          "text": [
            "35it [00:00, 354.36it/s]\n",
            "12it [00:00, 771.83it/s]\n"
          ]
        },
        {
          "name": "stdout",
          "output_type": "stream",
          "text": [
            "Running validation\n",
            "Running training epoch\n"
          ]
        },
        {
          "name": "stderr",
          "output_type": "stream",
          "text": [
            "35it [00:00, 338.21it/s]\n",
            "12it [00:00, 850.17it/s]\n"
          ]
        },
        {
          "name": "stdout",
          "output_type": "stream",
          "text": [
            "Running validation\n",
            "Running training epoch\n"
          ]
        },
        {
          "name": "stderr",
          "output_type": "stream",
          "text": [
            "35it [00:00, 282.89it/s]\n",
            "12it [00:00, 673.59it/s]\n"
          ]
        },
        {
          "name": "stdout",
          "output_type": "stream",
          "text": [
            "Running validation\n",
            "Running training epoch\n"
          ]
        },
        {
          "name": "stderr",
          "output_type": "stream",
          "text": [
            "35it [00:00, 347.96it/s]\n",
            "12it [00:00, 810.73it/s]\n"
          ]
        },
        {
          "name": "stdout",
          "output_type": "stream",
          "text": [
            "Running validation\n",
            "Running training epoch\n"
          ]
        },
        {
          "name": "stderr",
          "output_type": "stream",
          "text": [
            "35it [00:00, 334.35it/s]\n",
            "12it [00:00, 825.85it/s]\n"
          ]
        },
        {
          "name": "stdout",
          "output_type": "stream",
          "text": [
            "Running validation\n",
            "Running training epoch\n"
          ]
        },
        {
          "name": "stderr",
          "output_type": "stream",
          "text": [
            "35it [00:00, 314.61it/s]\n",
            "12it [00:00, 851.75it/s]\n"
          ]
        },
        {
          "name": "stdout",
          "output_type": "stream",
          "text": [
            "Running validation\n",
            "Running training epoch\n"
          ]
        },
        {
          "name": "stderr",
          "output_type": "stream",
          "text": [
            "35it [00:00, 368.72it/s]\n",
            "12it [00:00, 699.28it/s]\n"
          ]
        },
        {
          "name": "stdout",
          "output_type": "stream",
          "text": [
            "Running validation\n",
            "Running training epoch\n"
          ]
        },
        {
          "name": "stderr",
          "output_type": "stream",
          "text": [
            "35it [00:00, 185.02it/s]\n",
            "12it [00:00, 614.40it/s]\n"
          ]
        },
        {
          "name": "stdout",
          "output_type": "stream",
          "text": [
            "Running validation\n",
            "Running training epoch\n"
          ]
        },
        {
          "name": "stderr",
          "output_type": "stream",
          "text": [
            "35it [00:00, 191.27it/s]\n",
            "12it [00:00, 613.82it/s]\n"
          ]
        },
        {
          "name": "stdout",
          "output_type": "stream",
          "text": [
            "Running validation\n",
            "Running training epoch\n"
          ]
        },
        {
          "name": "stderr",
          "output_type": "stream",
          "text": [
            "35it [00:00, 193.36it/s]\n",
            "12it [00:00, 570.17it/s]\n"
          ]
        },
        {
          "name": "stdout",
          "output_type": "stream",
          "text": [
            "Running validation\n",
            "Running training epoch\n"
          ]
        },
        {
          "name": "stderr",
          "output_type": "stream",
          "text": [
            "35it [00:00, 161.72it/s]\n",
            "12it [00:00, 588.41it/s]\n"
          ]
        },
        {
          "name": "stdout",
          "output_type": "stream",
          "text": [
            "Running validation\n",
            "Running training epoch\n"
          ]
        },
        {
          "name": "stderr",
          "output_type": "stream",
          "text": [
            "35it [00:00, 196.26it/s]\n",
            "12it [00:00, 599.78it/s]\n"
          ]
        },
        {
          "name": "stdout",
          "output_type": "stream",
          "text": [
            "Running validation\n",
            "Running training epoch\n"
          ]
        },
        {
          "name": "stderr",
          "output_type": "stream",
          "text": [
            "35it [00:00, 183.27it/s]\n",
            "12it [00:00, 635.78it/s]\n"
          ]
        },
        {
          "name": "stdout",
          "output_type": "stream",
          "text": [
            "Running validation\n",
            "Running training epoch\n"
          ]
        },
        {
          "name": "stderr",
          "output_type": "stream",
          "text": [
            "35it [00:00, 204.56it/s]\n",
            "12it [00:00, 272.88it/s]\n"
          ]
        },
        {
          "name": "stdout",
          "output_type": "stream",
          "text": [
            "Running validation\n",
            "Running training epoch\n"
          ]
        },
        {
          "name": "stderr",
          "output_type": "stream",
          "text": [
            "35it [00:00, 208.78it/s]\n",
            "12it [00:00, 639.48it/s]\n"
          ]
        },
        {
          "name": "stdout",
          "output_type": "stream",
          "text": [
            "Running validation\n",
            "Running training epoch\n"
          ]
        },
        {
          "name": "stderr",
          "output_type": "stream",
          "text": [
            "35it [00:00, 359.56it/s]\n",
            "12it [00:00, 687.86it/s]\n"
          ]
        },
        {
          "name": "stdout",
          "output_type": "stream",
          "text": [
            "Running validation\n",
            "Running training epoch\n"
          ]
        },
        {
          "name": "stderr",
          "output_type": "stream",
          "text": [
            "35it [00:00, 374.74it/s]\n",
            "12it [00:00, 721.62it/s]\n"
          ]
        },
        {
          "name": "stdout",
          "output_type": "stream",
          "text": [
            "Running validation\n",
            "Running training epoch\n"
          ]
        },
        {
          "name": "stderr",
          "output_type": "stream",
          "text": [
            "35it [00:00, 262.42it/s]\n",
            "12it [00:00, 702.07it/s]\n"
          ]
        },
        {
          "name": "stdout",
          "output_type": "stream",
          "text": [
            "Running validation\n",
            "Running training epoch\n"
          ]
        },
        {
          "name": "stderr",
          "output_type": "stream",
          "text": [
            "35it [00:00, 356.91it/s]\n",
            "12it [00:00, 625.01it/s]\n"
          ]
        },
        {
          "name": "stdout",
          "output_type": "stream",
          "text": [
            "Running validation\n",
            "Running training epoch\n"
          ]
        },
        {
          "name": "stderr",
          "output_type": "stream",
          "text": [
            "35it [00:00, 225.27it/s]\n",
            "12it [00:00, 773.46it/s]\n"
          ]
        },
        {
          "name": "stdout",
          "output_type": "stream",
          "text": [
            "Running validation\n",
            "Running training epoch\n"
          ]
        },
        {
          "name": "stderr",
          "output_type": "stream",
          "text": [
            "35it [00:00, 292.11it/s]\n",
            "12it [00:00, 735.03it/s]\n"
          ]
        },
        {
          "name": "stdout",
          "output_type": "stream",
          "text": [
            "Running validation\n",
            "Running training epoch\n"
          ]
        },
        {
          "name": "stderr",
          "output_type": "stream",
          "text": [
            "35it [00:00, 387.31it/s]\n",
            "12it [00:00, 753.61it/s]\n"
          ]
        },
        {
          "name": "stdout",
          "output_type": "stream",
          "text": [
            "Running validation\n",
            "Running training epoch\n"
          ]
        },
        {
          "name": "stderr",
          "output_type": "stream",
          "text": [
            "35it [00:00, 384.53it/s]\n",
            "12it [00:00, 864.05it/s]\n"
          ]
        },
        {
          "name": "stdout",
          "output_type": "stream",
          "text": [
            "Running validation\n",
            "Running training epoch\n"
          ]
        },
        {
          "name": "stderr",
          "output_type": "stream",
          "text": [
            "35it [00:00, 312.28it/s]\n",
            "12it [00:00, 915.89it/s]\n"
          ]
        },
        {
          "name": "stdout",
          "output_type": "stream",
          "text": [
            "Running validation\n",
            "Running training epoch\n"
          ]
        },
        {
          "name": "stderr",
          "output_type": "stream",
          "text": [
            "35it [00:00, 304.64it/s]\n",
            "12it [00:00, 676.16it/s]\n"
          ]
        },
        {
          "name": "stdout",
          "output_type": "stream",
          "text": [
            "Running validation\n",
            "Running training epoch\n"
          ]
        },
        {
          "name": "stderr",
          "output_type": "stream",
          "text": [
            "35it [00:00, 333.81it/s]\n",
            "12it [00:00, 763.86it/s]\n"
          ]
        },
        {
          "name": "stdout",
          "output_type": "stream",
          "text": [
            "Running validation\n",
            "Running training epoch\n"
          ]
        },
        {
          "name": "stderr",
          "output_type": "stream",
          "text": [
            "35it [00:00, 297.46it/s]\n",
            "12it [00:00, 864.82it/s]\n"
          ]
        },
        {
          "name": "stdout",
          "output_type": "stream",
          "text": [
            "Running validation\n",
            "Running training epoch\n"
          ]
        },
        {
          "name": "stderr",
          "output_type": "stream",
          "text": [
            "35it [00:00, 312.99it/s]\n",
            "12it [00:00, 789.13it/s]\n"
          ]
        },
        {
          "name": "stdout",
          "output_type": "stream",
          "text": [
            "Running validation\n",
            "Running training epoch\n"
          ]
        },
        {
          "name": "stderr",
          "output_type": "stream",
          "text": [
            "35it [00:00, 316.14it/s]\n",
            "12it [00:00, 911.94it/s]\n"
          ]
        },
        {
          "name": "stdout",
          "output_type": "stream",
          "text": [
            "Running validation\n",
            "Running training epoch\n"
          ]
        },
        {
          "name": "stderr",
          "output_type": "stream",
          "text": [
            "35it [00:00, 315.98it/s]\n",
            "12it [00:00, 705.13it/s]\n"
          ]
        },
        {
          "name": "stdout",
          "output_type": "stream",
          "text": [
            "Running validation\n",
            "Running training epoch\n"
          ]
        },
        {
          "name": "stderr",
          "output_type": "stream",
          "text": [
            "35it [00:00, 285.53it/s]\n",
            "12it [00:00, 599.62it/s]\n"
          ]
        },
        {
          "name": "stdout",
          "output_type": "stream",
          "text": [
            "Running validation\n",
            "Running training epoch\n"
          ]
        },
        {
          "name": "stderr",
          "output_type": "stream",
          "text": [
            "35it [00:00, 210.80it/s]\n",
            "12it [00:00, 386.35it/s]\n"
          ]
        },
        {
          "name": "stdout",
          "output_type": "stream",
          "text": [
            "Running validation\n",
            "Running training epoch\n"
          ]
        },
        {
          "name": "stderr",
          "output_type": "stream",
          "text": [
            "35it [00:00, 228.38it/s]\n",
            "12it [00:00, 495.21it/s]\n"
          ]
        },
        {
          "name": "stdout",
          "output_type": "stream",
          "text": [
            "Running validation\n",
            "Running training epoch\n"
          ]
        },
        {
          "name": "stderr",
          "output_type": "stream",
          "text": [
            "35it [00:00, 83.74it/s]\n",
            "12it [00:00, 147.07it/s]\n"
          ]
        },
        {
          "name": "stdout",
          "output_type": "stream",
          "text": [
            "Running validation\n",
            "Running training epoch\n"
          ]
        },
        {
          "name": "stderr",
          "output_type": "stream",
          "text": [
            "35it [00:00, 77.65it/s]\n",
            "12it [00:00, 158.44it/s]\n"
          ]
        },
        {
          "name": "stdout",
          "output_type": "stream",
          "text": [
            "Running validation\n",
            "Running training epoch\n"
          ]
        },
        {
          "name": "stderr",
          "output_type": "stream",
          "text": [
            "35it [00:00, 94.03it/s]\n",
            "12it [00:00, 195.09it/s]\n"
          ]
        },
        {
          "name": "stdout",
          "output_type": "stream",
          "text": [
            "Running validation\n",
            "Running training epoch\n"
          ]
        },
        {
          "name": "stderr",
          "output_type": "stream",
          "text": [
            "35it [00:00, 170.30it/s]\n",
            "12it [00:00, 496.92it/s]\n"
          ]
        },
        {
          "name": "stdout",
          "output_type": "stream",
          "text": [
            "Running validation\n",
            "Running training epoch\n"
          ]
        },
        {
          "name": "stderr",
          "output_type": "stream",
          "text": [
            "35it [00:00, 226.00it/s]\n",
            "12it [00:00, 695.70it/s]\n"
          ]
        },
        {
          "name": "stdout",
          "output_type": "stream",
          "text": [
            "Running validation\n",
            "Running training epoch\n"
          ]
        },
        {
          "name": "stderr",
          "output_type": "stream",
          "text": [
            "35it [00:00, 233.44it/s]\n",
            "12it [00:00, 675.22it/s]\n"
          ]
        },
        {
          "name": "stdout",
          "output_type": "stream",
          "text": [
            "Running validation\n",
            "Running training epoch\n"
          ]
        },
        {
          "name": "stderr",
          "output_type": "stream",
          "text": [
            "35it [00:00, 246.81it/s]\n",
            "12it [00:00, 548.98it/s]\n"
          ]
        },
        {
          "name": "stdout",
          "output_type": "stream",
          "text": [
            "Running validation\n"
          ]
        },
        {
          "data": {
            "application/vnd.jupyter.widget-view+json": {
              "model_id": "6962e96bc0d74c8b87a98ac5cec21928",
              "version_major": 2,
              "version_minor": 0
            },
            "text/plain": [
              "VBox(children=(Label(value='8.598 MB of 8.598 MB uploaded\\r'), FloatProgress(value=1.0, max=1.0)))"
            ]
          },
          "metadata": {},
          "output_type": "display_data"
        },
        {
          "data": {
            "text/html": [
              "<style>\n",
              "    table.wandb td:nth-child(1) { padding: 0 10px; text-align: left ; width: auto;} td:nth-child(2) {text-align: left ; width: 100%}\n",
              "    .wandb-row { display: flex; flex-direction: row; flex-wrap: wrap; justify-content: flex-start; width: 100% }\n",
              "    .wandb-col { display: flex; flex-direction: column; flex-basis: 100%; flex: 1; padding: 10px; }\n",
              "    </style>\n",
              "<div class=\"wandb-row\"><div class=\"wandb-col\"><h3>Run history:</h3><br/><table class=\"wandb\"><tr><td>train_loss</td><td>█▁▁▁▁▁▁▁▁▁▁▁▁▁▁▁▁▁▁▁▁▁▁▁▁▁▁▁▁▁▁▁▁▁▁▁▁▁▁▁</td></tr><tr><td>val_loss</td><td>█▁▁▁▁▁▁▁▁▁▁▁▁▁▁▁▁▁▁▁▁▁▁▁▁▁▁▁▁▁▁▁▁▁▁▁▁▁▁▁</td></tr></table><br/></div><div class=\"wandb-col\"><h3>Run summary:</h3><br/><table class=\"wandb\"><tr><td>train_loss</td><td>95.23332</td></tr><tr><td>val_loss</td><td>50.42962</td></tr></table><br/></div></div>"
            ],
            "text/plain": [
              "<IPython.core.display.HTML object>"
            ]
          },
          "metadata": {},
          "output_type": "display_data"
        },
        {
          "data": {
            "text/html": [
              " View run <strong style=\"color:#cdcd00\">aug-aux-rnn</strong> at: <a href='https://wandb.ai/cell-x/coursework_1/runs/mik9uvu1' target=\"_blank\">https://wandb.ai/cell-x/coursework_1/runs/mik9uvu1</a><br/>Synced 5 W&B file(s), 0 media file(s), 0 artifact file(s) and 100 other file(s)"
            ],
            "text/plain": [
              "<IPython.core.display.HTML object>"
            ]
          },
          "metadata": {},
          "output_type": "display_data"
        },
        {
          "data": {
            "text/html": [
              "Find logs at: <code>./wandb/run-20231110_144746-mik9uvu1/logs</code>"
            ],
            "text/plain": [
              "<IPython.core.display.HTML object>"
            ]
          },
          "metadata": {},
          "output_type": "display_data"
        }
      ],
      "source": [
        "wandb_name=\"aug-aux-rnn\"\n",
        "# Your code here\n",
        "class AuxExtendedRNN(nn.Module):\n",
        "    '''\n",
        "    modfify the forward method of the extended RNN\n",
        "    slightly to avoid a bug concerning batch dimension\n",
        "    '''\n",
        "    def __init__(\n",
        "        self, input_dim:int,  rnn_hidden_dim:int, rnn_num_layers:int,\n",
        "        fc_head_layers:List[int], nonlinearity:str\n",
        "    ) -> None:\n",
        "        torch.manual_seed(MODEL_SEED)\n",
        "        super().__init__()\n",
        "        self._num_layers = rnn_num_layers\n",
        "        self._hidden_dim = rnn_hidden_dim\n",
        "        self.rnn = nn.RNN(\n",
        "            input_size=input_dim,  hidden_size=self._hidden_dim,\n",
        "            num_layers=self._num_layers, nonlinearity=nonlinearity,\n",
        "            batch_first=True\n",
        "        )\n",
        "        if nonlinearity == \"relu\":\n",
        "            self.fc_non_linear = nn.ReLU()\n",
        "        else:\n",
        "            self.fc_non_linear = nn.Tanh()\n",
        "        self.fc = nn.ModuleList()\n",
        "        fc_head_layers = [self._hidden_dim, *fc_head_layers]\n",
        "        for i in range(len(fc_head_layers)-1):\n",
        "            self.fc.append(nn.Linear(in_features=fc_head_layers[i], out_features=fc_head_layers[i+1]))\n",
        "            if i < len(fc_head_layers)-2:\n",
        "                self.fc.append(self.fc_non_linear)\n",
        "\n",
        "    def forward(self, x):\n",
        "        batch_size = x.size(0)\n",
        "        hidden = self.init_hidden(batch_size)\n",
        "        out = self.rnn(x, hidden)\n",
        "        out = out[1].squeeze()\n",
        "        for layer in self.fc:\n",
        "            out = layer(out)\n",
        "        if not self.training:\n",
        "            if len(out.shape) == 1:\n",
        "            # there is an uneven number of datapoints for batch = 2, so handle the case where\n",
        "            # the last batch is of dimension 1 during validation\n",
        "                out = out[0][:, None]\n",
        "            else:\n",
        "                out = out[:,0][:, None]\n",
        "        return out\n",
        "    def init_hidden(self, batch_size):\n",
        "        hidden = torch.zeros(self._num_layers, batch_size, self._hidden_dim)\n",
        "        return hidden\n",
        "\n",
        "### AUG-AUX-LOSS\n",
        "fc_head_layers=[32, 4] # during training I now want to output\n",
        "                       # 4 values instead of one 'meantemp_5_step', 'humidity_5_step', 'wind_speed_5_step', 'meanpressure_5_step'\n",
        "aux_trgt_columns = [trgt_col[0], 'humidity_5_step',\n",
        "                    'wind_speed_5_step', 'meanpressure_5_step'] # new columns to predict\n",
        "###\n",
        "train_dataset = PandasTsDataset(X=train_df[non_date_vars], y=train_df[aux_trgt_columns], lookback=lookback, normalise=True)\n",
        "val_idx = val_df[trgt_col].isna().sum(axis=1) != 1\n",
        "val_dataset = PandasTsDataset(X=val_df[val_idx][non_date_vars], y=val_df[val_idx][trgt_col], lookback=lookback)\n",
        "train_loader = DataLoader(dataset=train_dataset, shuffle=True, batch_size=batch_size)\n",
        "val_loader = DataLoader(dataset=val_dataset, shuffle=True, batch_size=batch_size)\n",
        "\n",
        "### keep everything else the same\n",
        "wandb_config={\n",
        "\"lr\": lr,\n",
        "\"lookback\": lookback,\n",
        "\"hidden_dim\": hidden_dim,\n",
        "\"num_layers\": num_layers,\n",
        "\"nonlinearity\": nonlinearity\n",
        "}\n",
        "model = AuxExtendedRNN(\n",
        "    input_dim=input_dim,  rnn_hidden_dim=wandb_config[\"hidden_dim\"],\n",
        "    fc_head_layers=fc_head_layers, nonlinearity=nonlinearity,\n",
        "    rnn_num_layers=wandb_config['num_layers']\n",
        ")\n",
        "first_batch = next(train_loader.__iter__())\n",
        "with torch.no_grad():\n",
        "    print(first_batch[0].shape)\n",
        "    print(model(first_batch[1]).shape)\n",
        "\n",
        "optimizer=torch.optim.Adam(model.parameters(), lr=wandb_config[\"lr\"])\n",
        "epoch_train_loss, epoch_val_loss = train(\n",
        "    model=model, train_data_loader=train_loader, val_data_loader=val_loader, gpu = gpu,\n",
        "    optimizer=optimizer, criterion=ovrl_criterion, epochs=epochs,\n",
        "    wandb_proj=WANDB_PROJ, wandb_name=wandb_name, wandb_config=wandb_config, debug=False\n",
        ")\n",
        "\n",
        "# Your code here - END"
      ]
    },
    {
      "cell_type": "code",
      "execution_count": 50,
      "metadata": {
        "id": "FzqsyoEss7J4"
      },
      "outputs": [],
      "source": [
        "### for plotting\n",
        "aux_train_losses_beta = epoch_train_loss\n",
        "aux_val_losses_beta = epoch_val_loss"
      ]
    },
    {
      "cell_type": "code",
      "execution_count": 51,
      "metadata": {
        "colab": {
          "base_uri": "https://localhost:8080/",
          "height": 510
        },
        "id": "-ZviXOP5tEgA",
        "outputId": "bbb431c3-c7da-4af2-83e7-cb269bde3973"
      },
      "outputs": [
        {
          "data": {
            "text/plain": [
              "[]"
            ]
          },
          "execution_count": 51,
          "metadata": {},
          "output_type": "execute_result"
        },
        {
          "data": {
            "image/png": "[encoded data removed]",
            "text/plain": [
              "<Figure size 640x480 with 1 Axes>"
            ]
          },
          "metadata": {},
          "output_type": "display_data"
        }
      ],
      "source": [
        "plt.plot(epochs_xaxis, aux_train_losses_beta, color = 'r', linestyle = '-', label = \"Extended RNN train loss with auxiliary loss\")\n",
        "plt.plot(epochs_xaxis, aux_val_losses_beta, color = 'k', linestyle = '-.', label = \"Extended RNN validation loss\")\n",
        "plt.xlabel('Epoch number')\n",
        "plt.ylabel('MSE Loss')\n",
        "plt.suptitle(\"Effect of auxiliary loss on training and validation losses\")\n",
        "plt.tight_layout()\n",
        "plt.legend()\n",
        "plt.plot()"
      ]
    },
    {
      "cell_type": "code",
      "execution_count": 53,
      "metadata": {
        "colab": {
          "base_uri": "https://localhost:8080/",
          "height": 0
        },
        "id": "jU5DqOIvtR4Z",
        "outputId": "7e2b7dfb-4d4f-4bd1-c122-c5ece615dae2"
      },
      "outputs": [
        {
          "name": "stdout",
          "output_type": "stream",
          "text": [
            "final validation loss for auxiliary loss extended rnn: 50.42962233225504\n"
          ]
        }
      ],
      "source": [
        "print(\"final validation loss for auxiliary loss extended rnn:\", aux_val_losses_beta[-1])"
      ]
    },
    {
      "cell_type": "markdown",
      "metadata": {
        "id": "RH6fT6GItRRV"
      },
      "source": [
        "The auxiliary loss doesn't help here given too high final validation loss of around 50. I won't worry as reassured above"
      ]
    },
    {
      "cell_type": "markdown",
      "metadata": {
        "id": "SGdjsUUqi0QA"
      },
      "source": [
        "__Exercise 5.2__: (7 marks)\n",
        "* In order to implement train an RNN model which includes the __inter-aux-loss__, a new dataset object and Pytorch model class must be defined. These have been started for you below however, you need to complete the code blocks.\n",
        "\n",
        "_Hint_:\n",
        "* This model _should_ perform the best!\n",
        "* ```PandasTsDataset1StepAux```:\n",
        "    * The dataset class requires an additional input namely a pandas dataframe ```y_1_step``` that should contain the 1 step values\n",
        "    * The only change that needs to be made is to the ```get_lookback``` method however, the method still only adds values to the ```self._y``` and ```self._X```. How might the ```self.y_1_step``` tensor be incorporated?\n",
        "* ```AugInterAuxRNN```:\n",
        "    * In the ```forward``` method of the ```ExtendedRNN```, the logic ```if not self.training:``` defines how the forward pass is altered when ```model.eval()``` is called (this is called within the ```validate``` function at the beginning of the notebook).\n",
        "    * Note that in the experiment definintion below, a dataset of type ```PandasTsDataset1StepAux``` is used to define the training dataset whilst a dataset of type ```PandasTsDataset``` is used to define the validation set. How should the model output alter to adjust to this?"
      ]
    },
    {
      "cell_type": "code",
      "execution_count": 57,
      "metadata": {
        "id": "EEpiyrqOi0QB"
      },
      "outputs": [],
      "source": [
        "class PandasTsDataset1StepAux(PandasDataset):\n",
        "    def __init__(self, X:pd.DataFrame, y:pd.DataFrame, y_1_step:pd.DataFrame, lookback:int, normalise:bool=True)->None:\n",
        "        self.y_1_step = torch.from_numpy(y_1_step.values).float()\n",
        "        # Call super so that the PandasDataset.__init__ function is called\n",
        "        super().__init__(X=X, y=y, normalise=normalise)\n",
        "        if lookback > 1:\n",
        "            self.get_lookback(lookback=lookback)\n",
        "        self._len = self._X.shape[0]\n",
        "\n",
        "\n",
        "    def get_lookback(self, lookback:int):\n",
        "        X_vals = []\n",
        "        y_vals = []\n",
        "        # Your code here\n",
        "        for i in range(self._X.shape[0]-(lookback-1)):\n",
        "            X_vals.append(self._X[i:i+lookback][None, :])\n",
        "            y_vals.append(torch.cat((self.y_1_step[i+lookback-1:i+lookback],\n",
        "                                     self._y[i + lookback-1:i+lookback]), dim=1))\n",
        "\n",
        "        # Your code here - END\n",
        "        self._y = torch.concat(y_vals, axis=0)\n",
        "        self._X = torch.concat(X_vals, axis=0)\n",
        "\n",
        "\n",
        "class AugInterAuxRNN(ExtendedRNN):\n",
        "\n",
        "    def __init__(\n",
        "        self, input_dim:int,  rnn_hidden_dim:int, rnn_num_layers:int,\n",
        "        fc_head_layers:List[int], fc_inter_head_layers:List[int],\n",
        "        nonlinearity:str\n",
        "    ) -> None:\n",
        "        super().__init__(\n",
        "            input_dim=input_dim, rnn_hidden_dim=rnn_hidden_dim,\n",
        "            rnn_num_layers=rnn_num_layers, fc_head_layers=fc_head_layers,\n",
        "            nonlinearity=nonlinearity\n",
        "        )\n",
        "        self.fc_inter = nn.ModuleList()\n",
        "        fc_inter_head_layers = [hidden_dim, *fc_inter_head_layers]\n",
        "        for i in range(len(fc_inter_head_layers)-1):\n",
        "            self.fc_inter.append(nn.Linear(\n",
        "                in_features=fc_inter_head_layers[i],\n",
        "                out_features=fc_inter_head_layers[i+1]\n",
        "            ))\n",
        "            if i != len(fc_inter_head_layers)-1:\n",
        "                self.fc_inter.append(self.fc_non_linear)\n",
        "\n",
        "    def forward(self, x):\n",
        "        # Your code here\n",
        "        batch_size = x.size(0)\n",
        "        hidden = self.init_hidden(batch_size)\n",
        "        out = self.rnn(x, hidden)\n",
        "        out = out[1].squeeze()\n",
        "        for layer in self.fc:\n",
        "            out = layer(out)\n",
        "        if not self.training:\n",
        "            if len(out.shape) == 1:\n",
        "            # there is an uneven number of datapoints for batch = 2, so handle the case where\n",
        "            # the last batch is of dimension 1 during validation\n",
        "                out = out[0][:, None]\n",
        "            else:\n",
        "                out = out[:,0][:, None]\n",
        "        return out\n",
        "    def init_hidden(self, batch_size):\n",
        "        hidden = torch.zeros(self._num_layers, batch_size, self._hidden_dim)\n",
        "        return hidden\n",
        "        # Your code here - END"
      ]
    },
    {
      "cell_type": "code",
      "execution_count": 59,
      "metadata": {
        "colab": {
          "base_uri": "https://localhost:8080/",
          "height": 7933,
          "referenced_widgets": [
            "042ebd90529942d398e1818c6c4f7ac5",
            "5be8cfd025564f2f937f7f15164c0720",
            "0a8812aa5cea4708b5e42fbb1e0f3e18",
            "f5c903811eb94f3e8f1b3e03e7cc7a09",
            "e0a57a3be3b44415b52b48da2a1ebe99",
            "104b7712dc564931b2423a45c42bef86",
            "bd1cfff99edf450580ba3729078cf8de",
            "68584f227fe34a96943e95f9598a2946"
          ]
        },
        "id": "2K5j2xP-i0QD",
        "outputId": "4ac163dc-347f-42b7-859b-f06216d27d52"
      },
      "outputs": [
        {
          "data": {
            "text/html": [
              "\n",
              "  <div id=\"df-fdc6c0f7-8ad7-4011-aead-3581492fb600\" class=\"colab-df-container\">\n",
              "    <div>\n",
              "<style scoped>\n",
              "    .dataframe tbody tr th:only-of-type {\n",
              "        vertical-align: middle;\n",
              "    }\n",
              "\n",
              "    .dataframe tbody tr th {\n",
              "        vertical-align: top;\n",
              "    }\n",
              "\n",
              "    .dataframe thead th {\n",
              "        text-align: right;\n",
              "    }\n",
              "</style>\n",
              "<table border=\"1\" class=\"dataframe\">\n",
              "  <thead>\n",
              "    <tr style=\"text-align: right;\">\n",
              "      <th></th>\n",
              "      <th>meantemp</th>\n",
              "      <th>humidity</th>\n",
              "      <th>wind_speed</th>\n",
              "      <th>meanpressure</th>\n",
              "      <th>meantemp_5_step</th>\n",
              "      <th>meantemp_1_step</th>\n",
              "    </tr>\n",
              "  </thead>\n",
              "  <tbody>\n",
              "    <tr>\n",
              "      <th>0</th>\n",
              "      <td>10.000000</td>\n",
              "      <td>84.500000</td>\n",
              "      <td>0.000000</td>\n",
              "      <td>1015.666667</td>\n",
              "      <td>7.000000</td>\n",
              "      <td>7.400000</td>\n",
              "    </tr>\n",
              "    <tr>\n",
              "      <th>1</th>\n",
              "      <td>7.400000</td>\n",
              "      <td>92.000000</td>\n",
              "      <td>2.980000</td>\n",
              "      <td>1017.800000</td>\n",
              "      <td>7.000000</td>\n",
              "      <td>7.166667</td>\n",
              "    </tr>\n",
              "    <tr>\n",
              "      <th>2</th>\n",
              "      <td>7.166667</td>\n",
              "      <td>87.000000</td>\n",
              "      <td>4.633333</td>\n",
              "      <td>1018.666667</td>\n",
              "      <td>8.857143</td>\n",
              "      <td>8.666667</td>\n",
              "    </tr>\n",
              "    <tr>\n",
              "      <th>3</th>\n",
              "      <td>8.666667</td>\n",
              "      <td>71.333333</td>\n",
              "      <td>1.233333</td>\n",
              "      <td>1017.166667</td>\n",
              "      <td>14.000000</td>\n",
              "      <td>6.000000</td>\n",
              "    </tr>\n",
              "    <tr>\n",
              "      <th>4</th>\n",
              "      <td>6.000000</td>\n",
              "      <td>86.833333</td>\n",
              "      <td>3.700000</td>\n",
              "      <td>1016.500000</td>\n",
              "      <td>11.000000</td>\n",
              "      <td>7.000000</td>\n",
              "    </tr>\n",
              "  </tbody>\n",
              "</table>\n",
              "</div>\n",
              "    <div class=\"colab-df-buttons\">\n",
              "\n",
              "  <div class=\"colab-df-container\">\n",
              "    <button class=\"colab-df-convert\" onclick=\"convertToInteractive('df-fdc6c0f7-8ad7-4011-aead-3581492fb600')\"\n",
              "            title=\"Convert this dataframe to an interactive table.\"\n",
              "            style=\"display:none;\">\n",
              "\n",
              "  <svg xmlns=\"http://www.w3.org/2000/svg\" height=\"24px\" viewBox=\"0 -960 960 960\">\n",
              "    <path d=\"M120-120v-720h720v720H120Zm60-500h600v-160H180v160Zm220 220h160v-160H400v160Zm0 220h160v-160H400v160ZM180-400h160v-160H180v160Zm440 0h160v-160H620v160ZM180-180h160v-160H180v160Zm440 0h160v-160H620v160Z\"/>\n",
              "  </svg>\n",
              "    </button>\n",
              "\n",
              "  <style>\n",
              "    .colab-df-container {\n",
              "      display:flex;\n",
              "      gap: 12px;\n",
              "    }\n",
              "\n",
              "    .colab-df-convert {\n",
              "      background-color: #E8F0FE;\n",
              "      border: none;\n",
              "      border-radius: 50%;\n",
              "      cursor: pointer;\n",
              "      display: none;\n",
              "      fill: #1967D2;\n",
              "      height: 32px;\n",
              "      padding: 0 0 0 0;\n",
              "      width: 32px;\n",
              "    }\n",
              "\n",
              "    .colab-df-convert:hover {\n",
              "      background-color: #E2EBFA;\n",
              "      box-shadow: 0px 1px 2px rgba(60, 64, 67, 0.3), 0px 1px 3px 1px rgba(60, 64, 67, 0.15);\n",
              "      fill: #174EA6;\n",
              "    }\n",
              "\n",
              "    .colab-df-buttons div {\n",
              "      margin-bottom: 4px;\n",
              "    }\n",
              "\n",
              "    [theme=dark] .colab-df-convert {\n",
              "      background-color: #3B4455;\n",
              "      fill: #D2E3FC;\n",
              "    }\n",
              "\n",
              "    [theme=dark] .colab-df-convert:hover {\n",
              "      background-color: #434B5C;\n",
              "      box-shadow: 0px 1px 3px 1px rgba(0, 0, 0, 0.15);\n",
              "      filter: drop-shadow(0px 1px 2px rgba(0, 0, 0, 0.3));\n",
              "      fill: #FFFFFF;\n",
              "    }\n",
              "  </style>\n",
              "\n",
              "    <script>\n",
              "      const buttonEl =\n",
              "        document.querySelector('#df-fdc6c0f7-8ad7-4011-aead-3581492fb600 button.colab-df-convert');\n",
              "      buttonEl.style.display =\n",
              "        google.colab.kernel.accessAllowed ? 'block' : 'none';\n",
              "\n",
              "      async function convertToInteractive(key) {\n",
              "        const element = document.querySelector('#df-fdc6c0f7-8ad7-4011-aead-3581492fb600');\n",
              "        const dataTable =\n",
              "          await google.colab.kernel.invokeFunction('convertToInteractive',\n",
              "                                                    [key], {});\n",
              "        if (!dataTable) return;\n",
              "\n",
              "        const docLinkHtml = 'Like what you see? Visit the ' +\n",
              "          '<a target=\"_blank\" href=https://colab.research.google.com/notebooks/data_table.ipynb>data table notebook</a>'\n",
              "          + ' to learn more about interactive tables.';\n",
              "        element.innerHTML = '';\n",
              "        dataTable['output_type'] = 'display_data';\n",
              "        await google.colab.output.renderOutput(dataTable, element);\n",
              "        const docLink = document.createElement('div');\n",
              "        docLink.innerHTML = docLinkHtml;\n",
              "        element.appendChild(docLink);\n",
              "      }\n",
              "    </script>\n",
              "  </div>\n",
              "\n",
              "\n",
              "<div id=\"df-70543719-4aeb-46e7-ae62-38cfb511608e\">\n",
              "  <button class=\"colab-df-quickchart\" onclick=\"quickchart('df-70543719-4aeb-46e7-ae62-38cfb511608e')\"\n",
              "            title=\"Suggest charts\"\n",
              "            style=\"display:none;\">\n",
              "\n",
              "<svg xmlns=\"http://www.w3.org/2000/svg\" height=\"24px\"viewBox=\"0 0 24 24\"\n",
              "     width=\"24px\">\n",
              "    <g>\n",
              "        <path d=\"M19 3H5c-1.1 0-2 .9-2 2v14c0 1.1.9 2 2 2h14c1.1 0 2-.9 2-2V5c0-1.1-.9-2-2-2zM9 17H7v-7h2v7zm4 0h-2V7h2v10zm4 0h-2v-4h2v4z\"/>\n",
              "    </g>\n",
              "</svg>\n",
              "  </button>\n",
              "\n",
              "<style>\n",
              "  .colab-df-quickchart {\n",
              "      --bg-color: #E8F0FE;\n",
              "      --fill-color: #1967D2;\n",
              "      --hover-bg-color: #E2EBFA;\n",
              "      --hover-fill-color: #174EA6;\n",
              "      --disabled-fill-color: #AAA;\n",
              "      --disabled-bg-color: #DDD;\n",
              "  }\n",
              "\n",
              "  [theme=dark] .colab-df-quickchart {\n",
              "      --bg-color: #3B4455;\n",
              "      --fill-color: #D2E3FC;\n",
              "      --hover-bg-color: #434B5C;\n",
              "      --hover-fill-color: #FFFFFF;\n",
              "      --disabled-bg-color: #3B4455;\n",
              "      --disabled-fill-color: #666;\n",
              "  }\n",
              "\n",
              "  .colab-df-quickchart {\n",
              "    background-color: var(--bg-color);\n",
              "    border: none;\n",
              "    border-radius: 50%;\n",
              "    cursor: pointer;\n",
              "    display: none;\n",
              "    fill: var(--fill-color);\n",
              "    height: 32px;\n",
              "    padding: 0;\n",
              "    width: 32px;\n",
              "  }\n",
              "\n",
              "  .colab-df-quickchart:hover {\n",
              "    background-color: var(--hover-bg-color);\n",
              "    box-shadow: 0 1px 2px rgba(60, 64, 67, 0.3), 0 1px 3px 1px rgba(60, 64, 67, 0.15);\n",
              "    fill: var(--button-hover-fill-color);\n",
              "  }\n",
              "\n",
              "  .colab-df-quickchart-complete:disabled,\n",
              "  .colab-df-quickchart-complete:disabled:hover {\n",
              "    background-color: var(--disabled-bg-color);\n",
              "    fill: var(--disabled-fill-color);\n",
              "    box-shadow: none;\n",
              "  }\n",
              "\n",
              "  .colab-df-spinner {\n",
              "    border: 2px solid var(--fill-color);\n",
              "    border-color: transparent;\n",
              "    border-bottom-color: var(--fill-color);\n",
              "    animation:\n",
              "      spin 1s steps(1) infinite;\n",
              "  }\n",
              "\n",
              "  @keyframes spin {\n",
              "    0% {\n",
              "      border-color: transparent;\n",
              "      border-bottom-color: var(--fill-color);\n",
              "      border-left-color: var(--fill-color);\n",
              "    }\n",
              "    20% {\n",
              "      border-color: transparent;\n",
              "      border-left-color: var(--fill-color);\n",
              "      border-top-color: var(--fill-color);\n",
              "    }\n",
              "    30% {\n",
              "      border-color: transparent;\n",
              "      border-left-color: var(--fill-color);\n",
              "      border-top-color: var(--fill-color);\n",
              "      border-right-color: var(--fill-color);\n",
              "    }\n",
              "    40% {\n",
              "      border-color: transparent;\n",
              "      border-right-color: var(--fill-color);\n",
              "      border-top-color: var(--fill-color);\n",
              "    }\n",
              "    60% {\n",
              "      border-color: transparent;\n",
              "      border-right-color: var(--fill-color);\n",
              "    }\n",
              "    80% {\n",
              "      border-color: transparent;\n",
              "      border-right-color: var(--fill-color);\n",
              "      border-bottom-color: var(--fill-color);\n",
              "    }\n",
              "    90% {\n",
              "      border-color: transparent;\n",
              "      border-bottom-color: var(--fill-color);\n",
              "    }\n",
              "  }\n",
              "</style>\n",
              "\n",
              "  <script>\n",
              "    async function quickchart(key) {\n",
              "      const quickchartButtonEl =\n",
              "        document.querySelector('#' + key + ' button');\n",
              "      quickchartButtonEl.disabled = true;  // To prevent multiple clicks.\n",
              "      quickchartButtonEl.classList.add('colab-df-spinner');\n",
              "      try {\n",
              "        const charts = await google.colab.kernel.invokeFunction(\n",
              "            'suggestCharts', [key], {});\n",
              "      } catch (error) {\n",
              "        console.error('Error during call to suggestCharts:', error);\n",
              "      }\n",
              "      quickchartButtonEl.classList.remove('colab-df-spinner');\n",
              "      quickchartButtonEl.classList.add('colab-df-quickchart-complete');\n",
              "    }\n",
              "    (() => {\n",
              "      let quickchartButtonEl =\n",
              "        document.querySelector('#df-70543719-4aeb-46e7-ae62-38cfb511608e button');\n",
              "      quickchartButtonEl.style.display =\n",
              "        google.colab.kernel.accessAllowed ? 'block' : 'none';\n",
              "    })();\n",
              "  </script>\n",
              "</div>\n",
              "    </div>\n",
              "  </div>\n"
            ],
            "text/plain": [
              "    meantemp   humidity  wind_speed  meanpressure  meantemp_5_step  \\\n",
              "0  10.000000  84.500000    0.000000   1015.666667         7.000000   \n",
              "1   7.400000  92.000000    2.980000   1017.800000         7.000000   \n",
              "2   7.166667  87.000000    4.633333   1018.666667         8.857143   \n",
              "3   8.666667  71.333333    1.233333   1017.166667        14.000000   \n",
              "4   6.000000  86.833333    3.700000   1016.500000        11.000000   \n",
              "\n",
              "   meantemp_1_step  \n",
              "0         7.400000  \n",
              "1         7.166667  \n",
              "2         8.666667  \n",
              "3         6.000000  \n",
              "4         7.000000  "
            ]
          },
          "metadata": {},
          "output_type": "display_data"
        },
        {
          "name": "stdout",
          "output_type": "stream",
          "text": [
            "First observation X:\n",
            "tensor([[0.1223, 0.8404, 0.0000, 0.7681],\n",
            "        [0.0428, 0.9291, 0.0706, 0.8356]])\n",
            "First observation y:\n",
            "tensor([7.1667, 7.0000])\n",
            "\n",
            "\n",
            "Second observation X:\n",
            "tensor([[0.0428, 0.9291, 0.0706, 0.8356],\n",
            "        [0.0357, 0.8699, 0.1097, 0.8630]])\n",
            "Second observation y:\n",
            "tensor([8.6667, 8.8571])\n",
            "first_batch res shape: torch.Size([32, 2])\n",
            "res shape: torch.Size([32, 1])\n",
            "first_batch res shape: torch.Size([32, 1])\n",
            "res shape: torch.Size([32, 1])\n"
          ]
        },
        {
          "data": {
            "text/html": [
              "Tracking run with wandb version 0.16.0"
            ],
            "text/plain": [
              "<IPython.core.display.HTML object>"
            ]
          },
          "metadata": {},
          "output_type": "display_data"
        },
        {
          "data": {
            "text/html": [
              "Run data is saved locally in <code>/content/wandb/run-20231110_145324-c472ykrb</code>"
            ],
            "text/plain": [
              "<IPython.core.display.HTML object>"
            ]
          },
          "metadata": {},
          "output_type": "display_data"
        },
        {
          "data": {
            "text/html": [
              "Syncing run <strong><a href='https://wandb.ai/cell-x/coursework_1/runs/c472ykrb' target=\"_blank\">inter-aug-aux-rnn</a></strong> to <a href='https://wandb.ai/cell-x/coursework_1' target=\"_blank\">Weights & Biases</a> (<a href='https://wandb.me/run' target=\"_blank\">docs</a>)<br/>"
            ],
            "text/plain": [
              "<IPython.core.display.HTML object>"
            ]
          },
          "metadata": {},
          "output_type": "display_data"
        },
        {
          "data": {
            "text/html": [
              " View project at <a href='https://wandb.ai/cell-x/coursework_1' target=\"_blank\">https://wandb.ai/cell-x/coursework_1</a>"
            ],
            "text/plain": [
              "<IPython.core.display.HTML object>"
            ]
          },
          "metadata": {},
          "output_type": "display_data"
        },
        {
          "data": {
            "text/html": [
              " View run at <a href='https://wandb.ai/cell-x/coursework_1/runs/c472ykrb' target=\"_blank\">https://wandb.ai/cell-x/coursework_1/runs/c472ykrb</a>"
            ],
            "text/plain": [
              "<IPython.core.display.HTML object>"
            ]
          },
          "metadata": {},
          "output_type": "display_data"
        },
        {
          "name": "stdout",
          "output_type": "stream",
          "text": [
            "Running training epoch\n"
          ]
        },
        {
          "name": "stderr",
          "output_type": "stream",
          "text": [
            "0it [00:00, ?it/s]/usr/local/lib/python3.10/dist-packages/torch/nn/modules/loss.py:535: UserWarning: Using a target size (torch.Size([32, 2])) that is different to the input size (torch.Size([32, 1])). This will likely lead to incorrect results due to broadcasting. Please ensure they have the same size.\n",
            "  return F.mse_loss(input, target, reduction=self.reduction)\n",
            "25it [00:00, 239.07it/s]/usr/local/lib/python3.10/dist-packages/torch/nn/modules/loss.py:535: UserWarning: Using a target size (torch.Size([6, 2])) that is different to the input size (torch.Size([6, 1])). This will likely lead to incorrect results due to broadcasting. Please ensure they have the same size.\n",
            "  return F.mse_loss(input, target, reduction=self.reduction)\n",
            "35it [00:00, 226.07it/s]\n",
            "12it [00:00, 816.29it/s]\n"
          ]
        },
        {
          "name": "stdout",
          "output_type": "stream",
          "text": [
            "Running validation\n",
            "Running training epoch\n"
          ]
        },
        {
          "name": "stderr",
          "output_type": "stream",
          "text": [
            "35it [00:00, 199.62it/s]\n",
            "12it [00:00, 667.47it/s]\n"
          ]
        },
        {
          "name": "stdout",
          "output_type": "stream",
          "text": [
            "Running validation\n",
            "Running training epoch\n"
          ]
        },
        {
          "name": "stderr",
          "output_type": "stream",
          "text": [
            "35it [00:00, 322.46it/s]\n",
            "12it [00:00, 445.86it/s]\n"
          ]
        },
        {
          "name": "stdout",
          "output_type": "stream",
          "text": [
            "Running validation\n",
            "Running training epoch\n"
          ]
        },
        {
          "name": "stderr",
          "output_type": "stream",
          "text": [
            "35it [00:00, 206.03it/s]\n",
            "12it [00:00, 613.08it/s]\n"
          ]
        },
        {
          "name": "stdout",
          "output_type": "stream",
          "text": [
            "Running validation\n",
            "Running training epoch\n"
          ]
        },
        {
          "name": "stderr",
          "output_type": "stream",
          "text": [
            "35it [00:00, 292.71it/s]\n",
            "12it [00:00, 901.76it/s]\n"
          ]
        },
        {
          "name": "stdout",
          "output_type": "stream",
          "text": [
            "Running validation\n",
            "Running training epoch\n"
          ]
        },
        {
          "name": "stderr",
          "output_type": "stream",
          "text": [
            "35it [00:00, 257.70it/s]\n",
            "12it [00:00, 640.15it/s]\n"
          ]
        },
        {
          "name": "stdout",
          "output_type": "stream",
          "text": [
            "Running validation\n",
            "Running training epoch\n"
          ]
        },
        {
          "name": "stderr",
          "output_type": "stream",
          "text": [
            "35it [00:00, 213.27it/s]\n",
            "12it [00:00, 958.37it/s]\n"
          ]
        },
        {
          "name": "stdout",
          "output_type": "stream",
          "text": [
            "Running validation\n",
            "Running training epoch\n"
          ]
        },
        {
          "name": "stderr",
          "output_type": "stream",
          "text": [
            "35it [00:00, 356.81it/s]\n",
            "12it [00:00, 823.64it/s]\n"
          ]
        },
        {
          "name": "stdout",
          "output_type": "stream",
          "text": [
            "Running validation\n",
            "Running training epoch\n"
          ]
        },
        {
          "name": "stderr",
          "output_type": "stream",
          "text": [
            "35it [00:00, 283.79it/s]\n",
            "12it [00:00, 586.36it/s]\n"
          ]
        },
        {
          "name": "stdout",
          "output_type": "stream",
          "text": [
            "Running validation\n",
            "Running training epoch\n"
          ]
        },
        {
          "name": "stderr",
          "output_type": "stream",
          "text": [
            "35it [00:00, 282.08it/s]\n",
            "12it [00:00, 837.99it/s]\n"
          ]
        },
        {
          "name": "stdout",
          "output_type": "stream",
          "text": [
            "Running validation\n",
            "Running training epoch\n"
          ]
        },
        {
          "name": "stderr",
          "output_type": "stream",
          "text": [
            "35it [00:00, 247.38it/s]\n",
            "12it [00:00, 758.29it/s]\n"
          ]
        },
        {
          "name": "stdout",
          "output_type": "stream",
          "text": [
            "Running validation\n",
            "Running training epoch\n"
          ]
        },
        {
          "name": "stderr",
          "output_type": "stream",
          "text": [
            "35it [00:00, 332.08it/s]\n",
            "12it [00:00, 637.94it/s]\n"
          ]
        },
        {
          "name": "stdout",
          "output_type": "stream",
          "text": [
            "Running validation\n",
            "Running training epoch\n"
          ]
        },
        {
          "name": "stderr",
          "output_type": "stream",
          "text": [
            "35it [00:00, 188.26it/s]\n",
            "12it [00:00, 547.39it/s]\n"
          ]
        },
        {
          "name": "stdout",
          "output_type": "stream",
          "text": [
            "Running validation\n",
            "Running training epoch\n"
          ]
        },
        {
          "name": "stderr",
          "output_type": "stream",
          "text": [
            "35it [00:00, 214.38it/s]\n",
            "12it [00:00, 624.55it/s]\n"
          ]
        },
        {
          "name": "stdout",
          "output_type": "stream",
          "text": [
            "Running validation\n",
            "Running training epoch\n"
          ]
        },
        {
          "name": "stderr",
          "output_type": "stream",
          "text": [
            "35it [00:00, 234.36it/s]\n",
            "12it [00:00, 591.00it/s]\n"
          ]
        },
        {
          "name": "stdout",
          "output_type": "stream",
          "text": [
            "Running validation\n",
            "Running training epoch\n"
          ]
        },
        {
          "name": "stderr",
          "output_type": "stream",
          "text": [
            "35it [00:00, 239.41it/s]\n",
            "12it [00:00, 667.60it/s]\n"
          ]
        },
        {
          "name": "stdout",
          "output_type": "stream",
          "text": [
            "Running validation\n",
            "Running training epoch\n"
          ]
        },
        {
          "name": "stderr",
          "output_type": "stream",
          "text": [
            "35it [00:00, 235.31it/s]\n",
            "12it [00:00, 371.65it/s]\n"
          ]
        },
        {
          "name": "stdout",
          "output_type": "stream",
          "text": [
            "Running validation\n",
            "Running training epoch\n"
          ]
        },
        {
          "name": "stderr",
          "output_type": "stream",
          "text": [
            "35it [00:00, 195.73it/s]\n",
            "12it [00:00, 579.90it/s]\n"
          ]
        },
        {
          "name": "stdout",
          "output_type": "stream",
          "text": [
            "Running validation\n",
            "Running training epoch\n"
          ]
        },
        {
          "name": "stderr",
          "output_type": "stream",
          "text": [
            "35it [00:00, 237.45it/s]\n",
            "12it [00:00, 529.71it/s]\n"
          ]
        },
        {
          "name": "stdout",
          "output_type": "stream",
          "text": [
            "Running validation\n",
            "Running training epoch\n"
          ]
        },
        {
          "name": "stderr",
          "output_type": "stream",
          "text": [
            "35it [00:00, 223.74it/s]\n",
            "12it [00:00, 592.24it/s]\n"
          ]
        },
        {
          "name": "stdout",
          "output_type": "stream",
          "text": [
            "Running validation\n",
            "Running training epoch\n"
          ]
        },
        {
          "name": "stderr",
          "output_type": "stream",
          "text": [
            "35it [00:00, 212.62it/s]\n",
            "12it [00:00, 593.46it/s]\n"
          ]
        },
        {
          "name": "stdout",
          "output_type": "stream",
          "text": [
            "Running validation\n",
            "Running training epoch\n"
          ]
        },
        {
          "name": "stderr",
          "output_type": "stream",
          "text": [
            "35it [00:00, 170.84it/s]\n",
            "12it [00:00, 674.10it/s]\n"
          ]
        },
        {
          "name": "stdout",
          "output_type": "stream",
          "text": [
            "Running validation\n",
            "Running training epoch\n"
          ]
        },
        {
          "name": "stderr",
          "output_type": "stream",
          "text": [
            "35it [00:00, 231.16it/s]\n",
            "12it [00:00, 682.81it/s]\n"
          ]
        },
        {
          "name": "stdout",
          "output_type": "stream",
          "text": [
            "Running validation\n",
            "Running training epoch\n"
          ]
        },
        {
          "name": "stderr",
          "output_type": "stream",
          "text": [
            "35it [00:00, 210.29it/s]\n",
            "12it [00:00, 674.24it/s]\n"
          ]
        },
        {
          "name": "stdout",
          "output_type": "stream",
          "text": [
            "Running validation\n",
            "Running training epoch\n"
          ]
        },
        {
          "name": "stderr",
          "output_type": "stream",
          "text": [
            "35it [00:00, 224.35it/s]\n",
            "12it [00:00, 473.80it/s]\n"
          ]
        },
        {
          "name": "stdout",
          "output_type": "stream",
          "text": [
            "Running validation\n",
            "Running training epoch\n"
          ]
        },
        {
          "name": "stderr",
          "output_type": "stream",
          "text": [
            "35it [00:00, 214.29it/s]\n",
            "12it [00:00, 646.80it/s]\n"
          ]
        },
        {
          "name": "stdout",
          "output_type": "stream",
          "text": [
            "Running validation\n",
            "Running training epoch\n"
          ]
        },
        {
          "name": "stderr",
          "output_type": "stream",
          "text": [
            "35it [00:00, 202.18it/s]\n",
            "12it [00:00, 649.14it/s]\n"
          ]
        },
        {
          "name": "stdout",
          "output_type": "stream",
          "text": [
            "Running validation\n",
            "Running training epoch\n"
          ]
        },
        {
          "name": "stderr",
          "output_type": "stream",
          "text": [
            "35it [00:00, 218.28it/s]\n",
            "12it [00:00, 484.21it/s]\n"
          ]
        },
        {
          "name": "stdout",
          "output_type": "stream",
          "text": [
            "Running validation\n",
            "Running training epoch\n"
          ]
        },
        {
          "name": "stderr",
          "output_type": "stream",
          "text": [
            "35it [00:00, 234.07it/s]\n",
            "12it [00:00, 510.44it/s]\n"
          ]
        },
        {
          "name": "stdout",
          "output_type": "stream",
          "text": [
            "Running validation\n",
            "Running training epoch\n"
          ]
        },
        {
          "name": "stderr",
          "output_type": "stream",
          "text": [
            "35it [00:00, 232.17it/s]\n",
            "12it [00:00, 521.82it/s]\n"
          ]
        },
        {
          "name": "stdout",
          "output_type": "stream",
          "text": [
            "Running validation\n",
            "Running training epoch\n"
          ]
        },
        {
          "name": "stderr",
          "output_type": "stream",
          "text": [
            "35it [00:00, 215.73it/s]\n",
            "12it [00:00, 524.66it/s]\n"
          ]
        },
        {
          "name": "stdout",
          "output_type": "stream",
          "text": [
            "Running validation\n",
            "Running training epoch\n"
          ]
        },
        {
          "name": "stderr",
          "output_type": "stream",
          "text": [
            "35it [00:00, 224.02it/s]\n",
            "12it [00:00, 449.98it/s]\n"
          ]
        },
        {
          "name": "stdout",
          "output_type": "stream",
          "text": [
            "Running validation\n",
            "Running training epoch\n"
          ]
        },
        {
          "name": "stderr",
          "output_type": "stream",
          "text": [
            "35it [00:00, 209.97it/s]\n",
            "12it [00:00, 634.61it/s]\n"
          ]
        },
        {
          "name": "stdout",
          "output_type": "stream",
          "text": [
            "Running validation\n",
            "Running training epoch\n"
          ]
        },
        {
          "name": "stderr",
          "output_type": "stream",
          "text": [
            "35it [00:00, 220.37it/s]\n",
            "12it [00:00, 638.14it/s]\n"
          ]
        },
        {
          "name": "stdout",
          "output_type": "stream",
          "text": [
            "Running validation\n",
            "Running training epoch\n"
          ]
        },
        {
          "name": "stderr",
          "output_type": "stream",
          "text": [
            "35it [00:00, 211.99it/s]\n",
            "12it [00:00, 670.84it/s]\n"
          ]
        },
        {
          "name": "stdout",
          "output_type": "stream",
          "text": [
            "Running validation\n",
            "Running training epoch\n"
          ]
        },
        {
          "name": "stderr",
          "output_type": "stream",
          "text": [
            "35it [00:00, 189.86it/s]\n",
            "12it [00:00, 541.28it/s]\n"
          ]
        },
        {
          "name": "stdout",
          "output_type": "stream",
          "text": [
            "Running validation\n",
            "Running training epoch\n"
          ]
        },
        {
          "name": "stderr",
          "output_type": "stream",
          "text": [
            "35it [00:00, 220.21it/s]\n",
            "12it [00:00, 531.72it/s]\n"
          ]
        },
        {
          "name": "stdout",
          "output_type": "stream",
          "text": [
            "Running validation\n",
            "Running training epoch\n"
          ]
        },
        {
          "name": "stderr",
          "output_type": "stream",
          "text": [
            "35it [00:00, 218.47it/s]\n",
            "12it [00:00, 590.08it/s]\n"
          ]
        },
        {
          "name": "stdout",
          "output_type": "stream",
          "text": [
            "Running validation\n",
            "Running training epoch\n"
          ]
        },
        {
          "name": "stderr",
          "output_type": "stream",
          "text": [
            "35it [00:00, 212.85it/s]\n",
            "12it [00:00, 597.29it/s]\n"
          ]
        },
        {
          "name": "stdout",
          "output_type": "stream",
          "text": [
            "Running validation\n",
            "Running training epoch\n"
          ]
        },
        {
          "name": "stderr",
          "output_type": "stream",
          "text": [
            "35it [00:00, 205.27it/s]\n",
            "12it [00:00, 646.05it/s]\n"
          ]
        },
        {
          "name": "stdout",
          "output_type": "stream",
          "text": [
            "Running validation\n",
            "Running training epoch\n"
          ]
        },
        {
          "name": "stderr",
          "output_type": "stream",
          "text": [
            "35it [00:00, 163.96it/s]\n",
            "12it [00:00, 486.01it/s]\n"
          ]
        },
        {
          "name": "stdout",
          "output_type": "stream",
          "text": [
            "Running validation\n",
            "Running training epoch\n"
          ]
        },
        {
          "name": "stderr",
          "output_type": "stream",
          "text": [
            "35it [00:00, 193.92it/s]\n",
            "12it [00:00, 430.56it/s]\n"
          ]
        },
        {
          "name": "stdout",
          "output_type": "stream",
          "text": [
            "Running validation\n",
            "Running training epoch\n"
          ]
        },
        {
          "name": "stderr",
          "output_type": "stream",
          "text": [
            "35it [00:00, 211.60it/s]\n",
            "12it [00:00, 526.72it/s]\n"
          ]
        },
        {
          "name": "stdout",
          "output_type": "stream",
          "text": [
            "Running validation\n",
            "Running training epoch\n"
          ]
        },
        {
          "name": "stderr",
          "output_type": "stream",
          "text": [
            "35it [00:00, 203.21it/s]\n",
            "12it [00:00, 551.48it/s]\n"
          ]
        },
        {
          "name": "stdout",
          "output_type": "stream",
          "text": [
            "Running validation\n",
            "Running training epoch\n"
          ]
        },
        {
          "name": "stderr",
          "output_type": "stream",
          "text": [
            "35it [00:00, 223.39it/s]\n",
            "12it [00:00, 543.97it/s]\n"
          ]
        },
        {
          "name": "stdout",
          "output_type": "stream",
          "text": [
            "Running validation\n",
            "Running training epoch\n"
          ]
        },
        {
          "name": "stderr",
          "output_type": "stream",
          "text": [
            "35it [00:00, 198.67it/s]\n",
            "12it [00:00, 511.01it/s]\n"
          ]
        },
        {
          "name": "stdout",
          "output_type": "stream",
          "text": [
            "Running validation\n",
            "Running training epoch\n"
          ]
        },
        {
          "name": "stderr",
          "output_type": "stream",
          "text": [
            "35it [00:00, 224.50it/s]\n",
            "12it [00:00, 576.90it/s]\n"
          ]
        },
        {
          "name": "stdout",
          "output_type": "stream",
          "text": [
            "Running validation\n",
            "Running training epoch\n"
          ]
        },
        {
          "name": "stderr",
          "output_type": "stream",
          "text": [
            "35it [00:00, 222.02it/s]\n",
            "12it [00:00, 548.36it/s]\n"
          ]
        },
        {
          "name": "stdout",
          "output_type": "stream",
          "text": [
            "Running validation\n",
            "Running training epoch\n"
          ]
        },
        {
          "name": "stderr",
          "output_type": "stream",
          "text": [
            "35it [00:00, 229.87it/s]\n",
            "12it [00:00, 615.08it/s]\n"
          ]
        },
        {
          "name": "stdout",
          "output_type": "stream",
          "text": [
            "Running validation\n",
            "Running training epoch\n"
          ]
        },
        {
          "name": "stderr",
          "output_type": "stream",
          "text": [
            "35it [00:00, 210.80it/s]\n",
            "12it [00:00, 499.00it/s]\n"
          ]
        },
        {
          "name": "stdout",
          "output_type": "stream",
          "text": [
            "Running validation\n",
            "Running training epoch\n"
          ]
        },
        {
          "name": "stderr",
          "output_type": "stream",
          "text": [
            "35it [00:00, 232.44it/s]\n",
            "12it [00:00, 621.39it/s]\n"
          ]
        },
        {
          "name": "stdout",
          "output_type": "stream",
          "text": [
            "Running validation\n",
            "Running training epoch\n"
          ]
        },
        {
          "name": "stderr",
          "output_type": "stream",
          "text": [
            "35it [00:00, 228.30it/s]\n",
            "12it [00:00, 648.39it/s]\n"
          ]
        },
        {
          "name": "stdout",
          "output_type": "stream",
          "text": [
            "Running validation\n",
            "Running training epoch\n"
          ]
        },
        {
          "name": "stderr",
          "output_type": "stream",
          "text": [
            "35it [00:00, 232.11it/s]\n",
            "12it [00:00, 501.36it/s]\n"
          ]
        },
        {
          "name": "stdout",
          "output_type": "stream",
          "text": [
            "Running validation\n",
            "Running training epoch\n"
          ]
        },
        {
          "name": "stderr",
          "output_type": "stream",
          "text": [
            "35it [00:00, 228.42it/s]\n",
            "12it [00:00, 466.85it/s]\n"
          ]
        },
        {
          "name": "stdout",
          "output_type": "stream",
          "text": [
            "Running validation\n",
            "Running training epoch\n"
          ]
        },
        {
          "name": "stderr",
          "output_type": "stream",
          "text": [
            "35it [00:00, 236.46it/s]\n",
            "12it [00:00, 475.55it/s]\n"
          ]
        },
        {
          "name": "stdout",
          "output_type": "stream",
          "text": [
            "Running validation\n",
            "Running training epoch\n"
          ]
        },
        {
          "name": "stderr",
          "output_type": "stream",
          "text": [
            "35it [00:00, 221.01it/s]\n",
            "12it [00:00, 702.36it/s]\n"
          ]
        },
        {
          "name": "stdout",
          "output_type": "stream",
          "text": [
            "Running validation\n",
            "Running training epoch\n"
          ]
        },
        {
          "name": "stderr",
          "output_type": "stream",
          "text": [
            "35it [00:00, 218.32it/s]\n",
            "12it [00:00, 603.63it/s]\n"
          ]
        },
        {
          "name": "stdout",
          "output_type": "stream",
          "text": [
            "Running validation\n",
            "Running training epoch\n"
          ]
        },
        {
          "name": "stderr",
          "output_type": "stream",
          "text": [
            "35it [00:00, 223.74it/s]\n",
            "12it [00:00, 485.85it/s]\n"
          ]
        },
        {
          "name": "stdout",
          "output_type": "stream",
          "text": [
            "Running validation\n",
            "Running training epoch\n"
          ]
        },
        {
          "name": "stderr",
          "output_type": "stream",
          "text": [
            "35it [00:00, 201.52it/s]\n",
            "12it [00:00, 631.57it/s]\n"
          ]
        },
        {
          "name": "stdout",
          "output_type": "stream",
          "text": [
            "Running validation\n",
            "Running training epoch\n"
          ]
        },
        {
          "name": "stderr",
          "output_type": "stream",
          "text": [
            "35it [00:00, 221.06it/s]\n",
            "12it [00:00, 564.64it/s]\n"
          ]
        },
        {
          "name": "stdout",
          "output_type": "stream",
          "text": [
            "Running validation\n",
            "Running training epoch\n"
          ]
        },
        {
          "name": "stderr",
          "output_type": "stream",
          "text": [
            "35it [00:00, 227.13it/s]\n",
            "12it [00:00, 607.22it/s]\n"
          ]
        },
        {
          "name": "stdout",
          "output_type": "stream",
          "text": [
            "Running validation\n",
            "Running training epoch\n"
          ]
        },
        {
          "name": "stderr",
          "output_type": "stream",
          "text": [
            "35it [00:00, 254.61it/s]\n",
            "12it [00:00, 662.26it/s]\n"
          ]
        },
        {
          "name": "stdout",
          "output_type": "stream",
          "text": [
            "Running validation\n",
            "Running training epoch\n"
          ]
        },
        {
          "name": "stderr",
          "output_type": "stream",
          "text": [
            "35it [00:00, 205.45it/s]\n",
            "12it [00:00, 554.87it/s]\n"
          ]
        },
        {
          "name": "stdout",
          "output_type": "stream",
          "text": [
            "Running validation\n",
            "Running training epoch\n"
          ]
        },
        {
          "name": "stderr",
          "output_type": "stream",
          "text": [
            "35it [00:00, 193.75it/s]\n",
            "12it [00:00, 649.05it/s]\n"
          ]
        },
        {
          "name": "stdout",
          "output_type": "stream",
          "text": [
            "Running validation\n",
            "Running training epoch\n"
          ]
        },
        {
          "name": "stderr",
          "output_type": "stream",
          "text": [
            "35it [00:00, 204.52it/s]\n",
            "12it [00:00, 529.71it/s]\n"
          ]
        },
        {
          "name": "stdout",
          "output_type": "stream",
          "text": [
            "Running validation\n",
            "Running training epoch\n"
          ]
        },
        {
          "name": "stderr",
          "output_type": "stream",
          "text": [
            "35it [00:00, 220.22it/s]\n",
            "12it [00:00, 567.67it/s]\n"
          ]
        },
        {
          "name": "stdout",
          "output_type": "stream",
          "text": [
            "Running validation\n",
            "Running training epoch\n"
          ]
        },
        {
          "name": "stderr",
          "output_type": "stream",
          "text": [
            "35it [00:00, 209.00it/s]\n",
            "12it [00:00, 619.47it/s]\n"
          ]
        },
        {
          "name": "stdout",
          "output_type": "stream",
          "text": [
            "Running validation\n",
            "Running training epoch\n"
          ]
        },
        {
          "name": "stderr",
          "output_type": "stream",
          "text": [
            "35it [00:00, 213.98it/s]\n",
            "12it [00:00, 606.73it/s]\n"
          ]
        },
        {
          "name": "stdout",
          "output_type": "stream",
          "text": [
            "Running validation\n",
            "Running training epoch\n"
          ]
        },
        {
          "name": "stderr",
          "output_type": "stream",
          "text": [
            "35it [00:00, 198.70it/s]\n",
            "12it [00:00, 447.01it/s]\n"
          ]
        },
        {
          "name": "stdout",
          "output_type": "stream",
          "text": [
            "Running validation\n",
            "Running training epoch\n"
          ]
        },
        {
          "name": "stderr",
          "output_type": "stream",
          "text": [
            "35it [00:00, 178.44it/s]\n",
            "12it [00:00, 531.24it/s]\n"
          ]
        },
        {
          "name": "stdout",
          "output_type": "stream",
          "text": [
            "Running validation\n",
            "Running training epoch\n"
          ]
        },
        {
          "name": "stderr",
          "output_type": "stream",
          "text": [
            "35it [00:00, 197.38it/s]\n",
            "12it [00:00, 617.95it/s]\n"
          ]
        },
        {
          "name": "stdout",
          "output_type": "stream",
          "text": [
            "Running validation\n",
            "Running training epoch\n"
          ]
        },
        {
          "name": "stderr",
          "output_type": "stream",
          "text": [
            "35it [00:00, 247.08it/s]\n",
            "12it [00:00, 874.15it/s]\n"
          ]
        },
        {
          "name": "stdout",
          "output_type": "stream",
          "text": [
            "Running validation\n",
            "Running training epoch\n"
          ]
        },
        {
          "name": "stderr",
          "output_type": "stream",
          "text": [
            "35it [00:00, 302.86it/s]\n",
            "12it [00:00, 868.66it/s]\n"
          ]
        },
        {
          "name": "stdout",
          "output_type": "stream",
          "text": [
            "Running validation\n",
            "Running training epoch\n"
          ]
        },
        {
          "name": "stderr",
          "output_type": "stream",
          "text": [
            "35it [00:00, 309.10it/s]\n",
            "12it [00:00, 863.57it/s]\n"
          ]
        },
        {
          "name": "stdout",
          "output_type": "stream",
          "text": [
            "Running validation\n",
            "Running training epoch\n"
          ]
        },
        {
          "name": "stderr",
          "output_type": "stream",
          "text": [
            "35it [00:00, 293.99it/s]\n",
            "12it [00:00, 857.83it/s]\n"
          ]
        },
        {
          "name": "stdout",
          "output_type": "stream",
          "text": [
            "Running validation\n",
            "Running training epoch\n"
          ]
        },
        {
          "name": "stderr",
          "output_type": "stream",
          "text": [
            "35it [00:00, 298.64it/s]\n",
            "12it [00:00, 649.42it/s]\n"
          ]
        },
        {
          "name": "stdout",
          "output_type": "stream",
          "text": [
            "Running validation\n",
            "Running training epoch\n"
          ]
        },
        {
          "name": "stderr",
          "output_type": "stream",
          "text": [
            "35it [00:00, 286.85it/s]\n",
            "12it [00:00, 583.89it/s]\n"
          ]
        },
        {
          "name": "stdout",
          "output_type": "stream",
          "text": [
            "Running validation\n",
            "Running training epoch\n"
          ]
        },
        {
          "name": "stderr",
          "output_type": "stream",
          "text": [
            "35it [00:00, 273.77it/s]\n",
            "12it [00:00, 720.83it/s]\n"
          ]
        },
        {
          "name": "stdout",
          "output_type": "stream",
          "text": [
            "Running validation\n",
            "Running training epoch\n"
          ]
        },
        {
          "name": "stderr",
          "output_type": "stream",
          "text": [
            "35it [00:00, 323.02it/s]\n",
            "12it [00:00, 829.08it/s]\n"
          ]
        },
        {
          "name": "stdout",
          "output_type": "stream",
          "text": [
            "Running validation\n",
            "Running training epoch\n"
          ]
        },
        {
          "name": "stderr",
          "output_type": "stream",
          "text": [
            "35it [00:00, 295.20it/s]\n",
            "12it [00:00, 722.01it/s]\n"
          ]
        },
        {
          "name": "stdout",
          "output_type": "stream",
          "text": [
            "Running validation\n",
            "Running training epoch\n"
          ]
        },
        {
          "name": "stderr",
          "output_type": "stream",
          "text": [
            "35it [00:00, 210.86it/s]\n",
            "12it [00:00, 609.15it/s]\n"
          ]
        },
        {
          "name": "stdout",
          "output_type": "stream",
          "text": [
            "Running validation\n",
            "Running training epoch\n"
          ]
        },
        {
          "name": "stderr",
          "output_type": "stream",
          "text": [
            "35it [00:00, 334.39it/s]\n",
            "12it [00:00, 827.70it/s]\n"
          ]
        },
        {
          "name": "stdout",
          "output_type": "stream",
          "text": [
            "Running validation\n",
            "Running training epoch\n"
          ]
        },
        {
          "name": "stderr",
          "output_type": "stream",
          "text": [
            "35it [00:00, 305.92it/s]\n",
            "12it [00:00, 748.76it/s]\n"
          ]
        },
        {
          "name": "stdout",
          "output_type": "stream",
          "text": [
            "Running validation\n",
            "Running training epoch\n"
          ]
        },
        {
          "name": "stderr",
          "output_type": "stream",
          "text": [
            "35it [00:00, 369.13it/s]\n",
            "12it [00:00, 717.75it/s]\n"
          ]
        },
        {
          "name": "stdout",
          "output_type": "stream",
          "text": [
            "Running validation\n",
            "Running training epoch\n"
          ]
        },
        {
          "name": "stderr",
          "output_type": "stream",
          "text": [
            "35it [00:00, 322.13it/s]\n",
            "12it [00:00, 857.32it/s]\n"
          ]
        },
        {
          "name": "stdout",
          "output_type": "stream",
          "text": [
            "Running validation\n",
            "Running training epoch\n"
          ]
        },
        {
          "name": "stderr",
          "output_type": "stream",
          "text": [
            "35it [00:00, 324.35it/s]\n",
            "12it [00:00, 651.92it/s]\n"
          ]
        },
        {
          "name": "stdout",
          "output_type": "stream",
          "text": [
            "Running validation\n",
            "Running training epoch\n"
          ]
        },
        {
          "name": "stderr",
          "output_type": "stream",
          "text": [
            "35it [00:00, 294.06it/s]\n",
            "12it [00:00, 877.52it/s]\n"
          ]
        },
        {
          "name": "stdout",
          "output_type": "stream",
          "text": [
            "Running validation\n",
            "Running training epoch\n"
          ]
        },
        {
          "name": "stderr",
          "output_type": "stream",
          "text": [
            "35it [00:00, 283.83it/s]\n",
            "12it [00:00, 878.13it/s]\n"
          ]
        },
        {
          "name": "stdout",
          "output_type": "stream",
          "text": [
            "Running validation\n",
            "Running training epoch\n"
          ]
        },
        {
          "name": "stderr",
          "output_type": "stream",
          "text": [
            "35it [00:00, 296.62it/s]\n",
            "12it [00:00, 789.65it/s]\n"
          ]
        },
        {
          "name": "stdout",
          "output_type": "stream",
          "text": [
            "Running validation\n",
            "Running training epoch\n"
          ]
        },
        {
          "name": "stderr",
          "output_type": "stream",
          "text": [
            "35it [00:00, 331.41it/s]\n",
            "12it [00:00, 1004.88it/s]\n"
          ]
        },
        {
          "name": "stdout",
          "output_type": "stream",
          "text": [
            "Running validation\n",
            "Running training epoch\n"
          ]
        },
        {
          "name": "stderr",
          "output_type": "stream",
          "text": [
            "35it [00:00, 338.38it/s]\n",
            "12it [00:00, 804.11it/s]\n"
          ]
        },
        {
          "name": "stdout",
          "output_type": "stream",
          "text": [
            "Running validation\n",
            "Running training epoch\n"
          ]
        },
        {
          "name": "stderr",
          "output_type": "stream",
          "text": [
            "35it [00:00, 334.69it/s]\n",
            "12it [00:00, 1023.88it/s]\n"
          ]
        },
        {
          "name": "stdout",
          "output_type": "stream",
          "text": [
            "Running validation\n",
            "Running training epoch\n"
          ]
        },
        {
          "name": "stderr",
          "output_type": "stream",
          "text": [
            "35it [00:00, 292.00it/s]\n",
            "12it [00:00, 659.36it/s]\n"
          ]
        },
        {
          "name": "stdout",
          "output_type": "stream",
          "text": [
            "Running validation\n",
            "Running training epoch\n"
          ]
        },
        {
          "name": "stderr",
          "output_type": "stream",
          "text": [
            "35it [00:00, 212.54it/s]\n",
            "12it [00:00, 642.53it/s]\n"
          ]
        },
        {
          "name": "stdout",
          "output_type": "stream",
          "text": [
            "Running validation\n",
            "Running training epoch\n"
          ]
        },
        {
          "name": "stderr",
          "output_type": "stream",
          "text": [
            "35it [00:00, 223.52it/s]\n",
            "12it [00:00, 504.34it/s]\n"
          ]
        },
        {
          "name": "stdout",
          "output_type": "stream",
          "text": [
            "Running validation\n",
            "Running training epoch\n"
          ]
        },
        {
          "name": "stderr",
          "output_type": "stream",
          "text": [
            "35it [00:00, 216.52it/s]\n",
            "12it [00:00, 467.18it/s]\n"
          ]
        },
        {
          "name": "stdout",
          "output_type": "stream",
          "text": [
            "Running validation\n",
            "Running training epoch\n"
          ]
        },
        {
          "name": "stderr",
          "output_type": "stream",
          "text": [
            "35it [00:00, 231.31it/s]\n",
            "12it [00:00, 654.11it/s]\n"
          ]
        },
        {
          "name": "stdout",
          "output_type": "stream",
          "text": [
            "Running validation\n",
            "Running training epoch\n"
          ]
        },
        {
          "name": "stderr",
          "output_type": "stream",
          "text": [
            "35it [00:00, 208.37it/s]\n",
            "12it [00:00, 526.88it/s]\n"
          ]
        },
        {
          "name": "stdout",
          "output_type": "stream",
          "text": [
            "Running validation\n",
            "Running training epoch\n"
          ]
        },
        {
          "name": "stderr",
          "output_type": "stream",
          "text": [
            "35it [00:00, 242.98it/s]\n",
            "12it [00:00, 623.56it/s]\n"
          ]
        },
        {
          "name": "stdout",
          "output_type": "stream",
          "text": [
            "Running validation\n",
            "Running training epoch\n"
          ]
        },
        {
          "name": "stderr",
          "output_type": "stream",
          "text": [
            "35it [00:00, 240.34it/s]\n",
            "12it [00:00, 527.73it/s]\n"
          ]
        },
        {
          "name": "stdout",
          "output_type": "stream",
          "text": [
            "Running validation\n"
          ]
        },
        {
          "data": {
            "application/vnd.jupyter.widget-view+json": {
              "model_id": "042ebd90529942d398e1818c6c4f7ac5",
              "version_major": 2,
              "version_minor": 0
            },
            "text/plain": [
              "VBox(children=(Label(value='9.426 MB of 9.426 MB uploaded\\r'), FloatProgress(value=1.0, max=1.0)))"
            ]
          },
          "metadata": {},
          "output_type": "display_data"
        },
        {
          "data": {
            "text/html": [
              "<style>\n",
              "    table.wandb td:nth-child(1) { padding: 0 10px; text-align: left ; width: auto;} td:nth-child(2) {text-align: left ; width: 100%}\n",
              "    .wandb-row { display: flex; flex-direction: row; flex-wrap: wrap; justify-content: flex-start; width: 100% }\n",
              "    .wandb-col { display: flex; flex-direction: column; flex-basis: 100%; flex: 1; padding: 10px; }\n",
              "    </style>\n",
              "<div class=\"wandb-row\"><div class=\"wandb-col\"><h3>Run history:</h3><br/><table class=\"wandb\"><tr><td>train_loss</td><td>█▂▁▁▁▁▁▁▁▁▁▁▁▁▁▁▁▁▁▁▁▁▁▁▁▁▁▁▁▁▁▁▁▁▁▁▁▁▁▁</td></tr><tr><td>val_loss</td><td>█▁▁▁▁▁▁▁▁▁▁▁▁▁▁▁▁▁▁▁▁▁▁▁▁▁▁▁▁▁▁▁▁▁▁▁▁▁▁▁</td></tr></table><br/></div><div class=\"wandb-col\"><h3>Run summary:</h3><br/><table class=\"wandb\"><tr><td>train_loss</td><td>5.29853</td></tr><tr><td>val_loss</td><td>7.21946</td></tr></table><br/></div></div>"
            ],
            "text/plain": [
              "<IPython.core.display.HTML object>"
            ]
          },
          "metadata": {},
          "output_type": "display_data"
        },
        {
          "data": {
            "text/html": [
              " View run <strong style=\"color:#cdcd00\">inter-aug-aux-rnn</strong> at: <a href='https://wandb.ai/cell-x/coursework_1/runs/c472ykrb' target=\"_blank\">https://wandb.ai/cell-x/coursework_1/runs/c472ykrb</a><br/>Synced 5 W&B file(s), 0 media file(s), 0 artifact file(s) and 100 other file(s)"
            ],
            "text/plain": [
              "<IPython.core.display.HTML object>"
            ]
          },
          "metadata": {},
          "output_type": "display_data"
        },
        {
          "data": {
            "text/html": [
              "Find logs at: <code>./wandb/run-20231110_145324-c472ykrb/logs</code>"
            ],
            "text/plain": [
              "<IPython.core.display.HTML object>"
            ]
          },
          "metadata": {},
          "output_type": "display_data"
        }
      ],
      "source": [
        "input_dim = 4\n",
        "lr = 0.001\n",
        "lookback = 2\n",
        "hidden_dim = 64\n",
        "num_layers = 1\n",
        "fc_head_layers = [32,1]\n",
        "fc_inter_head_layers = [32,1]\n",
        "nonlinearity = \"relu\"\n",
        "shuffle = True\n",
        "batch_size = 32\n",
        "epochs = 100\n",
        "\n",
        "trgt_cols = [\"meantemp_5_step\"]\n",
        "display(train_df[non_date_vars+trgt_cols+[\"meantemp_1_step\"]].head())\n",
        "train_dataset = PandasTsDataset1StepAux(\n",
        "    X=train_df[non_date_vars],\n",
        "    y = train_df[trgt_cols],\n",
        "    y_1_step=train_df[[\"meantemp_1_step\"]],\n",
        "    lookback=2,\n",
        "    normalise=True # Set this to true to stabilize the output of the RNN\n",
        ")\n",
        "train_loader = DataLoader(dataset=train_dataset, shuffle=shuffle, batch_size=batch_size)\n",
        "print(f\"First observation X:\\n{train_dataset[0][1]}\")\n",
        "print(f\"First observation y:\\n{train_dataset[0][0]}\")\n",
        "print(\"\\n\")\n",
        "\n",
        "print(f\"Second observation X:\\n{train_dataset[1][1]}\")\n",
        "print(f\"Second observation y:\\n{train_dataset[1][0]}\")\n",
        "\n",
        "val_idx = val_df[trgt_cols].isna().sum(axis=1) == 0\n",
        "val_dataset = PandasTsDataset(X=val_df[val_idx][non_date_vars], y=val_df[val_idx][trgt_col], lookback=lookback)\n",
        "val_loader = DataLoader(dataset=val_dataset, shuffle=shuffle, batch_size=batch_size)\n",
        "\n",
        "wandb_config={\n",
        "    \"lr\": lr,\n",
        "    \"lookback\": lookback,\n",
        "    \"hidden_dim\": hidden_dim,\n",
        "    \"num_layers\": num_layers,\n",
        "    \"fc_head_layers\": fc_head_layers,\n",
        "    \"fc_inter_head_layers\": fc_inter_head_layers,\n",
        "    \"nonlinearity\": nonlinearity\n",
        "}\n",
        "\n",
        "model = AugInterAuxRNN(\n",
        "    input_dim=input_dim, rnn_hidden_dim=wandb_config[\"hidden_dim\"],\n",
        "    rnn_num_layers=wandb_config[\"num_layers\"],\n",
        "    fc_head_layers=wandb_config[\"fc_head_layers\"],\n",
        "    fc_inter_head_layers=wandb_config[\"fc_inter_head_layers\"],\n",
        "    nonlinearity=wandb_config[\"nonlinearity\"]\n",
        ")\n",
        "\n",
        "# Check model is predicting\n",
        "with torch.no_grad():\n",
        "    model.train()\n",
        "    first_batch = next(train_loader.__iter__())\n",
        "    res = model(first_batch[1])\n",
        "    print(f\"first_batch res shape: {first_batch[0].shape}\")\n",
        "    print(f\"res shape: {res.shape}\")\n",
        "\n",
        "    model.eval()\n",
        "    first_batch = next(val_loader.__iter__())\n",
        "    res = model(first_batch[1])\n",
        "    print(f\"first_batch res shape: {first_batch[0].shape}\")\n",
        "    print(f\"res shape: {res.shape}\")\n",
        "\n",
        "optimizer=torch.optim.Adam(model.parameters(), lr=wandb_config[\"lr\"])\n",
        "epoch_train_loss, epoch_val_loss = train(\n",
        "    model=model, train_data_loader=train_loader, val_data_loader=val_loader, gpu = gpu,\n",
        "    optimizer=optimizer, criterion=ovrl_criterion, epochs=epochs,\n",
        "    wandb_proj=WANDB_PROJ, wandb_name=\"inter-aug-aux-rnn\", wandb_config=wandb_config, debug=False\n",
        ")"
      ]
    },
    {
      "cell_type": "code",
      "execution_count": 60,
      "metadata": {
        "id": "dSoNC9pmt5Gq"
      },
      "outputs": [],
      "source": [
        "inter_aux_train_loss, inter_aux_val_loss =epoch_train_loss, epoch_val_loss"
      ]
    },
    {
      "cell_type": "code",
      "execution_count": 65,
      "metadata": {
        "colab": {
          "base_uri": "https://localhost:8080/",
          "height": 0
        },
        "id": "Ig793Qzyu0uz",
        "outputId": "93d0c9a6-e3fc-4bb6-b71e-0015d6ccaca3"
      },
      "outputs": [
        {
          "name": "stdout",
          "output_type": "stream",
          "text": [
            "minimum validation loss 6.691141565640767\n",
            "at epoch:  87\n",
            "final validation loss:  7.21945850054423\n"
          ]
        }
      ],
      "source": [
        "print(\"minimum validation loss\", min(inter_aux_val_loss))\n",
        "print(\"at epoch: \", inter_aux_val_loss.index(min(inter_aux_val_loss)))\n",
        "print(\"final validation loss: \", inter_aux_val_loss[-1] )"
      ]
    },
    {
      "cell_type": "code",
      "execution_count": 62,
      "metadata": {
        "colab": {
          "base_uri": "https://localhost:8080/",
          "height": 492
        },
        "id": "J4OKhklIuLI9",
        "outputId": "aaefae32-ad01-4a7f-c43e-acbc0c7f3c20"
      },
      "outputs": [
        {
          "data": {
            "image/png": "[encoded data removed]",
            "text/plain": [
              "<Figure size 640x480 with 1 Axes>"
            ]
          },
          "metadata": {},
          "output_type": "display_data"
        }
      ],
      "source": [
        "plt.plot(epochs_xaxis, inter_aux_train_loss, color = 'r', linestyle = '-', label = \"Extended RNN train loss with inter auxiliary loss\")\n",
        "plt.plot(epochs_xaxis, inter_aux_val_loss, color = 'k', linestyle = '-.', label = \"Extended RNN validation loss\")\n",
        "plt.xlabel('Epoch number')\n",
        "plt.ylabel('MSE Loss')\n",
        "plt.suptitle(\"Effect of auxiliary loss on training and validation losses\")\n",
        "plt.tight_layout()\n",
        "plt.legend()\n",
        "plt.show()"
      ]
    },
    {
      "cell_type": "markdown",
      "metadata": {
        "id": "3eITFRo4ujvM"
      },
      "source": [
        "I get an extremely high validation loss when the training set's normalise flag is set to False. After setting it to true, I get a low validation loss of around 7 (value may vary due to stochasticity). A lookback of 7 or 9 has competitive performance with respect to this auxiliary loss."
      ]
    }
  ],
  "metadata": {
    "colab": {
      "provenance": [],
      "toc_visible": true
    },
    "kernelspec": {
      "display_name": "dpl",
      "language": "python",
      "name": "python3"
    },
    "language_info": {
      "codemirror_mode": {
        "name": "ipython",
        "version": 3
      },
      "file_extension": ".py",
      "mimetype": "text/x-python",
      "name": "python",
      "nbconvert_exporter": "python",
      "pygments_lexer": "ipython3",
      "version": "3.8.6"
    },
    "widgets": {
      "application/vnd.jupyter.widget-state+json": {
        "042ebd90529942d398e1818c6c4f7ac5": {
          "model_module": "@jupyter-widgets/controls",
          "model_module_version": "1.5.0",
          "model_name": "VBoxModel",
          "state": {
            "_dom_classes": [],
            "_model_module": "@jupyter-widgets/controls",
            "_model_module_version": "1.5.0",
            "_model_name": "VBoxModel",
            "_view_count": null,
            "_view_module": "@jupyter-widgets/controls",
            "_view_module_version": "1.5.0",
            "_view_name": "VBoxView",
            "box_style": "",
            "children": [
              "IPY_MODEL_5be8cfd025564f2f937f7f15164c0720",
              "IPY_MODEL_0a8812aa5cea4708b5e42fbb1e0f3e18"
            ],
            "layout": "IPY_MODEL_f5c903811eb94f3e8f1b3e03e7cc7a09"
          }
        },
        "063a6cfe2b564cbf90a139498a0dff11": {
          "model_module": "@jupyter-widgets/controls",
          "model_module_version": "1.5.0",
          "model_name": "LabelModel",
          "state": {
            "_dom_classes": [],
            "_model_module": "@jupyter-widgets/controls",
            "_model_module_version": "1.5.0",
            "_model_name": "LabelModel",
            "_view_count": null,
            "_view_module": "@jupyter-widgets/controls",
            "_view_module_version": "1.5.0",
            "_view_name": "LabelView",
            "description": "",
            "description_tooltip": null,
            "layout": "IPY_MODEL_5e231eb541c24edc90046059e55e91d1",
            "placeholder": "​",
            "style": "IPY_MODEL_fa1dc9ec19bc4c4ab3e2389d9b263a7c",
            "value": "5.947 MB of 5.947 MB uploaded\r"
          }
        },
        "0a8812aa5cea4708b5e42fbb1e0f3e18": {
          "model_module": "@jupyter-widgets/controls",
          "model_module_version": "1.5.0",
          "model_name": "FloatProgressModel",
          "state": {
            "_dom_classes": [],
            "_model_module": "@jupyter-widgets/controls",
            "_model_module_version": "1.5.0",
            "_model_name": "FloatProgressModel",
            "_view_count": null,
            "_view_module": "@jupyter-widgets/controls",
            "_view_module_version": "1.5.0",
            "_view_name": "ProgressView",
            "bar_style": "",
            "description": "",
            "description_tooltip": null,
            "layout": "IPY_MODEL_bd1cfff99edf450580ba3729078cf8de",
            "max": 1,
            "min": 0,
            "orientation": "horizontal",
            "style": "IPY_MODEL_68584f227fe34a96943e95f9598a2946",
            "value": 1
          }
        },
        "0eec555a6db344629469108cb70bfad5": {
          "model_module": "@jupyter-widgets/base",
          "model_module_version": "1.2.0",
          "model_name": "LayoutModel",
          "state": {
            "_model_module": "@jupyter-widgets/base",
            "_model_module_version": "1.2.0",
            "_model_name": "LayoutModel",
            "_view_count": null,
            "_view_module": "@jupyter-widgets/base",
            "_view_module_version": "1.2.0",
            "_view_name": "LayoutView",
            "align_content": null,
            "align_items": null,
            "align_self": null,
            "border": null,
            "bottom": null,
            "display": null,
            "flex": null,
            "flex_flow": null,
            "grid_area": null,
            "grid_auto_columns": null,
            "grid_auto_flow": null,
            "grid_auto_rows": null,
            "grid_column": null,
            "grid_gap": null,
            "grid_row": null,
            "grid_template_areas": null,
            "grid_template_columns": null,
            "grid_template_rows": null,
            "height": null,
            "justify_content": null,
            "justify_items": null,
            "left": null,
            "margin": null,
            "max_height": null,
            "max_width": null,
            "min_height": null,
            "min_width": null,
            "object_fit": null,
            "object_position": null,
            "order": null,
            "overflow": null,
            "overflow_x": null,
            "overflow_y": null,
            "padding": null,
            "right": null,
            "top": null,
            "visibility": null,
            "width": null
          }
        },
        "104b7712dc564931b2423a45c42bef86": {
          "model_module": "@jupyter-widgets/controls",
          "model_module_version": "1.5.0",
          "model_name": "DescriptionStyleModel",
          "state": {
            "_model_module": "@jupyter-widgets/controls",
            "_model_module_version": "1.5.0",
            "_model_name": "DescriptionStyleModel",
            "_view_count": null,
            "_view_module": "@jupyter-widgets/base",
            "_view_module_version": "1.2.0",
            "_view_name": "StyleView",
            "description_width": ""
          }
        },
        "1633ca92b90e4516b3a89f4080b4c0c1": {
          "model_module": "@jupyter-widgets/controls",
          "model_module_version": "1.5.0",
          "model_name": "VBoxModel",
          "state": {
            "_dom_classes": [],
            "_model_module": "@jupyter-widgets/controls",
            "_model_module_version": "1.5.0",
            "_model_name": "VBoxModel",
            "_view_count": null,
            "_view_module": "@jupyter-widgets/controls",
            "_view_module_version": "1.5.0",
            "_view_name": "VBoxView",
            "box_style": "",
            "children": [
              "IPY_MODEL_063a6cfe2b564cbf90a139498a0dff11",
              "IPY_MODEL_c8b6c9e3ec484ce2b927a545adf8c0ef"
            ],
            "layout": "IPY_MODEL_3f0914e3c6454e699b5b40eef7e4b1a6"
          }
        },
        "18f052ed16cf40e09811001c278529e2": {
          "model_module": "@jupyter-widgets/controls",
          "model_module_version": "1.5.0",
          "model_name": "DescriptionStyleModel",
          "state": {
            "_model_module": "@jupyter-widgets/controls",
            "_model_module_version": "1.5.0",
            "_model_name": "DescriptionStyleModel",
            "_view_count": null,
            "_view_module": "@jupyter-widgets/base",
            "_view_module_version": "1.2.0",
            "_view_name": "StyleView",
            "description_width": ""
          }
        },
        "1e5e135e56804b53a9e94fe5194ffe01": {
          "model_module": "@jupyter-widgets/base",
          "model_module_version": "1.2.0",
          "model_name": "LayoutModel",
          "state": {
            "_model_module": "@jupyter-widgets/base",
            "_model_module_version": "1.2.0",
            "_model_name": "LayoutModel",
            "_view_count": null,
            "_view_module": "@jupyter-widgets/base",
            "_view_module_version": "1.2.0",
            "_view_name": "LayoutView",
            "align_content": null,
            "align_items": null,
            "align_self": null,
            "border": null,
            "bottom": null,
            "display": null,
            "flex": null,
            "flex_flow": null,
            "grid_area": null,
            "grid_auto_columns": null,
            "grid_auto_flow": null,
            "grid_auto_rows": null,
            "grid_column": null,
            "grid_gap": null,
            "grid_row": null,
            "grid_template_areas": null,
            "grid_template_columns": null,
            "grid_template_rows": null,
            "height": null,
            "justify_content": null,
            "justify_items": null,
            "left": null,
            "margin": null,
            "max_height": null,
            "max_width": null,
            "min_height": null,
            "min_width": null,
            "object_fit": null,
            "object_position": null,
            "order": null,
            "overflow": null,
            "overflow_x": null,
            "overflow_y": null,
            "padding": null,
            "right": null,
            "top": null,
            "visibility": null,
            "width": null
          }
        },
        "2392d3a1534b40328b8811687fe4578c": {
          "model_module": "@jupyter-widgets/base",
          "model_module_version": "1.2.0",
          "model_name": "LayoutModel",
          "state": {
            "_model_module": "@jupyter-widgets/base",
            "_model_module_version": "1.2.0",
            "_model_name": "LayoutModel",
            "_view_count": null,
            "_view_module": "@jupyter-widgets/base",
            "_view_module_version": "1.2.0",
            "_view_name": "LayoutView",
            "align_content": null,
            "align_items": null,
            "align_self": null,
            "border": null,
            "bottom": null,
            "display": null,
            "flex": null,
            "flex_flow": null,
            "grid_area": null,
            "grid_auto_columns": null,
            "grid_auto_flow": null,
            "grid_auto_rows": null,
            "grid_column": null,
            "grid_gap": null,
            "grid_row": null,
            "grid_template_areas": null,
            "grid_template_columns": null,
            "grid_template_rows": null,
            "height": null,
            "justify_content": null,
            "justify_items": null,
            "left": null,
            "margin": null,
            "max_height": null,
            "max_width": null,
            "min_height": null,
            "min_width": null,
            "object_fit": null,
            "object_position": null,
            "order": null,
            "overflow": null,
            "overflow_x": null,
            "overflow_y": null,
            "padding": null,
            "right": null,
            "top": null,
            "visibility": null,
            "width": null
          }
        },
        "299daa52324a44c88d7e4382973a77ab": {
          "model_module": "@jupyter-widgets/controls",
          "model_module_version": "1.5.0",
          "model_name": "DescriptionStyleModel",
          "state": {
            "_model_module": "@jupyter-widgets/controls",
            "_model_module_version": "1.5.0",
            "_model_name": "DescriptionStyleModel",
            "_view_count": null,
            "_view_module": "@jupyter-widgets/base",
            "_view_module_version": "1.2.0",
            "_view_name": "StyleView",
            "description_width": ""
          }
        },
        "2a7fd892fa234c64bfd7900b16792d2f": {
          "model_module": "@jupyter-widgets/controls",
          "model_module_version": "1.5.0",
          "model_name": "ProgressStyleModel",
          "state": {
            "_model_module": "@jupyter-widgets/controls",
            "_model_module_version": "1.5.0",
            "_model_name": "ProgressStyleModel",
            "_view_count": null,
            "_view_module": "@jupyter-widgets/base",
            "_view_module_version": "1.2.0",
            "_view_name": "StyleView",
            "bar_color": null,
            "description_width": ""
          }
        },
        "2ccf819306ac4dc8ac03c7d3501377ab": {
          "model_module": "@jupyter-widgets/controls",
          "model_module_version": "1.5.0",
          "model_name": "VBoxModel",
          "state": {
            "_dom_classes": [],
            "_model_module": "@jupyter-widgets/controls",
            "_model_module_version": "1.5.0",
            "_model_name": "VBoxModel",
            "_view_count": null,
            "_view_module": "@jupyter-widgets/controls",
            "_view_module_version": "1.5.0",
            "_view_name": "VBoxView",
            "box_style": "",
            "children": [
              "IPY_MODEL_6e860cd4305a493281c975bc70a5e377",
              "IPY_MODEL_453a0cdba7e34c848a4305753a939b9e"
            ],
            "layout": "IPY_MODEL_df233b6129c14fb59f672ca9f4006a2f"
          }
        },
        "3485628e613f4d64a996831e84c49b4d": {
          "model_module": "@jupyter-widgets/base",
          "model_module_version": "1.2.0",
          "model_name": "LayoutModel",
          "state": {
            "_model_module": "@jupyter-widgets/base",
            "_model_module_version": "1.2.0",
            "_model_name": "LayoutModel",
            "_view_count": null,
            "_view_module": "@jupyter-widgets/base",
            "_view_module_version": "1.2.0",
            "_view_name": "LayoutView",
            "align_content": null,
            "align_items": null,
            "align_self": null,
            "border": null,
            "bottom": null,
            "display": null,
            "flex": null,
            "flex_flow": null,
            "grid_area": null,
            "grid_auto_columns": null,
            "grid_auto_flow": null,
            "grid_auto_rows": null,
            "grid_column": null,
            "grid_gap": null,
            "grid_row": null,
            "grid_template_areas": null,
            "grid_template_columns": null,
            "grid_template_rows": null,
            "height": null,
            "justify_content": null,
            "justify_items": null,
            "left": null,
            "margin": null,
            "max_height": null,
            "max_width": null,
            "min_height": null,
            "min_width": null,
            "object_fit": null,
            "object_position": null,
            "order": null,
            "overflow": null,
            "overflow_x": null,
            "overflow_y": null,
            "padding": null,
            "right": null,
            "top": null,
            "visibility": null,
            "width": null
          }
        },
        "350ac8feb8934884beb7fb8caf434082": {
          "model_module": "@jupyter-widgets/base",
          "model_module_version": "1.2.0",
          "model_name": "LayoutModel",
          "state": {
            "_model_module": "@jupyter-widgets/base",
            "_model_module_version": "1.2.0",
            "_model_name": "LayoutModel",
            "_view_count": null,
            "_view_module": "@jupyter-widgets/base",
            "_view_module_version": "1.2.0",
            "_view_name": "LayoutView",
            "align_content": null,
            "align_items": null,
            "align_self": null,
            "border": null,
            "bottom": null,
            "display": null,
            "flex": null,
            "flex_flow": null,
            "grid_area": null,
            "grid_auto_columns": null,
            "grid_auto_flow": null,
            "grid_auto_rows": null,
            "grid_column": null,
            "grid_gap": null,
            "grid_row": null,
            "grid_template_areas": null,
            "grid_template_columns": null,
            "grid_template_rows": null,
            "height": null,
            "justify_content": null,
            "justify_items": null,
            "left": null,
            "margin": null,
            "max_height": null,
            "max_width": null,
            "min_height": null,
            "min_width": null,
            "object_fit": null,
            "object_position": null,
            "order": null,
            "overflow": null,
            "overflow_x": null,
            "overflow_y": null,
            "padding": null,
            "right": null,
            "top": null,
            "visibility": null,
            "width": null
          }
        },
        "3912658b04d74d6aa231dd85d6ef1da9": {
          "model_module": "@jupyter-widgets/controls",
          "model_module_version": "1.5.0",
          "model_name": "LabelModel",
          "state": {
            "_dom_classes": [],
            "_model_module": "@jupyter-widgets/controls",
            "_model_module_version": "1.5.0",
            "_model_name": "LabelModel",
            "_view_count": null,
            "_view_module": "@jupyter-widgets/controls",
            "_view_module_version": "1.5.0",
            "_view_name": "LabelView",
            "description": "",
            "description_tooltip": null,
            "layout": "IPY_MODEL_0eec555a6db344629469108cb70bfad5",
            "placeholder": "​",
            "style": "IPY_MODEL_5450bd3b0b874deca0c5c173195a1dde",
            "value": "5.947 MB of 5.947 MB uploaded\r"
          }
        },
        "3f0914e3c6454e699b5b40eef7e4b1a6": {
          "model_module": "@jupyter-widgets/base",
          "model_module_version": "1.2.0",
          "model_name": "LayoutModel",
          "state": {
            "_model_module": "@jupyter-widgets/base",
            "_model_module_version": "1.2.0",
            "_model_name": "LayoutModel",
            "_view_count": null,
            "_view_module": "@jupyter-widgets/base",
            "_view_module_version": "1.2.0",
            "_view_name": "LayoutView",
            "align_content": null,
            "align_items": null,
            "align_self": null,
            "border": null,
            "bottom": null,
            "display": null,
            "flex": null,
            "flex_flow": null,
            "grid_area": null,
            "grid_auto_columns": null,
            "grid_auto_flow": null,
            "grid_auto_rows": null,
            "grid_column": null,
            "grid_gap": null,
            "grid_row": null,
            "grid_template_areas": null,
            "grid_template_columns": null,
            "grid_template_rows": null,
            "height": null,
            "justify_content": null,
            "justify_items": null,
            "left": null,
            "margin": null,
            "max_height": null,
            "max_width": null,
            "min_height": null,
            "min_width": null,
            "object_fit": null,
            "object_position": null,
            "order": null,
            "overflow": null,
            "overflow_x": null,
            "overflow_y": null,
            "padding": null,
            "right": null,
            "top": null,
            "visibility": null,
            "width": null
          }
        },
        "453a0cdba7e34c848a4305753a939b9e": {
          "model_module": "@jupyter-widgets/controls",
          "model_module_version": "1.5.0",
          "model_name": "FloatProgressModel",
          "state": {
            "_dom_classes": [],
            "_model_module": "@jupyter-widgets/controls",
            "_model_module_version": "1.5.0",
            "_model_name": "FloatProgressModel",
            "_view_count": null,
            "_view_module": "@jupyter-widgets/controls",
            "_view_module_version": "1.5.0",
            "_view_name": "ProgressView",
            "bar_style": "",
            "description": "",
            "description_tooltip": null,
            "layout": "IPY_MODEL_571d78a50d9348f9ad35af87a9dd051b",
            "max": 1,
            "min": 0,
            "orientation": "horizontal",
            "style": "IPY_MODEL_5c773c814a654f22af28b799ea8ff160",
            "value": 1
          }
        },
        "4f2152e9d406441db4891031b505c7db": {
          "model_module": "@jupyter-widgets/controls",
          "model_module_version": "1.5.0",
          "model_name": "ProgressStyleModel",
          "state": {
            "_model_module": "@jupyter-widgets/controls",
            "_model_module_version": "1.5.0",
            "_model_name": "ProgressStyleModel",
            "_view_count": null,
            "_view_module": "@jupyter-widgets/base",
            "_view_module_version": "1.2.0",
            "_view_name": "StyleView",
            "bar_color": null,
            "description_width": ""
          }
        },
        "4f679bca9e1b4bafb937eddc9336c15b": {
          "model_module": "@jupyter-widgets/base",
          "model_module_version": "1.2.0",
          "model_name": "LayoutModel",
          "state": {
            "_model_module": "@jupyter-widgets/base",
            "_model_module_version": "1.2.0",
            "_model_name": "LayoutModel",
            "_view_count": null,
            "_view_module": "@jupyter-widgets/base",
            "_view_module_version": "1.2.0",
            "_view_name": "LayoutView",
            "align_content": null,
            "align_items": null,
            "align_self": null,
            "border": null,
            "bottom": null,
            "display": null,
            "flex": null,
            "flex_flow": null,
            "grid_area": null,
            "grid_auto_columns": null,
            "grid_auto_flow": null,
            "grid_auto_rows": null,
            "grid_column": null,
            "grid_gap": null,
            "grid_row": null,
            "grid_template_areas": null,
            "grid_template_columns": null,
            "grid_template_rows": null,
            "height": null,
            "justify_content": null,
            "justify_items": null,
            "left": null,
            "margin": null,
            "max_height": null,
            "max_width": null,
            "min_height": null,
            "min_width": null,
            "object_fit": null,
            "object_position": null,
            "order": null,
            "overflow": null,
            "overflow_x": null,
            "overflow_y": null,
            "padding": null,
            "right": null,
            "top": null,
            "visibility": null,
            "width": null
          }
        },
        "5450bd3b0b874deca0c5c173195a1dde": {
          "model_module": "@jupyter-widgets/controls",
          "model_module_version": "1.5.0",
          "model_name": "DescriptionStyleModel",
          "state": {
            "_model_module": "@jupyter-widgets/controls",
            "_model_module_version": "1.5.0",
            "_model_name": "DescriptionStyleModel",
            "_view_count": null,
            "_view_module": "@jupyter-widgets/base",
            "_view_module_version": "1.2.0",
            "_view_name": "StyleView",
            "description_width": ""
          }
        },
        "56e1fc7083b14aaf8191a3cfcb3def47": {
          "model_module": "@jupyter-widgets/controls",
          "model_module_version": "1.5.0",
          "model_name": "LabelModel",
          "state": {
            "_dom_classes": [],
            "_model_module": "@jupyter-widgets/controls",
            "_model_module_version": "1.5.0",
            "_model_name": "LabelModel",
            "_view_count": null,
            "_view_module": "@jupyter-widgets/controls",
            "_view_module_version": "1.5.0",
            "_view_name": "LabelView",
            "description": "",
            "description_tooltip": null,
            "layout": "IPY_MODEL_a921f7d8e50b4a19990382bfe34549c0",
            "placeholder": "​",
            "style": "IPY_MODEL_299daa52324a44c88d7e4382973a77ab",
            "value": "5.947 MB of 5.947 MB uploaded\r"
          }
        },
        "571d78a50d9348f9ad35af87a9dd051b": {
          "model_module": "@jupyter-widgets/base",
          "model_module_version": "1.2.0",
          "model_name": "LayoutModel",
          "state": {
            "_model_module": "@jupyter-widgets/base",
            "_model_module_version": "1.2.0",
            "_model_name": "LayoutModel",
            "_view_count": null,
            "_view_module": "@jupyter-widgets/base",
            "_view_module_version": "1.2.0",
            "_view_name": "LayoutView",
            "align_content": null,
            "align_items": null,
            "align_self": null,
            "border": null,
            "bottom": null,
            "display": null,
            "flex": null,
            "flex_flow": null,
            "grid_area": null,
            "grid_auto_columns": null,
            "grid_auto_flow": null,
            "grid_auto_rows": null,
            "grid_column": null,
            "grid_gap": null,
            "grid_row": null,
            "grid_template_areas": null,
            "grid_template_columns": null,
            "grid_template_rows": null,
            "height": null,
            "justify_content": null,
            "justify_items": null,
            "left": null,
            "margin": null,
            "max_height": null,
            "max_width": null,
            "min_height": null,
            "min_width": null,
            "object_fit": null,
            "object_position": null,
            "order": null,
            "overflow": null,
            "overflow_x": null,
            "overflow_y": null,
            "padding": null,
            "right": null,
            "top": null,
            "visibility": null,
            "width": null
          }
        },
        "5be8cfd025564f2f937f7f15164c0720": {
          "model_module": "@jupyter-widgets/controls",
          "model_module_version": "1.5.0",
          "model_name": "LabelModel",
          "state": {
            "_dom_classes": [],
            "_model_module": "@jupyter-widgets/controls",
            "_model_module_version": "1.5.0",
            "_model_name": "LabelModel",
            "_view_count": null,
            "_view_module": "@jupyter-widgets/controls",
            "_view_module_version": "1.5.0",
            "_view_name": "LabelView",
            "description": "",
            "description_tooltip": null,
            "layout": "IPY_MODEL_e0a57a3be3b44415b52b48da2a1ebe99",
            "placeholder": "​",
            "style": "IPY_MODEL_104b7712dc564931b2423a45c42bef86",
            "value": "9.444 MB of 9.444 MB uploaded\r"
          }
        },
        "5c773c814a654f22af28b799ea8ff160": {
          "model_module": "@jupyter-widgets/controls",
          "model_module_version": "1.5.0",
          "model_name": "ProgressStyleModel",
          "state": {
            "_model_module": "@jupyter-widgets/controls",
            "_model_module_version": "1.5.0",
            "_model_name": "ProgressStyleModel",
            "_view_count": null,
            "_view_module": "@jupyter-widgets/base",
            "_view_module_version": "1.2.0",
            "_view_name": "StyleView",
            "bar_color": null,
            "description_width": ""
          }
        },
        "5e231eb541c24edc90046059e55e91d1": {
          "model_module": "@jupyter-widgets/base",
          "model_module_version": "1.2.0",
          "model_name": "LayoutModel",
          "state": {
            "_model_module": "@jupyter-widgets/base",
            "_model_module_version": "1.2.0",
            "_model_name": "LayoutModel",
            "_view_count": null,
            "_view_module": "@jupyter-widgets/base",
            "_view_module_version": "1.2.0",
            "_view_name": "LayoutView",
            "align_content": null,
            "align_items": null,
            "align_self": null,
            "border": null,
            "bottom": null,
            "display": null,
            "flex": null,
            "flex_flow": null,
            "grid_area": null,
            "grid_auto_columns": null,
            "grid_auto_flow": null,
            "grid_auto_rows": null,
            "grid_column": null,
            "grid_gap": null,
            "grid_row": null,
            "grid_template_areas": null,
            "grid_template_columns": null,
            "grid_template_rows": null,
            "height": null,
            "justify_content": null,
            "justify_items": null,
            "left": null,
            "margin": null,
            "max_height": null,
            "max_width": null,
            "min_height": null,
            "min_width": null,
            "object_fit": null,
            "object_position": null,
            "order": null,
            "overflow": null,
            "overflow_x": null,
            "overflow_y": null,
            "padding": null,
            "right": null,
            "top": null,
            "visibility": null,
            "width": null
          }
        },
        "5e3c1423f8fe495bb0cc448d73bb9bf6": {
          "model_module": "@jupyter-widgets/controls",
          "model_module_version": "1.5.0",
          "model_name": "ProgressStyleModel",
          "state": {
            "_model_module": "@jupyter-widgets/controls",
            "_model_module_version": "1.5.0",
            "_model_name": "ProgressStyleModel",
            "_view_count": null,
            "_view_module": "@jupyter-widgets/base",
            "_view_module_version": "1.2.0",
            "_view_name": "StyleView",
            "bar_color": null,
            "description_width": ""
          }
        },
        "68584f227fe34a96943e95f9598a2946": {
          "model_module": "@jupyter-widgets/controls",
          "model_module_version": "1.5.0",
          "model_name": "ProgressStyleModel",
          "state": {
            "_model_module": "@jupyter-widgets/controls",
            "_model_module_version": "1.5.0",
            "_model_name": "ProgressStyleModel",
            "_view_count": null,
            "_view_module": "@jupyter-widgets/base",
            "_view_module_version": "1.2.0",
            "_view_name": "StyleView",
            "bar_color": null,
            "description_width": ""
          }
        },
        "6962e96bc0d74c8b87a98ac5cec21928": {
          "model_module": "@jupyter-widgets/controls",
          "model_module_version": "1.5.0",
          "model_name": "VBoxModel",
          "state": {
            "_dom_classes": [],
            "_model_module": "@jupyter-widgets/controls",
            "_model_module_version": "1.5.0",
            "_model_name": "VBoxModel",
            "_view_count": null,
            "_view_module": "@jupyter-widgets/controls",
            "_view_module_version": "1.5.0",
            "_view_name": "VBoxView",
            "box_style": "",
            "children": [
              "IPY_MODEL_d87a2803010d49ab9f800796ca364a99",
              "IPY_MODEL_e39f0a45fe2f444f831b5c7b988d852f"
            ],
            "layout": "IPY_MODEL_3485628e613f4d64a996831e84c49b4d"
          }
        },
        "6e860cd4305a493281c975bc70a5e377": {
          "model_module": "@jupyter-widgets/controls",
          "model_module_version": "1.5.0",
          "model_name": "LabelModel",
          "state": {
            "_dom_classes": [],
            "_model_module": "@jupyter-widgets/controls",
            "_model_module_version": "1.5.0",
            "_model_name": "LabelModel",
            "_view_count": null,
            "_view_module": "@jupyter-widgets/controls",
            "_view_module_version": "1.5.0",
            "_view_name": "LabelView",
            "description": "",
            "description_tooltip": null,
            "layout": "IPY_MODEL_cb0021c045af4c888eb9f089d13de1b8",
            "placeholder": "​",
            "style": "IPY_MODEL_7270ff917d9f479497abb803a84536a5",
            "value": "5.948 MB of 5.948 MB uploaded\r"
          }
        },
        "7270ff917d9f479497abb803a84536a5": {
          "model_module": "@jupyter-widgets/controls",
          "model_module_version": "1.5.0",
          "model_name": "DescriptionStyleModel",
          "state": {
            "_model_module": "@jupyter-widgets/controls",
            "_model_module_version": "1.5.0",
            "_model_name": "DescriptionStyleModel",
            "_view_count": null,
            "_view_module": "@jupyter-widgets/base",
            "_view_module_version": "1.2.0",
            "_view_name": "StyleView",
            "description_width": ""
          }
        },
        "73139bca35944ffbb145bd04df45c24f": {
          "model_module": "@jupyter-widgets/base",
          "model_module_version": "1.2.0",
          "model_name": "LayoutModel",
          "state": {
            "_model_module": "@jupyter-widgets/base",
            "_model_module_version": "1.2.0",
            "_model_name": "LayoutModel",
            "_view_count": null,
            "_view_module": "@jupyter-widgets/base",
            "_view_module_version": "1.2.0",
            "_view_name": "LayoutView",
            "align_content": null,
            "align_items": null,
            "align_self": null,
            "border": null,
            "bottom": null,
            "display": null,
            "flex": null,
            "flex_flow": null,
            "grid_area": null,
            "grid_auto_columns": null,
            "grid_auto_flow": null,
            "grid_auto_rows": null,
            "grid_column": null,
            "grid_gap": null,
            "grid_row": null,
            "grid_template_areas": null,
            "grid_template_columns": null,
            "grid_template_rows": null,
            "height": null,
            "justify_content": null,
            "justify_items": null,
            "left": null,
            "margin": null,
            "max_height": null,
            "max_width": null,
            "min_height": null,
            "min_width": null,
            "object_fit": null,
            "object_position": null,
            "order": null,
            "overflow": null,
            "overflow_x": null,
            "overflow_y": null,
            "padding": null,
            "right": null,
            "top": null,
            "visibility": null,
            "width": null
          }
        },
        "75e71f1b084845e7a4055158596f7f82": {
          "model_module": "@jupyter-widgets/base",
          "model_module_version": "1.2.0",
          "model_name": "LayoutModel",
          "state": {
            "_model_module": "@jupyter-widgets/base",
            "_model_module_version": "1.2.0",
            "_model_name": "LayoutModel",
            "_view_count": null,
            "_view_module": "@jupyter-widgets/base",
            "_view_module_version": "1.2.0",
            "_view_name": "LayoutView",
            "align_content": null,
            "align_items": null,
            "align_self": null,
            "border": null,
            "bottom": null,
            "display": null,
            "flex": null,
            "flex_flow": null,
            "grid_area": null,
            "grid_auto_columns": null,
            "grid_auto_flow": null,
            "grid_auto_rows": null,
            "grid_column": null,
            "grid_gap": null,
            "grid_row": null,
            "grid_template_areas": null,
            "grid_template_columns": null,
            "grid_template_rows": null,
            "height": null,
            "justify_content": null,
            "justify_items": null,
            "left": null,
            "margin": null,
            "max_height": null,
            "max_width": null,
            "min_height": null,
            "min_width": null,
            "object_fit": null,
            "object_position": null,
            "order": null,
            "overflow": null,
            "overflow_x": null,
            "overflow_y": null,
            "padding": null,
            "right": null,
            "top": null,
            "visibility": null,
            "width": null
          }
        },
        "75f4e26cd89d4ac19834e7fd1c390f1d": {
          "model_module": "@jupyter-widgets/controls",
          "model_module_version": "1.5.0",
          "model_name": "VBoxModel",
          "state": {
            "_dom_classes": [],
            "_model_module": "@jupyter-widgets/controls",
            "_model_module_version": "1.5.0",
            "_model_name": "VBoxModel",
            "_view_count": null,
            "_view_module": "@jupyter-widgets/controls",
            "_view_module_version": "1.5.0",
            "_view_name": "VBoxView",
            "box_style": "",
            "children": [
              "IPY_MODEL_c7a108b891a2405197047ec3d885b8a8",
              "IPY_MODEL_db6cd1a034384240919b330a86bed5fb"
            ],
            "layout": "IPY_MODEL_960b8771091c494aae03f2bcee851524"
          }
        },
        "7b343bde0bda4aaa937ecd09685a10c3": {
          "model_module": "@jupyter-widgets/base",
          "model_module_version": "1.2.0",
          "model_name": "LayoutModel",
          "state": {
            "_model_module": "@jupyter-widgets/base",
            "_model_module_version": "1.2.0",
            "_model_name": "LayoutModel",
            "_view_count": null,
            "_view_module": "@jupyter-widgets/base",
            "_view_module_version": "1.2.0",
            "_view_name": "LayoutView",
            "align_content": null,
            "align_items": null,
            "align_self": null,
            "border": null,
            "bottom": null,
            "display": null,
            "flex": null,
            "flex_flow": null,
            "grid_area": null,
            "grid_auto_columns": null,
            "grid_auto_flow": null,
            "grid_auto_rows": null,
            "grid_column": null,
            "grid_gap": null,
            "grid_row": null,
            "grid_template_areas": null,
            "grid_template_columns": null,
            "grid_template_rows": null,
            "height": null,
            "justify_content": null,
            "justify_items": null,
            "left": null,
            "margin": null,
            "max_height": null,
            "max_width": null,
            "min_height": null,
            "min_width": null,
            "object_fit": null,
            "object_position": null,
            "order": null,
            "overflow": null,
            "overflow_x": null,
            "overflow_y": null,
            "padding": null,
            "right": null,
            "top": null,
            "visibility": null,
            "width": null
          }
        },
        "850ea8763ebc4158b4b9f5be1dd297e4": {
          "model_module": "@jupyter-widgets/controls",
          "model_module_version": "1.5.0",
          "model_name": "FloatProgressModel",
          "state": {
            "_dom_classes": [],
            "_model_module": "@jupyter-widgets/controls",
            "_model_module_version": "1.5.0",
            "_model_name": "FloatProgressModel",
            "_view_count": null,
            "_view_module": "@jupyter-widgets/controls",
            "_view_module_version": "1.5.0",
            "_view_name": "ProgressView",
            "bar_style": "",
            "description": "",
            "description_tooltip": null,
            "layout": "IPY_MODEL_7b343bde0bda4aaa937ecd09685a10c3",
            "max": 1,
            "min": 0,
            "orientation": "horizontal",
            "style": "IPY_MODEL_4f2152e9d406441db4891031b505c7db",
            "value": 1
          }
        },
        "8753754f57db4b15814ceb0f56058e8c": {
          "model_module": "@jupyter-widgets/base",
          "model_module_version": "1.2.0",
          "model_name": "LayoutModel",
          "state": {
            "_model_module": "@jupyter-widgets/base",
            "_model_module_version": "1.2.0",
            "_model_name": "LayoutModel",
            "_view_count": null,
            "_view_module": "@jupyter-widgets/base",
            "_view_module_version": "1.2.0",
            "_view_name": "LayoutView",
            "align_content": null,
            "align_items": null,
            "align_self": null,
            "border": null,
            "bottom": null,
            "display": null,
            "flex": null,
            "flex_flow": null,
            "grid_area": null,
            "grid_auto_columns": null,
            "grid_auto_flow": null,
            "grid_auto_rows": null,
            "grid_column": null,
            "grid_gap": null,
            "grid_row": null,
            "grid_template_areas": null,
            "grid_template_columns": null,
            "grid_template_rows": null,
            "height": null,
            "justify_content": null,
            "justify_items": null,
            "left": null,
            "margin": null,
            "max_height": null,
            "max_width": null,
            "min_height": null,
            "min_width": null,
            "object_fit": null,
            "object_position": null,
            "order": null,
            "overflow": null,
            "overflow_x": null,
            "overflow_y": null,
            "padding": null,
            "right": null,
            "top": null,
            "visibility": null,
            "width": null
          }
        },
        "87f94f2746644be5a37c5aad9c85eb8e": {
          "model_module": "@jupyter-widgets/base",
          "model_module_version": "1.2.0",
          "model_name": "LayoutModel",
          "state": {
            "_model_module": "@jupyter-widgets/base",
            "_model_module_version": "1.2.0",
            "_model_name": "LayoutModel",
            "_view_count": null,
            "_view_module": "@jupyter-widgets/base",
            "_view_module_version": "1.2.0",
            "_view_name": "LayoutView",
            "align_content": null,
            "align_items": null,
            "align_self": null,
            "border": null,
            "bottom": null,
            "display": null,
            "flex": null,
            "flex_flow": null,
            "grid_area": null,
            "grid_auto_columns": null,
            "grid_auto_flow": null,
            "grid_auto_rows": null,
            "grid_column": null,
            "grid_gap": null,
            "grid_row": null,
            "grid_template_areas": null,
            "grid_template_columns": null,
            "grid_template_rows": null,
            "height": null,
            "justify_content": null,
            "justify_items": null,
            "left": null,
            "margin": null,
            "max_height": null,
            "max_width": null,
            "min_height": null,
            "min_width": null,
            "object_fit": null,
            "object_position": null,
            "order": null,
            "overflow": null,
            "overflow_x": null,
            "overflow_y": null,
            "padding": null,
            "right": null,
            "top": null,
            "visibility": null,
            "width": null
          }
        },
        "91303ae46120446ca749f9a32854c8ab": {
          "model_module": "@jupyter-widgets/controls",
          "model_module_version": "1.5.0",
          "model_name": "DescriptionStyleModel",
          "state": {
            "_model_module": "@jupyter-widgets/controls",
            "_model_module_version": "1.5.0",
            "_model_name": "DescriptionStyleModel",
            "_view_count": null,
            "_view_module": "@jupyter-widgets/base",
            "_view_module_version": "1.2.0",
            "_view_name": "StyleView",
            "description_width": ""
          }
        },
        "93df0dc8021b4644bc340e2a17a14c20": {
          "model_module": "@jupyter-widgets/controls",
          "model_module_version": "1.5.0",
          "model_name": "LabelModel",
          "state": {
            "_dom_classes": [],
            "_model_module": "@jupyter-widgets/controls",
            "_model_module_version": "1.5.0",
            "_model_name": "LabelModel",
            "_view_count": null,
            "_view_module": "@jupyter-widgets/controls",
            "_view_module_version": "1.5.0",
            "_view_name": "LabelView",
            "description": "",
            "description_tooltip": null,
            "layout": "IPY_MODEL_1e5e135e56804b53a9e94fe5194ffe01",
            "placeholder": "​",
            "style": "IPY_MODEL_aad928c255944df9b9e37d9417846772",
            "value": "5.948 MB of 5.948 MB uploaded\r"
          }
        },
        "960b8771091c494aae03f2bcee851524": {
          "model_module": "@jupyter-widgets/base",
          "model_module_version": "1.2.0",
          "model_name": "LayoutModel",
          "state": {
            "_model_module": "@jupyter-widgets/base",
            "_model_module_version": "1.2.0",
            "_model_name": "LayoutModel",
            "_view_count": null,
            "_view_module": "@jupyter-widgets/base",
            "_view_module_version": "1.2.0",
            "_view_name": "LayoutView",
            "align_content": null,
            "align_items": null,
            "align_self": null,
            "border": null,
            "bottom": null,
            "display": null,
            "flex": null,
            "flex_flow": null,
            "grid_area": null,
            "grid_auto_columns": null,
            "grid_auto_flow": null,
            "grid_auto_rows": null,
            "grid_column": null,
            "grid_gap": null,
            "grid_row": null,
            "grid_template_areas": null,
            "grid_template_columns": null,
            "grid_template_rows": null,
            "height": null,
            "justify_content": null,
            "justify_items": null,
            "left": null,
            "margin": null,
            "max_height": null,
            "max_width": null,
            "min_height": null,
            "min_width": null,
            "object_fit": null,
            "object_position": null,
            "order": null,
            "overflow": null,
            "overflow_x": null,
            "overflow_y": null,
            "padding": null,
            "right": null,
            "top": null,
            "visibility": null,
            "width": null
          }
        },
        "96e25eed58a543ec9ba99ced9de4a50e": {
          "model_module": "@jupyter-widgets/base",
          "model_module_version": "1.2.0",
          "model_name": "LayoutModel",
          "state": {
            "_model_module": "@jupyter-widgets/base",
            "_model_module_version": "1.2.0",
            "_model_name": "LayoutModel",
            "_view_count": null,
            "_view_module": "@jupyter-widgets/base",
            "_view_module_version": "1.2.0",
            "_view_name": "LayoutView",
            "align_content": null,
            "align_items": null,
            "align_self": null,
            "border": null,
            "bottom": null,
            "display": null,
            "flex": null,
            "flex_flow": null,
            "grid_area": null,
            "grid_auto_columns": null,
            "grid_auto_flow": null,
            "grid_auto_rows": null,
            "grid_column": null,
            "grid_gap": null,
            "grid_row": null,
            "grid_template_areas": null,
            "grid_template_columns": null,
            "grid_template_rows": null,
            "height": null,
            "justify_content": null,
            "justify_items": null,
            "left": null,
            "margin": null,
            "max_height": null,
            "max_width": null,
            "min_height": null,
            "min_width": null,
            "object_fit": null,
            "object_position": null,
            "order": null,
            "overflow": null,
            "overflow_x": null,
            "overflow_y": null,
            "padding": null,
            "right": null,
            "top": null,
            "visibility": null,
            "width": null
          }
        },
        "a470af9e82d94e2293afd87c946b0951": {
          "model_module": "@jupyter-widgets/controls",
          "model_module_version": "1.5.0",
          "model_name": "VBoxModel",
          "state": {
            "_dom_classes": [],
            "_model_module": "@jupyter-widgets/controls",
            "_model_module_version": "1.5.0",
            "_model_name": "VBoxModel",
            "_view_count": null,
            "_view_module": "@jupyter-widgets/controls",
            "_view_module_version": "1.5.0",
            "_view_name": "VBoxView",
            "box_style": "",
            "children": [
              "IPY_MODEL_93df0dc8021b4644bc340e2a17a14c20",
              "IPY_MODEL_850ea8763ebc4158b4b9f5be1dd297e4"
            ],
            "layout": "IPY_MODEL_350ac8feb8934884beb7fb8caf434082"
          }
        },
        "a921f7d8e50b4a19990382bfe34549c0": {
          "model_module": "@jupyter-widgets/base",
          "model_module_version": "1.2.0",
          "model_name": "LayoutModel",
          "state": {
            "_model_module": "@jupyter-widgets/base",
            "_model_module_version": "1.2.0",
            "_model_name": "LayoutModel",
            "_view_count": null,
            "_view_module": "@jupyter-widgets/base",
            "_view_module_version": "1.2.0",
            "_view_name": "LayoutView",
            "align_content": null,
            "align_items": null,
            "align_self": null,
            "border": null,
            "bottom": null,
            "display": null,
            "flex": null,
            "flex_flow": null,
            "grid_area": null,
            "grid_auto_columns": null,
            "grid_auto_flow": null,
            "grid_auto_rows": null,
            "grid_column": null,
            "grid_gap": null,
            "grid_row": null,
            "grid_template_areas": null,
            "grid_template_columns": null,
            "grid_template_rows": null,
            "height": null,
            "justify_content": null,
            "justify_items": null,
            "left": null,
            "margin": null,
            "max_height": null,
            "max_width": null,
            "min_height": null,
            "min_width": null,
            "object_fit": null,
            "object_position": null,
            "order": null,
            "overflow": null,
            "overflow_x": null,
            "overflow_y": null,
            "padding": null,
            "right": null,
            "top": null,
            "visibility": null,
            "width": null
          }
        },
        "aad928c255944df9b9e37d9417846772": {
          "model_module": "@jupyter-widgets/controls",
          "model_module_version": "1.5.0",
          "model_name": "DescriptionStyleModel",
          "state": {
            "_model_module": "@jupyter-widgets/controls",
            "_model_module_version": "1.5.0",
            "_model_name": "DescriptionStyleModel",
            "_view_count": null,
            "_view_module": "@jupyter-widgets/base",
            "_view_module_version": "1.2.0",
            "_view_name": "StyleView",
            "description_width": ""
          }
        },
        "aaf0a9a8fb56434b980a90e29a2a7082": {
          "model_module": "@jupyter-widgets/controls",
          "model_module_version": "1.5.0",
          "model_name": "ProgressStyleModel",
          "state": {
            "_model_module": "@jupyter-widgets/controls",
            "_model_module_version": "1.5.0",
            "_model_name": "ProgressStyleModel",
            "_view_count": null,
            "_view_module": "@jupyter-widgets/base",
            "_view_module_version": "1.2.0",
            "_view_name": "StyleView",
            "bar_color": null,
            "description_width": ""
          }
        },
        "aef939a7a14646448de579466701413f": {
          "model_module": "@jupyter-widgets/controls",
          "model_module_version": "1.5.0",
          "model_name": "VBoxModel",
          "state": {
            "_dom_classes": [],
            "_model_module": "@jupyter-widgets/controls",
            "_model_module_version": "1.5.0",
            "_model_name": "VBoxModel",
            "_view_count": null,
            "_view_module": "@jupyter-widgets/controls",
            "_view_module_version": "1.5.0",
            "_view_name": "VBoxView",
            "box_style": "",
            "children": [
              "IPY_MODEL_3912658b04d74d6aa231dd85d6ef1da9",
              "IPY_MODEL_e997ca04511042029bb14fae1826f2a1"
            ],
            "layout": "IPY_MODEL_4f679bca9e1b4bafb937eddc9336c15b"
          }
        },
        "b7cd321751274d29a9e86c0f8dbcba46": {
          "model_module": "@jupyter-widgets/controls",
          "model_module_version": "1.5.0",
          "model_name": "VBoxModel",
          "state": {
            "_dom_classes": [],
            "_model_module": "@jupyter-widgets/controls",
            "_model_module_version": "1.5.0",
            "_model_name": "VBoxModel",
            "_view_count": null,
            "_view_module": "@jupyter-widgets/controls",
            "_view_module_version": "1.5.0",
            "_view_name": "VBoxView",
            "box_style": "",
            "children": [
              "IPY_MODEL_56e1fc7083b14aaf8191a3cfcb3def47",
              "IPY_MODEL_f0f39c1974204b3d9a4180f9ce792b5b"
            ],
            "layout": "IPY_MODEL_c5e23bca23e8405ba871b009e9bce394"
          }
        },
        "bd1cfff99edf450580ba3729078cf8de": {
          "model_module": "@jupyter-widgets/base",
          "model_module_version": "1.2.0",
          "model_name": "LayoutModel",
          "state": {
            "_model_module": "@jupyter-widgets/base",
            "_model_module_version": "1.2.0",
            "_model_name": "LayoutModel",
            "_view_count": null,
            "_view_module": "@jupyter-widgets/base",
            "_view_module_version": "1.2.0",
            "_view_name": "LayoutView",
            "align_content": null,
            "align_items": null,
            "align_self": null,
            "border": null,
            "bottom": null,
            "display": null,
            "flex": null,
            "flex_flow": null,
            "grid_area": null,
            "grid_auto_columns": null,
            "grid_auto_flow": null,
            "grid_auto_rows": null,
            "grid_column": null,
            "grid_gap": null,
            "grid_row": null,
            "grid_template_areas": null,
            "grid_template_columns": null,
            "grid_template_rows": null,
            "height": null,
            "justify_content": null,
            "justify_items": null,
            "left": null,
            "margin": null,
            "max_height": null,
            "max_width": null,
            "min_height": null,
            "min_width": null,
            "object_fit": null,
            "object_position": null,
            "order": null,
            "overflow": null,
            "overflow_x": null,
            "overflow_y": null,
            "padding": null,
            "right": null,
            "top": null,
            "visibility": null,
            "width": null
          }
        },
        "c5e23bca23e8405ba871b009e9bce394": {
          "model_module": "@jupyter-widgets/base",
          "model_module_version": "1.2.0",
          "model_name": "LayoutModel",
          "state": {
            "_model_module": "@jupyter-widgets/base",
            "_model_module_version": "1.2.0",
            "_model_name": "LayoutModel",
            "_view_count": null,
            "_view_module": "@jupyter-widgets/base",
            "_view_module_version": "1.2.0",
            "_view_name": "LayoutView",
            "align_content": null,
            "align_items": null,
            "align_self": null,
            "border": null,
            "bottom": null,
            "display": null,
            "flex": null,
            "flex_flow": null,
            "grid_area": null,
            "grid_auto_columns": null,
            "grid_auto_flow": null,
            "grid_auto_rows": null,
            "grid_column": null,
            "grid_gap": null,
            "grid_row": null,
            "grid_template_areas": null,
            "grid_template_columns": null,
            "grid_template_rows": null,
            "height": null,
            "justify_content": null,
            "justify_items": null,
            "left": null,
            "margin": null,
            "max_height": null,
            "max_width": null,
            "min_height": null,
            "min_width": null,
            "object_fit": null,
            "object_position": null,
            "order": null,
            "overflow": null,
            "overflow_x": null,
            "overflow_y": null,
            "padding": null,
            "right": null,
            "top": null,
            "visibility": null,
            "width": null
          }
        },
        "c7a108b891a2405197047ec3d885b8a8": {
          "model_module": "@jupyter-widgets/controls",
          "model_module_version": "1.5.0",
          "model_name": "LabelModel",
          "state": {
            "_dom_classes": [],
            "_model_module": "@jupyter-widgets/controls",
            "_model_module_version": "1.5.0",
            "_model_name": "LabelModel",
            "_view_count": null,
            "_view_module": "@jupyter-widgets/controls",
            "_view_module_version": "1.5.0",
            "_view_name": "LabelView",
            "description": "",
            "description_tooltip": null,
            "layout": "IPY_MODEL_e492ea9cfc3f4cbd9013fd8c2303840c",
            "placeholder": "​",
            "style": "IPY_MODEL_18f052ed16cf40e09811001c278529e2",
            "value": "0.351 MB of 0.351 MB uploaded\r"
          }
        },
        "c8b6c9e3ec484ce2b927a545adf8c0ef": {
          "model_module": "@jupyter-widgets/controls",
          "model_module_version": "1.5.0",
          "model_name": "FloatProgressModel",
          "state": {
            "_dom_classes": [],
            "_model_module": "@jupyter-widgets/controls",
            "_model_module_version": "1.5.0",
            "_model_name": "FloatProgressModel",
            "_view_count": null,
            "_view_module": "@jupyter-widgets/controls",
            "_view_module_version": "1.5.0",
            "_view_name": "ProgressView",
            "bar_style": "",
            "description": "",
            "description_tooltip": null,
            "layout": "IPY_MODEL_87f94f2746644be5a37c5aad9c85eb8e",
            "max": 1,
            "min": 0,
            "orientation": "horizontal",
            "style": "IPY_MODEL_2a7fd892fa234c64bfd7900b16792d2f",
            "value": 1
          }
        },
        "cb0021c045af4c888eb9f089d13de1b8": {
          "model_module": "@jupyter-widgets/base",
          "model_module_version": "1.2.0",
          "model_name": "LayoutModel",
          "state": {
            "_model_module": "@jupyter-widgets/base",
            "_model_module_version": "1.2.0",
            "_model_name": "LayoutModel",
            "_view_count": null,
            "_view_module": "@jupyter-widgets/base",
            "_view_module_version": "1.2.0",
            "_view_name": "LayoutView",
            "align_content": null,
            "align_items": null,
            "align_self": null,
            "border": null,
            "bottom": null,
            "display": null,
            "flex": null,
            "flex_flow": null,
            "grid_area": null,
            "grid_auto_columns": null,
            "grid_auto_flow": null,
            "grid_auto_rows": null,
            "grid_column": null,
            "grid_gap": null,
            "grid_row": null,
            "grid_template_areas": null,
            "grid_template_columns": null,
            "grid_template_rows": null,
            "height": null,
            "justify_content": null,
            "justify_items": null,
            "left": null,
            "margin": null,
            "max_height": null,
            "max_width": null,
            "min_height": null,
            "min_width": null,
            "object_fit": null,
            "object_position": null,
            "order": null,
            "overflow": null,
            "overflow_x": null,
            "overflow_y": null,
            "padding": null,
            "right": null,
            "top": null,
            "visibility": null,
            "width": null
          }
        },
        "d87a2803010d49ab9f800796ca364a99": {
          "model_module": "@jupyter-widgets/controls",
          "model_module_version": "1.5.0",
          "model_name": "LabelModel",
          "state": {
            "_dom_classes": [],
            "_model_module": "@jupyter-widgets/controls",
            "_model_module_version": "1.5.0",
            "_model_name": "LabelModel",
            "_view_count": null,
            "_view_module": "@jupyter-widgets/controls",
            "_view_module_version": "1.5.0",
            "_view_name": "LabelView",
            "description": "",
            "description_tooltip": null,
            "layout": "IPY_MODEL_75e71f1b084845e7a4055158596f7f82",
            "placeholder": "​",
            "style": "IPY_MODEL_91303ae46120446ca749f9a32854c8ab",
            "value": "8.616 MB of 8.616 MB uploaded\r"
          }
        },
        "db6cd1a034384240919b330a86bed5fb": {
          "model_module": "@jupyter-widgets/controls",
          "model_module_version": "1.5.0",
          "model_name": "FloatProgressModel",
          "state": {
            "_dom_classes": [],
            "_model_module": "@jupyter-widgets/controls",
            "_model_module_version": "1.5.0",
            "_model_name": "FloatProgressModel",
            "_view_count": null,
            "_view_module": "@jupyter-widgets/controls",
            "_view_module_version": "1.5.0",
            "_view_name": "ProgressView",
            "bar_style": "",
            "description": "",
            "description_tooltip": null,
            "layout": "IPY_MODEL_2392d3a1534b40328b8811687fe4578c",
            "max": 1,
            "min": 0,
            "orientation": "horizontal",
            "style": "IPY_MODEL_f17f6c2f3ffb4f169bba79519aef0f17",
            "value": 1
          }
        },
        "df233b6129c14fb59f672ca9f4006a2f": {
          "model_module": "@jupyter-widgets/base",
          "model_module_version": "1.2.0",
          "model_name": "LayoutModel",
          "state": {
            "_model_module": "@jupyter-widgets/base",
            "_model_module_version": "1.2.0",
            "_model_name": "LayoutModel",
            "_view_count": null,
            "_view_module": "@jupyter-widgets/base",
            "_view_module_version": "1.2.0",
            "_view_name": "LayoutView",
            "align_content": null,
            "align_items": null,
            "align_self": null,
            "border": null,
            "bottom": null,
            "display": null,
            "flex": null,
            "flex_flow": null,
            "grid_area": null,
            "grid_auto_columns": null,
            "grid_auto_flow": null,
            "grid_auto_rows": null,
            "grid_column": null,
            "grid_gap": null,
            "grid_row": null,
            "grid_template_areas": null,
            "grid_template_columns": null,
            "grid_template_rows": null,
            "height": null,
            "justify_content": null,
            "justify_items": null,
            "left": null,
            "margin": null,
            "max_height": null,
            "max_width": null,
            "min_height": null,
            "min_width": null,
            "object_fit": null,
            "object_position": null,
            "order": null,
            "overflow": null,
            "overflow_x": null,
            "overflow_y": null,
            "padding": null,
            "right": null,
            "top": null,
            "visibility": null,
            "width": null
          }
        },
        "e0a57a3be3b44415b52b48da2a1ebe99": {
          "model_module": "@jupyter-widgets/base",
          "model_module_version": "1.2.0",
          "model_name": "LayoutModel",
          "state": {
            "_model_module": "@jupyter-widgets/base",
            "_model_module_version": "1.2.0",
            "_model_name": "LayoutModel",
            "_view_count": null,
            "_view_module": "@jupyter-widgets/base",
            "_view_module_version": "1.2.0",
            "_view_name": "LayoutView",
            "align_content": null,
            "align_items": null,
            "align_self": null,
            "border": null,
            "bottom": null,
            "display": null,
            "flex": null,
            "flex_flow": null,
            "grid_area": null,
            "grid_auto_columns": null,
            "grid_auto_flow": null,
            "grid_auto_rows": null,
            "grid_column": null,
            "grid_gap": null,
            "grid_row": null,
            "grid_template_areas": null,
            "grid_template_columns": null,
            "grid_template_rows": null,
            "height": null,
            "justify_content": null,
            "justify_items": null,
            "left": null,
            "margin": null,
            "max_height": null,
            "max_width": null,
            "min_height": null,
            "min_width": null,
            "object_fit": null,
            "object_position": null,
            "order": null,
            "overflow": null,
            "overflow_x": null,
            "overflow_y": null,
            "padding": null,
            "right": null,
            "top": null,
            "visibility": null,
            "width": null
          }
        },
        "e39f0a45fe2f444f831b5c7b988d852f": {
          "model_module": "@jupyter-widgets/controls",
          "model_module_version": "1.5.0",
          "model_name": "FloatProgressModel",
          "state": {
            "_dom_classes": [],
            "_model_module": "@jupyter-widgets/controls",
            "_model_module_version": "1.5.0",
            "_model_name": "FloatProgressModel",
            "_view_count": null,
            "_view_module": "@jupyter-widgets/controls",
            "_view_module_version": "1.5.0",
            "_view_name": "ProgressView",
            "bar_style": "",
            "description": "",
            "description_tooltip": null,
            "layout": "IPY_MODEL_96e25eed58a543ec9ba99ced9de4a50e",
            "max": 1,
            "min": 0,
            "orientation": "horizontal",
            "style": "IPY_MODEL_f655a1ef77404909865ec001b9bb8997",
            "value": 1
          }
        },
        "e492ea9cfc3f4cbd9013fd8c2303840c": {
          "model_module": "@jupyter-widgets/base",
          "model_module_version": "1.2.0",
          "model_name": "LayoutModel",
          "state": {
            "_model_module": "@jupyter-widgets/base",
            "_model_module_version": "1.2.0",
            "_model_name": "LayoutModel",
            "_view_count": null,
            "_view_module": "@jupyter-widgets/base",
            "_view_module_version": "1.2.0",
            "_view_name": "LayoutView",
            "align_content": null,
            "align_items": null,
            "align_self": null,
            "border": null,
            "bottom": null,
            "display": null,
            "flex": null,
            "flex_flow": null,
            "grid_area": null,
            "grid_auto_columns": null,
            "grid_auto_flow": null,
            "grid_auto_rows": null,
            "grid_column": null,
            "grid_gap": null,
            "grid_row": null,
            "grid_template_areas": null,
            "grid_template_columns": null,
            "grid_template_rows": null,
            "height": null,
            "justify_content": null,
            "justify_items": null,
            "left": null,
            "margin": null,
            "max_height": null,
            "max_width": null,
            "min_height": null,
            "min_width": null,
            "object_fit": null,
            "object_position": null,
            "order": null,
            "overflow": null,
            "overflow_x": null,
            "overflow_y": null,
            "padding": null,
            "right": null,
            "top": null,
            "visibility": null,
            "width": null
          }
        },
        "e997ca04511042029bb14fae1826f2a1": {
          "model_module": "@jupyter-widgets/controls",
          "model_module_version": "1.5.0",
          "model_name": "FloatProgressModel",
          "state": {
            "_dom_classes": [],
            "_model_module": "@jupyter-widgets/controls",
            "_model_module_version": "1.5.0",
            "_model_name": "FloatProgressModel",
            "_view_count": null,
            "_view_module": "@jupyter-widgets/controls",
            "_view_module_version": "1.5.0",
            "_view_name": "ProgressView",
            "bar_style": "",
            "description": "",
            "description_tooltip": null,
            "layout": "IPY_MODEL_8753754f57db4b15814ceb0f56058e8c",
            "max": 1,
            "min": 0,
            "orientation": "horizontal",
            "style": "IPY_MODEL_aaf0a9a8fb56434b980a90e29a2a7082",
            "value": 1
          }
        },
        "f0f39c1974204b3d9a4180f9ce792b5b": {
          "model_module": "@jupyter-widgets/controls",
          "model_module_version": "1.5.0",
          "model_name": "FloatProgressModel",
          "state": {
            "_dom_classes": [],
            "_model_module": "@jupyter-widgets/controls",
            "_model_module_version": "1.5.0",
            "_model_name": "FloatProgressModel",
            "_view_count": null,
            "_view_module": "@jupyter-widgets/controls",
            "_view_module_version": "1.5.0",
            "_view_name": "ProgressView",
            "bar_style": "",
            "description": "",
            "description_tooltip": null,
            "layout": "IPY_MODEL_73139bca35944ffbb145bd04df45c24f",
            "max": 1,
            "min": 0,
            "orientation": "horizontal",
            "style": "IPY_MODEL_5e3c1423f8fe495bb0cc448d73bb9bf6",
            "value": 1
          }
        },
        "f17f6c2f3ffb4f169bba79519aef0f17": {
          "model_module": "@jupyter-widgets/controls",
          "model_module_version": "1.5.0",
          "model_name": "ProgressStyleModel",
          "state": {
            "_model_module": "@jupyter-widgets/controls",
            "_model_module_version": "1.5.0",
            "_model_name": "ProgressStyleModel",
            "_view_count": null,
            "_view_module": "@jupyter-widgets/base",
            "_view_module_version": "1.2.0",
            "_view_name": "StyleView",
            "bar_color": null,
            "description_width": ""
          }
        },
        "f5c903811eb94f3e8f1b3e03e7cc7a09": {
          "model_module": "@jupyter-widgets/base",
          "model_module_version": "1.2.0",
          "model_name": "LayoutModel",
          "state": {
            "_model_module": "@jupyter-widgets/base",
            "_model_module_version": "1.2.0",
            "_model_name": "LayoutModel",
            "_view_count": null,
            "_view_module": "@jupyter-widgets/base",
            "_view_module_version": "1.2.0",
            "_view_name": "LayoutView",
            "align_content": null,
            "align_items": null,
            "align_self": null,
            "border": null,
            "bottom": null,
            "display": null,
            "flex": null,
            "flex_flow": null,
            "grid_area": null,
            "grid_auto_columns": null,
            "grid_auto_flow": null,
            "grid_auto_rows": null,
            "grid_column": null,
            "grid_gap": null,
            "grid_row": null,
            "grid_template_areas": null,
            "grid_template_columns": null,
            "grid_template_rows": null,
            "height": null,
            "justify_content": null,
            "justify_items": null,
            "left": null,
            "margin": null,
            "max_height": null,
            "max_width": null,
            "min_height": null,
            "min_width": null,
            "object_fit": null,
            "object_position": null,
            "order": null,
            "overflow": null,
            "overflow_x": null,
            "overflow_y": null,
            "padding": null,
            "right": null,
            "top": null,
            "visibility": null,
            "width": null
          }
        },
        "f655a1ef77404909865ec001b9bb8997": {
          "model_module": "@jupyter-widgets/controls",
          "model_module_version": "1.5.0",
          "model_name": "ProgressStyleModel",
          "state": {
            "_model_module": "@jupyter-widgets/controls",
            "_model_module_version": "1.5.0",
            "_model_name": "ProgressStyleModel",
            "_view_count": null,
            "_view_module": "@jupyter-widgets/base",
            "_view_module_version": "1.2.0",
            "_view_name": "StyleView",
            "bar_color": null,
            "description_width": ""
          }
        },
        "fa1dc9ec19bc4c4ab3e2389d9b263a7c": {
          "model_module": "@jupyter-widgets/controls",
          "model_module_version": "1.5.0",
          "model_name": "DescriptionStyleModel",
          "state": {
            "_model_module": "@jupyter-widgets/controls",
            "_model_module_version": "1.5.0",
            "_model_name": "DescriptionStyleModel",
            "_view_count": null,
            "_view_module": "@jupyter-widgets/base",
            "_view_module_version": "1.2.0",
            "_view_name": "StyleView",
            "description_width": ""
          }
        }
      }
    }
  },
  "nbformat": 4,
  "nbformat_minor": 0
}
